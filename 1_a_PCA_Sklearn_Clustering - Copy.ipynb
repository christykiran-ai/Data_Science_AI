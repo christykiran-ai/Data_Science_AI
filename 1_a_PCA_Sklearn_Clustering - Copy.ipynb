{
 "cells": [
  {
   "cell_type": "markdown",
   "id": "76f090f7-a837-4594-8efc-dfb52136888d",
   "metadata": {},
   "source": [
    "### **Principal Component Analysis [PCA] :**"
   ]
  },
  {
   "cell_type": "code",
   "execution_count": 1396,
   "id": "12eea685-a2bd-4754-b983-7e3d990e506e",
   "metadata": {},
   "outputs": [],
   "source": [
    "import numpy as np\n",
    "from numpy.linalg import eig\n",
    "import pandas as pd\n",
    "import matplotlib.pyplot as plt\n",
    "from sklearn.preprocessing import StandardScaler, Normalizer, MinMaxScaler\n",
    "from sklearn.decomposition import PCA\n",
    "\n",
    "%matplotlib inline\n",
    "\n",
    "import warnings\n",
    "\n",
    "warnings.simplefilter(action='ignore', category=FutureWarning)"
   ]
  },
  {
   "cell_type": "code",
   "execution_count": 1398,
   "id": "b72f73cf-9f4c-4487-99be-1ec4939df230",
   "metadata": {},
   "outputs": [
    {
     "data": {
      "text/html": [
       "<div>\n",
       "<style scoped>\n",
       "    .dataframe tbody tr th:only-of-type {\n",
       "        vertical-align: middle;\n",
       "    }\n",
       "\n",
       "    .dataframe tbody tr th {\n",
       "        vertical-align: top;\n",
       "    }\n",
       "\n",
       "    .dataframe thead th {\n",
       "        text-align: right;\n",
       "    }\n",
       "</style>\n",
       "<table border=\"1\" class=\"dataframe\">\n",
       "  <thead>\n",
       "    <tr style=\"text-align: right;\">\n",
       "      <th></th>\n",
       "      <th>Channel</th>\n",
       "      <th>Region</th>\n",
       "      <th>Fresh</th>\n",
       "      <th>Milk</th>\n",
       "      <th>Grocery</th>\n",
       "      <th>Frozen</th>\n",
       "      <th>Detergents_Paper</th>\n",
       "      <th>Delicassen</th>\n",
       "      <th>KEY</th>\n",
       "    </tr>\n",
       "  </thead>\n",
       "  <tbody>\n",
       "    <tr>\n",
       "      <th>0</th>\n",
       "      <td>2</td>\n",
       "      <td>3</td>\n",
       "      <td>12669</td>\n",
       "      <td>9656</td>\n",
       "      <td>7561</td>\n",
       "      <td>214</td>\n",
       "      <td>2674</td>\n",
       "      <td>1338</td>\n",
       "      <td>0</td>\n",
       "    </tr>\n",
       "    <tr>\n",
       "      <th>1</th>\n",
       "      <td>2</td>\n",
       "      <td>3</td>\n",
       "      <td>7057</td>\n",
       "      <td>9810</td>\n",
       "      <td>9568</td>\n",
       "      <td>1762</td>\n",
       "      <td>3293</td>\n",
       "      <td>1776</td>\n",
       "      <td>1</td>\n",
       "    </tr>\n",
       "    <tr>\n",
       "      <th>2</th>\n",
       "      <td>2</td>\n",
       "      <td>3</td>\n",
       "      <td>6353</td>\n",
       "      <td>8808</td>\n",
       "      <td>7684</td>\n",
       "      <td>2405</td>\n",
       "      <td>3516</td>\n",
       "      <td>7844</td>\n",
       "      <td>2</td>\n",
       "    </tr>\n",
       "    <tr>\n",
       "      <th>3</th>\n",
       "      <td>1</td>\n",
       "      <td>3</td>\n",
       "      <td>13265</td>\n",
       "      <td>1196</td>\n",
       "      <td>4221</td>\n",
       "      <td>6404</td>\n",
       "      <td>507</td>\n",
       "      <td>1788</td>\n",
       "      <td>3</td>\n",
       "    </tr>\n",
       "    <tr>\n",
       "      <th>4</th>\n",
       "      <td>2</td>\n",
       "      <td>3</td>\n",
       "      <td>22615</td>\n",
       "      <td>5410</td>\n",
       "      <td>7198</td>\n",
       "      <td>3915</td>\n",
       "      <td>1777</td>\n",
       "      <td>5185</td>\n",
       "      <td>4</td>\n",
       "    </tr>\n",
       "  </tbody>\n",
       "</table>\n",
       "</div>"
      ],
      "text/plain": [
       "   Channel  Region  Fresh  Milk  Grocery  Frozen  Detergents_Paper  \\\n",
       "0        2       3  12669  9656     7561     214              2674   \n",
       "1        2       3   7057  9810     9568    1762              3293   \n",
       "2        2       3   6353  8808     7684    2405              3516   \n",
       "3        1       3  13265  1196     4221    6404               507   \n",
       "4        2       3  22615  5410     7198    3915              1777   \n",
       "\n",
       "   Delicassen  KEY  \n",
       "0        1338    0  \n",
       "1        1776    1  \n",
       "2        7844    2  \n",
       "3        1788    3  \n",
       "4        5185    4  "
      ]
     },
     "execution_count": 1398,
     "metadata": {},
     "output_type": "execute_result"
    }
   ],
   "source": [
    "# 1. Define Data: \n",
    "df = pd.read_csv('Wholesale customers data.csv')\n",
    "df['KEY'] = range(len(df))\n",
    "df.head()"
   ]
  },
  {
   "cell_type": "code",
   "execution_count": 1400,
   "id": "37f9fec3-ab7a-489d-b6b1-b56e68a4d58e",
   "metadata": {},
   "outputs": [
    {
     "data": {
      "text/plain": [
       "3"
      ]
     },
     "execution_count": 1400,
     "metadata": {},
     "output_type": "execute_result"
    }
   ],
   "source": [
    "df.Region.max()"
   ]
  },
  {
   "cell_type": "code",
   "execution_count": 1402,
   "id": "af3ed489-0a86-4312-b993-a7d1c50883dd",
   "metadata": {},
   "outputs": [
    {
     "data": {
      "text/html": [
       "<div>\n",
       "<style scoped>\n",
       "    .dataframe tbody tr th:only-of-type {\n",
       "        vertical-align: middle;\n",
       "    }\n",
       "\n",
       "    .dataframe tbody tr th {\n",
       "        vertical-align: top;\n",
       "    }\n",
       "\n",
       "    .dataframe thead th {\n",
       "        text-align: right;\n",
       "    }\n",
       "</style>\n",
       "<table border=\"1\" class=\"dataframe\">\n",
       "  <thead>\n",
       "    <tr style=\"text-align: right;\">\n",
       "      <th></th>\n",
       "      <th>Channel</th>\n",
       "      <th>Region</th>\n",
       "      <th>Fresh</th>\n",
       "      <th>Milk</th>\n",
       "      <th>Grocery</th>\n",
       "      <th>Frozen</th>\n",
       "      <th>Detergents_Paper</th>\n",
       "      <th>Delicassen</th>\n",
       "      <th>KEY</th>\n",
       "    </tr>\n",
       "  </thead>\n",
       "  <tbody>\n",
       "    <tr>\n",
       "      <th>0</th>\n",
       "      <td>2</td>\n",
       "      <td>3</td>\n",
       "      <td>12669</td>\n",
       "      <td>9656</td>\n",
       "      <td>7561</td>\n",
       "      <td>214</td>\n",
       "      <td>2674</td>\n",
       "      <td>1338</td>\n",
       "      <td>0</td>\n",
       "    </tr>\n",
       "    <tr>\n",
       "      <th>1</th>\n",
       "      <td>2</td>\n",
       "      <td>3</td>\n",
       "      <td>7057</td>\n",
       "      <td>9810</td>\n",
       "      <td>9568</td>\n",
       "      <td>1762</td>\n",
       "      <td>3293</td>\n",
       "      <td>1776</td>\n",
       "      <td>1</td>\n",
       "    </tr>\n",
       "    <tr>\n",
       "      <th>2</th>\n",
       "      <td>2</td>\n",
       "      <td>3</td>\n",
       "      <td>6353</td>\n",
       "      <td>8808</td>\n",
       "      <td>7684</td>\n",
       "      <td>2405</td>\n",
       "      <td>3516</td>\n",
       "      <td>7844</td>\n",
       "      <td>2</td>\n",
       "    </tr>\n",
       "    <tr>\n",
       "      <th>3</th>\n",
       "      <td>1</td>\n",
       "      <td>3</td>\n",
       "      <td>13265</td>\n",
       "      <td>1196</td>\n",
       "      <td>4221</td>\n",
       "      <td>6404</td>\n",
       "      <td>507</td>\n",
       "      <td>1788</td>\n",
       "      <td>3</td>\n",
       "    </tr>\n",
       "    <tr>\n",
       "      <th>4</th>\n",
       "      <td>2</td>\n",
       "      <td>3</td>\n",
       "      <td>22615</td>\n",
       "      <td>5410</td>\n",
       "      <td>7198</td>\n",
       "      <td>3915</td>\n",
       "      <td>1777</td>\n",
       "      <td>5185</td>\n",
       "      <td>4</td>\n",
       "    </tr>\n",
       "    <tr>\n",
       "      <th>...</th>\n",
       "      <td>...</td>\n",
       "      <td>...</td>\n",
       "      <td>...</td>\n",
       "      <td>...</td>\n",
       "      <td>...</td>\n",
       "      <td>...</td>\n",
       "      <td>...</td>\n",
       "      <td>...</td>\n",
       "      <td>...</td>\n",
       "    </tr>\n",
       "    <tr>\n",
       "      <th>435</th>\n",
       "      <td>1</td>\n",
       "      <td>3</td>\n",
       "      <td>29703</td>\n",
       "      <td>12051</td>\n",
       "      <td>16027</td>\n",
       "      <td>13135</td>\n",
       "      <td>182</td>\n",
       "      <td>2204</td>\n",
       "      <td>435</td>\n",
       "    </tr>\n",
       "    <tr>\n",
       "      <th>436</th>\n",
       "      <td>1</td>\n",
       "      <td>3</td>\n",
       "      <td>39228</td>\n",
       "      <td>1431</td>\n",
       "      <td>764</td>\n",
       "      <td>4510</td>\n",
       "      <td>93</td>\n",
       "      <td>2346</td>\n",
       "      <td>436</td>\n",
       "    </tr>\n",
       "    <tr>\n",
       "      <th>437</th>\n",
       "      <td>2</td>\n",
       "      <td>3</td>\n",
       "      <td>14531</td>\n",
       "      <td>15488</td>\n",
       "      <td>30243</td>\n",
       "      <td>437</td>\n",
       "      <td>14841</td>\n",
       "      <td>1867</td>\n",
       "      <td>437</td>\n",
       "    </tr>\n",
       "    <tr>\n",
       "      <th>438</th>\n",
       "      <td>1</td>\n",
       "      <td>3</td>\n",
       "      <td>10290</td>\n",
       "      <td>1981</td>\n",
       "      <td>2232</td>\n",
       "      <td>1038</td>\n",
       "      <td>168</td>\n",
       "      <td>2125</td>\n",
       "      <td>438</td>\n",
       "    </tr>\n",
       "    <tr>\n",
       "      <th>439</th>\n",
       "      <td>1</td>\n",
       "      <td>3</td>\n",
       "      <td>2787</td>\n",
       "      <td>1698</td>\n",
       "      <td>2510</td>\n",
       "      <td>65</td>\n",
       "      <td>477</td>\n",
       "      <td>52</td>\n",
       "      <td>439</td>\n",
       "    </tr>\n",
       "  </tbody>\n",
       "</table>\n",
       "<p>440 rows × 9 columns</p>\n",
       "</div>"
      ],
      "text/plain": [
       "     Channel  Region  Fresh   Milk  Grocery  Frozen  Detergents_Paper  \\\n",
       "0          2       3  12669   9656     7561     214              2674   \n",
       "1          2       3   7057   9810     9568    1762              3293   \n",
       "2          2       3   6353   8808     7684    2405              3516   \n",
       "3          1       3  13265   1196     4221    6404               507   \n",
       "4          2       3  22615   5410     7198    3915              1777   \n",
       "..       ...     ...    ...    ...      ...     ...               ...   \n",
       "435        1       3  29703  12051    16027   13135               182   \n",
       "436        1       3  39228   1431      764    4510                93   \n",
       "437        2       3  14531  15488    30243     437             14841   \n",
       "438        1       3  10290   1981     2232    1038               168   \n",
       "439        1       3   2787   1698     2510      65               477   \n",
       "\n",
       "     Delicassen  KEY  \n",
       "0          1338    0  \n",
       "1          1776    1  \n",
       "2          7844    2  \n",
       "3          1788    3  \n",
       "4          5185    4  \n",
       "..          ...  ...  \n",
       "435        2204  435  \n",
       "436        2346  436  \n",
       "437        1867  437  \n",
       "438        2125  438  \n",
       "439          52  439  \n",
       "\n",
       "[440 rows x 9 columns]"
      ]
     },
     "execution_count": 1402,
     "metadata": {},
     "output_type": "execute_result"
    }
   ],
   "source": [
    "df_1 = df.copy()\n",
    "df_1.head()\n",
    "df_1"
   ]
  },
  {
   "cell_type": "code",
   "execution_count": 1404,
   "id": "27d6a89a-a83d-483b-878f-9bb1ebc1731d",
   "metadata": {},
   "outputs": [
    {
     "data": {
      "text/html": [
       "<div>\n",
       "<style scoped>\n",
       "    .dataframe tbody tr th:only-of-type {\n",
       "        vertical-align: middle;\n",
       "    }\n",
       "\n",
       "    .dataframe tbody tr th {\n",
       "        vertical-align: top;\n",
       "    }\n",
       "\n",
       "    .dataframe thead th {\n",
       "        text-align: right;\n",
       "    }\n",
       "</style>\n",
       "<table border=\"1\" class=\"dataframe\">\n",
       "  <thead>\n",
       "    <tr style=\"text-align: right;\">\n",
       "      <th></th>\n",
       "      <th>Fresh</th>\n",
       "      <th>Milk</th>\n",
       "      <th>Grocery</th>\n",
       "      <th>Frozen</th>\n",
       "      <th>Detergents_Paper</th>\n",
       "      <th>Delicassen</th>\n",
       "    </tr>\n",
       "  </thead>\n",
       "  <tbody>\n",
       "    <tr>\n",
       "      <th>0</th>\n",
       "      <td>12669</td>\n",
       "      <td>9656</td>\n",
       "      <td>7561</td>\n",
       "      <td>214</td>\n",
       "      <td>2674</td>\n",
       "      <td>1338</td>\n",
       "    </tr>\n",
       "    <tr>\n",
       "      <th>1</th>\n",
       "      <td>7057</td>\n",
       "      <td>9810</td>\n",
       "      <td>9568</td>\n",
       "      <td>1762</td>\n",
       "      <td>3293</td>\n",
       "      <td>1776</td>\n",
       "    </tr>\n",
       "    <tr>\n",
       "      <th>2</th>\n",
       "      <td>6353</td>\n",
       "      <td>8808</td>\n",
       "      <td>7684</td>\n",
       "      <td>2405</td>\n",
       "      <td>3516</td>\n",
       "      <td>7844</td>\n",
       "    </tr>\n",
       "    <tr>\n",
       "      <th>3</th>\n",
       "      <td>13265</td>\n",
       "      <td>1196</td>\n",
       "      <td>4221</td>\n",
       "      <td>6404</td>\n",
       "      <td>507</td>\n",
       "      <td>1788</td>\n",
       "    </tr>\n",
       "    <tr>\n",
       "      <th>4</th>\n",
       "      <td>22615</td>\n",
       "      <td>5410</td>\n",
       "      <td>7198</td>\n",
       "      <td>3915</td>\n",
       "      <td>1777</td>\n",
       "      <td>5185</td>\n",
       "    </tr>\n",
       "    <tr>\n",
       "      <th>...</th>\n",
       "      <td>...</td>\n",
       "      <td>...</td>\n",
       "      <td>...</td>\n",
       "      <td>...</td>\n",
       "      <td>...</td>\n",
       "      <td>...</td>\n",
       "    </tr>\n",
       "    <tr>\n",
       "      <th>435</th>\n",
       "      <td>29703</td>\n",
       "      <td>12051</td>\n",
       "      <td>16027</td>\n",
       "      <td>13135</td>\n",
       "      <td>182</td>\n",
       "      <td>2204</td>\n",
       "    </tr>\n",
       "    <tr>\n",
       "      <th>436</th>\n",
       "      <td>39228</td>\n",
       "      <td>1431</td>\n",
       "      <td>764</td>\n",
       "      <td>4510</td>\n",
       "      <td>93</td>\n",
       "      <td>2346</td>\n",
       "    </tr>\n",
       "    <tr>\n",
       "      <th>437</th>\n",
       "      <td>14531</td>\n",
       "      <td>15488</td>\n",
       "      <td>30243</td>\n",
       "      <td>437</td>\n",
       "      <td>14841</td>\n",
       "      <td>1867</td>\n",
       "    </tr>\n",
       "    <tr>\n",
       "      <th>438</th>\n",
       "      <td>10290</td>\n",
       "      <td>1981</td>\n",
       "      <td>2232</td>\n",
       "      <td>1038</td>\n",
       "      <td>168</td>\n",
       "      <td>2125</td>\n",
       "    </tr>\n",
       "    <tr>\n",
       "      <th>439</th>\n",
       "      <td>2787</td>\n",
       "      <td>1698</td>\n",
       "      <td>2510</td>\n",
       "      <td>65</td>\n",
       "      <td>477</td>\n",
       "      <td>52</td>\n",
       "    </tr>\n",
       "  </tbody>\n",
       "</table>\n",
       "<p>440 rows × 6 columns</p>\n",
       "</div>"
      ],
      "text/plain": [
       "     Fresh   Milk  Grocery  Frozen  Detergents_Paper  Delicassen\n",
       "0    12669   9656     7561     214              2674        1338\n",
       "1     7057   9810     9568    1762              3293        1776\n",
       "2     6353   8808     7684    2405              3516        7844\n",
       "3    13265   1196     4221    6404               507        1788\n",
       "4    22615   5410     7198    3915              1777        5185\n",
       "..     ...    ...      ...     ...               ...         ...\n",
       "435  29703  12051    16027   13135               182        2204\n",
       "436  39228   1431      764    4510                93        2346\n",
       "437  14531  15488    30243     437             14841        1867\n",
       "438  10290   1981     2232    1038               168        2125\n",
       "439   2787   1698     2510      65               477          52\n",
       "\n",
       "[440 rows x 6 columns]"
      ]
     },
     "execution_count": 1404,
     "metadata": {},
     "output_type": "execute_result"
    }
   ],
   "source": [
    "df_1 = df_1.drop(columns=['Channel', 'Region', 'KEY'])\n",
    "df_1"
   ]
  },
  {
   "cell_type": "code",
   "execution_count": 1406,
   "id": "193c1e1c-a70d-4562-b1a0-8fb48a736c60",
   "metadata": {},
   "outputs": [],
   "source": [
    "scaler = StandardScaler()\n",
    "scaler.fit(df_1)\n",
    "scaled_data = scaler.transform(df_1)"
   ]
  },
  {
   "cell_type": "code",
   "execution_count": 1408,
   "id": "2d967665-8152-4c92-bbd7-b5795a77540e",
   "metadata": {},
   "outputs": [],
   "source": [
    "pca = PCA(n_components=.85)"
   ]
  },
  {
   "cell_type": "code",
   "execution_count": 1410,
   "id": "15785cd0-3d2c-4938-bb92-9806d77923d6",
   "metadata": {},
   "outputs": [
    {
     "data": {
      "text/html": [
       "<style>#sk-container-id-7 {color: black;}#sk-container-id-7 pre{padding: 0;}#sk-container-id-7 div.sk-toggleable {background-color: white;}#sk-container-id-7 label.sk-toggleable__label {cursor: pointer;display: block;width: 100%;margin-bottom: 0;padding: 0.3em;box-sizing: border-box;text-align: center;}#sk-container-id-7 label.sk-toggleable__label-arrow:before {content: \"▸\";float: left;margin-right: 0.25em;color: #696969;}#sk-container-id-7 label.sk-toggleable__label-arrow:hover:before {color: black;}#sk-container-id-7 div.sk-estimator:hover label.sk-toggleable__label-arrow:before {color: black;}#sk-container-id-7 div.sk-toggleable__content {max-height: 0;max-width: 0;overflow: hidden;text-align: left;background-color: #f0f8ff;}#sk-container-id-7 div.sk-toggleable__content pre {margin: 0.2em;color: black;border-radius: 0.25em;background-color: #f0f8ff;}#sk-container-id-7 input.sk-toggleable__control:checked~div.sk-toggleable__content {max-height: 200px;max-width: 100%;overflow: auto;}#sk-container-id-7 input.sk-toggleable__control:checked~label.sk-toggleable__label-arrow:before {content: \"▾\";}#sk-container-id-7 div.sk-estimator input.sk-toggleable__control:checked~label.sk-toggleable__label {background-color: #d4ebff;}#sk-container-id-7 div.sk-label input.sk-toggleable__control:checked~label.sk-toggleable__label {background-color: #d4ebff;}#sk-container-id-7 input.sk-hidden--visually {border: 0;clip: rect(1px 1px 1px 1px);clip: rect(1px, 1px, 1px, 1px);height: 1px;margin: -1px;overflow: hidden;padding: 0;position: absolute;width: 1px;}#sk-container-id-7 div.sk-estimator {font-family: monospace;background-color: #f0f8ff;border: 1px dotted black;border-radius: 0.25em;box-sizing: border-box;margin-bottom: 0.5em;}#sk-container-id-7 div.sk-estimator:hover {background-color: #d4ebff;}#sk-container-id-7 div.sk-parallel-item::after {content: \"\";width: 100%;border-bottom: 1px solid gray;flex-grow: 1;}#sk-container-id-7 div.sk-label:hover label.sk-toggleable__label {background-color: #d4ebff;}#sk-container-id-7 div.sk-serial::before {content: \"\";position: absolute;border-left: 1px solid gray;box-sizing: border-box;top: 0;bottom: 0;left: 50%;z-index: 0;}#sk-container-id-7 div.sk-serial {display: flex;flex-direction: column;align-items: center;background-color: white;padding-right: 0.2em;padding-left: 0.2em;position: relative;}#sk-container-id-7 div.sk-item {position: relative;z-index: 1;}#sk-container-id-7 div.sk-parallel {display: flex;align-items: stretch;justify-content: center;background-color: white;position: relative;}#sk-container-id-7 div.sk-item::before, #sk-container-id-7 div.sk-parallel-item::before {content: \"\";position: absolute;border-left: 1px solid gray;box-sizing: border-box;top: 0;bottom: 0;left: 50%;z-index: -1;}#sk-container-id-7 div.sk-parallel-item {display: flex;flex-direction: column;z-index: 1;position: relative;background-color: white;}#sk-container-id-7 div.sk-parallel-item:first-child::after {align-self: flex-end;width: 50%;}#sk-container-id-7 div.sk-parallel-item:last-child::after {align-self: flex-start;width: 50%;}#sk-container-id-7 div.sk-parallel-item:only-child::after {width: 0;}#sk-container-id-7 div.sk-dashed-wrapped {border: 1px dashed gray;margin: 0 0.4em 0.5em 0.4em;box-sizing: border-box;padding-bottom: 0.4em;background-color: white;}#sk-container-id-7 div.sk-label label {font-family: monospace;font-weight: bold;display: inline-block;line-height: 1.2em;}#sk-container-id-7 div.sk-label-container {text-align: center;}#sk-container-id-7 div.sk-container {/* jupyter's `normalize.less` sets `[hidden] { display: none; }` but bootstrap.min.css set `[hidden] { display: none !important; }` so we also need the `!important` here to be able to override the default hidden behavior on the sphinx rendered scikit-learn.org. See: https://github.com/scikit-learn/scikit-learn/issues/21755 */display: inline-block !important;position: relative;}#sk-container-id-7 div.sk-text-repr-fallback {display: none;}</style><div id=\"sk-container-id-7\" class=\"sk-top-container\"><div class=\"sk-text-repr-fallback\"><pre>PCA(n_components=0.85)</pre><b>In a Jupyter environment, please rerun this cell to show the HTML representation or trust the notebook. <br />On GitHub, the HTML representation is unable to render, please try loading this page with nbviewer.org.</b></div><div class=\"sk-container\" hidden><div class=\"sk-item\"><div class=\"sk-estimator sk-toggleable\"><input class=\"sk-toggleable__control sk-hidden--visually\" id=\"sk-estimator-id-7\" type=\"checkbox\" checked><label for=\"sk-estimator-id-7\" class=\"sk-toggleable__label sk-toggleable__label-arrow\">PCA</label><div class=\"sk-toggleable__content\"><pre>PCA(n_components=0.85)</pre></div></div></div></div></div>"
      ],
      "text/plain": [
       "PCA(n_components=0.85)"
      ]
     },
     "execution_count": 1410,
     "metadata": {},
     "output_type": "execute_result"
    }
   ],
   "source": [
    "pca.fit(scaled_data)"
   ]
  },
  {
   "cell_type": "code",
   "execution_count": 1412,
   "id": "5ef661c3-9533-4247-b994-6f51462e6a1b",
   "metadata": {},
   "outputs": [
    {
     "data": {
      "text/plain": [
       "array([[ 0.19329055, -0.30509996, -0.14087845, -0.48643154],\n",
       "       [ 0.4344199 , -0.32841262,  0.31900662, -0.17883036],\n",
       "       [ 0.81114323,  0.8150957 ,  1.52341562, -1.25408154],\n",
       "       ...,\n",
       "       [ 3.46570362, -1.03983801, -0.71316141,  0.0334078 ],\n",
       "       [-0.91802273, -0.03004659,  0.25840805, -0.52457824],\n",
       "       [-1.10513709, -0.86133787,  0.30515404, -0.11437678]])"
      ]
     },
     "execution_count": 1412,
     "metadata": {},
     "output_type": "execute_result"
    }
   ],
   "source": [
    "x_pca = pca.transform(scaled_data)\n",
    "x_pca"
   ]
  },
  {
   "cell_type": "code",
   "execution_count": 1414,
   "id": "bbb9335d-0698-4bec-9744-14be3d25983c",
   "metadata": {},
   "outputs": [
    {
     "data": {
      "text/plain": [
       "(440, 6)"
      ]
     },
     "execution_count": 1414,
     "metadata": {},
     "output_type": "execute_result"
    }
   ],
   "source": [
    "scaled_data.shape"
   ]
  },
  {
   "cell_type": "code",
   "execution_count": 1416,
   "id": "5a859e7e-45ae-4857-a93f-d6cb40931495",
   "metadata": {},
   "outputs": [
    {
     "data": {
      "text/plain": [
       "(440, 4)"
      ]
     },
     "execution_count": 1416,
     "metadata": {},
     "output_type": "execute_result"
    }
   ],
   "source": [
    "x_pca.shape"
   ]
  },
  {
   "cell_type": "code",
   "execution_count": 1418,
   "id": "bb6ec8d1-6ac8-47bf-9f54-7ca68d834b51",
   "metadata": {},
   "outputs": [],
   "source": [
    "# Access explained variance and eigenvectors (components)\n",
    "eigenvalues = pca.explained_variance_ # This gives the eigenvalues\n",
    "eigenvectors = pca.components_ # This gives the eigenvectors\n",
    "\n",
    "# Optionally, sort the eigenvalues and corresponding eigenvectors\n",
    "idx = eigenvalues.argsort()[::-1] # Sort in descending order\n",
    "\n",
    "# Sort the eigenvalues and eigenvectors\n",
    "eigenvalues_1 = eigenvalues[idx]\n",
    "eigenvectors_1 = eigenvectors[:, idx]"
   ]
  },
  {
   "cell_type": "code",
   "execution_count": 1420,
   "id": "0d601c3c-d4ff-47ce-bc6b-fedb01e2e002",
   "metadata": {},
   "outputs": [
    {
     "data": {
      "text/plain": [
       "array([2.65099857, 1.70646229, 0.74175057, 0.56501435])"
      ]
     },
     "execution_count": 1420,
     "metadata": {},
     "output_type": "execute_result"
    }
   ],
   "source": [
    "eigenvalues_1"
   ]
  },
  {
   "cell_type": "code",
   "execution_count": 1422,
   "id": "a305bd6b-b8cb-41cb-aa2a-15e61ba6cd9f",
   "metadata": {},
   "outputs": [
    {
     "data": {
      "text/plain": [
       "array([2.65099857, 1.70646229, 0.74175057, 0.56501435])"
      ]
     },
     "execution_count": 1422,
     "metadata": {},
     "output_type": "execute_result"
    }
   ],
   "source": [
    "pca.explained_variance_"
   ]
  },
  {
   "cell_type": "code",
   "execution_count": 1424,
   "id": "33c55772-ef5d-4274-a297-fa660cbe4449",
   "metadata": {},
   "outputs": [
    {
     "data": {
      "text/plain": [
       "array([0.44082893, 0.283764  , 0.12334413, 0.09395504])"
      ]
     },
     "execution_count": 1424,
     "metadata": {},
     "output_type": "execute_result"
    }
   ],
   "source": [
    "pca.explained_variance_ratio_"
   ]
  },
  {
   "cell_type": "code",
   "execution_count": 1426,
   "id": "098abac2-01ef-4a6b-a5b0-30873b2035b1",
   "metadata": {},
   "outputs": [
    {
     "data": {
      "text/plain": [
       "0.9418920905750293"
      ]
     },
     "execution_count": 1426,
     "metadata": {},
     "output_type": "execute_result"
    }
   ],
   "source": [
    "pca.explained_variance_ratio_.sum()"
   ]
  },
  {
   "cell_type": "code",
   "execution_count": 1428,
   "id": "7405b40e-5ec8-4f4c-a91d-542b72142bca",
   "metadata": {},
   "outputs": [],
   "source": [
    "df_deducted = df_1.iloc[:,0:4]"
   ]
  },
  {
   "cell_type": "code",
   "execution_count": 1430,
   "id": "85ac9708-8411-4035-8539-171970e7f3c3",
   "metadata": {},
   "outputs": [
    {
     "data": {
      "text/plain": [
       "array([[  551.11318599,  8147.10569859,  5131.1610641 ,  8064.28082074],\n",
       "       [ 2707.06461305,  5086.93820889,  1804.41869762,  9419.08896768],\n",
       "       [ 1888.14036776,  4450.00685794,  1815.3479952 ,  8928.73546287],\n",
       "       ...,\n",
       "       [15868.74743058, 10997.42657089,  2923.01915084, 15942.13592559],\n",
       "       [  571.52685341,  5818.30545728,  5539.2490496 ,  2933.72205476],\n",
       "       [ 1038.20221283,  1806.36991211,  1101.17503851,  1678.32562082]])"
      ]
     },
     "execution_count": 1430,
     "metadata": {},
     "output_type": "execute_result"
    }
   ],
   "source": [
    "projected_data_1 = abs(np.dot(df_deducted,eigenvectors_1))\n",
    "projected_data_1"
   ]
  },
  {
   "cell_type": "code",
   "execution_count": 1432,
   "id": "212a443e-82df-476e-ac01-a625f40f429e",
   "metadata": {},
   "outputs": [
    {
     "data": {
      "text/html": [
       "<div>\n",
       "<style scoped>\n",
       "    .dataframe tbody tr th:only-of-type {\n",
       "        vertical-align: middle;\n",
       "    }\n",
       "\n",
       "    .dataframe tbody tr th {\n",
       "        vertical-align: top;\n",
       "    }\n",
       "\n",
       "    .dataframe thead th {\n",
       "        text-align: right;\n",
       "    }\n",
       "</style>\n",
       "<table border=\"1\" class=\"dataframe\">\n",
       "  <thead>\n",
       "    <tr style=\"text-align: right;\">\n",
       "      <th></th>\n",
       "      <th>PCA_1</th>\n",
       "      <th>PCA_2</th>\n",
       "      <th>PCA_3</th>\n",
       "      <th>PCA_4</th>\n",
       "      <th>KEY</th>\n",
       "    </tr>\n",
       "  </thead>\n",
       "  <tbody>\n",
       "    <tr>\n",
       "      <th>0</th>\n",
       "      <td>551.11</td>\n",
       "      <td>8147.11</td>\n",
       "      <td>5131.16</td>\n",
       "      <td>8064.28</td>\n",
       "      <td>0</td>\n",
       "    </tr>\n",
       "    <tr>\n",
       "      <th>1</th>\n",
       "      <td>2707.06</td>\n",
       "      <td>5086.94</td>\n",
       "      <td>1804.42</td>\n",
       "      <td>9419.09</td>\n",
       "      <td>1</td>\n",
       "    </tr>\n",
       "    <tr>\n",
       "      <th>2</th>\n",
       "      <td>1888.14</td>\n",
       "      <td>4450.01</td>\n",
       "      <td>1815.35</td>\n",
       "      <td>8928.74</td>\n",
       "      <td>2</td>\n",
       "    </tr>\n",
       "    <tr>\n",
       "      <th>3</th>\n",
       "      <td>3744.01</td>\n",
       "      <td>7027.00</td>\n",
       "      <td>7730.37</td>\n",
       "      <td>7085.72</td>\n",
       "      <td>3</td>\n",
       "    </tr>\n",
       "    <tr>\n",
       "      <th>4</th>\n",
       "      <td>2947.31</td>\n",
       "      <td>12871.11</td>\n",
       "      <td>11944.34</td>\n",
       "      <td>8758.06</td>\n",
       "      <td>4</td>\n",
       "    </tr>\n",
       "  </tbody>\n",
       "</table>\n",
       "</div>"
      ],
      "text/plain": [
       "    PCA_1    PCA_2    PCA_3   PCA_4  KEY\n",
       "0  551.11  8147.11  5131.16 8064.28    0\n",
       "1 2707.06  5086.94  1804.42 9419.09    1\n",
       "2 1888.14  4450.01  1815.35 8928.74    2\n",
       "3 3744.01  7027.00  7730.37 7085.72    3\n",
       "4 2947.31 12871.11 11944.34 8758.06    4"
      ]
     },
     "execution_count": 1432,
     "metadata": {},
     "output_type": "execute_result"
    }
   ],
   "source": [
    "New_Feature = pd.DataFrame(projected_data_1, columns = ['PCA_1','PCA_2','PCA_3','PCA_4'])\n",
    "New_Feature['KEY'] = range(len(New_Feature))\n",
    "New_Feature.head()"
   ]
  },
  {
   "cell_type": "code",
   "execution_count": 1434,
   "id": "e7810274-5ece-41fa-b5fe-2a27287fc09d",
   "metadata": {},
   "outputs": [],
   "source": [
    "New_Feature['PCA_Combined'] = New_Feature['PCA_1'] + New_Feature['PCA_2'] + New_Feature['PCA_3'] + New_Feature['PCA_4'] "
   ]
  },
  {
   "cell_type": "code",
   "execution_count": 1436,
   "id": "f81e59a8-b530-4791-a646-9aa43fbaefbd",
   "metadata": {},
   "outputs": [],
   "source": [
    "import plotly.express as px\n",
    "import plotly.graph_objs as go"
   ]
  },
  {
   "cell_type": "code",
   "execution_count": 1438,
   "id": "0ecfe46c-1736-4802-874d-3f38a174221d",
   "metadata": {},
   "outputs": [
    {
     "data": {
      "application/vnd.plotly.v1+json": {
       "config": {
        "plotlyServerURL": "https://plot.ly"
       },
       "data": [
        {
         "hovertemplate": "PCA_1=%{x}<br>PCA_2=%{y}<br>PCA_3=%{z}<br>PCA_Combined=%{marker.color}<extra></extra>",
         "legendgroup": "",
         "marker": {
          "color": [
           21893.66076942001,
           19017.510487232346,
           17082.230683772235,
           25587.088610688857,
           36520.82149994444,
           17229.898187148538,
           20866.768934633685,
           19280.52296712046,
           13100.815729664555,
           26144.769561939076,
           20659.18221458261,
           20631.066171311035,
           47550.0394247684,
           41451.38076812889,
           39815.911102684535,
           15644.561120821816,
           16891.64258715338,
           12248.511020129248,
           32976.27099414763,
           18469.58040600265,
           25396.112328792726,
           11682.88854362095,
           49312.872391382545,
           59160.56915495456,
           41837.889125130394,
           25761.417489484003,
           17154.946720847904,
           19553.610560441433,
           37332.51766745463,
           53642.624982452704,
           33030.81429653465,
           8138.952562794546,
           27521.94526201538,
           46955.14288460415,
           4309.242606447642,
           15234.344088545007,
           40905.971173751575,
           31123.886748530396,
           24197.767984904345,
           74715.44647814479,
           41525.088242712656,
           29479.393591831253,
           26739.361336061156,
           31914.86516542335,
           21521.06230166307,
           33133.7113018933,
           31127.511484870505,
           111827.83391247253,
           24015.78433582749,
           41556.85733716555,
           12942.852293561073,
           10713.35102972133,
           52287.66628583128,
           17235.830059447602,
           35314.78946774385,
           11838.138942089256,
           42511.94088088995,
           16263.05917537387,
           18113.831649964362,
           14771.72748888503,
           17293.776232924436,
           101006.93800623788,
           19411.56878269124,
           28715.84046802301,
           12294.210055166119,
           59712.51166964316,
           9220.81022738584,
           36669.35728018102,
           12694.660338963686,
           12759.022464124431,
           32881.56465055285,
           46081.70939816523,
           16706.188223454177,
           39189.88821700106,
           19954.533788676672,
           28502.933445441675,
           14791.872652270136,
           41876.82321370968,
           16313.526931769205,
           6258.508598206361,
           11228.16598689363,
           19905.459311237355,
           23057.79387738635,
           27732.275717247096,
           19253.827641644508,
           122428.6914648235,
           87351.72690134672,
           63224.00322038085,
           22698.89223990369,
           36837.10525509337,
           17902.318920799516,
           25790.574971140006,
           48115.86005668855,
           50677.00446649981,
           17506.61356373276,
           8518.743142996822,
           10347.067195069236,
           1829.3765015666913,
           2222.032787059926,
           18558.767441465527,
           28069.258223334287,
           23496.55616546574,
           13312.52783270145,
           90453.36210031583,
           20630.027565278342,
           22350.081439243757,
           14461.789332761593,
           26744.576346801834,
           10879.847744890501,
           39346.58520177865,
           17347.509208628784,
           31860.789201349195,
           33023.92163503598,
           21331.919678000584,
           24962.16130806854,
           18224.686787678154,
           17423.156366146046,
           14754.917464683585,
           30446.36029746368,
           15415.554198825805,
           25153.00603208828,
           8676.594347734012,
           16106.447615597059,
           23427.49205229756,
           48560.48521147611,
           110055.33867483558,
           31762.492373340094,
           35434.345088875496,
           10385.247038379683,
           52468.229228738564,
           15274.657370948342,
           3170.3608295375857,
           19848.563856032568,
           12317.684326035545,
           11193.387770778774,
           10802.87894285957,
           16726.232361743387,
           12585.201901372435,
           20324.057980705118,
           10199.644031744036,
           29268.734140861874,
           47916.7929195408,
           52943.029792614805,
           21479.863984422343,
           25606.664493048727,
           57973.94046845193,
           11839.847627865429,
           14361.762876495006,
           11382.754674579857,
           39618.43947549209,
           20999.867442611256,
           4066.2069998360557,
           27396.39962779774,
           12989.567353973682,
           911.6049308812238,
           26041.776352178975,
           19035.60172547108,
           25950.749733193647,
           13886.469613026338,
           19744.888555330628,
           16632.005514172684,
           16139.868382053734,
           23552.899651615695,
           37849.013110604625,
           16765.468036226182,
           41196.236029636464,
           15260.122595960589,
           6874.833959330208,
           8778.35467304505,
           10635.3477930199,
           19182.444475697852,
           31583.02731760916,
           9536.465935322572,
           26109.793223594046,
           8489.386601256172,
           16200.954008094117,
           65544.79273792639,
           21309.45963603006,
           18447.471285884996,
           10617.5128258725,
           22907.686371217875,
           165385.83825832486,
           15204.023306719802,
           99063.56887072613,
           5799.4658942132955,
           17319.26389471645,
           7777.749001175132,
           18914.371733871958,
           23104.129044117682,
           17179.569416158054,
           30050.07844304028,
           17650.950833874147,
           8951.887551728616,
           25390.499907082314,
           11699.530751466595,
           32395.2256799241,
           58613.72162613692,
           15118.651387403563,
           23325.339448183688,
           13523.013835277925,
           34074.23887880886,
           35914.59372882904,
           42914.65501245493,
           3243.581944289007,
           8576.412211883176,
           31765.46841749226,
           9029.228604760621,
           11731.859306374488,
           9410.449789986076,
           23977.366396437166,
           24704.61868667349,
           58410.01395906686,
           11544.970380927207,
           11720.558193770401,
           15903.951883715536,
           22423.600888248733,
           47571.24660504209,
           24990.0351106173,
           21017.86134446598,
           8385.783676421754,
           19841.43553096611,
           16393.801808731594,
           16101.955912283403,
           13922.442373958642,
           10468.542677576168,
           19023.143470242903,
           34145.44646762256,
           8437.90616942275,
           3640.914237245087,
           19228.533246203468,
           26478.395132557496,
           13460.126867150073,
           33714.272305895356,
           6138.743713335711,
           25704.514908844485,
           7940.214554065103,
           15037.550020322251,
           29054.048883132175,
           10039.940253637487,
           62778.73218826887,
           43435.89815735964,
           32875.94970322697,
           27247.215539159857,
           18170.340103619335,
           18591.87854921133,
           18165.86572335574,
           13608.473240069425,
           17964.539102250677,
           23443.34067973267,
           17628.744159499096,
           7122.714846243145,
           51492.086744198066,
           19876.53653064895,
           50041.47561709597,
           31332.85539674366,
           40548.11363241182,
           18077.866684993547,
           16538.827062502554,
           75334.2016554297,
           70365.53329475639,
           15168.182054399997,
           16937.283534599417,
           29211.48599470997,
           13190.575678979312,
           20954.652919677916,
           31332.542674896264,
           30559.163132598384,
           30189.34490432286,
           33455.969416160035,
           20891.91635367171,
           11919.31726108103,
           7478.138442684424,
           10982.171196162639,
           49763.76099387261,
           3544.7909291861642,
           2884.098512596631,
           42831.28858974712,
           28251.828183488113,
           21675.143346433353,
           30252.21089823205,
           7163.688245583478,
           21003.725364866637,
           65776.03323242987,
           41709.07101365845,
           98977.34636264542,
           50068.65351672002,
           11173.95940169508,
           28668.067170857787,
           20519.660620152124,
           52883.645121497466,
           6116.01727370222,
           12531.054624018809,
           11289.041142569718,
           18556.920571237948,
           31241.90478956036,
           13994.40660893423,
           28198.730749748393,
           17304.206020305053,
           18097.829668270897,
           2866.119234512199,
           25596.96786388804,
           29146.27549207679,
           13223.36749125754,
           17518.876605988098,
           31551.14909233982,
           14950.550747328041,
           30358.157444216376,
           23530.19157731359,
           11195.455316845326,
           23352.70462758211,
           23137.545388813804,
           44539.36702860797,
           24376.01513764001,
           17922.557959794183,
           20789.576043058452,
           19007.71702973061,
           12919.19524968247,
           8817.762053105247,
           18947.221300319037,
           29354.151755797957,
           4867.943283479737,
           18058.6665728452,
           24920.002713283924,
           27017.091340080697,
           35136.96630763902,
           112585.132887013,
           9963.990007114546,
           2624.8429541212117,
           30458.084339214307,
           15392.788547443983,
           19597.663167505438,
           39579.51881362958,
           30887.800231580808,
           79468.1793910634,
           33498.03054035306,
           42383.60200987189,
           18099.114752056084,
           21447.881618126863,
           24420.403611756214,
           17830.283648949604,
           12775.048135958963,
           15394.04090635794,
           8944.038931511011,
           33827.030426305195,
           7420.553675665221,
           10772.66257679889,
           22303.25033190158,
           45641.29741164034,
           7216.529906986871,
           29843.07856492038,
           7732.478066046604,
           30370.525224234014,
           3006.3940137941386,
           26723.36180755362,
           26842.76546407958,
           2754.0819816758317,
           29376.128014698752,
           26331.365324553575,
           26886.01242006597,
           7225.854739715896,
           27215.354092514594,
           7424.092467200543,
           5320.958349618712,
           9640.352477648054,
           5546.035797802776,
           14662.559608822548,
           13644.73956627294,
           5952.16876096896,
           29686.27166663878,
           8801.098608269043,
           51091.9146965406,
           33000.14078872337,
           8186.9775935780735,
           25718.117797817846,
           10325.39021561687,
           8352.378462412877,
           22950.11298194946,
           49425.778343809005,
           6333.203090060484,
           14618.743632230005,
           38023.10750224361,
           31912.635826147845,
           49761.84834622052,
           9445.40789020984,
           30786.46380428411,
           17364.407521215042,
           6125.093705860723,
           27556.63054728203,
           13922.8953205182,
           15093.845598106822,
           10707.65790403883,
           6163.855639116839,
           6002.41864119808,
           39354.89512188233,
           18488.863098598813,
           15085.016991334054,
           16875.890601875046,
           21448.828935226724,
           19050.06916530492,
           13420.16276731298,
           9883.810679096692,
           46377.205430105576,
           35181.586728857175,
           39975.83646226512,
           28240.10156253382,
           11037.796560954843,
           43274.780568327005,
           29135.560595554278,
           17157.096116991255,
           18093.505957839683,
           13279.735671712613,
           7140.172214244247,
           15580.759045193732,
           30293.707405183297,
           15838.869712919346,
           18799.33930648858,
           16642.109364318683,
           16643.09304426407,
           24336.827781417494,
           13701.126811751827,
           17648.768709819073,
           29015.60218375853,
           34713.63839546007,
           25445.295631067493,
           31717.37532139675,
           30947.076174739963,
           31779.35691026871,
           60351.754928609094,
           10452.722593649692,
           13207.525398607822,
           20819.93996898336,
           28453.569180507453,
           28699.365615980372,
           5709.209022893492,
           27271.107845827704,
           62450.330843298,
           51300.5550258544,
           45731.329077892864,
           14862.803415058625,
           5624.072784278402
          ],
          "coloraxis": "coloraxis",
          "symbol": "circle"
         },
         "mode": "markers",
         "name": "",
         "scene": "scene",
         "showlegend": false,
         "type": "scatter3d",
         "x": [
          551.1131859871082,
          2707.0646130489295,
          1888.1403677584103,
          3744.006969546094,
          2947.3133862009204,
          442.59833059920516,
          3570.232919692814,
          5109.909528513773,
          2948.470615100847,
          9496.622726841204,
          8582.86860637766,
          2852.7817941834287,
          1754.0116051632479,
          8714.498251024503,
          3836.4839905054578,
          2169.7909345228077,
          5179.086463201924,
          921.5364974938061,
          4586.959771438416,
          6194.7109750047985,
          852.1443985257022,
          1734.7791756131376,
          3503.4281145788677,
          1254.8954861046145,
          5760.323655259821,
          3290.290395488019,
          2137.8541548621442,
          1551.9729084296657,
          10367.282250409255,
          553.2412520260352,
          6580.752141140537,
          636.2889460930317,
          783.6505501283345,
          3599.8939863978844,
          828.7263513422454,
          6277.5172119397075,
          1230.7292054161887,
          4365.646158623729,
          5079.0809629903915,
          398.6622696840942,
          2797.4954163027173,
          2878.5272125375323,
          7742.849259010109,
          13794.380818459815,
          4508.718518082438,
          6040.6115210838625,
          10667.33849512164,
          16427.84976367314,
          5224.010030220671,
          12399.745578244832,
          1674.949170629337,
          3456.929156727838,
          1085.0765627002768,
          3992.947635582657,
          221.08035383181908,
          2145.4056221329183,
          6484.568886197287,
          3050.8764823546894,
          151.26087779748374,
          3468.180210500169,
          4426.258390103625,
          27381.478915593543,
          2666.181593124158,
          6971.310567244461,
          2669.35061837975,
          26164.040062713182,
          5255.693094365364,
          6809.633554688294,
          695.0034813548749,
          612.3095757054028,
          3328.116005197457,
          16910.46182053332,
          1358.6989730279608,
          5333.636730183666,
          4559.488726276605,
          429.49560172777416,
          5163.462028347604,
          16160.929311581089,
          1093.0183997720706,
          1383.3803575620138,
          1807.7969701310815,
          6720.049289817263,
          3798.33689392511,
          277.0464196450437,
          1923.684651964549,
          50523.962555885955,
          13466.653924630096,
          3578.81270731517,
          4963.896585246649,
          2051.1063136006032,
          1318.923853810529,
          2107.4264174948344,
          11886.99670939711,
          7844.499392165522,
          2553.3426348093103,
          3640.6792543598485,
          5246.161445612649,
          527.2941554568991,
          763.070180636268,
          1319.1466678778243,
          6029.764689676576,
          7822.176218538052,
          3306.196095453007,
          7246.032570322481,
          1384.2207515757596,
          2236.2870623619574,
          5318.014323210088,
          6678.485773969978,
          1230.1230432088994,
          14811.286874959864,
          537.8242900429134,
          8054.192600252497,
          1821.6991556534,
          339.0054415856985,
          885.2800175112967,
          2173.503851039696,
          1274.1134931175843,
          2411.62599460947,
          1325.0610252566796,
          1074.4332873026578,
          1974.081239781004,
          96.10367644241985,
          40.43063920054665,
          1514.2027190213207,
          1125.2744491853355,
          4580.099973802549,
          1490.777916166409,
          4142.928242782262,
          1537.7530532082847,
          670.2378209506077,
          474.27690649387364,
          64.1094372222286,
          438.05725924779597,
          151.65926479654178,
          625.864475370881,
          1430.8054707021436,
          2065.53222734403,
          2485.4837171900103,
          1297.6586602905616,
          51.0493932994793,
          3457.6472262186157,
          4008.1528030351533,
          2048.4060408008318,
          1595.5220331199428,
          1105.8876994568495,
          22898.668817709724,
          632.2113540696108,
          327.78009012998774,
          836.9361412955748,
          590.3670674995661,
          23.74266102875076,
          44.1727057749985,
          1724.9891147855412,
          2924.077668872942,
          73.32048135915085,
          10132.769921233246,
          9183.566201150568,
          1325.714831732041,
          4441.19619419794,
          7937.338876773385,
          8608.327604856207,
          329.97318166907496,
          2006.0801917440285,
          13846.116968428894,
          3335.6980272232527,
          9827.566474045416,
          3928.4032569246688,
          938.0905291770371,
          344.80203524036204,
          1707.520553171622,
          6581.785789790339,
          2587.801037854604,
          2454.2309292562727,
          12233.538414711453,
          4202.294095165798,
          5414.937492991262,
          1422.2328643587307,
          320.2666991703105,
          82.34145590802467,
          374.36591323721933,
          3597.199251601108,
          1746.3912416646858,
          4113.559994510984,
          247.52416952678516,
          3344.5784163405183,
          2313.0967625966064,
          1110.8756329008008,
          5130.2652200888015,
          5767.960834647376,
          3276.2732678015645,
          681.3994723748043,
          592.3855029887839,
          950.3000013573807,
          14861.729152245904,
          1767.3760285156845,
          2672.020983243271,
          3287.103470369956,
          4856.088987446109,
          4739.321170089197,
          220.18927898421734,
          12596.48908186996,
          13115.246065941228,
          1761.9666628212685,
          1524.331239275786,
          4017.920440747883,
          13161.95502189982,
          294.36717702125424,
          3033.323364029192,
          3137.3500960721753,
          6865.54822608782,
          238.91364038612252,
          17888.739059679185,
          1133.4999016968195,
          2259.7934784877193,
          5886.802307935817,
          7142.526821657674,
          20806.632283898085,
          708.6668619061412,
          8692.12749381376,
          1302.8996640856249,
          432.92489068089156,
          4476.345237970722,
          3289.1775691925827,
          4151.079616672668,
          743.2889298791912,
          1276.9105969166822,
          3881.7369613141186,
          473.72091263449374,
          304.6951141363455,
          1830.6613773328393,
          2893.684733563538,
          2287.870522833222,
          1215.3736703269021,
          242.66332630605396,
          2025.541125317375,
          864.9320773848533,
          2218.955534650101,
          1249.3212396752715,
          171.84213955831464,
          918.5706295424089,
          5587.600022820083,
          514.9703772179305,
          2125.4497102654377,
          1922.1075576952449,
          4695.539765000942,
          7977.5950939303,
          201.12706192907925,
          124.2325160820227,
          1372.3916110326236,
          833.6682942738465,
          681.7042006877006,
          16401.425978049985,
          4402.577294138825,
          8413.933761465598,
          4967.38588175274,
          367.76605856075616,
          1251.2003724930698,
          1330.9753324882545,
          1568.7873795789208,
          1771.9548967882388,
          1143.74703114603,
          1579.3442300304905,
          127.09552103465528,
          5771.577888356114,
          7403.87096830214,
          856.5844431596704,
          13364.422884225947,
          1492.0905812000544,
          11611.773419917461,
          731.0343842096768,
          1346.482654061433,
          1198.0385569911984,
          1288.5756030998332,
          837.1486706708234,
          734.0517503142137,
          493.975620515354,
          3540.94669025492,
          3733.027416826818,
          1724.3348753240066,
          4162.404976056301,
          538.9338889243688,
          1045.7616475531051,
          669.4614863992879,
          1061.2344156267316,
          7013.413940914737,
          1106.6227140766446,
          100.8242622987786,
          2509.0196053048808,
          242.5090882814663,
          1274.7290719315606,
          1008.3348717488893,
          1213.2079015010377,
          2673.7547532342596,
          4308.5228582160225,
          3560.4299540865145,
          3023.158062244858,
          2172.808731523893,
          3983.0158330099725,
          5618.020760534179,
          1252.6407074359008,
          1359.7451305527857,
          9740.88581251968,
          5111.224833851597,
          9290.676286619699,
          16322.788955152704,
          537.8723475178914,
          10885.599541280086,
          584.0237389647882,
          1702.795734216848,
          422.8237151165164,
          3839.0577027727218,
          4942.841131329962,
          13809.594961498082,
          2098.1040079150694,
          5159.393566826166,
          1869.1286941724345,
          1390.3167656732146,
          3516.671913180976,
          1453.7084621560962,
          944.9576370152936,
          53.71190689916027,
          3445.204505698981,
          2511.6215405392686,
          8561.760111873535,
          445.58070999016604,
          15210.77577216655,
          951.0048269513048,
          951.7286750435347,
          2718.1265877416304,
          3932.286042102213,
          3632.065640778382,
          13754.779415994844,
          957.1054576301376,
          51697.845143207815,
          3752.510657639461,
          4327.027598459072,
          162.64743455437372,
          2942.3906944771547,
          9219.45513332062,
          5859.935994273096,
          5805.089414327909,
          6167.713525213476,
          1842.8303297087386,
          17971.007693350253,
          1211.5315993944969,
          5440.251718155646,
          9478.521126313999,
          5697.713313770307,
          561.1670316520995,
          9156.928422632998,
          1315.9718634374976,
          13166.077647627984,
          831.6719779381652,
          13964.256035761216,
          923.9461631083456,
          1300.2935737407443,
          119.31999223190428,
          17448.304002057597,
          7090.432518942654,
          1343.7984588194684,
          118.00176545874655,
          463.7650452554449,
          1188.8330842124146,
          2925.229197379697,
          925.9169201748276,
          3465.17332969463,
          48.78810017211669,
          157.51707293753446,
          849.3280403988969,
          368.256464491031,
          563.8136552036214,
          1648.876763647993,
          632.9816896604327,
          2415.25938213628,
          245.1654642373354,
          69.15666024724514,
          7679.92278155973,
          933.1069235102658,
          265.6518503484388,
          5571.091362628255,
          951.5394948095195,
          477.2124095229624,
          2077.483099258008,
          2952.2565111577155,
          1371.433551776506,
          936.6327259598444,
          818.1381339408169,
          166.9812042913638,
          481.5804774601924,
          659.3805491097819,
          1613.685957694573,
          522.288838402837,
          851.1292703458886,
          594.5026465119655,
          1945.9204825338993,
          610.7082239218748,
          1692.2791373516347,
          1404.157069217146,
          712.9644600788461,
          421.5760967553235,
          1182.9927144583994,
          2214.4091800150204,
          539.9103243007982,
          3138.819226746749,
          610.4474707380037,
          590.1757387613834,
          2683.471188059347,
          8754.418201858309,
          3191.24283084184,
          3218.8006708619273,
          2644.087980956393,
          1200.7861217463894,
          8187.821555600337,
          6837.409544752676,
          2813.0588729171704,
          3818.479876606825,
          3097.0088785320922,
          5945.343905298367,
          10644.76208236591,
          421.6936339824048,
          7778.453267186675,
          4306.765592727901,
          1726.0844696378945,
          1334.1143750878143,
          7891.6597081811615,
          3985.4267866987666,
          6873.874988664229,
          2160.0876794766846,
          1225.9924630153207,
          1626.0193064975172,
          11158.554695593002,
          4110.4626282623785,
          2406.0985210051226,
          206.45003462019494,
          3867.9774214219246,
          8491.008999134314,
          749.7066664651484,
          15868.747430578182,
          571.5268534125933,
          1038.202212828331
         ],
         "y": [
          8147.105698592126,
          5086.938208887651,
          4450.006857941887,
          7026.99647660266,
          12871.111943523378,
          6069.560672905462,
          7255.513050339594,
          4967.32775697408,
          3890.802787356582,
          5235.691730261415,
          2684.061129137092,
          7408.931013097671,
          18997.382628137926,
          12716.960086212743,
          14930.500960410049,
          5877.87495891766,
          2009.5059645777778,
          3819.144081601353,
          11083.55202972851,
          4961.705601903668,
          10125.441670715942,
          2933.5290732665408,
          16658.144109380533,
          18285.92692862872,
          13737.053950988304,
          9604.75831982833,
          5373.539828802902,
          7990.487028583058,
          5412.202711396613,
          23715.634512357254,
          11127.271659662207,
          1791.8564966190647,
          12052.701619983189,
          16511.791052874698,
          1082.898396256754,
          1428.8488726272328,
          16868.831120939733,
          9732.328585015066,
          4816.927691310873,
          29841.85414738533,
          12914.839430674556,
          10890.511444643285,
          7429.938232411787,
          2646.741928549806,
          6440.866026751537,
          5806.108883489019,
          4041.9731710928095,
          31429.13332709784,
          7396.242963688076,
          6078.1017664579595,
          3291.430459671271,
          2563.059090172513,
          22831.902301132377,
          1770.1928073419872,
          14923.229220705614,
          3385.891394325326,
          6114.236989743758,
          4408.985748864366,
          7722.579785716376,
          4265.441596058146,
          5401.728819168808,
          26098.989107107045,
          4816.834641688298,
          6786.878053958462,
          2568.375610329094,
          4553.767395842403,
          565.1246579250849,
          12120.50369213886,
          1666.4809861026094,
          4797.521690072278,
          8541.014101318347,
          10878.261893690491,
          2223.9650535015858,
          11107.8914489909,
          5471.452285292597,
          10829.820301092912,
          427.0864575266436,
          9356.853674100379,
          5908.537706527571,
          1310.0746444951178,
          4031.7155734540374,
          1757.8936458204234,
          7016.872086306074,
          11414.181989741355,
          6933.615882076078,
          18141.107909855837,
          20462.736683838197,
          23942.288005890317,
          3727.181752852527,
          13916.330780784785,
          6073.733219004526,
          6576.987777690493,
          8951.450791615249,
          3496.545112152578,
          4748.956343793764,
          583.6669901855137,
          707.6913852747957,
          210.15894254449287,
          252.45616921918906,
          5069.841279281855,
          7416.872987062758,
          2516.548075532715,
          2375.771934809699,
          29828.700609254174,
          7955.032591707235,
          8741.48868782662,
          1954.4321274168524,
          6364.297871535754,
          1932.967500646852,
          3849.4751899013436,
          6483.121576047966,
          8772.137155211223,
          9989.90352467536,
          7885.188895728158,
          9823.94173582215,
          6079.017979377033,
          6370.607198692156,
          4314.353084036479,
          10763.12790612456,
          4486.493147832375,
          9449.337296571086,
          2341.9811828724,
          6514.901542377651,
          7325.569051296996,
          19549.50736168125,
          40833.95516741863,
          10015.259386992162,
          12871.866451069855,
          1030.5830624405282,
          23083.453109745133,
          3590.501635254433,
          1183.07345014689,
          8392.375379637146,
          5265.871261911083,
          4252.362389107674,
          3595.9015689893636,
          3260.3011654147313,
          2797.275597219674,
          8023.790024628683,
          3480.5894606364873,
          10205.00606073509,
          17947.65238138411,
          21021.06529795694,
          5136.301898506816,
          10678.512928883427,
          14808.496841758517,
          4446.7635638012225,
          5348.592409514455,
          2957.287591205403,
          17490.43181145839,
          9028.537469109331,
          1055.2461111153953,
          10311.711361044825,
          2732.1233130200867,
          345.3717247559128,
          3128.137380465361,
          3397.2674499165523,
          9656.867225777352,
          2605.7199583414654,
          1686.155334817041,
          1946.424392037872,
          6744.790116429768,
          8439.309134879148,
          5739.1904220176775,
          3776.929800254101,
          10377.71199406162,
          3654.7085163002102,
          2022.7728525438388,
          3154.756536697483,
          2931.8692819017315,
          1576.9167771529978,
          3399.7930626609523,
          1341.9251573775164,
          2032.9558814489674,
          353.58114040469985,
          2642.175451157356,
          25210.16113997799,
          7685.765501252371,
          6783.978659421072,
          1888.0827317038697,
          7739.099523409336,
          63235.498535866034,
          1684.5173324575387,
          21773.82232210605,
          532.5769280475237,
          4868.502393019986,
          1432.613709605085,
          2040.8620356112613,
          5483.353521922732,
          2089.2736667899812,
          9232.273822524316,
          7457.023204761132,
          3212.805216777881,
          1529.7383345014034,
          4067.6403363131826,
          9335.022812071678,
          15957.568491945287,
          2442.471457028303,
          6653.96454967178,
          5543.117044262496,
          3825.994972914804,
          4824.470780404839,
          14825.428824897079,
          467.7015169870819,
          1335.3577459340183,
          2919.070766819989,
          3519.725649869108,
          1889.9517472985688,
          1340.01819840958,
          5021.240889313422,
          10205.905941620496,
          10946.204876172316,
          4070.581161974726,
          2655.6768402489306,
          2439.0453741380675,
          3243.4112732255103,
          4948.448289381239,
          9861.576173391337,
          1440.0623936362226,
          2178.3684979144255,
          8047.554500173311,
          4200.421493501829,
          2359.5658715861846,
          1559.6776988277566,
          4042.162821515232,
          7375.30046300966,
          12224.011577023473,
          2281.740023395291,
          1018.5253810465271,
          4501.137931537906,
          6147.212345254051,
          2271.520431674673,
          14476.542103384678,
          1058.5512318138076,
          8590.321389352672,
          1596.875432763848,
          4757.713253739731,
          10140.321076608301,
          3991.5825990781996,
          25873.865123670836,
          11771.56731896985,
          13695.286904445577,
          9838.967978534998,
          6668.39640149485,
          4577.523420954793,
          3001.2714739743074,
          4997.6802852140545,
          7273.922744576472,
          9078.14551986686,
          4270.59160006086,
          1863.0251139599093,
          6707.680620187021,
          3381.369393121115,
          17744.137572560354,
          7030.622272304808,
          17081.649833008327,
          6740.43546537646,
          4457.886734273775,
          30519.69509806671,
          29595.838718440828,
          5519.292451766739,
          3847.459474397247,
          12807.572895819678,
          1292.995755097568,
          2317.2654289039383,
          5119.630883292723,
          2269.6508489613225,
          11299.767433812847,
          8266.33226347794,
          8166.419526148576,
          2238.1212481899174,
          1548.6356028163525,
          1341.0767560180152,
          19994.339923803287,
          675.2752654859921,
          442.88919220941426,
          15551.160006558057,
          3574.341948426703,
          6210.709547678331,
          10451.557971989097,
          2136.3424041628546,
          7543.534132542408,
          26811.14570996509,
          13569.791781960921,
          37956.88300848253,
          22122.964921000974,
          4017.769976288102,
          7985.911473882941,
          8917.351217518331,
          23254.641454559696,
          1771.5982423848068,
          3539.9869133257193,
          1730.4858484592496,
          3776.0356650124636,
          12080.004108549938,
          4573.839330145392,
          10467.624090837731,
          4971.069622323905,
          4583.484933586009,
          416.5180021038407,
          9797.544817018133,
          5061.448388206019,
          2573.3256160434744,
          2515.6927519074143,
          2150.3899920309627,
          1673.4596619841864,
          5738.082757202407,
          9714.146537738352,
          4038.8883480446543,
          2909.796975241553,
          3007.7914861644995,
          16583.209835220616,
          2522.3937716999567,
          5167.867261188212,
          6269.291366592736,
          2714.594309384819,
          3898.7459479908266,
          1185.0919394331893,
          6687.96062704321,
          8372.101561275977,
          1367.296518770385,
          5223.718514188978,
          8593.644461195792,
          7981.590081268058,
          14401.104004154528,
          14746.205803826359,
          2321.4770667896523,
          434.61082348061234,
          8934.507078127404,
          2740.512530806757,
          5482.49997008731,
          8868.641365494954,
          12329.919233600469,
          9135.6817180781,
          8405.521095293567,
          15862.420255885787,
          7764.611799334753,
          4654.759663156187,
          906.9356118711,
          1011.7384113142106,
          1092.5619617191935,
          2355.7351365543054,
          945.1332390418062,
          2962.105944963518,
          1667.949278088996,
          1337.7374466173019,
          2791.3103668225867,
          16021.335929197905,
          2072.149759607652,
          5542.416224172813,
          1974.7645640822711,
          2689.4210573441073,
          443.622507980464,
          1845.268060291097,
          7864.848321533932,
          264.1744514355167,
          12115.604663026183,
          1459.2242120299238,
          1533.1507898858981,
          1020.4873200180591,
          10897.121137729504,
          2578.0970653254785,
          1388.652729024983,
          2856.5291907419855,
          1493.9505722066358,
          3410.7995955568003,
          5394.470758360857,
          1874.9397542291197,
          12241.589071768425,
          3360.0525505191763,
          22138.058371890966,
          10521.815006285437,
          2456.07810649137,
          9054.20041541382,
          3613.225927364744,
          3322.7476482243087,
          2755.820692936588,
          21478.838697168536,
          2122.231205310003,
          3252.2735211038266,
          15273.127142219691,
          9300.688321050762,
          19689.821459083956,
          965.1568824436597,
          8254.4170986658,
          6291.386867344414,
          961.4236741748391,
          11486.23226905471,
          5329.066144615992,
          5065.827290221145,
          1525.933946183271,
          1733.1502242737615,
          789.9506514026293,
          12922.387980014599,
          6890.461036629904,
          5165.263010197794,
          3792.2680715912743,
          5916.5265322185205,
          5888.264997378599,
          5204.536723814405,
          2261.9151327413933,
          14017.775371217092,
          15150.444324370048,
          15140.595976478342,
          10066.542772002118,
          3729.664713415291,
          13529.13142096123,
          5960.7550088397775,
          5067.12363885843,
          5212.679140517425,
          3944.532770570022,
          1496.7564013576355,
          1092.9622058069178,
          1963.2547205569663,
          3130.5090918794585,
          5146.649342525919,
          3887.153454864287,
          3854.215193819317,
          2179.152835517471,
          5223.967911537359,
          3663.58014806992,
          10161.267059774993,
          14685.216485490293,
          10070.451932977043,
          10158.426343806217,
          5147.428233956875,
          8527.602848626027,
          17305.875997754192,
          2262.3479560403607,
          5049.467799413035,
          2985.271478670849,
          4245.174537151508,
          11871.534709736,
          1303.8576121114113,
          9869.312968523976,
          17016.50145633242,
          21155.82421529118,
          10997.426570891103,
          5818.3054572780475,
          1806.3699121136162
         ],
         "z": [
          5131.161064099218,
          1804.4186976183564,
          1815.3479952033554,
          7730.36880291856,
          11944.338131433344,
          3761.008967039438,
          5851.6219377754915,
          2821.4362365813868,
          2295.1068131576385,
          65.1016111931457,
          220.63306666086962,
          7110.982198632076,
          15327.023250542847,
          10087.38851334343,
          11618.371459626114,
          5404.314861700181,
          1996.592216014813,
          2275.278570712917,
          8989.579700075306,
          3187.283727330858,
          9117.658884529952,
          3238.181006762898,
          18349.532479069727,
          8115.50977962501,
          10504.381704988326,
          7943.852846147889,
          5616.968451109106,
          7873.529483962366,
          3300.579248901446,
          24496.623617978425,
          9289.182320151824,
          760.8756744470573,
          12053.325609571348,
          16377.215910351519,
          380.81456520893636,
          1517.441362218375,
          16309.331301682452,
          6095.2421193480795,
          1445.9459520541545,
          33411.702734954815,
          13776.137832980441,
          10229.996869394756,
          3579.6276556032003,
          3773.504268317002,
          3497.2975072566596,
          2368.438685291631,
          2460.6660688634206,
          12632.400828460286,
          4657.698669076827,
          3194.882397374119,
          3665.9027506411217,
          614.0442441094185,
          22435.3375055164,
          2416.5964101260547,
          15665.976866472003,
          2080.7294308132628,
          4627.657050865388,
          554.1421524046517,
          7578.331243741498,
          1914.128511919505,
          3689.9003232058435,
          9099.787241275752,
          3350.2086730307965,
          2345.1055831495582,
          2620.4592839834236,
          7975.832367650022,
          1004.2223795530571,
          9221.376411621117,
          545.6298493144616,
          4368.404091529364,
          10159.874628422609,
          8699.084515011362,
          2461.4767649608825,
          10665.220072646633,
          2892.1530630897432,
          12116.330390341995,
          18.57033297660855,
          2213.7655386688925,
          6062.740236234233,
          169.73258408706144,
          3656.0307627810284,
          2797.8845836542787,
          3538.4814087260143,
          11915.703488411787,
          5991.092350530886,
          7360.086594421685,
          833.7717366566668,
          24116.672792688976,
          5069.7918606061285,
          13652.633976221732,
          6696.557149715373,
          7631.47736650458,
          1814.7565605641068,
          9589.320876991645,
          268.2999200308773,
          1055.822084787296,
          1233.3370181041623,
          212.25395482676313,
          285.540079596415,
          5666.451626557476,
          4607.9339559403925,
          2350.9139263097068,
          194.1658775546227,
          32919.4356273394,
          7624.2708935032015,
          8546.899413282932,
          1229.5682016385726,
          2188.9539587187965,
          1070.3108638545514,
          4699.764170802125,
          6662.523189115864,
          3843.9628113177846,
          11298.559051949715,
          8181.480962509836,
          10348.356321425214,
          6297.496817742022,
          5900.897536601331,
          3073.635118280038,
          11647.545806915594,
          4621.294918135742,
          9651.098628847134,
          1947.6420681492968,
          7228.981798726077,
          4174.309639151273,
          20828.75162009966,
          44636.47960768421,
          11552.792097563433,
          10310.806712917905,
          1610.6481022552748,
          24392.643743190914,
          4380.057906981649,
          1133.6107390391878,
          8128.171053638908,
          5224.836825422205,
          3845.2921049919237,
          3304.189705053642,
          1148.7231319763052,
          219.80681977560283,
          6690.318803405565,
          2118.192820600379,
          9032.777494934473,
          15132.885516877748,
          19831.45479681457,
          6568.161047667287,
          10165.532222645665,
          7774.982361805689,
          4079.608277451526,
          4681.0451298965745,
          3716.9161706508794,
          18123.80669955228,
          9030.932915802827,
          97.60684036733156,
          10691.187268385293,
          480.55996975571674,
          345.36305104805183,
          2493.9995714573192,
          130.84721595107274,
          10185.45028357644,
          246.41601937443556,
          2468.938403252402,
          836.5168860341297,
          7208.651501580392,
          8365.204672097603,
          1754.9219501111818,
          1254.1665245119461,
          5513.338971481932,
          922.6796211429572,
          916.8783189484658,
          3318.133504853451,
          3052.045026972467,
          2454.0236029704597,
          5741.021007797235,
          920.3314068681037,
          2871.016321724133,
          312.2893666206387,
          1070.3045582142802,
          25493.296055710427,
          6014.290739265545,
          4925.543126661651,
          1318.1790859244293,
          5354.901478058527,
          60443.831606137785,
          1937.5971360162428,
          16609.323465194633,
          447.3377505959275,
          3898.257067689398,
          1942.0869461220536,
          156.55789530745506,
          2566.882913579379,
          2427.8171080891734,
          9459.625759628001,
          7793.343053846438,
          2791.6911427621812,
          2502.5375829289164,
          3732.025497336401,
          9379.114397714566,
          18138.371623568557,
          637.7030607895952,
          6088.721051741452,
          5094.534324756985,
          2246.528774245806,
          1807.94092931742,
          12429.145118465125,
          47.16519441232825,
          583.0266572536772,
          3525.813041272732,
          3567.7441306894457,
          432.1594721401031,
          92.93667249030518,
          370.38526691237655,
          10518.120082053709,
          918.3244651215731,
          3988.8588016277436,
          354.15377370836376,
          723.729537235346,
          1485.6899601791001,
          4893.767952751132,
          10283.228114235892,
          2597.604124389748,
          2446.949078028194,
          8452.875367407754,
          885.3563236867491,
          3242.0801764034345,
          1271.1201634554084,
          4037.8651307664686,
          6490.605967447281,
          10361.115821640666,
          2092.2589399900053,
          1037.0296707656285,
          5067.300562297828,
          5811.949610756519,
          464.5307489276477,
          14430.258632053214,
          429.7915064889012,
          8679.331162527666,
          44.35314419927644,
          4796.8832095445205,
          10693.647462336925,
          4250.126044257743,
          27281.72265829028,
          12724.440008845551,
          14143.794580935246,
          10543.088097330665,
          5475.69358614044,
          1409.7055938416186,
          609.2385150447889,
          4787.731912109862,
          7976.519105681342,
          8104.801858216242,
          4550.421992695856,
          1545.6287375876523,
          2751.4934841271165,
          3865.252206661103,
          14147.058497123418,
          3368.6548365066405,
          18422.750454595745,
          5172.606495791634,
          4953.375444569436,
          32270.277474002145,
          29619.012074516515,
          4412.336475840556,
          4993.688899957544,
          13193.651710761676,
          818.1016207192638,
          2459.9712715449305,
          422.6408097193424,
          3263.7003032614434,
          12065.986144273713,
          3683.5396245886864,
          8920.75586008339,
          3060.5835740995085,
          424.4292031432855,
          1606.576577841424,
          21228.777068854102,
          148.38670778677147,
          225.88390140887074,
          15334.078464304768,
          6846.710182782668,
          6778.634352265387,
          8236.510731122737,
          1368.5267812434959,
          5490.614432695555,
          28012.711098462023,
          15271.693584394692,
          38850.53877654705,
          22944.145281819605,
          3849.824272812031,
          9167.005749681673,
          9281.343602589792,
          24838.34281898229,
          1019.9308755343386,
          2910.5722856716898,
          1130.6868666835767,
          563.1482483186347,
          11414.872204216075,
          3595.1827748266865,
          10793.655865156423,
          3615.888841329644,
          2267.3979277703966,
          66.5120678585126,
          8013.591327786345,
          904.2930645392221,
          124.78382782328421,
          479.98263208825773,
          3616.1604405315547,
          2624.2069734082474,
          275.9127612368351,
          9503.713710832935,
          3616.4342496854447,
          3800.8683081562394,
          4928.018392754016,
          16250.5642833375,
          1250.9709787559157,
          5742.975252780785,
          5216.103266569805,
          2554.180241687645,
          3972.8759600168455,
          325.44341428958217,
          6278.056807553775,
          197.5039291782845,
          295.0208592757608,
          4753.592392869871,
          9128.18781329941,
          6441.440295225163,
          14507.350054020502,
          21474.095923127185,
          2537.282167361716,
          46.151478453375724,
          9950.42115046841,
          2791.324448140152,
          5234.647499202618,
          1548.9258415205998,
          12536.950102921357,
          3046.3314112186868,
          10537.071440402675,
          13666.746806946343,
          7796.21312047668,
          5802.772227979403,
          845.6365354423552,
          1780.241329644886,
          1374.2585258137726,
          634.7586009551432,
          1298.434257103057,
          2736.9100528584127,
          1637.1566949394603,
          546.946123628105,
          807.558254490511,
          13773.944639478126,
          1560.3273086587976,
          685.9882771379906,
          1852.9213045793063,
          2998.1985164310618,
          112.4312314050441,
          3121.224450877507,
          7452.823447399804,
          188.2491071845502,
          13432.408489306523,
          2564.2383967455507,
          1818.844383116004,
          590.1644139212208,
          11076.685734421351,
          2687.7011335354796,
          788.2025397811296,
          2073.8045849539308,
          1338.947309224898,
          1124.454427506817,
          5158.364783433921,
          1980.018165498201,
          12719.04757965665,
          3589.9235496909264,
          22015.665154916598,
          12025.405563185685,
          1609.5373481525714,
          7176.375240942514,
          3319.100580640186,
          3108.940784658755,
          318.82303597158375,
          21832.919745845204,
          1210.6293432328482,
          477.9904470373338,
          16408.884746860058,
          10499.575075042996,
          18222.836699542415,
          906.2224414584629,
          1711.1507803089569,
          6703.788164945517,
          66.2364250448125,
          11874.22679929045,
          5594.85553665184,
          5378.660017924971,
          2208.3461626944213,
          975.3805012280742,
          630.9305152613193,
          13203.013167218873,
          6843.997690690104,
          5542.467804529035,
          130.9812975225037,
          7008.30897076415,
          6985.281076216756,
          5551.8660488446885,
          2687.849585402206,
          16498.295287803125,
          14150.061464119895,
          12739.052077556444,
          9880.010508658617,
          3927.596399227006,
          14282.312897601572,
          665.6783708300129,
          3696.1365489586096,
          4101.101929232551,
          3188.666888630793,
          558.0977794934491,
          1804.0350113649672,
          3351.252652866354,
          3398.420277643252,
          2911.6038923431047,
          148.22400677468298,
          970.9886976876596,
          2862.794563913591,
          4406.291357455461,
          380.920301583692,
          8303.834340960277,
          14726.995782325628,
          9243.653176364509,
          8181.334354000966,
          7506.454552566752,
          5023.747789893866,
          16536.210548877625,
          593.6425955509535,
          4346.971759925362,
          549.5469731488901,
          5008.5182519225855,
          11575.65497026901,
          679.4836650933723,
          8325.07777087147,
          15100.21744304659,
          22909.214067202724,
          2923.0191508379353,
          5539.249049603265,
          1101.1750385145824
         ]
        }
       ],
       "layout": {
        "coloraxis": {
         "colorbar": {
          "title": {
           "text": "PCA_Combined"
          }
         },
         "colorscale": [
          [
           0,
           "#0d0887"
          ],
          [
           0.1111111111111111,
           "#46039f"
          ],
          [
           0.2222222222222222,
           "#7201a8"
          ],
          [
           0.3333333333333333,
           "#9c179e"
          ],
          [
           0.4444444444444444,
           "#bd3786"
          ],
          [
           0.5555555555555556,
           "#d8576b"
          ],
          [
           0.6666666666666666,
           "#ed7953"
          ],
          [
           0.7777777777777778,
           "#fb9f3a"
          ],
          [
           0.8888888888888888,
           "#fdca26"
          ],
          [
           1,
           "#f0f921"
          ]
         ]
        },
        "height": 600,
        "legend": {
         "tracegroupgap": 0
        },
        "scene": {
         "aspectmode": "auto",
         "aspectratio": {
          "x": 0.8883907970825907,
          "y": 1.083543380303928,
          "z": 1.0388423494128534
         },
         "camera": {
          "center": {
           "x": 0,
           "y": 0,
           "z": 0
          },
          "eye": {
           "x": -1.9649082964678182,
           "y": 0.8319443750379295,
           "z": 0.3667477925150836
          },
          "projection": {
           "type": "perspective"
          },
          "up": {
           "x": 0,
           "y": 0,
           "z": 1
          }
         },
         "domain": {
          "x": [
           0,
           1
          ],
          "y": [
           0,
           1
          ]
         },
         "xaxis": {
          "title": {
           "text": "PCA_1"
          },
          "type": "linear"
         },
         "yaxis": {
          "title": {
           "text": "PCA_2"
          },
          "type": "linear"
         },
         "zaxis": {
          "title": {
           "text": "PCA_3"
          },
          "type": "linear"
         }
        },
        "template": {
         "data": {
          "bar": [
           {
            "error_x": {
             "color": "#2a3f5f"
            },
            "error_y": {
             "color": "#2a3f5f"
            },
            "marker": {
             "line": {
              "color": "#E5ECF6",
              "width": 0.5
             },
             "pattern": {
              "fillmode": "overlay",
              "size": 10,
              "solidity": 0.2
             }
            },
            "type": "bar"
           }
          ],
          "barpolar": [
           {
            "marker": {
             "line": {
              "color": "#E5ECF6",
              "width": 0.5
             },
             "pattern": {
              "fillmode": "overlay",
              "size": 10,
              "solidity": 0.2
             }
            },
            "type": "barpolar"
           }
          ],
          "carpet": [
           {
            "aaxis": {
             "endlinecolor": "#2a3f5f",
             "gridcolor": "white",
             "linecolor": "white",
             "minorgridcolor": "white",
             "startlinecolor": "#2a3f5f"
            },
            "baxis": {
             "endlinecolor": "#2a3f5f",
             "gridcolor": "white",
             "linecolor": "white",
             "minorgridcolor": "white",
             "startlinecolor": "#2a3f5f"
            },
            "type": "carpet"
           }
          ],
          "choropleth": [
           {
            "colorbar": {
             "outlinewidth": 0,
             "ticks": ""
            },
            "type": "choropleth"
           }
          ],
          "contour": [
           {
            "colorbar": {
             "outlinewidth": 0,
             "ticks": ""
            },
            "colorscale": [
             [
              0,
              "#0d0887"
             ],
             [
              0.1111111111111111,
              "#46039f"
             ],
             [
              0.2222222222222222,
              "#7201a8"
             ],
             [
              0.3333333333333333,
              "#9c179e"
             ],
             [
              0.4444444444444444,
              "#bd3786"
             ],
             [
              0.5555555555555556,
              "#d8576b"
             ],
             [
              0.6666666666666666,
              "#ed7953"
             ],
             [
              0.7777777777777778,
              "#fb9f3a"
             ],
             [
              0.8888888888888888,
              "#fdca26"
             ],
             [
              1,
              "#f0f921"
             ]
            ],
            "type": "contour"
           }
          ],
          "contourcarpet": [
           {
            "colorbar": {
             "outlinewidth": 0,
             "ticks": ""
            },
            "type": "contourcarpet"
           }
          ],
          "heatmap": [
           {
            "colorbar": {
             "outlinewidth": 0,
             "ticks": ""
            },
            "colorscale": [
             [
              0,
              "#0d0887"
             ],
             [
              0.1111111111111111,
              "#46039f"
             ],
             [
              0.2222222222222222,
              "#7201a8"
             ],
             [
              0.3333333333333333,
              "#9c179e"
             ],
             [
              0.4444444444444444,
              "#bd3786"
             ],
             [
              0.5555555555555556,
              "#d8576b"
             ],
             [
              0.6666666666666666,
              "#ed7953"
             ],
             [
              0.7777777777777778,
              "#fb9f3a"
             ],
             [
              0.8888888888888888,
              "#fdca26"
             ],
             [
              1,
              "#f0f921"
             ]
            ],
            "type": "heatmap"
           }
          ],
          "heatmapgl": [
           {
            "colorbar": {
             "outlinewidth": 0,
             "ticks": ""
            },
            "colorscale": [
             [
              0,
              "#0d0887"
             ],
             [
              0.1111111111111111,
              "#46039f"
             ],
             [
              0.2222222222222222,
              "#7201a8"
             ],
             [
              0.3333333333333333,
              "#9c179e"
             ],
             [
              0.4444444444444444,
              "#bd3786"
             ],
             [
              0.5555555555555556,
              "#d8576b"
             ],
             [
              0.6666666666666666,
              "#ed7953"
             ],
             [
              0.7777777777777778,
              "#fb9f3a"
             ],
             [
              0.8888888888888888,
              "#fdca26"
             ],
             [
              1,
              "#f0f921"
             ]
            ],
            "type": "heatmapgl"
           }
          ],
          "histogram": [
           {
            "marker": {
             "pattern": {
              "fillmode": "overlay",
              "size": 10,
              "solidity": 0.2
             }
            },
            "type": "histogram"
           }
          ],
          "histogram2d": [
           {
            "colorbar": {
             "outlinewidth": 0,
             "ticks": ""
            },
            "colorscale": [
             [
              0,
              "#0d0887"
             ],
             [
              0.1111111111111111,
              "#46039f"
             ],
             [
              0.2222222222222222,
              "#7201a8"
             ],
             [
              0.3333333333333333,
              "#9c179e"
             ],
             [
              0.4444444444444444,
              "#bd3786"
             ],
             [
              0.5555555555555556,
              "#d8576b"
             ],
             [
              0.6666666666666666,
              "#ed7953"
             ],
             [
              0.7777777777777778,
              "#fb9f3a"
             ],
             [
              0.8888888888888888,
              "#fdca26"
             ],
             [
              1,
              "#f0f921"
             ]
            ],
            "type": "histogram2d"
           }
          ],
          "histogram2dcontour": [
           {
            "colorbar": {
             "outlinewidth": 0,
             "ticks": ""
            },
            "colorscale": [
             [
              0,
              "#0d0887"
             ],
             [
              0.1111111111111111,
              "#46039f"
             ],
             [
              0.2222222222222222,
              "#7201a8"
             ],
             [
              0.3333333333333333,
              "#9c179e"
             ],
             [
              0.4444444444444444,
              "#bd3786"
             ],
             [
              0.5555555555555556,
              "#d8576b"
             ],
             [
              0.6666666666666666,
              "#ed7953"
             ],
             [
              0.7777777777777778,
              "#fb9f3a"
             ],
             [
              0.8888888888888888,
              "#fdca26"
             ],
             [
              1,
              "#f0f921"
             ]
            ],
            "type": "histogram2dcontour"
           }
          ],
          "mesh3d": [
           {
            "colorbar": {
             "outlinewidth": 0,
             "ticks": ""
            },
            "type": "mesh3d"
           }
          ],
          "parcoords": [
           {
            "line": {
             "colorbar": {
              "outlinewidth": 0,
              "ticks": ""
             }
            },
            "type": "parcoords"
           }
          ],
          "pie": [
           {
            "automargin": true,
            "type": "pie"
           }
          ],
          "scatter": [
           {
            "fillpattern": {
             "fillmode": "overlay",
             "size": 10,
             "solidity": 0.2
            },
            "type": "scatter"
           }
          ],
          "scatter3d": [
           {
            "line": {
             "colorbar": {
              "outlinewidth": 0,
              "ticks": ""
             }
            },
            "marker": {
             "colorbar": {
              "outlinewidth": 0,
              "ticks": ""
             }
            },
            "type": "scatter3d"
           }
          ],
          "scattercarpet": [
           {
            "marker": {
             "colorbar": {
              "outlinewidth": 0,
              "ticks": ""
             }
            },
            "type": "scattercarpet"
           }
          ],
          "scattergeo": [
           {
            "marker": {
             "colorbar": {
              "outlinewidth": 0,
              "ticks": ""
             }
            },
            "type": "scattergeo"
           }
          ],
          "scattergl": [
           {
            "marker": {
             "colorbar": {
              "outlinewidth": 0,
              "ticks": ""
             }
            },
            "type": "scattergl"
           }
          ],
          "scattermapbox": [
           {
            "marker": {
             "colorbar": {
              "outlinewidth": 0,
              "ticks": ""
             }
            },
            "type": "scattermapbox"
           }
          ],
          "scatterpolar": [
           {
            "marker": {
             "colorbar": {
              "outlinewidth": 0,
              "ticks": ""
             }
            },
            "type": "scatterpolar"
           }
          ],
          "scatterpolargl": [
           {
            "marker": {
             "colorbar": {
              "outlinewidth": 0,
              "ticks": ""
             }
            },
            "type": "scatterpolargl"
           }
          ],
          "scatterternary": [
           {
            "marker": {
             "colorbar": {
              "outlinewidth": 0,
              "ticks": ""
             }
            },
            "type": "scatterternary"
           }
          ],
          "surface": [
           {
            "colorbar": {
             "outlinewidth": 0,
             "ticks": ""
            },
            "colorscale": [
             [
              0,
              "#0d0887"
             ],
             [
              0.1111111111111111,
              "#46039f"
             ],
             [
              0.2222222222222222,
              "#7201a8"
             ],
             [
              0.3333333333333333,
              "#9c179e"
             ],
             [
              0.4444444444444444,
              "#bd3786"
             ],
             [
              0.5555555555555556,
              "#d8576b"
             ],
             [
              0.6666666666666666,
              "#ed7953"
             ],
             [
              0.7777777777777778,
              "#fb9f3a"
             ],
             [
              0.8888888888888888,
              "#fdca26"
             ],
             [
              1,
              "#f0f921"
             ]
            ],
            "type": "surface"
           }
          ],
          "table": [
           {
            "cells": {
             "fill": {
              "color": "#EBF0F8"
             },
             "line": {
              "color": "white"
             }
            },
            "header": {
             "fill": {
              "color": "#C8D4E3"
             },
             "line": {
              "color": "white"
             }
            },
            "type": "table"
           }
          ]
         },
         "layout": {
          "annotationdefaults": {
           "arrowcolor": "#2a3f5f",
           "arrowhead": 0,
           "arrowwidth": 1
          },
          "autotypenumbers": "strict",
          "coloraxis": {
           "colorbar": {
            "outlinewidth": 0,
            "ticks": ""
           }
          },
          "colorscale": {
           "diverging": [
            [
             0,
             "#8e0152"
            ],
            [
             0.1,
             "#c51b7d"
            ],
            [
             0.2,
             "#de77ae"
            ],
            [
             0.3,
             "#f1b6da"
            ],
            [
             0.4,
             "#fde0ef"
            ],
            [
             0.5,
             "#f7f7f7"
            ],
            [
             0.6,
             "#e6f5d0"
            ],
            [
             0.7,
             "#b8e186"
            ],
            [
             0.8,
             "#7fbc41"
            ],
            [
             0.9,
             "#4d9221"
            ],
            [
             1,
             "#276419"
            ]
           ],
           "sequential": [
            [
             0,
             "#0d0887"
            ],
            [
             0.1111111111111111,
             "#46039f"
            ],
            [
             0.2222222222222222,
             "#7201a8"
            ],
            [
             0.3333333333333333,
             "#9c179e"
            ],
            [
             0.4444444444444444,
             "#bd3786"
            ],
            [
             0.5555555555555556,
             "#d8576b"
            ],
            [
             0.6666666666666666,
             "#ed7953"
            ],
            [
             0.7777777777777778,
             "#fb9f3a"
            ],
            [
             0.8888888888888888,
             "#fdca26"
            ],
            [
             1,
             "#f0f921"
            ]
           ],
           "sequentialminus": [
            [
             0,
             "#0d0887"
            ],
            [
             0.1111111111111111,
             "#46039f"
            ],
            [
             0.2222222222222222,
             "#7201a8"
            ],
            [
             0.3333333333333333,
             "#9c179e"
            ],
            [
             0.4444444444444444,
             "#bd3786"
            ],
            [
             0.5555555555555556,
             "#d8576b"
            ],
            [
             0.6666666666666666,
             "#ed7953"
            ],
            [
             0.7777777777777778,
             "#fb9f3a"
            ],
            [
             0.8888888888888888,
             "#fdca26"
            ],
            [
             1,
             "#f0f921"
            ]
           ]
          },
          "colorway": [
           "#636efa",
           "#EF553B",
           "#00cc96",
           "#ab63fa",
           "#FFA15A",
           "#19d3f3",
           "#FF6692",
           "#B6E880",
           "#FF97FF",
           "#FECB52"
          ],
          "font": {
           "color": "#2a3f5f"
          },
          "geo": {
           "bgcolor": "white",
           "lakecolor": "white",
           "landcolor": "#E5ECF6",
           "showlakes": true,
           "showland": true,
           "subunitcolor": "white"
          },
          "hoverlabel": {
           "align": "left"
          },
          "hovermode": "closest",
          "mapbox": {
           "style": "light"
          },
          "paper_bgcolor": "white",
          "plot_bgcolor": "#E5ECF6",
          "polar": {
           "angularaxis": {
            "gridcolor": "white",
            "linecolor": "white",
            "ticks": ""
           },
           "bgcolor": "#E5ECF6",
           "radialaxis": {
            "gridcolor": "white",
            "linecolor": "white",
            "ticks": ""
           }
          },
          "scene": {
           "xaxis": {
            "backgroundcolor": "#E5ECF6",
            "gridcolor": "white",
            "gridwidth": 2,
            "linecolor": "white",
            "showbackground": true,
            "ticks": "",
            "zerolinecolor": "white"
           },
           "yaxis": {
            "backgroundcolor": "#E5ECF6",
            "gridcolor": "white",
            "gridwidth": 2,
            "linecolor": "white",
            "showbackground": true,
            "ticks": "",
            "zerolinecolor": "white"
           },
           "zaxis": {
            "backgroundcolor": "#E5ECF6",
            "gridcolor": "white",
            "gridwidth": 2,
            "linecolor": "white",
            "showbackground": true,
            "ticks": "",
            "zerolinecolor": "white"
           }
          },
          "shapedefaults": {
           "line": {
            "color": "#2a3f5f"
           }
          },
          "ternary": {
           "aaxis": {
            "gridcolor": "white",
            "linecolor": "white",
            "ticks": ""
           },
           "baxis": {
            "gridcolor": "white",
            "linecolor": "white",
            "ticks": ""
           },
           "bgcolor": "#E5ECF6",
           "caxis": {
            "gridcolor": "white",
            "linecolor": "white",
            "ticks": ""
           }
          },
          "title": {
           "x": 0.05
          },
          "xaxis": {
           "automargin": true,
           "gridcolor": "white",
           "linecolor": "white",
           "ticks": "",
           "title": {
            "standoff": 15
           },
           "zerolinecolor": "white",
           "zerolinewidth": 2
          },
          "yaxis": {
           "automargin": true,
           "gridcolor": "white",
           "linecolor": "white",
           "ticks": "",
           "title": {
            "standoff": 15
           },
           "zerolinecolor": "white",
           "zerolinewidth": 2
          }
         }
        },
        "title": {
         "text": "Principal Component Analysis Wholesale Customer"
        },
        "width": 800
       }
      },
      "text/html": [
       "<div>                            <div id=\"3f23566f-2d38-4b6d-ad1c-2ac828f53d54\" class=\"plotly-graph-div\" style=\"height:600px; width:800px;\"></div>            <script type=\"text/javascript\">                require([\"plotly\"], function(Plotly) {                    window.PLOTLYENV=window.PLOTLYENV || {};                                    if (document.getElementById(\"3f23566f-2d38-4b6d-ad1c-2ac828f53d54\")) {                    Plotly.newPlot(                        \"3f23566f-2d38-4b6d-ad1c-2ac828f53d54\",                        [{\"hovertemplate\":\"PCA_1=%{x}<br>PCA_2=%{y}<br>PCA_3=%{z}<br>PCA_Combined=%{marker.color}<extra></extra>\",\"legendgroup\":\"\",\"marker\":{\"color\":[21893.66076942001,19017.510487232346,17082.230683772235,25587.088610688857,36520.82149994444,17229.898187148538,20866.768934633685,19280.52296712046,13100.815729664555,26144.769561939076,20659.18221458261,20631.066171311035,47550.0394247684,41451.38076812889,39815.911102684535,15644.561120821816,16891.64258715338,12248.511020129248,32976.27099414763,18469.58040600265,25396.112328792726,11682.88854362095,49312.872391382545,59160.56915495456,41837.889125130394,25761.417489484003,17154.946720847904,19553.610560441433,37332.51766745463,53642.624982452704,33030.81429653465,8138.952562794546,27521.94526201538,46955.14288460415,4309.242606447642,15234.344088545007,40905.971173751575,31123.886748530396,24197.767984904345,74715.44647814479,41525.088242712656,29479.393591831253,26739.361336061156,31914.86516542335,21521.06230166307,33133.7113018933,31127.511484870505,111827.83391247253,24015.78433582749,41556.85733716555,12942.852293561073,10713.35102972133,52287.66628583128,17235.830059447602,35314.78946774385,11838.138942089256,42511.94088088995,16263.05917537387,18113.831649964362,14771.72748888503,17293.776232924436,101006.93800623788,19411.56878269124,28715.84046802301,12294.210055166119,59712.51166964316,9220.81022738584,36669.35728018102,12694.660338963686,12759.022464124431,32881.56465055285,46081.70939816523,16706.188223454177,39189.88821700106,19954.533788676672,28502.933445441675,14791.872652270136,41876.82321370968,16313.526931769205,6258.508598206361,11228.16598689363,19905.459311237355,23057.79387738635,27732.275717247096,19253.827641644508,122428.6914648235,87351.72690134672,63224.00322038085,22698.89223990369,36837.10525509337,17902.318920799516,25790.574971140006,48115.86005668855,50677.00446649981,17506.61356373276,8518.743142996822,10347.067195069236,1829.3765015666913,2222.032787059926,18558.767441465527,28069.258223334287,23496.55616546574,13312.52783270145,90453.36210031583,20630.027565278342,22350.081439243757,14461.789332761593,26744.576346801834,10879.847744890501,39346.58520177865,17347.509208628784,31860.789201349195,33023.92163503598,21331.919678000584,24962.16130806854,18224.686787678154,17423.156366146046,14754.917464683585,30446.36029746368,15415.554198825805,25153.00603208828,8676.594347734012,16106.447615597059,23427.49205229756,48560.48521147611,110055.33867483558,31762.492373340094,35434.345088875496,10385.247038379683,52468.229228738564,15274.657370948342,3170.3608295375857,19848.563856032568,12317.684326035545,11193.387770778774,10802.87894285957,16726.232361743387,12585.201901372435,20324.057980705118,10199.644031744036,29268.734140861874,47916.7929195408,52943.029792614805,21479.863984422343,25606.664493048727,57973.94046845193,11839.847627865429,14361.762876495006,11382.754674579857,39618.43947549209,20999.867442611256,4066.2069998360557,27396.39962779774,12989.567353973682,911.6049308812238,26041.776352178975,19035.60172547108,25950.749733193647,13886.469613026338,19744.888555330628,16632.005514172684,16139.868382053734,23552.899651615695,37849.013110604625,16765.468036226182,41196.236029636464,15260.122595960589,6874.833959330208,8778.35467304505,10635.3477930199,19182.444475697852,31583.02731760916,9536.465935322572,26109.793223594046,8489.386601256172,16200.954008094117,65544.79273792639,21309.45963603006,18447.471285884996,10617.5128258725,22907.686371217875,165385.83825832486,15204.023306719802,99063.56887072613,5799.4658942132955,17319.26389471645,7777.749001175132,18914.371733871958,23104.129044117682,17179.569416158054,30050.07844304028,17650.950833874147,8951.887551728616,25390.499907082314,11699.530751466595,32395.2256799241,58613.72162613692,15118.651387403563,23325.339448183688,13523.013835277925,34074.23887880886,35914.59372882904,42914.65501245493,3243.581944289007,8576.412211883176,31765.46841749226,9029.228604760621,11731.859306374488,9410.449789986076,23977.366396437166,24704.61868667349,58410.01395906686,11544.970380927207,11720.558193770401,15903.951883715536,22423.600888248733,47571.24660504209,24990.0351106173,21017.86134446598,8385.783676421754,19841.43553096611,16393.801808731594,16101.955912283403,13922.442373958642,10468.542677576168,19023.143470242903,34145.44646762256,8437.90616942275,3640.914237245087,19228.533246203468,26478.395132557496,13460.126867150073,33714.272305895356,6138.743713335711,25704.514908844485,7940.214554065103,15037.550020322251,29054.048883132175,10039.940253637487,62778.73218826887,43435.89815735964,32875.94970322697,27247.215539159857,18170.340103619335,18591.87854921133,18165.86572335574,13608.473240069425,17964.539102250677,23443.34067973267,17628.744159499096,7122.714846243145,51492.086744198066,19876.53653064895,50041.47561709597,31332.85539674366,40548.11363241182,18077.866684993547,16538.827062502554,75334.2016554297,70365.53329475639,15168.182054399997,16937.283534599417,29211.48599470997,13190.575678979312,20954.652919677916,31332.542674896264,30559.163132598384,30189.34490432286,33455.969416160035,20891.91635367171,11919.31726108103,7478.138442684424,10982.171196162639,49763.76099387261,3544.7909291861642,2884.098512596631,42831.28858974712,28251.828183488113,21675.143346433353,30252.21089823205,7163.688245583478,21003.725364866637,65776.03323242987,41709.07101365845,98977.34636264542,50068.65351672002,11173.95940169508,28668.067170857787,20519.660620152124,52883.645121497466,6116.01727370222,12531.054624018809,11289.041142569718,18556.920571237948,31241.90478956036,13994.40660893423,28198.730749748393,17304.206020305053,18097.829668270897,2866.119234512199,25596.96786388804,29146.27549207679,13223.36749125754,17518.876605988098,31551.14909233982,14950.550747328041,30358.157444216376,23530.19157731359,11195.455316845326,23352.70462758211,23137.545388813804,44539.36702860797,24376.01513764001,17922.557959794183,20789.576043058452,19007.71702973061,12919.19524968247,8817.762053105247,18947.221300319037,29354.151755797957,4867.943283479737,18058.6665728452,24920.002713283924,27017.091340080697,35136.96630763902,112585.132887013,9963.990007114546,2624.8429541212117,30458.084339214307,15392.788547443983,19597.663167505438,39579.51881362958,30887.800231580808,79468.1793910634,33498.03054035306,42383.60200987189,18099.114752056084,21447.881618126863,24420.403611756214,17830.283648949604,12775.048135958963,15394.04090635794,8944.038931511011,33827.030426305195,7420.553675665221,10772.66257679889,22303.25033190158,45641.29741164034,7216.529906986871,29843.07856492038,7732.478066046604,30370.525224234014,3006.3940137941386,26723.36180755362,26842.76546407958,2754.0819816758317,29376.128014698752,26331.365324553575,26886.01242006597,7225.854739715896,27215.354092514594,7424.092467200543,5320.958349618712,9640.352477648054,5546.035797802776,14662.559608822548,13644.73956627294,5952.16876096896,29686.27166663878,8801.098608269043,51091.9146965406,33000.14078872337,8186.9775935780735,25718.117797817846,10325.39021561687,8352.378462412877,22950.11298194946,49425.778343809005,6333.203090060484,14618.743632230005,38023.10750224361,31912.635826147845,49761.84834622052,9445.40789020984,30786.46380428411,17364.407521215042,6125.093705860723,27556.63054728203,13922.8953205182,15093.845598106822,10707.65790403883,6163.855639116839,6002.41864119808,39354.89512188233,18488.863098598813,15085.016991334054,16875.890601875046,21448.828935226724,19050.06916530492,13420.16276731298,9883.810679096692,46377.205430105576,35181.586728857175,39975.83646226512,28240.10156253382,11037.796560954843,43274.780568327005,29135.560595554278,17157.096116991255,18093.505957839683,13279.735671712613,7140.172214244247,15580.759045193732,30293.707405183297,15838.869712919346,18799.33930648858,16642.109364318683,16643.09304426407,24336.827781417494,13701.126811751827,17648.768709819073,29015.60218375853,34713.63839546007,25445.295631067493,31717.37532139675,30947.076174739963,31779.35691026871,60351.754928609094,10452.722593649692,13207.525398607822,20819.93996898336,28453.569180507453,28699.365615980372,5709.209022893492,27271.107845827704,62450.330843298,51300.5550258544,45731.329077892864,14862.803415058625,5624.072784278402],\"coloraxis\":\"coloraxis\",\"symbol\":\"circle\"},\"mode\":\"markers\",\"name\":\"\",\"scene\":\"scene\",\"showlegend\":false,\"x\":[551.1131859871082,2707.0646130489295,1888.1403677584103,3744.006969546094,2947.3133862009204,442.59833059920516,3570.232919692814,5109.909528513773,2948.470615100847,9496.622726841204,8582.86860637766,2852.7817941834287,1754.0116051632479,8714.498251024503,3836.4839905054578,2169.7909345228077,5179.086463201924,921.5364974938061,4586.959771438416,6194.7109750047985,852.1443985257022,1734.7791756131376,3503.4281145788677,1254.8954861046145,5760.323655259821,3290.290395488019,2137.8541548621442,1551.9729084296657,10367.282250409255,553.2412520260352,6580.752141140537,636.2889460930317,783.6505501283345,3599.8939863978844,828.7263513422454,6277.5172119397075,1230.7292054161887,4365.646158623729,5079.0809629903915,398.6622696840942,2797.4954163027173,2878.5272125375323,7742.849259010109,13794.380818459815,4508.718518082438,6040.6115210838625,10667.33849512164,16427.84976367314,5224.010030220671,12399.745578244832,1674.949170629337,3456.929156727838,1085.0765627002768,3992.947635582657,221.08035383181908,2145.4056221329183,6484.568886197287,3050.8764823546894,151.26087779748374,3468.180210500169,4426.258390103625,27381.478915593543,2666.181593124158,6971.310567244461,2669.35061837975,26164.040062713182,5255.693094365364,6809.633554688294,695.0034813548749,612.3095757054028,3328.116005197457,16910.46182053332,1358.6989730279608,5333.636730183666,4559.488726276605,429.49560172777416,5163.462028347604,16160.929311581089,1093.0183997720706,1383.3803575620138,1807.7969701310815,6720.049289817263,3798.33689392511,277.0464196450437,1923.684651964549,50523.962555885955,13466.653924630096,3578.81270731517,4963.896585246649,2051.1063136006032,1318.923853810529,2107.4264174948344,11886.99670939711,7844.499392165522,2553.3426348093103,3640.6792543598485,5246.161445612649,527.2941554568991,763.070180636268,1319.1466678778243,6029.764689676576,7822.176218538052,3306.196095453007,7246.032570322481,1384.2207515757596,2236.2870623619574,5318.014323210088,6678.485773969978,1230.1230432088994,14811.286874959864,537.8242900429134,8054.192600252497,1821.6991556534,339.0054415856985,885.2800175112967,2173.503851039696,1274.1134931175843,2411.62599460947,1325.0610252566796,1074.4332873026578,1974.081239781004,96.10367644241985,40.43063920054665,1514.2027190213207,1125.2744491853355,4580.099973802549,1490.777916166409,4142.928242782262,1537.7530532082847,670.2378209506077,474.27690649387364,64.1094372222286,438.05725924779597,151.65926479654178,625.864475370881,1430.8054707021436,2065.53222734403,2485.4837171900103,1297.6586602905616,51.0493932994793,3457.6472262186157,4008.1528030351533,2048.4060408008318,1595.5220331199428,1105.8876994568495,22898.668817709724,632.2113540696108,327.78009012998774,836.9361412955748,590.3670674995661,23.74266102875076,44.1727057749985,1724.9891147855412,2924.077668872942,73.32048135915085,10132.769921233246,9183.566201150568,1325.714831732041,4441.19619419794,7937.338876773385,8608.327604856207,329.97318166907496,2006.0801917440285,13846.116968428894,3335.6980272232527,9827.566474045416,3928.4032569246688,938.0905291770371,344.80203524036204,1707.520553171622,6581.785789790339,2587.801037854604,2454.2309292562727,12233.538414711453,4202.294095165798,5414.937492991262,1422.2328643587307,320.2666991703105,82.34145590802467,374.36591323721933,3597.199251601108,1746.3912416646858,4113.559994510984,247.52416952678516,3344.5784163405183,2313.0967625966064,1110.8756329008008,5130.2652200888015,5767.960834647376,3276.2732678015645,681.3994723748043,592.3855029887839,950.3000013573807,14861.729152245904,1767.3760285156845,2672.020983243271,3287.103470369956,4856.088987446109,4739.321170089197,220.18927898421734,12596.48908186996,13115.246065941228,1761.9666628212685,1524.331239275786,4017.920440747883,13161.95502189982,294.36717702125424,3033.323364029192,3137.3500960721753,6865.54822608782,238.91364038612252,17888.739059679185,1133.4999016968195,2259.7934784877193,5886.802307935817,7142.526821657674,20806.632283898085,708.6668619061412,8692.12749381376,1302.8996640856249,432.92489068089156,4476.345237970722,3289.1775691925827,4151.079616672668,743.2889298791912,1276.9105969166822,3881.7369613141186,473.72091263449374,304.6951141363455,1830.6613773328393,2893.684733563538,2287.870522833222,1215.3736703269021,242.66332630605396,2025.541125317375,864.9320773848533,2218.955534650101,1249.3212396752715,171.84213955831464,918.5706295424089,5587.600022820083,514.9703772179305,2125.4497102654377,1922.1075576952449,4695.539765000942,7977.5950939303,201.12706192907925,124.2325160820227,1372.3916110326236,833.6682942738465,681.7042006877006,16401.425978049985,4402.577294138825,8413.933761465598,4967.38588175274,367.76605856075616,1251.2003724930698,1330.9753324882545,1568.7873795789208,1771.9548967882388,1143.74703114603,1579.3442300304905,127.09552103465528,5771.577888356114,7403.87096830214,856.5844431596704,13364.422884225947,1492.0905812000544,11611.773419917461,731.0343842096768,1346.482654061433,1198.0385569911984,1288.5756030998332,837.1486706708234,734.0517503142137,493.975620515354,3540.94669025492,3733.027416826818,1724.3348753240066,4162.404976056301,538.9338889243688,1045.7616475531051,669.4614863992879,1061.2344156267316,7013.413940914737,1106.6227140766446,100.8242622987786,2509.0196053048808,242.5090882814663,1274.7290719315606,1008.3348717488893,1213.2079015010377,2673.7547532342596,4308.5228582160225,3560.4299540865145,3023.158062244858,2172.808731523893,3983.0158330099725,5618.020760534179,1252.6407074359008,1359.7451305527857,9740.88581251968,5111.224833851597,9290.676286619699,16322.788955152704,537.8723475178914,10885.599541280086,584.0237389647882,1702.795734216848,422.8237151165164,3839.0577027727218,4942.841131329962,13809.594961498082,2098.1040079150694,5159.393566826166,1869.1286941724345,1390.3167656732146,3516.671913180976,1453.7084621560962,944.9576370152936,53.71190689916027,3445.204505698981,2511.6215405392686,8561.760111873535,445.58070999016604,15210.77577216655,951.0048269513048,951.7286750435347,2718.1265877416304,3932.286042102213,3632.065640778382,13754.779415994844,957.1054576301376,51697.845143207815,3752.510657639461,4327.027598459072,162.64743455437372,2942.3906944771547,9219.45513332062,5859.935994273096,5805.089414327909,6167.713525213476,1842.8303297087386,17971.007693350253,1211.5315993944969,5440.251718155646,9478.521126313999,5697.713313770307,561.1670316520995,9156.928422632998,1315.9718634374976,13166.077647627984,831.6719779381652,13964.256035761216,923.9461631083456,1300.2935737407443,119.31999223190428,17448.304002057597,7090.432518942654,1343.7984588194684,118.00176545874655,463.7650452554449,1188.8330842124146,2925.229197379697,925.9169201748276,3465.17332969463,48.78810017211669,157.51707293753446,849.3280403988969,368.256464491031,563.8136552036214,1648.876763647993,632.9816896604327,2415.25938213628,245.1654642373354,69.15666024724514,7679.92278155973,933.1069235102658,265.6518503484388,5571.091362628255,951.5394948095195,477.2124095229624,2077.483099258008,2952.2565111577155,1371.433551776506,936.6327259598444,818.1381339408169,166.9812042913638,481.5804774601924,659.3805491097819,1613.685957694573,522.288838402837,851.1292703458886,594.5026465119655,1945.9204825338993,610.7082239218748,1692.2791373516347,1404.157069217146,712.9644600788461,421.5760967553235,1182.9927144583994,2214.4091800150204,539.9103243007982,3138.819226746749,610.4474707380037,590.1757387613834,2683.471188059347,8754.418201858309,3191.24283084184,3218.8006708619273,2644.087980956393,1200.7861217463894,8187.821555600337,6837.409544752676,2813.0588729171704,3818.479876606825,3097.0088785320922,5945.343905298367,10644.76208236591,421.6936339824048,7778.453267186675,4306.765592727901,1726.0844696378945,1334.1143750878143,7891.6597081811615,3985.4267866987666,6873.874988664229,2160.0876794766846,1225.9924630153207,1626.0193064975172,11158.554695593002,4110.4626282623785,2406.0985210051226,206.45003462019494,3867.9774214219246,8491.008999134314,749.7066664651484,15868.747430578182,571.5268534125933,1038.202212828331],\"y\":[8147.105698592126,5086.938208887651,4450.006857941887,7026.99647660266,12871.111943523378,6069.560672905462,7255.513050339594,4967.32775697408,3890.802787356582,5235.691730261415,2684.061129137092,7408.931013097671,18997.382628137926,12716.960086212743,14930.500960410049,5877.87495891766,2009.5059645777778,3819.144081601353,11083.55202972851,4961.705601903668,10125.441670715942,2933.5290732665408,16658.144109380533,18285.92692862872,13737.053950988304,9604.75831982833,5373.539828802902,7990.487028583058,5412.202711396613,23715.634512357254,11127.271659662207,1791.8564966190647,12052.701619983189,16511.791052874698,1082.898396256754,1428.8488726272328,16868.831120939733,9732.328585015066,4816.927691310873,29841.85414738533,12914.839430674556,10890.511444643285,7429.938232411787,2646.741928549806,6440.866026751537,5806.108883489019,4041.9731710928095,31429.13332709784,7396.242963688076,6078.1017664579595,3291.430459671271,2563.059090172513,22831.902301132377,1770.1928073419872,14923.229220705614,3385.891394325326,6114.236989743758,4408.985748864366,7722.579785716376,4265.441596058146,5401.728819168808,26098.989107107045,4816.834641688298,6786.878053958462,2568.375610329094,4553.767395842403,565.1246579250849,12120.50369213886,1666.4809861026094,4797.521690072278,8541.014101318347,10878.261893690491,2223.9650535015858,11107.8914489909,5471.452285292597,10829.820301092912,427.0864575266436,9356.853674100379,5908.537706527571,1310.0746444951178,4031.7155734540374,1757.8936458204234,7016.872086306074,11414.181989741355,6933.615882076078,18141.107909855837,20462.736683838197,23942.288005890317,3727.181752852527,13916.330780784785,6073.733219004526,6576.987777690493,8951.450791615249,3496.545112152578,4748.956343793764,583.6669901855137,707.6913852747957,210.15894254449287,252.45616921918906,5069.841279281855,7416.872987062758,2516.548075532715,2375.771934809699,29828.700609254174,7955.032591707235,8741.48868782662,1954.4321274168524,6364.297871535754,1932.967500646852,3849.4751899013436,6483.121576047966,8772.137155211223,9989.90352467536,7885.188895728158,9823.94173582215,6079.017979377033,6370.607198692156,4314.353084036479,10763.12790612456,4486.493147832375,9449.337296571086,2341.9811828724,6514.901542377651,7325.569051296996,19549.50736168125,40833.95516741863,10015.259386992162,12871.866451069855,1030.5830624405282,23083.453109745133,3590.501635254433,1183.07345014689,8392.375379637146,5265.871261911083,4252.362389107674,3595.9015689893636,3260.3011654147313,2797.275597219674,8023.790024628683,3480.5894606364873,10205.00606073509,17947.65238138411,21021.06529795694,5136.301898506816,10678.512928883427,14808.496841758517,4446.7635638012225,5348.592409514455,2957.287591205403,17490.43181145839,9028.537469109331,1055.2461111153953,10311.711361044825,2732.1233130200867,345.3717247559128,3128.137380465361,3397.2674499165523,9656.867225777352,2605.7199583414654,1686.155334817041,1946.424392037872,6744.790116429768,8439.309134879148,5739.1904220176775,3776.929800254101,10377.71199406162,3654.7085163002102,2022.7728525438388,3154.756536697483,2931.8692819017315,1576.9167771529978,3399.7930626609523,1341.9251573775164,2032.9558814489674,353.58114040469985,2642.175451157356,25210.16113997799,7685.765501252371,6783.978659421072,1888.0827317038697,7739.099523409336,63235.498535866034,1684.5173324575387,21773.82232210605,532.5769280475237,4868.502393019986,1432.613709605085,2040.8620356112613,5483.353521922732,2089.2736667899812,9232.273822524316,7457.023204761132,3212.805216777881,1529.7383345014034,4067.6403363131826,9335.022812071678,15957.568491945287,2442.471457028303,6653.96454967178,5543.117044262496,3825.994972914804,4824.470780404839,14825.428824897079,467.7015169870819,1335.3577459340183,2919.070766819989,3519.725649869108,1889.9517472985688,1340.01819840958,5021.240889313422,10205.905941620496,10946.204876172316,4070.581161974726,2655.6768402489306,2439.0453741380675,3243.4112732255103,4948.448289381239,9861.576173391337,1440.0623936362226,2178.3684979144255,8047.554500173311,4200.421493501829,2359.5658715861846,1559.6776988277566,4042.162821515232,7375.30046300966,12224.011577023473,2281.740023395291,1018.5253810465271,4501.137931537906,6147.212345254051,2271.520431674673,14476.542103384678,1058.5512318138076,8590.321389352672,1596.875432763848,4757.713253739731,10140.321076608301,3991.5825990781996,25873.865123670836,11771.56731896985,13695.286904445577,9838.967978534998,6668.39640149485,4577.523420954793,3001.2714739743074,4997.6802852140545,7273.922744576472,9078.14551986686,4270.59160006086,1863.0251139599093,6707.680620187021,3381.369393121115,17744.137572560354,7030.622272304808,17081.649833008327,6740.43546537646,4457.886734273775,30519.69509806671,29595.838718440828,5519.292451766739,3847.459474397247,12807.572895819678,1292.995755097568,2317.2654289039383,5119.630883292723,2269.6508489613225,11299.767433812847,8266.33226347794,8166.419526148576,2238.1212481899174,1548.6356028163525,1341.0767560180152,19994.339923803287,675.2752654859921,442.88919220941426,15551.160006558057,3574.341948426703,6210.709547678331,10451.557971989097,2136.3424041628546,7543.534132542408,26811.14570996509,13569.791781960921,37956.88300848253,22122.964921000974,4017.769976288102,7985.911473882941,8917.351217518331,23254.641454559696,1771.5982423848068,3539.9869133257193,1730.4858484592496,3776.0356650124636,12080.004108549938,4573.839330145392,10467.624090837731,4971.069622323905,4583.484933586009,416.5180021038407,9797.544817018133,5061.448388206019,2573.3256160434744,2515.6927519074143,2150.3899920309627,1673.4596619841864,5738.082757202407,9714.146537738352,4038.8883480446543,2909.796975241553,3007.7914861644995,16583.209835220616,2522.3937716999567,5167.867261188212,6269.291366592736,2714.594309384819,3898.7459479908266,1185.0919394331893,6687.96062704321,8372.101561275977,1367.296518770385,5223.718514188978,8593.644461195792,7981.590081268058,14401.104004154528,14746.205803826359,2321.4770667896523,434.61082348061234,8934.507078127404,2740.512530806757,5482.49997008731,8868.641365494954,12329.919233600469,9135.6817180781,8405.521095293567,15862.420255885787,7764.611799334753,4654.759663156187,906.9356118711,1011.7384113142106,1092.5619617191935,2355.7351365543054,945.1332390418062,2962.105944963518,1667.949278088996,1337.7374466173019,2791.3103668225867,16021.335929197905,2072.149759607652,5542.416224172813,1974.7645640822711,2689.4210573441073,443.622507980464,1845.268060291097,7864.848321533932,264.1744514355167,12115.604663026183,1459.2242120299238,1533.1507898858981,1020.4873200180591,10897.121137729504,2578.0970653254785,1388.652729024983,2856.5291907419855,1493.9505722066358,3410.7995955568003,5394.470758360857,1874.9397542291197,12241.589071768425,3360.0525505191763,22138.058371890966,10521.815006285437,2456.07810649137,9054.20041541382,3613.225927364744,3322.7476482243087,2755.820692936588,21478.838697168536,2122.231205310003,3252.2735211038266,15273.127142219691,9300.688321050762,19689.821459083956,965.1568824436597,8254.4170986658,6291.386867344414,961.4236741748391,11486.23226905471,5329.066144615992,5065.827290221145,1525.933946183271,1733.1502242737615,789.9506514026293,12922.387980014599,6890.461036629904,5165.263010197794,3792.2680715912743,5916.5265322185205,5888.264997378599,5204.536723814405,2261.9151327413933,14017.775371217092,15150.444324370048,15140.595976478342,10066.542772002118,3729.664713415291,13529.13142096123,5960.7550088397775,5067.12363885843,5212.679140517425,3944.532770570022,1496.7564013576355,1092.9622058069178,1963.2547205569663,3130.5090918794585,5146.649342525919,3887.153454864287,3854.215193819317,2179.152835517471,5223.967911537359,3663.58014806992,10161.267059774993,14685.216485490293,10070.451932977043,10158.426343806217,5147.428233956875,8527.602848626027,17305.875997754192,2262.3479560403607,5049.467799413035,2985.271478670849,4245.174537151508,11871.534709736,1303.8576121114113,9869.312968523976,17016.50145633242,21155.82421529118,10997.426570891103,5818.3054572780475,1806.3699121136162],\"z\":[5131.161064099218,1804.4186976183564,1815.3479952033554,7730.36880291856,11944.338131433344,3761.008967039438,5851.6219377754915,2821.4362365813868,2295.1068131576385,65.1016111931457,220.63306666086962,7110.982198632076,15327.023250542847,10087.38851334343,11618.371459626114,5404.314861700181,1996.592216014813,2275.278570712917,8989.579700075306,3187.283727330858,9117.658884529952,3238.181006762898,18349.532479069727,8115.50977962501,10504.381704988326,7943.852846147889,5616.968451109106,7873.529483962366,3300.579248901446,24496.623617978425,9289.182320151824,760.8756744470573,12053.325609571348,16377.215910351519,380.81456520893636,1517.441362218375,16309.331301682452,6095.2421193480795,1445.9459520541545,33411.702734954815,13776.137832980441,10229.996869394756,3579.6276556032003,3773.504268317002,3497.2975072566596,2368.438685291631,2460.6660688634206,12632.400828460286,4657.698669076827,3194.882397374119,3665.9027506411217,614.0442441094185,22435.3375055164,2416.5964101260547,15665.976866472003,2080.7294308132628,4627.657050865388,554.1421524046517,7578.331243741498,1914.128511919505,3689.9003232058435,9099.787241275752,3350.2086730307965,2345.1055831495582,2620.4592839834236,7975.832367650022,1004.2223795530571,9221.376411621117,545.6298493144616,4368.404091529364,10159.874628422609,8699.084515011362,2461.4767649608825,10665.220072646633,2892.1530630897432,12116.330390341995,18.57033297660855,2213.7655386688925,6062.740236234233,169.73258408706144,3656.0307627810284,2797.8845836542787,3538.4814087260143,11915.703488411787,5991.092350530886,7360.086594421685,833.7717366566668,24116.672792688976,5069.7918606061285,13652.633976221732,6696.557149715373,7631.47736650458,1814.7565605641068,9589.320876991645,268.2999200308773,1055.822084787296,1233.3370181041623,212.25395482676313,285.540079596415,5666.451626557476,4607.9339559403925,2350.9139263097068,194.1658775546227,32919.4356273394,7624.2708935032015,8546.899413282932,1229.5682016385726,2188.9539587187965,1070.3108638545514,4699.764170802125,6662.523189115864,3843.9628113177846,11298.559051949715,8181.480962509836,10348.356321425214,6297.496817742022,5900.897536601331,3073.635118280038,11647.545806915594,4621.294918135742,9651.098628847134,1947.6420681492968,7228.981798726077,4174.309639151273,20828.75162009966,44636.47960768421,11552.792097563433,10310.806712917905,1610.6481022552748,24392.643743190914,4380.057906981649,1133.6107390391878,8128.171053638908,5224.836825422205,3845.2921049919237,3304.189705053642,1148.7231319763052,219.80681977560283,6690.318803405565,2118.192820600379,9032.777494934473,15132.885516877748,19831.45479681457,6568.161047667287,10165.532222645665,7774.982361805689,4079.608277451526,4681.0451298965745,3716.9161706508794,18123.80669955228,9030.932915802827,97.60684036733156,10691.187268385293,480.55996975571674,345.36305104805183,2493.9995714573192,130.84721595107274,10185.45028357644,246.41601937443556,2468.938403252402,836.5168860341297,7208.651501580392,8365.204672097603,1754.9219501111818,1254.1665245119461,5513.338971481932,922.6796211429572,916.8783189484658,3318.133504853451,3052.045026972467,2454.0236029704597,5741.021007797235,920.3314068681037,2871.016321724133,312.2893666206387,1070.3045582142802,25493.296055710427,6014.290739265545,4925.543126661651,1318.1790859244293,5354.901478058527,60443.831606137785,1937.5971360162428,16609.323465194633,447.3377505959275,3898.257067689398,1942.0869461220536,156.55789530745506,2566.882913579379,2427.8171080891734,9459.625759628001,7793.343053846438,2791.6911427621812,2502.5375829289164,3732.025497336401,9379.114397714566,18138.371623568557,637.7030607895952,6088.721051741452,5094.534324756985,2246.528774245806,1807.94092931742,12429.145118465125,47.16519441232825,583.0266572536772,3525.813041272732,3567.7441306894457,432.1594721401031,92.93667249030518,370.38526691237655,10518.120082053709,918.3244651215731,3988.8588016277436,354.15377370836376,723.729537235346,1485.6899601791001,4893.767952751132,10283.228114235892,2597.604124389748,2446.949078028194,8452.875367407754,885.3563236867491,3242.0801764034345,1271.1201634554084,4037.8651307664686,6490.605967447281,10361.115821640666,2092.2589399900053,1037.0296707656285,5067.300562297828,5811.949610756519,464.5307489276477,14430.258632053214,429.7915064889012,8679.331162527666,44.35314419927644,4796.8832095445205,10693.647462336925,4250.126044257743,27281.72265829028,12724.440008845551,14143.794580935246,10543.088097330665,5475.69358614044,1409.7055938416186,609.2385150447889,4787.731912109862,7976.519105681342,8104.801858216242,4550.421992695856,1545.6287375876523,2751.4934841271165,3865.252206661103,14147.058497123418,3368.6548365066405,18422.750454595745,5172.606495791634,4953.375444569436,32270.277474002145,29619.012074516515,4412.336475840556,4993.688899957544,13193.651710761676,818.1016207192638,2459.9712715449305,422.6408097193424,3263.7003032614434,12065.986144273713,3683.5396245886864,8920.75586008339,3060.5835740995085,424.4292031432855,1606.576577841424,21228.777068854102,148.38670778677147,225.88390140887074,15334.078464304768,6846.710182782668,6778.634352265387,8236.510731122737,1368.5267812434959,5490.614432695555,28012.711098462023,15271.693584394692,38850.53877654705,22944.145281819605,3849.824272812031,9167.005749681673,9281.343602589792,24838.34281898229,1019.9308755343386,2910.5722856716898,1130.6868666835767,563.1482483186347,11414.872204216075,3595.1827748266865,10793.655865156423,3615.888841329644,2267.3979277703966,66.5120678585126,8013.591327786345,904.2930645392221,124.78382782328421,479.98263208825773,3616.1604405315547,2624.2069734082474,275.9127612368351,9503.713710832935,3616.4342496854447,3800.8683081562394,4928.018392754016,16250.5642833375,1250.9709787559157,5742.975252780785,5216.103266569805,2554.180241687645,3972.8759600168455,325.44341428958217,6278.056807553775,197.5039291782845,295.0208592757608,4753.592392869871,9128.18781329941,6441.440295225163,14507.350054020502,21474.095923127185,2537.282167361716,46.151478453375724,9950.42115046841,2791.324448140152,5234.647499202618,1548.9258415205998,12536.950102921357,3046.3314112186868,10537.071440402675,13666.746806946343,7796.21312047668,5802.772227979403,845.6365354423552,1780.241329644886,1374.2585258137726,634.7586009551432,1298.434257103057,2736.9100528584127,1637.1566949394603,546.946123628105,807.558254490511,13773.944639478126,1560.3273086587976,685.9882771379906,1852.9213045793063,2998.1985164310618,112.4312314050441,3121.224450877507,7452.823447399804,188.2491071845502,13432.408489306523,2564.2383967455507,1818.844383116004,590.1644139212208,11076.685734421351,2687.7011335354796,788.2025397811296,2073.8045849539308,1338.947309224898,1124.454427506817,5158.364783433921,1980.018165498201,12719.04757965665,3589.9235496909264,22015.665154916598,12025.405563185685,1609.5373481525714,7176.375240942514,3319.100580640186,3108.940784658755,318.82303597158375,21832.919745845204,1210.6293432328482,477.9904470373338,16408.884746860058,10499.575075042996,18222.836699542415,906.2224414584629,1711.1507803089569,6703.788164945517,66.2364250448125,11874.22679929045,5594.85553665184,5378.660017924971,2208.3461626944213,975.3805012280742,630.9305152613193,13203.013167218873,6843.997690690104,5542.467804529035,130.9812975225037,7008.30897076415,6985.281076216756,5551.8660488446885,2687.849585402206,16498.295287803125,14150.061464119895,12739.052077556444,9880.010508658617,3927.596399227006,14282.312897601572,665.6783708300129,3696.1365489586096,4101.101929232551,3188.666888630793,558.0977794934491,1804.0350113649672,3351.252652866354,3398.420277643252,2911.6038923431047,148.22400677468298,970.9886976876596,2862.794563913591,4406.291357455461,380.920301583692,8303.834340960277,14726.995782325628,9243.653176364509,8181.334354000966,7506.454552566752,5023.747789893866,16536.210548877625,593.6425955509535,4346.971759925362,549.5469731488901,5008.5182519225855,11575.65497026901,679.4836650933723,8325.07777087147,15100.21744304659,22909.214067202724,2923.0191508379353,5539.249049603265,1101.1750385145824],\"type\":\"scatter3d\"}],                        {\"template\":{\"data\":{\"histogram2dcontour\":[{\"type\":\"histogram2dcontour\",\"colorbar\":{\"outlinewidth\":0,\"ticks\":\"\"},\"colorscale\":[[0.0,\"#0d0887\"],[0.1111111111111111,\"#46039f\"],[0.2222222222222222,\"#7201a8\"],[0.3333333333333333,\"#9c179e\"],[0.4444444444444444,\"#bd3786\"],[0.5555555555555556,\"#d8576b\"],[0.6666666666666666,\"#ed7953\"],[0.7777777777777778,\"#fb9f3a\"],[0.8888888888888888,\"#fdca26\"],[1.0,\"#f0f921\"]]}],\"choropleth\":[{\"type\":\"choropleth\",\"colorbar\":{\"outlinewidth\":0,\"ticks\":\"\"}}],\"histogram2d\":[{\"type\":\"histogram2d\",\"colorbar\":{\"outlinewidth\":0,\"ticks\":\"\"},\"colorscale\":[[0.0,\"#0d0887\"],[0.1111111111111111,\"#46039f\"],[0.2222222222222222,\"#7201a8\"],[0.3333333333333333,\"#9c179e\"],[0.4444444444444444,\"#bd3786\"],[0.5555555555555556,\"#d8576b\"],[0.6666666666666666,\"#ed7953\"],[0.7777777777777778,\"#fb9f3a\"],[0.8888888888888888,\"#fdca26\"],[1.0,\"#f0f921\"]]}],\"heatmap\":[{\"type\":\"heatmap\",\"colorbar\":{\"outlinewidth\":0,\"ticks\":\"\"},\"colorscale\":[[0.0,\"#0d0887\"],[0.1111111111111111,\"#46039f\"],[0.2222222222222222,\"#7201a8\"],[0.3333333333333333,\"#9c179e\"],[0.4444444444444444,\"#bd3786\"],[0.5555555555555556,\"#d8576b\"],[0.6666666666666666,\"#ed7953\"],[0.7777777777777778,\"#fb9f3a\"],[0.8888888888888888,\"#fdca26\"],[1.0,\"#f0f921\"]]}],\"heatmapgl\":[{\"type\":\"heatmapgl\",\"colorbar\":{\"outlinewidth\":0,\"ticks\":\"\"},\"colorscale\":[[0.0,\"#0d0887\"],[0.1111111111111111,\"#46039f\"],[0.2222222222222222,\"#7201a8\"],[0.3333333333333333,\"#9c179e\"],[0.4444444444444444,\"#bd3786\"],[0.5555555555555556,\"#d8576b\"],[0.6666666666666666,\"#ed7953\"],[0.7777777777777778,\"#fb9f3a\"],[0.8888888888888888,\"#fdca26\"],[1.0,\"#f0f921\"]]}],\"contourcarpet\":[{\"type\":\"contourcarpet\",\"colorbar\":{\"outlinewidth\":0,\"ticks\":\"\"}}],\"contour\":[{\"type\":\"contour\",\"colorbar\":{\"outlinewidth\":0,\"ticks\":\"\"},\"colorscale\":[[0.0,\"#0d0887\"],[0.1111111111111111,\"#46039f\"],[0.2222222222222222,\"#7201a8\"],[0.3333333333333333,\"#9c179e\"],[0.4444444444444444,\"#bd3786\"],[0.5555555555555556,\"#d8576b\"],[0.6666666666666666,\"#ed7953\"],[0.7777777777777778,\"#fb9f3a\"],[0.8888888888888888,\"#fdca26\"],[1.0,\"#f0f921\"]]}],\"surface\":[{\"type\":\"surface\",\"colorbar\":{\"outlinewidth\":0,\"ticks\":\"\"},\"colorscale\":[[0.0,\"#0d0887\"],[0.1111111111111111,\"#46039f\"],[0.2222222222222222,\"#7201a8\"],[0.3333333333333333,\"#9c179e\"],[0.4444444444444444,\"#bd3786\"],[0.5555555555555556,\"#d8576b\"],[0.6666666666666666,\"#ed7953\"],[0.7777777777777778,\"#fb9f3a\"],[0.8888888888888888,\"#fdca26\"],[1.0,\"#f0f921\"]]}],\"mesh3d\":[{\"type\":\"mesh3d\",\"colorbar\":{\"outlinewidth\":0,\"ticks\":\"\"}}],\"scatter\":[{\"fillpattern\":{\"fillmode\":\"overlay\",\"size\":10,\"solidity\":0.2},\"type\":\"scatter\"}],\"parcoords\":[{\"type\":\"parcoords\",\"line\":{\"colorbar\":{\"outlinewidth\":0,\"ticks\":\"\"}}}],\"scatterpolargl\":[{\"type\":\"scatterpolargl\",\"marker\":{\"colorbar\":{\"outlinewidth\":0,\"ticks\":\"\"}}}],\"bar\":[{\"error_x\":{\"color\":\"#2a3f5f\"},\"error_y\":{\"color\":\"#2a3f5f\"},\"marker\":{\"line\":{\"color\":\"#E5ECF6\",\"width\":0.5},\"pattern\":{\"fillmode\":\"overlay\",\"size\":10,\"solidity\":0.2}},\"type\":\"bar\"}],\"scattergeo\":[{\"type\":\"scattergeo\",\"marker\":{\"colorbar\":{\"outlinewidth\":0,\"ticks\":\"\"}}}],\"scatterpolar\":[{\"type\":\"scatterpolar\",\"marker\":{\"colorbar\":{\"outlinewidth\":0,\"ticks\":\"\"}}}],\"histogram\":[{\"marker\":{\"pattern\":{\"fillmode\":\"overlay\",\"size\":10,\"solidity\":0.2}},\"type\":\"histogram\"}],\"scattergl\":[{\"type\":\"scattergl\",\"marker\":{\"colorbar\":{\"outlinewidth\":0,\"ticks\":\"\"}}}],\"scatter3d\":[{\"type\":\"scatter3d\",\"line\":{\"colorbar\":{\"outlinewidth\":0,\"ticks\":\"\"}},\"marker\":{\"colorbar\":{\"outlinewidth\":0,\"ticks\":\"\"}}}],\"scattermapbox\":[{\"type\":\"scattermapbox\",\"marker\":{\"colorbar\":{\"outlinewidth\":0,\"ticks\":\"\"}}}],\"scatterternary\":[{\"type\":\"scatterternary\",\"marker\":{\"colorbar\":{\"outlinewidth\":0,\"ticks\":\"\"}}}],\"scattercarpet\":[{\"type\":\"scattercarpet\",\"marker\":{\"colorbar\":{\"outlinewidth\":0,\"ticks\":\"\"}}}],\"carpet\":[{\"aaxis\":{\"endlinecolor\":\"#2a3f5f\",\"gridcolor\":\"white\",\"linecolor\":\"white\",\"minorgridcolor\":\"white\",\"startlinecolor\":\"#2a3f5f\"},\"baxis\":{\"endlinecolor\":\"#2a3f5f\",\"gridcolor\":\"white\",\"linecolor\":\"white\",\"minorgridcolor\":\"white\",\"startlinecolor\":\"#2a3f5f\"},\"type\":\"carpet\"}],\"table\":[{\"cells\":{\"fill\":{\"color\":\"#EBF0F8\"},\"line\":{\"color\":\"white\"}},\"header\":{\"fill\":{\"color\":\"#C8D4E3\"},\"line\":{\"color\":\"white\"}},\"type\":\"table\"}],\"barpolar\":[{\"marker\":{\"line\":{\"color\":\"#E5ECF6\",\"width\":0.5},\"pattern\":{\"fillmode\":\"overlay\",\"size\":10,\"solidity\":0.2}},\"type\":\"barpolar\"}],\"pie\":[{\"automargin\":true,\"type\":\"pie\"}]},\"layout\":{\"autotypenumbers\":\"strict\",\"colorway\":[\"#636efa\",\"#EF553B\",\"#00cc96\",\"#ab63fa\",\"#FFA15A\",\"#19d3f3\",\"#FF6692\",\"#B6E880\",\"#FF97FF\",\"#FECB52\"],\"font\":{\"color\":\"#2a3f5f\"},\"hovermode\":\"closest\",\"hoverlabel\":{\"align\":\"left\"},\"paper_bgcolor\":\"white\",\"plot_bgcolor\":\"#E5ECF6\",\"polar\":{\"bgcolor\":\"#E5ECF6\",\"angularaxis\":{\"gridcolor\":\"white\",\"linecolor\":\"white\",\"ticks\":\"\"},\"radialaxis\":{\"gridcolor\":\"white\",\"linecolor\":\"white\",\"ticks\":\"\"}},\"ternary\":{\"bgcolor\":\"#E5ECF6\",\"aaxis\":{\"gridcolor\":\"white\",\"linecolor\":\"white\",\"ticks\":\"\"},\"baxis\":{\"gridcolor\":\"white\",\"linecolor\":\"white\",\"ticks\":\"\"},\"caxis\":{\"gridcolor\":\"white\",\"linecolor\":\"white\",\"ticks\":\"\"}},\"coloraxis\":{\"colorbar\":{\"outlinewidth\":0,\"ticks\":\"\"}},\"colorscale\":{\"sequential\":[[0.0,\"#0d0887\"],[0.1111111111111111,\"#46039f\"],[0.2222222222222222,\"#7201a8\"],[0.3333333333333333,\"#9c179e\"],[0.4444444444444444,\"#bd3786\"],[0.5555555555555556,\"#d8576b\"],[0.6666666666666666,\"#ed7953\"],[0.7777777777777778,\"#fb9f3a\"],[0.8888888888888888,\"#fdca26\"],[1.0,\"#f0f921\"]],\"sequentialminus\":[[0.0,\"#0d0887\"],[0.1111111111111111,\"#46039f\"],[0.2222222222222222,\"#7201a8\"],[0.3333333333333333,\"#9c179e\"],[0.4444444444444444,\"#bd3786\"],[0.5555555555555556,\"#d8576b\"],[0.6666666666666666,\"#ed7953\"],[0.7777777777777778,\"#fb9f3a\"],[0.8888888888888888,\"#fdca26\"],[1.0,\"#f0f921\"]],\"diverging\":[[0,\"#8e0152\"],[0.1,\"#c51b7d\"],[0.2,\"#de77ae\"],[0.3,\"#f1b6da\"],[0.4,\"#fde0ef\"],[0.5,\"#f7f7f7\"],[0.6,\"#e6f5d0\"],[0.7,\"#b8e186\"],[0.8,\"#7fbc41\"],[0.9,\"#4d9221\"],[1,\"#276419\"]]},\"xaxis\":{\"gridcolor\":\"white\",\"linecolor\":\"white\",\"ticks\":\"\",\"title\":{\"standoff\":15},\"zerolinecolor\":\"white\",\"automargin\":true,\"zerolinewidth\":2},\"yaxis\":{\"gridcolor\":\"white\",\"linecolor\":\"white\",\"ticks\":\"\",\"title\":{\"standoff\":15},\"zerolinecolor\":\"white\",\"automargin\":true,\"zerolinewidth\":2},\"scene\":{\"xaxis\":{\"backgroundcolor\":\"#E5ECF6\",\"gridcolor\":\"white\",\"linecolor\":\"white\",\"showbackground\":true,\"ticks\":\"\",\"zerolinecolor\":\"white\",\"gridwidth\":2},\"yaxis\":{\"backgroundcolor\":\"#E5ECF6\",\"gridcolor\":\"white\",\"linecolor\":\"white\",\"showbackground\":true,\"ticks\":\"\",\"zerolinecolor\":\"white\",\"gridwidth\":2},\"zaxis\":{\"backgroundcolor\":\"#E5ECF6\",\"gridcolor\":\"white\",\"linecolor\":\"white\",\"showbackground\":true,\"ticks\":\"\",\"zerolinecolor\":\"white\",\"gridwidth\":2}},\"shapedefaults\":{\"line\":{\"color\":\"#2a3f5f\"}},\"annotationdefaults\":{\"arrowcolor\":\"#2a3f5f\",\"arrowhead\":0,\"arrowwidth\":1},\"geo\":{\"bgcolor\":\"white\",\"landcolor\":\"#E5ECF6\",\"subunitcolor\":\"white\",\"showland\":true,\"showlakes\":true,\"lakecolor\":\"white\"},\"title\":{\"x\":0.05},\"mapbox\":{\"style\":\"light\"}}},\"scene\":{\"domain\":{\"x\":[0.0,1.0],\"y\":[0.0,1.0]},\"xaxis\":{\"title\":{\"text\":\"PCA_1\"}},\"yaxis\":{\"title\":{\"text\":\"PCA_2\"}},\"zaxis\":{\"title\":{\"text\":\"PCA_3\"}}},\"coloraxis\":{\"colorbar\":{\"title\":{\"text\":\"PCA_Combined\"}},\"colorscale\":[[0.0,\"#0d0887\"],[0.1111111111111111,\"#46039f\"],[0.2222222222222222,\"#7201a8\"],[0.3333333333333333,\"#9c179e\"],[0.4444444444444444,\"#bd3786\"],[0.5555555555555556,\"#d8576b\"],[0.6666666666666666,\"#ed7953\"],[0.7777777777777778,\"#fb9f3a\"],[0.8888888888888888,\"#fdca26\"],[1.0,\"#f0f921\"]]},\"legend\":{\"tracegroupgap\":0},\"title\":{\"text\":\"Principal Component Analysis Wholesale Customer\"},\"height\":600,\"width\":800},                        {\"responsive\": true}                    ).then(function(){\n",
       "                            \n",
       "var gd = document.getElementById('3f23566f-2d38-4b6d-ad1c-2ac828f53d54');\n",
       "var x = new MutationObserver(function (mutations, observer) {{\n",
       "        var display = window.getComputedStyle(gd).display;\n",
       "        if (!display || display === 'none') {{\n",
       "            console.log([gd, 'removed!']);\n",
       "            Plotly.purge(gd);\n",
       "            observer.disconnect();\n",
       "        }}\n",
       "}});\n",
       "\n",
       "// Listen for the removal of the full notebook cells\n",
       "var notebookContainer = gd.closest('#notebook-container');\n",
       "if (notebookContainer) {{\n",
       "    x.observe(notebookContainer, {childList: true});\n",
       "}}\n",
       "\n",
       "// Listen for the clearing of the current output cell\n",
       "var outputEl = gd.closest('.output');\n",
       "if (outputEl) {{\n",
       "    x.observe(outputEl, {childList: true});\n",
       "}}\n",
       "\n",
       "                        })                };                });            </script>        </div>"
      ]
     },
     "metadata": {},
     "output_type": "display_data"
    }
   ],
   "source": [
    "px.scatter_3d(data_frame=New_Feature , x = 'PCA_1', y = 'PCA_2', z = 'PCA_3', color='PCA_Combined',\n",
    "                         title = 'Principal Component Analysis Wholesale Customer',width = 800, height = 600)"
   ]
  },
  {
   "cell_type": "code",
   "execution_count": 1440,
   "id": "31990e93-6bb6-4494-8dbf-ef69e57377db",
   "metadata": {},
   "outputs": [
    {
     "data": {
      "text/html": [
       "<div>\n",
       "<style scoped>\n",
       "    .dataframe tbody tr th:only-of-type {\n",
       "        vertical-align: middle;\n",
       "    }\n",
       "\n",
       "    .dataframe tbody tr th {\n",
       "        vertical-align: top;\n",
       "    }\n",
       "\n",
       "    .dataframe thead th {\n",
       "        text-align: right;\n",
       "    }\n",
       "</style>\n",
       "<table border=\"1\" class=\"dataframe\">\n",
       "  <thead>\n",
       "    <tr style=\"text-align: right;\">\n",
       "      <th></th>\n",
       "      <th>PCA_1</th>\n",
       "      <th>PCA_2</th>\n",
       "      <th>PCA_3</th>\n",
       "      <th>PCA_4</th>\n",
       "      <th>KEY</th>\n",
       "      <th>PCA_Combined</th>\n",
       "      <th>Channel</th>\n",
       "      <th>Region</th>\n",
       "      <th>Fresh</th>\n",
       "      <th>Milk</th>\n",
       "      <th>Grocery</th>\n",
       "      <th>Frozen</th>\n",
       "      <th>Detergents_Paper</th>\n",
       "      <th>Delicassen</th>\n",
       "    </tr>\n",
       "  </thead>\n",
       "  <tbody>\n",
       "    <tr>\n",
       "      <th>0</th>\n",
       "      <td>551.11</td>\n",
       "      <td>8147.11</td>\n",
       "      <td>5131.16</td>\n",
       "      <td>8064.28</td>\n",
       "      <td>0</td>\n",
       "      <td>21893.66</td>\n",
       "      <td>2</td>\n",
       "      <td>3</td>\n",
       "      <td>12669</td>\n",
       "      <td>9656</td>\n",
       "      <td>7561</td>\n",
       "      <td>214</td>\n",
       "      <td>2674</td>\n",
       "      <td>1338</td>\n",
       "    </tr>\n",
       "    <tr>\n",
       "      <th>1</th>\n",
       "      <td>2707.06</td>\n",
       "      <td>5086.94</td>\n",
       "      <td>1804.42</td>\n",
       "      <td>9419.09</td>\n",
       "      <td>1</td>\n",
       "      <td>19017.51</td>\n",
       "      <td>2</td>\n",
       "      <td>3</td>\n",
       "      <td>7057</td>\n",
       "      <td>9810</td>\n",
       "      <td>9568</td>\n",
       "      <td>1762</td>\n",
       "      <td>3293</td>\n",
       "      <td>1776</td>\n",
       "    </tr>\n",
       "    <tr>\n",
       "      <th>2</th>\n",
       "      <td>1888.14</td>\n",
       "      <td>4450.01</td>\n",
       "      <td>1815.35</td>\n",
       "      <td>8928.74</td>\n",
       "      <td>2</td>\n",
       "      <td>17082.23</td>\n",
       "      <td>2</td>\n",
       "      <td>3</td>\n",
       "      <td>6353</td>\n",
       "      <td>8808</td>\n",
       "      <td>7684</td>\n",
       "      <td>2405</td>\n",
       "      <td>3516</td>\n",
       "      <td>7844</td>\n",
       "    </tr>\n",
       "    <tr>\n",
       "      <th>3</th>\n",
       "      <td>3744.01</td>\n",
       "      <td>7027.00</td>\n",
       "      <td>7730.37</td>\n",
       "      <td>7085.72</td>\n",
       "      <td>3</td>\n",
       "      <td>25587.09</td>\n",
       "      <td>1</td>\n",
       "      <td>3</td>\n",
       "      <td>13265</td>\n",
       "      <td>1196</td>\n",
       "      <td>4221</td>\n",
       "      <td>6404</td>\n",
       "      <td>507</td>\n",
       "      <td>1788</td>\n",
       "    </tr>\n",
       "    <tr>\n",
       "      <th>4</th>\n",
       "      <td>2947.31</td>\n",
       "      <td>12871.11</td>\n",
       "      <td>11944.34</td>\n",
       "      <td>8758.06</td>\n",
       "      <td>4</td>\n",
       "      <td>36520.82</td>\n",
       "      <td>2</td>\n",
       "      <td>3</td>\n",
       "      <td>22615</td>\n",
       "      <td>5410</td>\n",
       "      <td>7198</td>\n",
       "      <td>3915</td>\n",
       "      <td>1777</td>\n",
       "      <td>5185</td>\n",
       "    </tr>\n",
       "  </tbody>\n",
       "</table>\n",
       "</div>"
      ],
      "text/plain": [
       "    PCA_1    PCA_2    PCA_3   PCA_4  KEY  PCA_Combined  Channel  Region  \\\n",
       "0  551.11  8147.11  5131.16 8064.28    0      21893.66        2       3   \n",
       "1 2707.06  5086.94  1804.42 9419.09    1      19017.51        2       3   \n",
       "2 1888.14  4450.01  1815.35 8928.74    2      17082.23        2       3   \n",
       "3 3744.01  7027.00  7730.37 7085.72    3      25587.09        1       3   \n",
       "4 2947.31 12871.11 11944.34 8758.06    4      36520.82        2       3   \n",
       "\n",
       "   Fresh  Milk  Grocery  Frozen  Detergents_Paper  Delicassen  \n",
       "0  12669  9656     7561     214              2674        1338  \n",
       "1   7057  9810     9568    1762              3293        1776  \n",
       "2   6353  8808     7684    2405              3516        7844  \n",
       "3  13265  1196     4221    6404               507        1788  \n",
       "4  22615  5410     7198    3915              1777        5185  "
      ]
     },
     "execution_count": 1440,
     "metadata": {},
     "output_type": "execute_result"
    }
   ],
   "source": [
    "# Merge on the 'ID' column\n",
    "merged_master_df = pd.merge(New_Feature, df, on='KEY', how='inner')\n",
    "merged_master_df.head()"
   ]
  },
  {
   "cell_type": "code",
   "execution_count": 1442,
   "id": "ab1e44b3-f57c-4aac-b2a8-afcfffff74d5",
   "metadata": {},
   "outputs": [],
   "source": [
    "New_Dataframe_Wholesale_Customer = merged_master_df.drop(labels = ['Fresh',\t'Milk',\t'Grocery',\t'Frozen',\t'Detergents_Paper',\t'Delicassen'], axis = 1, errors = 'ignore')"
   ]
  },
  {
   "cell_type": "raw",
   "id": "5ba557b2-5de8-42d4-b3ef-7c54b31f3138",
   "metadata": {},
   "source": [
    "New_Dataframe_Wholesale_Customer = New_Dataframe_Wholesale_Customer.rename(columns = {'KEY': 'Customer_ID'})"
   ]
  },
  {
   "cell_type": "code",
   "execution_count": 1444,
   "id": "16b798fe-db5f-4f2a-90d4-494a7fc81e85",
   "metadata": {},
   "outputs": [
    {
     "data": {
      "text/html": [
       "<div>\n",
       "<style scoped>\n",
       "    .dataframe tbody tr th:only-of-type {\n",
       "        vertical-align: middle;\n",
       "    }\n",
       "\n",
       "    .dataframe tbody tr th {\n",
       "        vertical-align: top;\n",
       "    }\n",
       "\n",
       "    .dataframe thead th {\n",
       "        text-align: right;\n",
       "    }\n",
       "</style>\n",
       "<table border=\"1\" class=\"dataframe\">\n",
       "  <thead>\n",
       "    <tr style=\"text-align: right;\">\n",
       "      <th></th>\n",
       "      <th>PCA_1</th>\n",
       "      <th>PCA_2</th>\n",
       "      <th>PCA_3</th>\n",
       "      <th>PCA_4</th>\n",
       "      <th>KEY</th>\n",
       "      <th>PCA_Combined</th>\n",
       "      <th>Channel</th>\n",
       "      <th>Region</th>\n",
       "    </tr>\n",
       "  </thead>\n",
       "  <tbody>\n",
       "    <tr>\n",
       "      <th>0</th>\n",
       "      <td>551.11</td>\n",
       "      <td>8147.11</td>\n",
       "      <td>5131.16</td>\n",
       "      <td>8064.28</td>\n",
       "      <td>0</td>\n",
       "      <td>21893.66</td>\n",
       "      <td>2</td>\n",
       "      <td>3</td>\n",
       "    </tr>\n",
       "    <tr>\n",
       "      <th>1</th>\n",
       "      <td>2707.06</td>\n",
       "      <td>5086.94</td>\n",
       "      <td>1804.42</td>\n",
       "      <td>9419.09</td>\n",
       "      <td>1</td>\n",
       "      <td>19017.51</td>\n",
       "      <td>2</td>\n",
       "      <td>3</td>\n",
       "    </tr>\n",
       "    <tr>\n",
       "      <th>2</th>\n",
       "      <td>1888.14</td>\n",
       "      <td>4450.01</td>\n",
       "      <td>1815.35</td>\n",
       "      <td>8928.74</td>\n",
       "      <td>2</td>\n",
       "      <td>17082.23</td>\n",
       "      <td>2</td>\n",
       "      <td>3</td>\n",
       "    </tr>\n",
       "    <tr>\n",
       "      <th>3</th>\n",
       "      <td>3744.01</td>\n",
       "      <td>7027.00</td>\n",
       "      <td>7730.37</td>\n",
       "      <td>7085.72</td>\n",
       "      <td>3</td>\n",
       "      <td>25587.09</td>\n",
       "      <td>1</td>\n",
       "      <td>3</td>\n",
       "    </tr>\n",
       "    <tr>\n",
       "      <th>4</th>\n",
       "      <td>2947.31</td>\n",
       "      <td>12871.11</td>\n",
       "      <td>11944.34</td>\n",
       "      <td>8758.06</td>\n",
       "      <td>4</td>\n",
       "      <td>36520.82</td>\n",
       "      <td>2</td>\n",
       "      <td>3</td>\n",
       "    </tr>\n",
       "  </tbody>\n",
       "</table>\n",
       "</div>"
      ],
      "text/plain": [
       "    PCA_1    PCA_2    PCA_3   PCA_4  KEY  PCA_Combined  Channel  Region\n",
       "0  551.11  8147.11  5131.16 8064.28    0      21893.66        2       3\n",
       "1 2707.06  5086.94  1804.42 9419.09    1      19017.51        2       3\n",
       "2 1888.14  4450.01  1815.35 8928.74    2      17082.23        2       3\n",
       "3 3744.01  7027.00  7730.37 7085.72    3      25587.09        1       3\n",
       "4 2947.31 12871.11 11944.34 8758.06    4      36520.82        2       3"
      ]
     },
     "execution_count": 1444,
     "metadata": {},
     "output_type": "execute_result"
    }
   ],
   "source": [
    "New_Dataframe_Wholesale_Customer.head()"
   ]
  },
  {
   "cell_type": "code",
   "execution_count": 1446,
   "id": "a0d0d3f9-1167-4da3-979d-506bd6e14f11",
   "metadata": {},
   "outputs": [],
   "source": [
    "X = New_Dataframe_Wholesale_Customer.copy()"
   ]
  },
  {
   "cell_type": "markdown",
   "id": "4a6da4b7-b391-4712-8175-55137652350c",
   "metadata": {},
   "source": [
    "### **Clustering Analysis:**"
   ]
  },
  {
   "cell_type": "markdown",
   "id": "7f57ba38-1a98-4c2e-8b45-0d5c03a801aa",
   "metadata": {},
   "source": [
    "#### **1. KMeans++**"
   ]
  },
  {
   "cell_type": "code",
   "execution_count": 1450,
   "id": "0ffb57a0-f45e-4394-9ca9-c581738e5653",
   "metadata": {},
   "outputs": [
    {
     "data": {
      "text/html": [
       "<div>\n",
       "<style scoped>\n",
       "    .dataframe tbody tr th:only-of-type {\n",
       "        vertical-align: middle;\n",
       "    }\n",
       "\n",
       "    .dataframe tbody tr th {\n",
       "        vertical-align: top;\n",
       "    }\n",
       "\n",
       "    .dataframe thead th {\n",
       "        text-align: right;\n",
       "    }\n",
       "</style>\n",
       "<table border=\"1\" class=\"dataframe\">\n",
       "  <thead>\n",
       "    <tr style=\"text-align: right;\">\n",
       "      <th></th>\n",
       "      <th>PCA_1</th>\n",
       "      <th>PCA_2</th>\n",
       "      <th>PCA_3</th>\n",
       "      <th>PCA_4</th>\n",
       "    </tr>\n",
       "  </thead>\n",
       "  <tbody>\n",
       "    <tr>\n",
       "      <th>0</th>\n",
       "      <td>551.11</td>\n",
       "      <td>8147.11</td>\n",
       "      <td>5131.16</td>\n",
       "      <td>8064.28</td>\n",
       "    </tr>\n",
       "    <tr>\n",
       "      <th>1</th>\n",
       "      <td>2707.06</td>\n",
       "      <td>5086.94</td>\n",
       "      <td>1804.42</td>\n",
       "      <td>9419.09</td>\n",
       "    </tr>\n",
       "    <tr>\n",
       "      <th>2</th>\n",
       "      <td>1888.14</td>\n",
       "      <td>4450.01</td>\n",
       "      <td>1815.35</td>\n",
       "      <td>8928.74</td>\n",
       "    </tr>\n",
       "    <tr>\n",
       "      <th>3</th>\n",
       "      <td>3744.01</td>\n",
       "      <td>7027.00</td>\n",
       "      <td>7730.37</td>\n",
       "      <td>7085.72</td>\n",
       "    </tr>\n",
       "    <tr>\n",
       "      <th>4</th>\n",
       "      <td>2947.31</td>\n",
       "      <td>12871.11</td>\n",
       "      <td>11944.34</td>\n",
       "      <td>8758.06</td>\n",
       "    </tr>\n",
       "  </tbody>\n",
       "</table>\n",
       "</div>"
      ],
      "text/plain": [
       "    PCA_1    PCA_2    PCA_3   PCA_4\n",
       "0  551.11  8147.11  5131.16 8064.28\n",
       "1 2707.06  5086.94  1804.42 9419.09\n",
       "2 1888.14  4450.01  1815.35 8928.74\n",
       "3 3744.01  7027.00  7730.37 7085.72\n",
       "4 2947.31 12871.11 11944.34 8758.06"
      ]
     },
     "execution_count": 1450,
     "metadata": {},
     "output_type": "execute_result"
    }
   ],
   "source": [
    "X = New_Dataframe_Wholesale_Customer.iloc[:,0:4]\n",
    "X.head()"
   ]
  },
  {
   "cell_type": "markdown",
   "id": "e8b3a239-651f-4359-b466-506748ea02ba",
   "metadata": {},
   "source": [
    "**Scaling the numercic values of beer_df DataFrame**"
   ]
  },
  {
   "cell_type": "code",
   "execution_count": 1453,
   "id": "64caeaec-9256-4733-9cb8-96b5f8a94276",
   "metadata": {},
   "outputs": [],
   "source": [
    "scaler_1 = MinMaxScaler()"
   ]
  },
  {
   "cell_type": "code",
   "execution_count": 1455,
   "id": "9eb7284e-d6ae-42fe-b228-2e0231dfcac5",
   "metadata": {},
   "outputs": [
    {
     "data": {
      "text/plain": [
       "array([[0.0102057 , 0.12593263, 0.08461016, 0.12976864],\n",
       "       [0.05192779, 0.07737807, 0.02955467, 0.15197624],\n",
       "       [0.03607992, 0.06727212, 0.02973554, 0.14393851],\n",
       "       ...,\n",
       "       [0.30663338, 0.17115763, 0.0480668 , 0.25890003],\n",
       "       [0.01060075, 0.08898241, 0.09136375, 0.04567009],\n",
       "       [0.01963188, 0.0253265 , 0.01791643, 0.02509201]])"
      ]
     },
     "execution_count": 1455,
     "metadata": {},
     "output_type": "execute_result"
    }
   ],
   "source": [
    "scaled_X = scaler_1.fit_transform(X)\n",
    "scaled_X"
   ]
  },
  {
   "cell_type": "code",
   "execution_count": 1457,
   "id": "d57209e4-3e14-489f-b1b0-501b0104b918",
   "metadata": {},
   "outputs": [
    {
     "data": {
      "text/html": [
       "<div>\n",
       "<style scoped>\n",
       "    .dataframe tbody tr th:only-of-type {\n",
       "        vertical-align: middle;\n",
       "    }\n",
       "\n",
       "    .dataframe tbody tr th {\n",
       "        vertical-align: top;\n",
       "    }\n",
       "\n",
       "    .dataframe thead th {\n",
       "        text-align: right;\n",
       "    }\n",
       "</style>\n",
       "<table border=\"1\" class=\"dataframe\">\n",
       "  <thead>\n",
       "    <tr style=\"text-align: right;\">\n",
       "      <th></th>\n",
       "      <th>PCA_1</th>\n",
       "      <th>PCA_2</th>\n",
       "      <th>PCA_3</th>\n",
       "      <th>PCA_4</th>\n",
       "    </tr>\n",
       "  </thead>\n",
       "  <tbody>\n",
       "    <tr>\n",
       "      <th>0</th>\n",
       "      <td>0.01</td>\n",
       "      <td>0.13</td>\n",
       "      <td>0.08</td>\n",
       "      <td>0.13</td>\n",
       "    </tr>\n",
       "    <tr>\n",
       "      <th>1</th>\n",
       "      <td>0.05</td>\n",
       "      <td>0.08</td>\n",
       "      <td>0.03</td>\n",
       "      <td>0.15</td>\n",
       "    </tr>\n",
       "    <tr>\n",
       "      <th>2</th>\n",
       "      <td>0.04</td>\n",
       "      <td>0.07</td>\n",
       "      <td>0.03</td>\n",
       "      <td>0.14</td>\n",
       "    </tr>\n",
       "    <tr>\n",
       "      <th>3</th>\n",
       "      <td>0.07</td>\n",
       "      <td>0.11</td>\n",
       "      <td>0.13</td>\n",
       "      <td>0.11</td>\n",
       "    </tr>\n",
       "    <tr>\n",
       "      <th>4</th>\n",
       "      <td>0.06</td>\n",
       "      <td>0.20</td>\n",
       "      <td>0.20</td>\n",
       "      <td>0.14</td>\n",
       "    </tr>\n",
       "  </tbody>\n",
       "</table>\n",
       "</div>"
      ],
      "text/plain": [
       "   PCA_1  PCA_2  PCA_3  PCA_4\n",
       "0   0.01   0.13   0.08   0.13\n",
       "1   0.05   0.08   0.03   0.15\n",
       "2   0.04   0.07   0.03   0.14\n",
       "3   0.07   0.11   0.13   0.11\n",
       "4   0.06   0.20   0.20   0.14"
      ]
     },
     "execution_count": 1457,
     "metadata": {},
     "output_type": "execute_result"
    }
   ],
   "source": [
    "scaled_X_df = pd.DataFrame(scaled_X, columns = ['PCA_1', 'PCA_2', 'PCA_3','PCA_4'])\n",
    "scaled_X_df.head()"
   ]
  },
  {
   "cell_type": "code",
   "execution_count": 1459,
   "id": "13324478-ee09-461c-a276-a18302422a6f",
   "metadata": {},
   "outputs": [],
   "source": [
    "from sklearn.metrics import silhouette_score\n",
    "from sklearn.cluster import KMeans"
   ]
  },
  {
   "cell_type": "code",
   "execution_count": 1461,
   "id": "814c9d77-328b-4e63-be95-f9d398eeddf4",
   "metadata": {},
   "outputs": [],
   "source": [
    "scores = []\n",
    "range_1 = range(2,10)"
   ]
  },
  {
   "cell_type": "code",
   "execution_count": 1463,
   "id": "c8794dec-20f7-4d86-aba3-db87d1535050",
   "metadata": {
    "collapsed": true,
    "jupyter": {
     "outputs_hidden": true
    },
    "scrolled": true
   },
   "outputs": [
    {
     "name": "stderr",
     "output_type": "stream",
     "text": [
      "C:\\Users\\Dell\\anaconda3\\Lib\\site-packages\\sklearn\\cluster\\_kmeans.py:1436: UserWarning:\n",
      "\n",
      "KMeans is known to have a memory leak on Windows with MKL, when there are less chunks than available threads. You can avoid it by setting the environment variable OMP_NUM_THREADS=2.\n",
      "\n",
      "C:\\Users\\Dell\\anaconda3\\Lib\\site-packages\\sklearn\\cluster\\_kmeans.py:1436: UserWarning:\n",
      "\n",
      "KMeans is known to have a memory leak on Windows with MKL, when there are less chunks than available threads. You can avoid it by setting the environment variable OMP_NUM_THREADS=2.\n",
      "\n",
      "C:\\Users\\Dell\\anaconda3\\Lib\\site-packages\\sklearn\\cluster\\_kmeans.py:1436: UserWarning:\n",
      "\n",
      "KMeans is known to have a memory leak on Windows with MKL, when there are less chunks than available threads. You can avoid it by setting the environment variable OMP_NUM_THREADS=2.\n",
      "\n",
      "C:\\Users\\Dell\\anaconda3\\Lib\\site-packages\\sklearn\\cluster\\_kmeans.py:1436: UserWarning:\n",
      "\n",
      "KMeans is known to have a memory leak on Windows with MKL, when there are less chunks than available threads. You can avoid it by setting the environment variable OMP_NUM_THREADS=2.\n",
      "\n",
      "C:\\Users\\Dell\\anaconda3\\Lib\\site-packages\\sklearn\\cluster\\_kmeans.py:1436: UserWarning:\n",
      "\n",
      "KMeans is known to have a memory leak on Windows with MKL, when there are less chunks than available threads. You can avoid it by setting the environment variable OMP_NUM_THREADS=2.\n",
      "\n",
      "C:\\Users\\Dell\\anaconda3\\Lib\\site-packages\\sklearn\\cluster\\_kmeans.py:1436: UserWarning:\n",
      "\n",
      "KMeans is known to have a memory leak on Windows with MKL, when there are less chunks than available threads. You can avoid it by setting the environment variable OMP_NUM_THREADS=2.\n",
      "\n",
      "C:\\Users\\Dell\\anaconda3\\Lib\\site-packages\\sklearn\\cluster\\_kmeans.py:1436: UserWarning:\n",
      "\n",
      "KMeans is known to have a memory leak on Windows with MKL, when there are less chunks than available threads. You can avoid it by setting the environment variable OMP_NUM_THREADS=2.\n",
      "\n",
      "C:\\Users\\Dell\\anaconda3\\Lib\\site-packages\\sklearn\\cluster\\_kmeans.py:1436: UserWarning:\n",
      "\n",
      "KMeans is known to have a memory leak on Windows with MKL, when there are less chunks than available threads. You can avoid it by setting the environment variable OMP_NUM_THREADS=2.\n",
      "\n"
     ]
    }
   ],
   "source": [
    "for k in range_1:\n",
    "    kmeans = KMeans(n_clusters=k,init='k-means++',max_iter=100,random_state=42)\n",
    "    lable = kmeans.fit_predict(scaled_X_df)\n",
    "    silhouette_avg = silhouette_score(scaled_X_df,lable)\n",
    "    scores.append(silhouette_avg)"
   ]
  },
  {
   "cell_type": "code",
   "execution_count": 1464,
   "id": "0c603af8-f572-4b07-9d2f-6d7d219b5f38",
   "metadata": {},
   "outputs": [
    {
     "data": {
      "text/plain": [
       "{'K': [2, 3, 4, 5, 6, 7, 8, 9],\n",
       " 'Silhouette_scores': [0.548804748569291,\n",
       "  0.5220078869207451,\n",
       "  0.4384963178403282,\n",
       "  0.4182545359486829,\n",
       "  0.39947984769570644,\n",
       "  0.39183419108532525,\n",
       "  0.33485696057183184,\n",
       "  0.32600271292422656]}"
      ]
     },
     "execution_count": 1464,
     "metadata": {},
     "output_type": "execute_result"
    }
   ],
   "source": [
    "silhouette_coefficient = {'K':list(range_1),'Silhouette_scores':scores}\n",
    "silhouette_coefficient"
   ]
  },
  {
   "cell_type": "code",
   "execution_count": 1467,
   "id": "8b547e62-fed6-4a3e-86df-41bf41bb1855",
   "metadata": {},
   "outputs": [
    {
     "data": {
      "text/html": [
       "<div>\n",
       "<style scoped>\n",
       "    .dataframe tbody tr th:only-of-type {\n",
       "        vertical-align: middle;\n",
       "    }\n",
       "\n",
       "    .dataframe tbody tr th {\n",
       "        vertical-align: top;\n",
       "    }\n",
       "\n",
       "    .dataframe thead th {\n",
       "        text-align: right;\n",
       "    }\n",
       "</style>\n",
       "<table border=\"1\" class=\"dataframe\">\n",
       "  <thead>\n",
       "    <tr style=\"text-align: right;\">\n",
       "      <th></th>\n",
       "      <th>K</th>\n",
       "      <th>Silhouette_scores</th>\n",
       "    </tr>\n",
       "  </thead>\n",
       "  <tbody>\n",
       "    <tr>\n",
       "      <th>0</th>\n",
       "      <td>2</td>\n",
       "      <td>0.55</td>\n",
       "    </tr>\n",
       "    <tr>\n",
       "      <th>1</th>\n",
       "      <td>3</td>\n",
       "      <td>0.52</td>\n",
       "    </tr>\n",
       "    <tr>\n",
       "      <th>2</th>\n",
       "      <td>4</td>\n",
       "      <td>0.44</td>\n",
       "    </tr>\n",
       "    <tr>\n",
       "      <th>3</th>\n",
       "      <td>5</td>\n",
       "      <td>0.42</td>\n",
       "    </tr>\n",
       "    <tr>\n",
       "      <th>4</th>\n",
       "      <td>6</td>\n",
       "      <td>0.40</td>\n",
       "    </tr>\n",
       "    <tr>\n",
       "      <th>5</th>\n",
       "      <td>7</td>\n",
       "      <td>0.39</td>\n",
       "    </tr>\n",
       "    <tr>\n",
       "      <th>6</th>\n",
       "      <td>8</td>\n",
       "      <td>0.33</td>\n",
       "    </tr>\n",
       "    <tr>\n",
       "      <th>7</th>\n",
       "      <td>9</td>\n",
       "      <td>0.33</td>\n",
       "    </tr>\n",
       "  </tbody>\n",
       "</table>\n",
       "</div>"
      ],
      "text/plain": [
       "   K  Silhouette_scores\n",
       "0  2               0.55\n",
       "1  3               0.52\n",
       "2  4               0.44\n",
       "3  5               0.42\n",
       "4  6               0.40\n",
       "5  7               0.39\n",
       "6  8               0.33\n",
       "7  9               0.33"
      ]
     },
     "execution_count": 1467,
     "metadata": {},
     "output_type": "execute_result"
    }
   ],
   "source": [
    "Silhouette_customer_PCA = pd.DataFrame(silhouette_coefficient)\n",
    "Silhouette_customer_PCA "
   ]
  },
  {
   "cell_type": "markdown",
   "id": "5b1a778f-6140-46ba-8ae1-b51142a45b40",
   "metadata": {},
   "source": [
    "**Optimal K :**"
   ]
  },
  {
   "cell_type": "code",
   "execution_count": 1470,
   "id": "97c0713f-66dd-45af-94a3-9abe422c3273",
   "metadata": {},
   "outputs": [
    {
     "name": "stdout",
     "output_type": "stream",
     "text": [
      "\u001b[1m\u001b[46mOptimal K : 2 \u001b[0m as per \u001b[1m\u001b[4mSilhouette Cofficient Scores\u001b[0m\n"
     ]
    }
   ],
   "source": [
    "Silhouette_customer_PCA_sort = Silhouette_customer_PCA.sort_values(by = 'Silhouette_scores', ascending = False)\n",
    "k = Silhouette_customer_PCA_sort.iloc[0,0]\n",
    "k\n",
    "print(f'\\033[1m\\033[46mOptimal K : {k} \\033[0m as per \\033[1m\\033[4mSilhouette Cofficient Scores\\033[0m')"
   ]
  },
  {
   "cell_type": "code",
   "execution_count": 1472,
   "id": "da5995bf-c534-45f4-a70d-5cb30c114ec7",
   "metadata": {},
   "outputs": [],
   "source": [
    "import plotly.express as px\n",
    "import plotly.graph_objs as go"
   ]
  },
  {
   "cell_type": "code",
   "execution_count": 1474,
   "id": "71cbc6f8-201e-401a-9c33-faf149b8c10d",
   "metadata": {},
   "outputs": [
    {
     "data": {
      "application/vnd.plotly.v1+json": {
       "config": {
        "plotlyServerURL": "https://plot.ly"
       },
       "data": [
        {
         "name": "Silhouette Scores Plot",
         "type": "scatter",
         "x": [
          2,
          3,
          4,
          5,
          6,
          7,
          8,
          9
         ],
         "y": [
          0.548804748569291,
          0.5220078869207451,
          0.4384963178403282,
          0.4182545359486829,
          0.39947984769570644,
          0.39183419108532525,
          0.33485696057183184,
          0.32600271292422656
         ]
        }
       ],
       "layout": {
        "height": 300,
        "template": {
         "data": {
          "bar": [
           {
            "error_x": {
             "color": "#2a3f5f"
            },
            "error_y": {
             "color": "#2a3f5f"
            },
            "marker": {
             "line": {
              "color": "#E5ECF6",
              "width": 0.5
             },
             "pattern": {
              "fillmode": "overlay",
              "size": 10,
              "solidity": 0.2
             }
            },
            "type": "bar"
           }
          ],
          "barpolar": [
           {
            "marker": {
             "line": {
              "color": "#E5ECF6",
              "width": 0.5
             },
             "pattern": {
              "fillmode": "overlay",
              "size": 10,
              "solidity": 0.2
             }
            },
            "type": "barpolar"
           }
          ],
          "carpet": [
           {
            "aaxis": {
             "endlinecolor": "#2a3f5f",
             "gridcolor": "white",
             "linecolor": "white",
             "minorgridcolor": "white",
             "startlinecolor": "#2a3f5f"
            },
            "baxis": {
             "endlinecolor": "#2a3f5f",
             "gridcolor": "white",
             "linecolor": "white",
             "minorgridcolor": "white",
             "startlinecolor": "#2a3f5f"
            },
            "type": "carpet"
           }
          ],
          "choropleth": [
           {
            "colorbar": {
             "outlinewidth": 0,
             "ticks": ""
            },
            "type": "choropleth"
           }
          ],
          "contour": [
           {
            "colorbar": {
             "outlinewidth": 0,
             "ticks": ""
            },
            "colorscale": [
             [
              0,
              "#0d0887"
             ],
             [
              0.1111111111111111,
              "#46039f"
             ],
             [
              0.2222222222222222,
              "#7201a8"
             ],
             [
              0.3333333333333333,
              "#9c179e"
             ],
             [
              0.4444444444444444,
              "#bd3786"
             ],
             [
              0.5555555555555556,
              "#d8576b"
             ],
             [
              0.6666666666666666,
              "#ed7953"
             ],
             [
              0.7777777777777778,
              "#fb9f3a"
             ],
             [
              0.8888888888888888,
              "#fdca26"
             ],
             [
              1,
              "#f0f921"
             ]
            ],
            "type": "contour"
           }
          ],
          "contourcarpet": [
           {
            "colorbar": {
             "outlinewidth": 0,
             "ticks": ""
            },
            "type": "contourcarpet"
           }
          ],
          "heatmap": [
           {
            "colorbar": {
             "outlinewidth": 0,
             "ticks": ""
            },
            "colorscale": [
             [
              0,
              "#0d0887"
             ],
             [
              0.1111111111111111,
              "#46039f"
             ],
             [
              0.2222222222222222,
              "#7201a8"
             ],
             [
              0.3333333333333333,
              "#9c179e"
             ],
             [
              0.4444444444444444,
              "#bd3786"
             ],
             [
              0.5555555555555556,
              "#d8576b"
             ],
             [
              0.6666666666666666,
              "#ed7953"
             ],
             [
              0.7777777777777778,
              "#fb9f3a"
             ],
             [
              0.8888888888888888,
              "#fdca26"
             ],
             [
              1,
              "#f0f921"
             ]
            ],
            "type": "heatmap"
           }
          ],
          "heatmapgl": [
           {
            "colorbar": {
             "outlinewidth": 0,
             "ticks": ""
            },
            "colorscale": [
             [
              0,
              "#0d0887"
             ],
             [
              0.1111111111111111,
              "#46039f"
             ],
             [
              0.2222222222222222,
              "#7201a8"
             ],
             [
              0.3333333333333333,
              "#9c179e"
             ],
             [
              0.4444444444444444,
              "#bd3786"
             ],
             [
              0.5555555555555556,
              "#d8576b"
             ],
             [
              0.6666666666666666,
              "#ed7953"
             ],
             [
              0.7777777777777778,
              "#fb9f3a"
             ],
             [
              0.8888888888888888,
              "#fdca26"
             ],
             [
              1,
              "#f0f921"
             ]
            ],
            "type": "heatmapgl"
           }
          ],
          "histogram": [
           {
            "marker": {
             "pattern": {
              "fillmode": "overlay",
              "size": 10,
              "solidity": 0.2
             }
            },
            "type": "histogram"
           }
          ],
          "histogram2d": [
           {
            "colorbar": {
             "outlinewidth": 0,
             "ticks": ""
            },
            "colorscale": [
             [
              0,
              "#0d0887"
             ],
             [
              0.1111111111111111,
              "#46039f"
             ],
             [
              0.2222222222222222,
              "#7201a8"
             ],
             [
              0.3333333333333333,
              "#9c179e"
             ],
             [
              0.4444444444444444,
              "#bd3786"
             ],
             [
              0.5555555555555556,
              "#d8576b"
             ],
             [
              0.6666666666666666,
              "#ed7953"
             ],
             [
              0.7777777777777778,
              "#fb9f3a"
             ],
             [
              0.8888888888888888,
              "#fdca26"
             ],
             [
              1,
              "#f0f921"
             ]
            ],
            "type": "histogram2d"
           }
          ],
          "histogram2dcontour": [
           {
            "colorbar": {
             "outlinewidth": 0,
             "ticks": ""
            },
            "colorscale": [
             [
              0,
              "#0d0887"
             ],
             [
              0.1111111111111111,
              "#46039f"
             ],
             [
              0.2222222222222222,
              "#7201a8"
             ],
             [
              0.3333333333333333,
              "#9c179e"
             ],
             [
              0.4444444444444444,
              "#bd3786"
             ],
             [
              0.5555555555555556,
              "#d8576b"
             ],
             [
              0.6666666666666666,
              "#ed7953"
             ],
             [
              0.7777777777777778,
              "#fb9f3a"
             ],
             [
              0.8888888888888888,
              "#fdca26"
             ],
             [
              1,
              "#f0f921"
             ]
            ],
            "type": "histogram2dcontour"
           }
          ],
          "mesh3d": [
           {
            "colorbar": {
             "outlinewidth": 0,
             "ticks": ""
            },
            "type": "mesh3d"
           }
          ],
          "parcoords": [
           {
            "line": {
             "colorbar": {
              "outlinewidth": 0,
              "ticks": ""
             }
            },
            "type": "parcoords"
           }
          ],
          "pie": [
           {
            "automargin": true,
            "type": "pie"
           }
          ],
          "scatter": [
           {
            "fillpattern": {
             "fillmode": "overlay",
             "size": 10,
             "solidity": 0.2
            },
            "type": "scatter"
           }
          ],
          "scatter3d": [
           {
            "line": {
             "colorbar": {
              "outlinewidth": 0,
              "ticks": ""
             }
            },
            "marker": {
             "colorbar": {
              "outlinewidth": 0,
              "ticks": ""
             }
            },
            "type": "scatter3d"
           }
          ],
          "scattercarpet": [
           {
            "marker": {
             "colorbar": {
              "outlinewidth": 0,
              "ticks": ""
             }
            },
            "type": "scattercarpet"
           }
          ],
          "scattergeo": [
           {
            "marker": {
             "colorbar": {
              "outlinewidth": 0,
              "ticks": ""
             }
            },
            "type": "scattergeo"
           }
          ],
          "scattergl": [
           {
            "marker": {
             "colorbar": {
              "outlinewidth": 0,
              "ticks": ""
             }
            },
            "type": "scattergl"
           }
          ],
          "scattermapbox": [
           {
            "marker": {
             "colorbar": {
              "outlinewidth": 0,
              "ticks": ""
             }
            },
            "type": "scattermapbox"
           }
          ],
          "scatterpolar": [
           {
            "marker": {
             "colorbar": {
              "outlinewidth": 0,
              "ticks": ""
             }
            },
            "type": "scatterpolar"
           }
          ],
          "scatterpolargl": [
           {
            "marker": {
             "colorbar": {
              "outlinewidth": 0,
              "ticks": ""
             }
            },
            "type": "scatterpolargl"
           }
          ],
          "scatterternary": [
           {
            "marker": {
             "colorbar": {
              "outlinewidth": 0,
              "ticks": ""
             }
            },
            "type": "scatterternary"
           }
          ],
          "surface": [
           {
            "colorbar": {
             "outlinewidth": 0,
             "ticks": ""
            },
            "colorscale": [
             [
              0,
              "#0d0887"
             ],
             [
              0.1111111111111111,
              "#46039f"
             ],
             [
              0.2222222222222222,
              "#7201a8"
             ],
             [
              0.3333333333333333,
              "#9c179e"
             ],
             [
              0.4444444444444444,
              "#bd3786"
             ],
             [
              0.5555555555555556,
              "#d8576b"
             ],
             [
              0.6666666666666666,
              "#ed7953"
             ],
             [
              0.7777777777777778,
              "#fb9f3a"
             ],
             [
              0.8888888888888888,
              "#fdca26"
             ],
             [
              1,
              "#f0f921"
             ]
            ],
            "type": "surface"
           }
          ],
          "table": [
           {
            "cells": {
             "fill": {
              "color": "#EBF0F8"
             },
             "line": {
              "color": "white"
             }
            },
            "header": {
             "fill": {
              "color": "#C8D4E3"
             },
             "line": {
              "color": "white"
             }
            },
            "type": "table"
           }
          ]
         },
         "layout": {
          "annotationdefaults": {
           "arrowcolor": "#2a3f5f",
           "arrowhead": 0,
           "arrowwidth": 1
          },
          "autotypenumbers": "strict",
          "coloraxis": {
           "colorbar": {
            "outlinewidth": 0,
            "ticks": ""
           }
          },
          "colorscale": {
           "diverging": [
            [
             0,
             "#8e0152"
            ],
            [
             0.1,
             "#c51b7d"
            ],
            [
             0.2,
             "#de77ae"
            ],
            [
             0.3,
             "#f1b6da"
            ],
            [
             0.4,
             "#fde0ef"
            ],
            [
             0.5,
             "#f7f7f7"
            ],
            [
             0.6,
             "#e6f5d0"
            ],
            [
             0.7,
             "#b8e186"
            ],
            [
             0.8,
             "#7fbc41"
            ],
            [
             0.9,
             "#4d9221"
            ],
            [
             1,
             "#276419"
            ]
           ],
           "sequential": [
            [
             0,
             "#0d0887"
            ],
            [
             0.1111111111111111,
             "#46039f"
            ],
            [
             0.2222222222222222,
             "#7201a8"
            ],
            [
             0.3333333333333333,
             "#9c179e"
            ],
            [
             0.4444444444444444,
             "#bd3786"
            ],
            [
             0.5555555555555556,
             "#d8576b"
            ],
            [
             0.6666666666666666,
             "#ed7953"
            ],
            [
             0.7777777777777778,
             "#fb9f3a"
            ],
            [
             0.8888888888888888,
             "#fdca26"
            ],
            [
             1,
             "#f0f921"
            ]
           ],
           "sequentialminus": [
            [
             0,
             "#0d0887"
            ],
            [
             0.1111111111111111,
             "#46039f"
            ],
            [
             0.2222222222222222,
             "#7201a8"
            ],
            [
             0.3333333333333333,
             "#9c179e"
            ],
            [
             0.4444444444444444,
             "#bd3786"
            ],
            [
             0.5555555555555556,
             "#d8576b"
            ],
            [
             0.6666666666666666,
             "#ed7953"
            ],
            [
             0.7777777777777778,
             "#fb9f3a"
            ],
            [
             0.8888888888888888,
             "#fdca26"
            ],
            [
             1,
             "#f0f921"
            ]
           ]
          },
          "colorway": [
           "#636efa",
           "#EF553B",
           "#00cc96",
           "#ab63fa",
           "#FFA15A",
           "#19d3f3",
           "#FF6692",
           "#B6E880",
           "#FF97FF",
           "#FECB52"
          ],
          "font": {
           "color": "#2a3f5f"
          },
          "geo": {
           "bgcolor": "white",
           "lakecolor": "white",
           "landcolor": "#E5ECF6",
           "showlakes": true,
           "showland": true,
           "subunitcolor": "white"
          },
          "hoverlabel": {
           "align": "left"
          },
          "hovermode": "closest",
          "mapbox": {
           "style": "light"
          },
          "paper_bgcolor": "white",
          "plot_bgcolor": "#E5ECF6",
          "polar": {
           "angularaxis": {
            "gridcolor": "white",
            "linecolor": "white",
            "ticks": ""
           },
           "bgcolor": "#E5ECF6",
           "radialaxis": {
            "gridcolor": "white",
            "linecolor": "white",
            "ticks": ""
           }
          },
          "scene": {
           "xaxis": {
            "backgroundcolor": "#E5ECF6",
            "gridcolor": "white",
            "gridwidth": 2,
            "linecolor": "white",
            "showbackground": true,
            "ticks": "",
            "zerolinecolor": "white"
           },
           "yaxis": {
            "backgroundcolor": "#E5ECF6",
            "gridcolor": "white",
            "gridwidth": 2,
            "linecolor": "white",
            "showbackground": true,
            "ticks": "",
            "zerolinecolor": "white"
           },
           "zaxis": {
            "backgroundcolor": "#E5ECF6",
            "gridcolor": "white",
            "gridwidth": 2,
            "linecolor": "white",
            "showbackground": true,
            "ticks": "",
            "zerolinecolor": "white"
           }
          },
          "shapedefaults": {
           "line": {
            "color": "#2a3f5f"
           }
          },
          "ternary": {
           "aaxis": {
            "gridcolor": "white",
            "linecolor": "white",
            "ticks": ""
           },
           "baxis": {
            "gridcolor": "white",
            "linecolor": "white",
            "ticks": ""
           },
           "bgcolor": "#E5ECF6",
           "caxis": {
            "gridcolor": "white",
            "linecolor": "white",
            "ticks": ""
           }
          },
          "title": {
           "x": 0.05
          },
          "xaxis": {
           "automargin": true,
           "gridcolor": "white",
           "linecolor": "white",
           "ticks": "",
           "title": {
            "standoff": 15
           },
           "zerolinecolor": "white",
           "zerolinewidth": 2
          },
          "yaxis": {
           "automargin": true,
           "gridcolor": "white",
           "linecolor": "white",
           "ticks": "",
           "title": {
            "standoff": 15
           },
           "zerolinecolor": "white",
           "zerolinewidth": 2
          }
         }
        },
        "title": {
         "text": "Silhouette Scores for Optimal K"
        },
        "width": 600,
        "xaxis": {
         "autorange": true,
         "range": [
          1.5360360360360361,
          9.463963963963964
         ],
         "title": {
          "text": "# of Clusters"
         },
         "type": "linear"
        },
        "yaxis": {
         "autorange": true,
         "range": [
          0.3043875900631382,
          0.5704198714303793
         ],
         "title": {
          "text": "Silhouette Scores"
         },
         "type": "linear"
        }
       }
      },
      "image/png": "[encoded data removed]",
      "text/html": [
       "<div>                            <div id=\"6710f635-6b27-46c0-ac31-06b08c698832\" class=\"plotly-graph-div\" style=\"height:300px; width:600px;\"></div>            <script type=\"text/javascript\">                require([\"plotly\"], function(Plotly) {                    window.PLOTLYENV=window.PLOTLYENV || {};                                    if (document.getElementById(\"6710f635-6b27-46c0-ac31-06b08c698832\")) {                    Plotly.newPlot(                        \"6710f635-6b27-46c0-ac31-06b08c698832\",                        [{\"name\":\"Silhouette Scores Plot\",\"x\":[2,3,4,5,6,7,8,9],\"y\":[0.548804748569291,0.5220078869207451,0.4384963178403282,0.4182545359486829,0.39947984769570644,0.39183419108532525,0.33485696057183184,0.32600271292422656],\"type\":\"scatter\"}],                        {\"template\":{\"data\":{\"histogram2dcontour\":[{\"type\":\"histogram2dcontour\",\"colorbar\":{\"outlinewidth\":0,\"ticks\":\"\"},\"colorscale\":[[0.0,\"#0d0887\"],[0.1111111111111111,\"#46039f\"],[0.2222222222222222,\"#7201a8\"],[0.3333333333333333,\"#9c179e\"],[0.4444444444444444,\"#bd3786\"],[0.5555555555555556,\"#d8576b\"],[0.6666666666666666,\"#ed7953\"],[0.7777777777777778,\"#fb9f3a\"],[0.8888888888888888,\"#fdca26\"],[1.0,\"#f0f921\"]]}],\"choropleth\":[{\"type\":\"choropleth\",\"colorbar\":{\"outlinewidth\":0,\"ticks\":\"\"}}],\"histogram2d\":[{\"type\":\"histogram2d\",\"colorbar\":{\"outlinewidth\":0,\"ticks\":\"\"},\"colorscale\":[[0.0,\"#0d0887\"],[0.1111111111111111,\"#46039f\"],[0.2222222222222222,\"#7201a8\"],[0.3333333333333333,\"#9c179e\"],[0.4444444444444444,\"#bd3786\"],[0.5555555555555556,\"#d8576b\"],[0.6666666666666666,\"#ed7953\"],[0.7777777777777778,\"#fb9f3a\"],[0.8888888888888888,\"#fdca26\"],[1.0,\"#f0f921\"]]}],\"heatmap\":[{\"type\":\"heatmap\",\"colorbar\":{\"outlinewidth\":0,\"ticks\":\"\"},\"colorscale\":[[0.0,\"#0d0887\"],[0.1111111111111111,\"#46039f\"],[0.2222222222222222,\"#7201a8\"],[0.3333333333333333,\"#9c179e\"],[0.4444444444444444,\"#bd3786\"],[0.5555555555555556,\"#d8576b\"],[0.6666666666666666,\"#ed7953\"],[0.7777777777777778,\"#fb9f3a\"],[0.8888888888888888,\"#fdca26\"],[1.0,\"#f0f921\"]]}],\"heatmapgl\":[{\"type\":\"heatmapgl\",\"colorbar\":{\"outlinewidth\":0,\"ticks\":\"\"},\"colorscale\":[[0.0,\"#0d0887\"],[0.1111111111111111,\"#46039f\"],[0.2222222222222222,\"#7201a8\"],[0.3333333333333333,\"#9c179e\"],[0.4444444444444444,\"#bd3786\"],[0.5555555555555556,\"#d8576b\"],[0.6666666666666666,\"#ed7953\"],[0.7777777777777778,\"#fb9f3a\"],[0.8888888888888888,\"#fdca26\"],[1.0,\"#f0f921\"]]}],\"contourcarpet\":[{\"type\":\"contourcarpet\",\"colorbar\":{\"outlinewidth\":0,\"ticks\":\"\"}}],\"contour\":[{\"type\":\"contour\",\"colorbar\":{\"outlinewidth\":0,\"ticks\":\"\"},\"colorscale\":[[0.0,\"#0d0887\"],[0.1111111111111111,\"#46039f\"],[0.2222222222222222,\"#7201a8\"],[0.3333333333333333,\"#9c179e\"],[0.4444444444444444,\"#bd3786\"],[0.5555555555555556,\"#d8576b\"],[0.6666666666666666,\"#ed7953\"],[0.7777777777777778,\"#fb9f3a\"],[0.8888888888888888,\"#fdca26\"],[1.0,\"#f0f921\"]]}],\"surface\":[{\"type\":\"surface\",\"colorbar\":{\"outlinewidth\":0,\"ticks\":\"\"},\"colorscale\":[[0.0,\"#0d0887\"],[0.1111111111111111,\"#46039f\"],[0.2222222222222222,\"#7201a8\"],[0.3333333333333333,\"#9c179e\"],[0.4444444444444444,\"#bd3786\"],[0.5555555555555556,\"#d8576b\"],[0.6666666666666666,\"#ed7953\"],[0.7777777777777778,\"#fb9f3a\"],[0.8888888888888888,\"#fdca26\"],[1.0,\"#f0f921\"]]}],\"mesh3d\":[{\"type\":\"mesh3d\",\"colorbar\":{\"outlinewidth\":0,\"ticks\":\"\"}}],\"scatter\":[{\"fillpattern\":{\"fillmode\":\"overlay\",\"size\":10,\"solidity\":0.2},\"type\":\"scatter\"}],\"parcoords\":[{\"type\":\"parcoords\",\"line\":{\"colorbar\":{\"outlinewidth\":0,\"ticks\":\"\"}}}],\"scatterpolargl\":[{\"type\":\"scatterpolargl\",\"marker\":{\"colorbar\":{\"outlinewidth\":0,\"ticks\":\"\"}}}],\"bar\":[{\"error_x\":{\"color\":\"#2a3f5f\"},\"error_y\":{\"color\":\"#2a3f5f\"},\"marker\":{\"line\":{\"color\":\"#E5ECF6\",\"width\":0.5},\"pattern\":{\"fillmode\":\"overlay\",\"size\":10,\"solidity\":0.2}},\"type\":\"bar\"}],\"scattergeo\":[{\"type\":\"scattergeo\",\"marker\":{\"colorbar\":{\"outlinewidth\":0,\"ticks\":\"\"}}}],\"scatterpolar\":[{\"type\":\"scatterpolar\",\"marker\":{\"colorbar\":{\"outlinewidth\":0,\"ticks\":\"\"}}}],\"histogram\":[{\"marker\":{\"pattern\":{\"fillmode\":\"overlay\",\"size\":10,\"solidity\":0.2}},\"type\":\"histogram\"}],\"scattergl\":[{\"type\":\"scattergl\",\"marker\":{\"colorbar\":{\"outlinewidth\":0,\"ticks\":\"\"}}}],\"scatter3d\":[{\"type\":\"scatter3d\",\"line\":{\"colorbar\":{\"outlinewidth\":0,\"ticks\":\"\"}},\"marker\":{\"colorbar\":{\"outlinewidth\":0,\"ticks\":\"\"}}}],\"scattermapbox\":[{\"type\":\"scattermapbox\",\"marker\":{\"colorbar\":{\"outlinewidth\":0,\"ticks\":\"\"}}}],\"scatterternary\":[{\"type\":\"scatterternary\",\"marker\":{\"colorbar\":{\"outlinewidth\":0,\"ticks\":\"\"}}}],\"scattercarpet\":[{\"type\":\"scattercarpet\",\"marker\":{\"colorbar\":{\"outlinewidth\":0,\"ticks\":\"\"}}}],\"carpet\":[{\"aaxis\":{\"endlinecolor\":\"#2a3f5f\",\"gridcolor\":\"white\",\"linecolor\":\"white\",\"minorgridcolor\":\"white\",\"startlinecolor\":\"#2a3f5f\"},\"baxis\":{\"endlinecolor\":\"#2a3f5f\",\"gridcolor\":\"white\",\"linecolor\":\"white\",\"minorgridcolor\":\"white\",\"startlinecolor\":\"#2a3f5f\"},\"type\":\"carpet\"}],\"table\":[{\"cells\":{\"fill\":{\"color\":\"#EBF0F8\"},\"line\":{\"color\":\"white\"}},\"header\":{\"fill\":{\"color\":\"#C8D4E3\"},\"line\":{\"color\":\"white\"}},\"type\":\"table\"}],\"barpolar\":[{\"marker\":{\"line\":{\"color\":\"#E5ECF6\",\"width\":0.5},\"pattern\":{\"fillmode\":\"overlay\",\"size\":10,\"solidity\":0.2}},\"type\":\"barpolar\"}],\"pie\":[{\"automargin\":true,\"type\":\"pie\"}]},\"layout\":{\"autotypenumbers\":\"strict\",\"colorway\":[\"#636efa\",\"#EF553B\",\"#00cc96\",\"#ab63fa\",\"#FFA15A\",\"#19d3f3\",\"#FF6692\",\"#B6E880\",\"#FF97FF\",\"#FECB52\"],\"font\":{\"color\":\"#2a3f5f\"},\"hovermode\":\"closest\",\"hoverlabel\":{\"align\":\"left\"},\"paper_bgcolor\":\"white\",\"plot_bgcolor\":\"#E5ECF6\",\"polar\":{\"bgcolor\":\"#E5ECF6\",\"angularaxis\":{\"gridcolor\":\"white\",\"linecolor\":\"white\",\"ticks\":\"\"},\"radialaxis\":{\"gridcolor\":\"white\",\"linecolor\":\"white\",\"ticks\":\"\"}},\"ternary\":{\"bgcolor\":\"#E5ECF6\",\"aaxis\":{\"gridcolor\":\"white\",\"linecolor\":\"white\",\"ticks\":\"\"},\"baxis\":{\"gridcolor\":\"white\",\"linecolor\":\"white\",\"ticks\":\"\"},\"caxis\":{\"gridcolor\":\"white\",\"linecolor\":\"white\",\"ticks\":\"\"}},\"coloraxis\":{\"colorbar\":{\"outlinewidth\":0,\"ticks\":\"\"}},\"colorscale\":{\"sequential\":[[0.0,\"#0d0887\"],[0.1111111111111111,\"#46039f\"],[0.2222222222222222,\"#7201a8\"],[0.3333333333333333,\"#9c179e\"],[0.4444444444444444,\"#bd3786\"],[0.5555555555555556,\"#d8576b\"],[0.6666666666666666,\"#ed7953\"],[0.7777777777777778,\"#fb9f3a\"],[0.8888888888888888,\"#fdca26\"],[1.0,\"#f0f921\"]],\"sequentialminus\":[[0.0,\"#0d0887\"],[0.1111111111111111,\"#46039f\"],[0.2222222222222222,\"#7201a8\"],[0.3333333333333333,\"#9c179e\"],[0.4444444444444444,\"#bd3786\"],[0.5555555555555556,\"#d8576b\"],[0.6666666666666666,\"#ed7953\"],[0.7777777777777778,\"#fb9f3a\"],[0.8888888888888888,\"#fdca26\"],[1.0,\"#f0f921\"]],\"diverging\":[[0,\"#8e0152\"],[0.1,\"#c51b7d\"],[0.2,\"#de77ae\"],[0.3,\"#f1b6da\"],[0.4,\"#fde0ef\"],[0.5,\"#f7f7f7\"],[0.6,\"#e6f5d0\"],[0.7,\"#b8e186\"],[0.8,\"#7fbc41\"],[0.9,\"#4d9221\"],[1,\"#276419\"]]},\"xaxis\":{\"gridcolor\":\"white\",\"linecolor\":\"white\",\"ticks\":\"\",\"title\":{\"standoff\":15},\"zerolinecolor\":\"white\",\"automargin\":true,\"zerolinewidth\":2},\"yaxis\":{\"gridcolor\":\"white\",\"linecolor\":\"white\",\"ticks\":\"\",\"title\":{\"standoff\":15},\"zerolinecolor\":\"white\",\"automargin\":true,\"zerolinewidth\":2},\"scene\":{\"xaxis\":{\"backgroundcolor\":\"#E5ECF6\",\"gridcolor\":\"white\",\"linecolor\":\"white\",\"showbackground\":true,\"ticks\":\"\",\"zerolinecolor\":\"white\",\"gridwidth\":2},\"yaxis\":{\"backgroundcolor\":\"#E5ECF6\",\"gridcolor\":\"white\",\"linecolor\":\"white\",\"showbackground\":true,\"ticks\":\"\",\"zerolinecolor\":\"white\",\"gridwidth\":2},\"zaxis\":{\"backgroundcolor\":\"#E5ECF6\",\"gridcolor\":\"white\",\"linecolor\":\"white\",\"showbackground\":true,\"ticks\":\"\",\"zerolinecolor\":\"white\",\"gridwidth\":2}},\"shapedefaults\":{\"line\":{\"color\":\"#2a3f5f\"}},\"annotationdefaults\":{\"arrowcolor\":\"#2a3f5f\",\"arrowhead\":0,\"arrowwidth\":1},\"geo\":{\"bgcolor\":\"white\",\"landcolor\":\"#E5ECF6\",\"subunitcolor\":\"white\",\"showland\":true,\"showlakes\":true,\"lakecolor\":\"white\"},\"title\":{\"x\":0.05},\"mapbox\":{\"style\":\"light\"}}},\"title\":{\"text\":\"Silhouette Scores for Optimal K\"},\"xaxis\":{\"title\":{\"text\":\"# of Clusters\"}},\"yaxis\":{\"title\":{\"text\":\"Silhouette Scores\"}},\"width\":600,\"height\":300},                        {\"responsive\": true}                    ).then(function(){\n",
       "                            \n",
       "var gd = document.getElementById('6710f635-6b27-46c0-ac31-06b08c698832');\n",
       "var x = new MutationObserver(function (mutations, observer) {{\n",
       "        var display = window.getComputedStyle(gd).display;\n",
       "        if (!display || display === 'none') {{\n",
       "            console.log([gd, 'removed!']);\n",
       "            Plotly.purge(gd);\n",
       "            observer.disconnect();\n",
       "        }}\n",
       "}});\n",
       "\n",
       "// Listen for the removal of the full notebook cells\n",
       "var notebookContainer = gd.closest('#notebook-container');\n",
       "if (notebookContainer) {{\n",
       "    x.observe(notebookContainer, {childList: true});\n",
       "}}\n",
       "\n",
       "// Listen for the clearing of the current output cell\n",
       "var outputEl = gd.closest('.output');\n",
       "if (outputEl) {{\n",
       "    x.observe(outputEl, {childList: true});\n",
       "}}\n",
       "\n",
       "                        })                };                });            </script>        </div>"
      ]
     },
     "metadata": {},
     "output_type": "display_data"
    }
   ],
   "source": [
    "fig = go.Figure()\n",
    "fig.add_trace(go.Scatter(x = Silhouette_customer_PCA.K, y = Silhouette_customer_PCA.Silhouette_scores, name='Silhouette Scores Plot'))\n",
    "fig.update_layout(\n",
    "    title = 'Silhouette Scores for Optimal K',\n",
    "    xaxis_title = '# of Clusters',\n",
    "    yaxis_title = 'Silhouette Scores',\n",
    "    width = 600,\n",
    "    height = 300)"
   ]
  },
  {
   "cell_type": "code",
   "execution_count": 1476,
   "id": "8bf6dc4e-ee56-4b0e-8a9b-03d760e3852d",
   "metadata": {},
   "outputs": [
    {
     "name": "stderr",
     "output_type": "stream",
     "text": [
      "C:\\Users\\Dell\\anaconda3\\Lib\\site-packages\\sklearn\\cluster\\_kmeans.py:1436: UserWarning:\n",
      "\n",
      "KMeans is known to have a memory leak on Windows with MKL, when there are less chunks than available threads. You can avoid it by setting the environment variable OMP_NUM_THREADS=2.\n",
      "\n"
     ]
    }
   ],
   "source": [
    "N_Clusters = KMeans(n_clusters=k, init='k-means++', max_iter=100,random_state=48)\n",
    "N_Clusters.fit(scaled_X_df)\n",
    "New_Dataframe_Wholesale_Customer['K_Cluster_ID'] = N_Clusters.labels_"
   ]
  },
  {
   "cell_type": "code",
   "execution_count": 1478,
   "id": "ae0128e2-9490-4c5b-8df4-69acf5d9fe6d",
   "metadata": {},
   "outputs": [
    {
     "data": {
      "text/html": [
       "<div>\n",
       "<style scoped>\n",
       "    .dataframe tbody tr th:only-of-type {\n",
       "        vertical-align: middle;\n",
       "    }\n",
       "\n",
       "    .dataframe tbody tr th {\n",
       "        vertical-align: top;\n",
       "    }\n",
       "\n",
       "    .dataframe thead th {\n",
       "        text-align: right;\n",
       "    }\n",
       "</style>\n",
       "<table border=\"1\" class=\"dataframe\">\n",
       "  <thead>\n",
       "    <tr style=\"text-align: right;\">\n",
       "      <th></th>\n",
       "      <th>PCA_1</th>\n",
       "      <th>PCA_2</th>\n",
       "      <th>PCA_3</th>\n",
       "      <th>PCA_4</th>\n",
       "      <th>KEY</th>\n",
       "      <th>PCA_Combined</th>\n",
       "      <th>Channel</th>\n",
       "      <th>Region</th>\n",
       "      <th>K_Cluster_ID</th>\n",
       "    </tr>\n",
       "  </thead>\n",
       "  <tbody>\n",
       "    <tr>\n",
       "      <th>0</th>\n",
       "      <td>551.11</td>\n",
       "      <td>8147.11</td>\n",
       "      <td>5131.16</td>\n",
       "      <td>8064.28</td>\n",
       "      <td>0</td>\n",
       "      <td>21893.66</td>\n",
       "      <td>2</td>\n",
       "      <td>3</td>\n",
       "      <td>0</td>\n",
       "    </tr>\n",
       "    <tr>\n",
       "      <th>1</th>\n",
       "      <td>2707.06</td>\n",
       "      <td>5086.94</td>\n",
       "      <td>1804.42</td>\n",
       "      <td>9419.09</td>\n",
       "      <td>1</td>\n",
       "      <td>19017.51</td>\n",
       "      <td>2</td>\n",
       "      <td>3</td>\n",
       "      <td>0</td>\n",
       "    </tr>\n",
       "    <tr>\n",
       "      <th>2</th>\n",
       "      <td>1888.14</td>\n",
       "      <td>4450.01</td>\n",
       "      <td>1815.35</td>\n",
       "      <td>8928.74</td>\n",
       "      <td>2</td>\n",
       "      <td>17082.23</td>\n",
       "      <td>2</td>\n",
       "      <td>3</td>\n",
       "      <td>0</td>\n",
       "    </tr>\n",
       "    <tr>\n",
       "      <th>3</th>\n",
       "      <td>3744.01</td>\n",
       "      <td>7027.00</td>\n",
       "      <td>7730.37</td>\n",
       "      <td>7085.72</td>\n",
       "      <td>3</td>\n",
       "      <td>25587.09</td>\n",
       "      <td>1</td>\n",
       "      <td>3</td>\n",
       "      <td>0</td>\n",
       "    </tr>\n",
       "    <tr>\n",
       "      <th>4</th>\n",
       "      <td>2947.31</td>\n",
       "      <td>12871.11</td>\n",
       "      <td>11944.34</td>\n",
       "      <td>8758.06</td>\n",
       "      <td>4</td>\n",
       "      <td>36520.82</td>\n",
       "      <td>2</td>\n",
       "      <td>3</td>\n",
       "      <td>0</td>\n",
       "    </tr>\n",
       "    <tr>\n",
       "      <th>...</th>\n",
       "      <td>...</td>\n",
       "      <td>...</td>\n",
       "      <td>...</td>\n",
       "      <td>...</td>\n",
       "      <td>...</td>\n",
       "      <td>...</td>\n",
       "      <td>...</td>\n",
       "      <td>...</td>\n",
       "      <td>...</td>\n",
       "    </tr>\n",
       "    <tr>\n",
       "      <th>435</th>\n",
       "      <td>8491.01</td>\n",
       "      <td>17016.50</td>\n",
       "      <td>15100.22</td>\n",
       "      <td>21842.60</td>\n",
       "      <td>435</td>\n",
       "      <td>62450.33</td>\n",
       "      <td>1</td>\n",
       "      <td>3</td>\n",
       "      <td>1</td>\n",
       "    </tr>\n",
       "    <tr>\n",
       "      <th>436</th>\n",
       "      <td>749.71</td>\n",
       "      <td>21155.82</td>\n",
       "      <td>22909.21</td>\n",
       "      <td>6485.81</td>\n",
       "      <td>436</td>\n",
       "      <td>51300.56</td>\n",
       "      <td>1</td>\n",
       "      <td>3</td>\n",
       "      <td>1</td>\n",
       "    </tr>\n",
       "    <tr>\n",
       "      <th>437</th>\n",
       "      <td>15868.75</td>\n",
       "      <td>10997.43</td>\n",
       "      <td>2923.02</td>\n",
       "      <td>15942.14</td>\n",
       "      <td>437</td>\n",
       "      <td>45731.33</td>\n",
       "      <td>2</td>\n",
       "      <td>3</td>\n",
       "      <td>0</td>\n",
       "    </tr>\n",
       "    <tr>\n",
       "      <th>438</th>\n",
       "      <td>571.53</td>\n",
       "      <td>5818.31</td>\n",
       "      <td>5539.25</td>\n",
       "      <td>2933.72</td>\n",
       "      <td>438</td>\n",
       "      <td>14862.80</td>\n",
       "      <td>1</td>\n",
       "      <td>3</td>\n",
       "      <td>0</td>\n",
       "    </tr>\n",
       "    <tr>\n",
       "      <th>439</th>\n",
       "      <td>1038.20</td>\n",
       "      <td>1806.37</td>\n",
       "      <td>1101.18</td>\n",
       "      <td>1678.33</td>\n",
       "      <td>439</td>\n",
       "      <td>5624.07</td>\n",
       "      <td>1</td>\n",
       "      <td>3</td>\n",
       "      <td>0</td>\n",
       "    </tr>\n",
       "  </tbody>\n",
       "</table>\n",
       "<p>440 rows × 9 columns</p>\n",
       "</div>"
      ],
      "text/plain": [
       "       PCA_1    PCA_2    PCA_3    PCA_4  KEY  PCA_Combined  Channel  Region  \\\n",
       "0     551.11  8147.11  5131.16  8064.28    0      21893.66        2       3   \n",
       "1    2707.06  5086.94  1804.42  9419.09    1      19017.51        2       3   \n",
       "2    1888.14  4450.01  1815.35  8928.74    2      17082.23        2       3   \n",
       "3    3744.01  7027.00  7730.37  7085.72    3      25587.09        1       3   \n",
       "4    2947.31 12871.11 11944.34  8758.06    4      36520.82        2       3   \n",
       "..       ...      ...      ...      ...  ...           ...      ...     ...   \n",
       "435  8491.01 17016.50 15100.22 21842.60  435      62450.33        1       3   \n",
       "436   749.71 21155.82 22909.21  6485.81  436      51300.56        1       3   \n",
       "437 15868.75 10997.43  2923.02 15942.14  437      45731.33        2       3   \n",
       "438   571.53  5818.31  5539.25  2933.72  438      14862.80        1       3   \n",
       "439  1038.20  1806.37  1101.18  1678.33  439       5624.07        1       3   \n",
       "\n",
       "     K_Cluster_ID  \n",
       "0               0  \n",
       "1               0  \n",
       "2               0  \n",
       "3               0  \n",
       "4               0  \n",
       "..            ...  \n",
       "435             1  \n",
       "436             1  \n",
       "437             0  \n",
       "438             0  \n",
       "439             0  \n",
       "\n",
       "[440 rows x 9 columns]"
      ]
     },
     "execution_count": 1478,
     "metadata": {},
     "output_type": "execute_result"
    }
   ],
   "source": [
    "New_Dataframe_Wholesale_Customer"
   ]
  },
  {
   "cell_type": "code",
   "execution_count": 1480,
   "id": "72af9178-3a57-4eb0-8184-e843bebe289a",
   "metadata": {},
   "outputs": [
    {
     "data": {
      "application/vnd.plotly.v1+json": {
       "config": {
        "plotlyServerURL": "https://plot.ly"
       },
       "data": [
        {
         "hovertemplate": "PCA_1=%{x}<br>PCA_2=%{y}<br>PCA_3=%{z}<br>Cluster_ID=%{marker.color}<extra></extra>",
         "legendgroup": "",
         "marker": {
          "color": [
           0,
           0,
           0,
           0,
           0,
           0,
           0,
           0,
           0,
           0,
           0,
           0,
           1,
           0,
           1,
           0,
           0,
           0,
           0,
           0,
           0,
           0,
           1,
           1,
           1,
           0,
           0,
           0,
           0,
           1,
           0,
           0,
           0,
           1,
           0,
           0,
           1,
           0,
           0,
           1,
           1,
           0,
           0,
           0,
           0,
           0,
           0,
           1,
           0,
           0,
           0,
           0,
           1,
           0,
           1,
           0,
           0,
           0,
           0,
           0,
           0,
           1,
           0,
           0,
           0,
           0,
           0,
           0,
           0,
           0,
           0,
           0,
           0,
           0,
           0,
           0,
           0,
           0,
           0,
           0,
           0,
           0,
           0,
           0,
           0,
           1,
           1,
           1,
           0,
           1,
           0,
           0,
           0,
           0,
           0,
           0,
           0,
           0,
           0,
           0,
           0,
           0,
           0,
           1,
           0,
           0,
           0,
           0,
           0,
           0,
           0,
           0,
           0,
           0,
           0,
           0,
           0,
           0,
           0,
           0,
           0,
           0,
           0,
           0,
           1,
           1,
           0,
           0,
           0,
           1,
           0,
           0,
           0,
           0,
           0,
           0,
           0,
           0,
           0,
           0,
           0,
           1,
           1,
           0,
           0,
           0,
           0,
           0,
           0,
           1,
           0,
           0,
           0,
           0,
           0,
           0,
           0,
           0,
           0,
           0,
           0,
           0,
           0,
           0,
           0,
           0,
           0,
           0,
           0,
           0,
           0,
           0,
           0,
           0,
           0,
           0,
           1,
           0,
           0,
           0,
           0,
           1,
           0,
           1,
           0,
           0,
           0,
           0,
           0,
           0,
           0,
           0,
           0,
           0,
           0,
           0,
           1,
           0,
           0,
           0,
           0,
           0,
           1,
           0,
           0,
           0,
           0,
           0,
           0,
           0,
           0,
           0,
           0,
           0,
           0,
           0,
           0,
           0,
           0,
           0,
           0,
           0,
           0,
           0,
           0,
           0,
           0,
           0,
           0,
           0,
           0,
           0,
           1,
           0,
           0,
           0,
           0,
           0,
           0,
           1,
           1,
           1,
           0,
           0,
           0,
           0,
           0,
           0,
           0,
           0,
           0,
           0,
           0,
           1,
           0,
           1,
           0,
           0,
           1,
           1,
           0,
           0,
           0,
           0,
           0,
           0,
           0,
           0,
           0,
           0,
           0,
           0,
           0,
           1,
           0,
           0,
           1,
           0,
           0,
           0,
           0,
           0,
           1,
           1,
           1,
           1,
           0,
           0,
           0,
           1,
           0,
           0,
           0,
           0,
           0,
           0,
           0,
           0,
           0,
           0,
           0,
           0,
           0,
           0,
           0,
           0,
           0,
           0,
           0,
           0,
           0,
           1,
           0,
           0,
           0,
           0,
           0,
           0,
           0,
           0,
           0,
           0,
           0,
           0,
           1,
           1,
           0,
           0,
           0,
           0,
           0,
           0,
           0,
           0,
           0,
           1,
           0,
           0,
           0,
           0,
           0,
           0,
           0,
           0,
           0,
           0,
           0,
           1,
           0,
           0,
           0,
           0,
           0,
           0,
           0,
           0,
           0,
           0,
           0,
           0,
           0,
           0,
           0,
           0,
           0,
           0,
           0,
           0,
           0,
           0,
           1,
           0,
           0,
           0,
           0,
           0,
           0,
           1,
           0,
           0,
           1,
           0,
           1,
           0,
           0,
           0,
           0,
           0,
           0,
           0,
           0,
           0,
           0,
           1,
           0,
           0,
           0,
           0,
           0,
           0,
           0,
           1,
           1,
           1,
           0,
           0,
           1,
           0,
           0,
           0,
           0,
           0,
           0,
           0,
           0,
           0,
           0,
           0,
           0,
           0,
           0,
           0,
           1,
           0,
           0,
           0,
           0,
           1,
           0,
           0,
           0,
           0,
           0,
           0,
           0,
           1,
           1,
           0,
           0,
           0
          ],
          "coloraxis": "coloraxis",
          "symbol": "circle"
         },
         "mode": "markers",
         "name": "",
         "scene": "scene",
         "showlegend": false,
         "type": "scatter3d",
         "x": [
          551.1131859871082,
          2707.0646130489295,
          1888.1403677584103,
          3744.006969546094,
          2947.3133862009204,
          442.59833059920516,
          3570.232919692814,
          5109.909528513773,
          2948.470615100847,
          9496.622726841204,
          8582.86860637766,
          2852.7817941834287,
          1754.0116051632479,
          8714.498251024503,
          3836.4839905054578,
          2169.7909345228077,
          5179.086463201924,
          921.5364974938061,
          4586.959771438416,
          6194.7109750047985,
          852.1443985257022,
          1734.7791756131376,
          3503.4281145788677,
          1254.8954861046145,
          5760.323655259821,
          3290.290395488019,
          2137.8541548621442,
          1551.9729084296657,
          10367.282250409255,
          553.2412520260352,
          6580.752141140537,
          636.2889460930317,
          783.6505501283345,
          3599.8939863978844,
          828.7263513422454,
          6277.5172119397075,
          1230.7292054161887,
          4365.646158623729,
          5079.0809629903915,
          398.6622696840942,
          2797.4954163027173,
          2878.5272125375323,
          7742.849259010109,
          13794.380818459815,
          4508.718518082438,
          6040.6115210838625,
          10667.33849512164,
          16427.84976367314,
          5224.010030220671,
          12399.745578244832,
          1674.949170629337,
          3456.929156727838,
          1085.0765627002768,
          3992.947635582657,
          221.08035383181908,
          2145.4056221329183,
          6484.568886197287,
          3050.8764823546894,
          151.26087779748374,
          3468.180210500169,
          4426.258390103625,
          27381.478915593543,
          2666.181593124158,
          6971.310567244461,
          2669.35061837975,
          26164.040062713182,
          5255.693094365364,
          6809.633554688294,
          695.0034813548749,
          612.3095757054028,
          3328.116005197457,
          16910.46182053332,
          1358.6989730279608,
          5333.636730183666,
          4559.488726276605,
          429.49560172777416,
          5163.462028347604,
          16160.929311581089,
          1093.0183997720706,
          1383.3803575620138,
          1807.7969701310815,
          6720.049289817263,
          3798.33689392511,
          277.0464196450437,
          1923.684651964549,
          50523.962555885955,
          13466.653924630096,
          3578.81270731517,
          4963.896585246649,
          2051.1063136006032,
          1318.923853810529,
          2107.4264174948344,
          11886.99670939711,
          7844.499392165522,
          2553.3426348093103,
          3640.6792543598485,
          5246.161445612649,
          527.2941554568991,
          763.070180636268,
          1319.1466678778243,
          6029.764689676576,
          7822.176218538052,
          3306.196095453007,
          7246.032570322481,
          1384.2207515757596,
          2236.2870623619574,
          5318.014323210088,
          6678.485773969978,
          1230.1230432088994,
          14811.286874959864,
          537.8242900429134,
          8054.192600252497,
          1821.6991556534,
          339.0054415856985,
          885.2800175112967,
          2173.503851039696,
          1274.1134931175843,
          2411.62599460947,
          1325.0610252566796,
          1074.4332873026578,
          1974.081239781004,
          96.10367644241985,
          40.43063920054665,
          1514.2027190213207,
          1125.2744491853355,
          4580.099973802549,
          1490.777916166409,
          4142.928242782262,
          1537.7530532082847,
          670.2378209506077,
          474.27690649387364,
          64.1094372222286,
          438.05725924779597,
          151.65926479654178,
          625.864475370881,
          1430.8054707021436,
          2065.53222734403,
          2485.4837171900103,
          1297.6586602905616,
          51.0493932994793,
          3457.6472262186157,
          4008.1528030351533,
          2048.4060408008318,
          1595.5220331199428,
          1105.8876994568495,
          22898.668817709724,
          632.2113540696108,
          327.78009012998774,
          836.9361412955748,
          590.3670674995661,
          23.74266102875076,
          44.1727057749985,
          1724.9891147855412,
          2924.077668872942,
          73.32048135915085,
          10132.769921233246,
          9183.566201150568,
          1325.714831732041,
          4441.19619419794,
          7937.338876773385,
          8608.327604856207,
          329.97318166907496,
          2006.0801917440285,
          13846.116968428894,
          3335.6980272232527,
          9827.566474045416,
          3928.4032569246688,
          938.0905291770371,
          344.80203524036204,
          1707.520553171622,
          6581.785789790339,
          2587.801037854604,
          2454.2309292562727,
          12233.538414711453,
          4202.294095165798,
          5414.937492991262,
          1422.2328643587307,
          320.2666991703105,
          82.34145590802467,
          374.36591323721933,
          3597.199251601108,
          1746.3912416646858,
          4113.559994510984,
          247.52416952678516,
          3344.5784163405183,
          2313.0967625966064,
          1110.8756329008008,
          5130.2652200888015,
          5767.960834647376,
          3276.2732678015645,
          681.3994723748043,
          592.3855029887839,
          950.3000013573807,
          14861.729152245904,
          1767.3760285156845,
          2672.020983243271,
          3287.103470369956,
          4856.088987446109,
          4739.321170089197,
          220.18927898421734,
          12596.48908186996,
          13115.246065941228,
          1761.9666628212685,
          1524.331239275786,
          4017.920440747883,
          13161.95502189982,
          294.36717702125424,
          3033.323364029192,
          3137.3500960721753,
          6865.54822608782,
          238.91364038612252,
          17888.739059679185,
          1133.4999016968195,
          2259.7934784877193,
          5886.802307935817,
          7142.526821657674,
          20806.632283898085,
          708.6668619061412,
          8692.12749381376,
          1302.8996640856249,
          432.92489068089156,
          4476.345237970722,
          3289.1775691925827,
          4151.079616672668,
          743.2889298791912,
          1276.9105969166822,
          3881.7369613141186,
          473.72091263449374,
          304.6951141363455,
          1830.6613773328393,
          2893.684733563538,
          2287.870522833222,
          1215.3736703269021,
          242.66332630605396,
          2025.541125317375,
          864.9320773848533,
          2218.955534650101,
          1249.3212396752715,
          171.84213955831464,
          918.5706295424089,
          5587.600022820083,
          514.9703772179305,
          2125.4497102654377,
          1922.1075576952449,
          4695.539765000942,
          7977.5950939303,
          201.12706192907925,
          124.2325160820227,
          1372.3916110326236,
          833.6682942738465,
          681.7042006877006,
          16401.425978049985,
          4402.577294138825,
          8413.933761465598,
          4967.38588175274,
          367.76605856075616,
          1251.2003724930698,
          1330.9753324882545,
          1568.7873795789208,
          1771.9548967882388,
          1143.74703114603,
          1579.3442300304905,
          127.09552103465528,
          5771.577888356114,
          7403.87096830214,
          856.5844431596704,
          13364.422884225947,
          1492.0905812000544,
          11611.773419917461,
          731.0343842096768,
          1346.482654061433,
          1198.0385569911984,
          1288.5756030998332,
          837.1486706708234,
          734.0517503142137,
          493.975620515354,
          3540.94669025492,
          3733.027416826818,
          1724.3348753240066,
          4162.404976056301,
          538.9338889243688,
          1045.7616475531051,
          669.4614863992879,
          1061.2344156267316,
          7013.413940914737,
          1106.6227140766446,
          100.8242622987786,
          2509.0196053048808,
          242.5090882814663,
          1274.7290719315606,
          1008.3348717488893,
          1213.2079015010377,
          2673.7547532342596,
          4308.5228582160225,
          3560.4299540865145,
          3023.158062244858,
          2172.808731523893,
          3983.0158330099725,
          5618.020760534179,
          1252.6407074359008,
          1359.7451305527857,
          9740.88581251968,
          5111.224833851597,
          9290.676286619699,
          16322.788955152704,
          537.8723475178914,
          10885.599541280086,
          584.0237389647882,
          1702.795734216848,
          422.8237151165164,
          3839.0577027727218,
          4942.841131329962,
          13809.594961498082,
          2098.1040079150694,
          5159.393566826166,
          1869.1286941724345,
          1390.3167656732146,
          3516.671913180976,
          1453.7084621560962,
          944.9576370152936,
          53.71190689916027,
          3445.204505698981,
          2511.6215405392686,
          8561.760111873535,
          445.58070999016604,
          15210.77577216655,
          951.0048269513048,
          951.7286750435347,
          2718.1265877416304,
          3932.286042102213,
          3632.065640778382,
          13754.779415994844,
          957.1054576301376,
          51697.845143207815,
          3752.510657639461,
          4327.027598459072,
          162.64743455437372,
          2942.3906944771547,
          9219.45513332062,
          5859.935994273096,
          5805.089414327909,
          6167.713525213476,
          1842.8303297087386,
          17971.007693350253,
          1211.5315993944969,
          5440.251718155646,
          9478.521126313999,
          5697.713313770307,
          561.1670316520995,
          9156.928422632998,
          1315.9718634374976,
          13166.077647627984,
          831.6719779381652,
          13964.256035761216,
          923.9461631083456,
          1300.2935737407443,
          119.31999223190428,
          17448.304002057597,
          7090.432518942654,
          1343.7984588194684,
          118.00176545874655,
          463.7650452554449,
          1188.8330842124146,
          2925.229197379697,
          925.9169201748276,
          3465.17332969463,
          48.78810017211669,
          157.51707293753446,
          849.3280403988969,
          368.256464491031,
          563.8136552036214,
          1648.876763647993,
          632.9816896604327,
          2415.25938213628,
          245.1654642373354,
          69.15666024724514,
          7679.92278155973,
          933.1069235102658,
          265.6518503484388,
          5571.091362628255,
          951.5394948095195,
          477.2124095229624,
          2077.483099258008,
          2952.2565111577155,
          1371.433551776506,
          936.6327259598444,
          818.1381339408169,
          166.9812042913638,
          481.5804774601924,
          659.3805491097819,
          1613.685957694573,
          522.288838402837,
          851.1292703458886,
          594.5026465119655,
          1945.9204825338993,
          610.7082239218748,
          1692.2791373516347,
          1404.157069217146,
          712.9644600788461,
          421.5760967553235,
          1182.9927144583994,
          2214.4091800150204,
          539.9103243007982,
          3138.819226746749,
          610.4474707380037,
          590.1757387613834,
          2683.471188059347,
          8754.418201858309,
          3191.24283084184,
          3218.8006708619273,
          2644.087980956393,
          1200.7861217463894,
          8187.821555600337,
          6837.409544752676,
          2813.0588729171704,
          3818.479876606825,
          3097.0088785320922,
          5945.343905298367,
          10644.76208236591,
          421.6936339824048,
          7778.453267186675,
          4306.765592727901,
          1726.0844696378945,
          1334.1143750878143,
          7891.6597081811615,
          3985.4267866987666,
          6873.874988664229,
          2160.0876794766846,
          1225.9924630153207,
          1626.0193064975172,
          11158.554695593002,
          4110.4626282623785,
          2406.0985210051226,
          206.45003462019494,
          3867.9774214219246,
          8491.008999134314,
          749.7066664651484,
          15868.747430578182,
          571.5268534125933,
          1038.202212828331
         ],
         "y": [
          8147.105698592126,
          5086.938208887651,
          4450.006857941887,
          7026.99647660266,
          12871.111943523378,
          6069.560672905462,
          7255.513050339594,
          4967.32775697408,
          3890.802787356582,
          5235.691730261415,
          2684.061129137092,
          7408.931013097671,
          18997.382628137926,
          12716.960086212743,
          14930.500960410049,
          5877.87495891766,
          2009.5059645777778,
          3819.144081601353,
          11083.55202972851,
          4961.705601903668,
          10125.441670715942,
          2933.5290732665408,
          16658.144109380533,
          18285.92692862872,
          13737.053950988304,
          9604.75831982833,
          5373.539828802902,
          7990.487028583058,
          5412.202711396613,
          23715.634512357254,
          11127.271659662207,
          1791.8564966190647,
          12052.701619983189,
          16511.791052874698,
          1082.898396256754,
          1428.8488726272328,
          16868.831120939733,
          9732.328585015066,
          4816.927691310873,
          29841.85414738533,
          12914.839430674556,
          10890.511444643285,
          7429.938232411787,
          2646.741928549806,
          6440.866026751537,
          5806.108883489019,
          4041.9731710928095,
          31429.13332709784,
          7396.242963688076,
          6078.1017664579595,
          3291.430459671271,
          2563.059090172513,
          22831.902301132377,
          1770.1928073419872,
          14923.229220705614,
          3385.891394325326,
          6114.236989743758,
          4408.985748864366,
          7722.579785716376,
          4265.441596058146,
          5401.728819168808,
          26098.989107107045,
          4816.834641688298,
          6786.878053958462,
          2568.375610329094,
          4553.767395842403,
          565.1246579250849,
          12120.50369213886,
          1666.4809861026094,
          4797.521690072278,
          8541.014101318347,
          10878.261893690491,
          2223.9650535015858,
          11107.8914489909,
          5471.452285292597,
          10829.820301092912,
          427.0864575266436,
          9356.853674100379,
          5908.537706527571,
          1310.0746444951178,
          4031.7155734540374,
          1757.8936458204234,
          7016.872086306074,
          11414.181989741355,
          6933.615882076078,
          18141.107909855837,
          20462.736683838197,
          23942.288005890317,
          3727.181752852527,
          13916.330780784785,
          6073.733219004526,
          6576.987777690493,
          8951.450791615249,
          3496.545112152578,
          4748.956343793764,
          583.6669901855137,
          707.6913852747957,
          210.15894254449287,
          252.45616921918906,
          5069.841279281855,
          7416.872987062758,
          2516.548075532715,
          2375.771934809699,
          29828.700609254174,
          7955.032591707235,
          8741.48868782662,
          1954.4321274168524,
          6364.297871535754,
          1932.967500646852,
          3849.4751899013436,
          6483.121576047966,
          8772.137155211223,
          9989.90352467536,
          7885.188895728158,
          9823.94173582215,
          6079.017979377033,
          6370.607198692156,
          4314.353084036479,
          10763.12790612456,
          4486.493147832375,
          9449.337296571086,
          2341.9811828724,
          6514.901542377651,
          7325.569051296996,
          19549.50736168125,
          40833.95516741863,
          10015.259386992162,
          12871.866451069855,
          1030.5830624405282,
          23083.453109745133,
          3590.501635254433,
          1183.07345014689,
          8392.375379637146,
          5265.871261911083,
          4252.362389107674,
          3595.9015689893636,
          3260.3011654147313,
          2797.275597219674,
          8023.790024628683,
          3480.5894606364873,
          10205.00606073509,
          17947.65238138411,
          21021.06529795694,
          5136.301898506816,
          10678.512928883427,
          14808.496841758517,
          4446.7635638012225,
          5348.592409514455,
          2957.287591205403,
          17490.43181145839,
          9028.537469109331,
          1055.2461111153953,
          10311.711361044825,
          2732.1233130200867,
          345.3717247559128,
          3128.137380465361,
          3397.2674499165523,
          9656.867225777352,
          2605.7199583414654,
          1686.155334817041,
          1946.424392037872,
          6744.790116429768,
          8439.309134879148,
          5739.1904220176775,
          3776.929800254101,
          10377.71199406162,
          3654.7085163002102,
          2022.7728525438388,
          3154.756536697483,
          2931.8692819017315,
          1576.9167771529978,
          3399.7930626609523,
          1341.9251573775164,
          2032.9558814489674,
          353.58114040469985,
          2642.175451157356,
          25210.16113997799,
          7685.765501252371,
          6783.978659421072,
          1888.0827317038697,
          7739.099523409336,
          63235.498535866034,
          1684.5173324575387,
          21773.82232210605,
          532.5769280475237,
          4868.502393019986,
          1432.613709605085,
          2040.8620356112613,
          5483.353521922732,
          2089.2736667899812,
          9232.273822524316,
          7457.023204761132,
          3212.805216777881,
          1529.7383345014034,
          4067.6403363131826,
          9335.022812071678,
          15957.568491945287,
          2442.471457028303,
          6653.96454967178,
          5543.117044262496,
          3825.994972914804,
          4824.470780404839,
          14825.428824897079,
          467.7015169870819,
          1335.3577459340183,
          2919.070766819989,
          3519.725649869108,
          1889.9517472985688,
          1340.01819840958,
          5021.240889313422,
          10205.905941620496,
          10946.204876172316,
          4070.581161974726,
          2655.6768402489306,
          2439.0453741380675,
          3243.4112732255103,
          4948.448289381239,
          9861.576173391337,
          1440.0623936362226,
          2178.3684979144255,
          8047.554500173311,
          4200.421493501829,
          2359.5658715861846,
          1559.6776988277566,
          4042.162821515232,
          7375.30046300966,
          12224.011577023473,
          2281.740023395291,
          1018.5253810465271,
          4501.137931537906,
          6147.212345254051,
          2271.520431674673,
          14476.542103384678,
          1058.5512318138076,
          8590.321389352672,
          1596.875432763848,
          4757.713253739731,
          10140.321076608301,
          3991.5825990781996,
          25873.865123670836,
          11771.56731896985,
          13695.286904445577,
          9838.967978534998,
          6668.39640149485,
          4577.523420954793,
          3001.2714739743074,
          4997.6802852140545,
          7273.922744576472,
          9078.14551986686,
          4270.59160006086,
          1863.0251139599093,
          6707.680620187021,
          3381.369393121115,
          17744.137572560354,
          7030.622272304808,
          17081.649833008327,
          6740.43546537646,
          4457.886734273775,
          30519.69509806671,
          29595.838718440828,
          5519.292451766739,
          3847.459474397247,
          12807.572895819678,
          1292.995755097568,
          2317.2654289039383,
          5119.630883292723,
          2269.6508489613225,
          11299.767433812847,
          8266.33226347794,
          8166.419526148576,
          2238.1212481899174,
          1548.6356028163525,
          1341.0767560180152,
          19994.339923803287,
          675.2752654859921,
          442.88919220941426,
          15551.160006558057,
          3574.341948426703,
          6210.709547678331,
          10451.557971989097,
          2136.3424041628546,
          7543.534132542408,
          26811.14570996509,
          13569.791781960921,
          37956.88300848253,
          22122.964921000974,
          4017.769976288102,
          7985.911473882941,
          8917.351217518331,
          23254.641454559696,
          1771.5982423848068,
          3539.9869133257193,
          1730.4858484592496,
          3776.0356650124636,
          12080.004108549938,
          4573.839330145392,
          10467.624090837731,
          4971.069622323905,
          4583.484933586009,
          416.5180021038407,
          9797.544817018133,
          5061.448388206019,
          2573.3256160434744,
          2515.6927519074143,
          2150.3899920309627,
          1673.4596619841864,
          5738.082757202407,
          9714.146537738352,
          4038.8883480446543,
          2909.796975241553,
          3007.7914861644995,
          16583.209835220616,
          2522.3937716999567,
          5167.867261188212,
          6269.291366592736,
          2714.594309384819,
          3898.7459479908266,
          1185.0919394331893,
          6687.96062704321,
          8372.101561275977,
          1367.296518770385,
          5223.718514188978,
          8593.644461195792,
          7981.590081268058,
          14401.104004154528,
          14746.205803826359,
          2321.4770667896523,
          434.61082348061234,
          8934.507078127404,
          2740.512530806757,
          5482.49997008731,
          8868.641365494954,
          12329.919233600469,
          9135.6817180781,
          8405.521095293567,
          15862.420255885787,
          7764.611799334753,
          4654.759663156187,
          906.9356118711,
          1011.7384113142106,
          1092.5619617191935,
          2355.7351365543054,
          945.1332390418062,
          2962.105944963518,
          1667.949278088996,
          1337.7374466173019,
          2791.3103668225867,
          16021.335929197905,
          2072.149759607652,
          5542.416224172813,
          1974.7645640822711,
          2689.4210573441073,
          443.622507980464,
          1845.268060291097,
          7864.848321533932,
          264.1744514355167,
          12115.604663026183,
          1459.2242120299238,
          1533.1507898858981,
          1020.4873200180591,
          10897.121137729504,
          2578.0970653254785,
          1388.652729024983,
          2856.5291907419855,
          1493.9505722066358,
          3410.7995955568003,
          5394.470758360857,
          1874.9397542291197,
          12241.589071768425,
          3360.0525505191763,
          22138.058371890966,
          10521.815006285437,
          2456.07810649137,
          9054.20041541382,
          3613.225927364744,
          3322.7476482243087,
          2755.820692936588,
          21478.838697168536,
          2122.231205310003,
          3252.2735211038266,
          15273.127142219691,
          9300.688321050762,
          19689.821459083956,
          965.1568824436597,
          8254.4170986658,
          6291.386867344414,
          961.4236741748391,
          11486.23226905471,
          5329.066144615992,
          5065.827290221145,
          1525.933946183271,
          1733.1502242737615,
          789.9506514026293,
          12922.387980014599,
          6890.461036629904,
          5165.263010197794,
          3792.2680715912743,
          5916.5265322185205,
          5888.264997378599,
          5204.536723814405,
          2261.9151327413933,
          14017.775371217092,
          15150.444324370048,
          15140.595976478342,
          10066.542772002118,
          3729.664713415291,
          13529.13142096123,
          5960.7550088397775,
          5067.12363885843,
          5212.679140517425,
          3944.532770570022,
          1496.7564013576355,
          1092.9622058069178,
          1963.2547205569663,
          3130.5090918794585,
          5146.649342525919,
          3887.153454864287,
          3854.215193819317,
          2179.152835517471,
          5223.967911537359,
          3663.58014806992,
          10161.267059774993,
          14685.216485490293,
          10070.451932977043,
          10158.426343806217,
          5147.428233956875,
          8527.602848626027,
          17305.875997754192,
          2262.3479560403607,
          5049.467799413035,
          2985.271478670849,
          4245.174537151508,
          11871.534709736,
          1303.8576121114113,
          9869.312968523976,
          17016.50145633242,
          21155.82421529118,
          10997.426570891103,
          5818.3054572780475,
          1806.3699121136162
         ],
         "z": [
          5131.161064099218,
          1804.4186976183564,
          1815.3479952033554,
          7730.36880291856,
          11944.338131433344,
          3761.008967039438,
          5851.6219377754915,
          2821.4362365813868,
          2295.1068131576385,
          65.1016111931457,
          220.63306666086962,
          7110.982198632076,
          15327.023250542847,
          10087.38851334343,
          11618.371459626114,
          5404.314861700181,
          1996.592216014813,
          2275.278570712917,
          8989.579700075306,
          3187.283727330858,
          9117.658884529952,
          3238.181006762898,
          18349.532479069727,
          8115.50977962501,
          10504.381704988326,
          7943.852846147889,
          5616.968451109106,
          7873.529483962366,
          3300.579248901446,
          24496.623617978425,
          9289.182320151824,
          760.8756744470573,
          12053.325609571348,
          16377.215910351519,
          380.81456520893636,
          1517.441362218375,
          16309.331301682452,
          6095.2421193480795,
          1445.9459520541545,
          33411.702734954815,
          13776.137832980441,
          10229.996869394756,
          3579.6276556032003,
          3773.504268317002,
          3497.2975072566596,
          2368.438685291631,
          2460.6660688634206,
          12632.400828460286,
          4657.698669076827,
          3194.882397374119,
          3665.9027506411217,
          614.0442441094185,
          22435.3375055164,
          2416.5964101260547,
          15665.976866472003,
          2080.7294308132628,
          4627.657050865388,
          554.1421524046517,
          7578.331243741498,
          1914.128511919505,
          3689.9003232058435,
          9099.787241275752,
          3350.2086730307965,
          2345.1055831495582,
          2620.4592839834236,
          7975.832367650022,
          1004.2223795530571,
          9221.376411621117,
          545.6298493144616,
          4368.404091529364,
          10159.874628422609,
          8699.084515011362,
          2461.4767649608825,
          10665.220072646633,
          2892.1530630897432,
          12116.330390341995,
          18.57033297660855,
          2213.7655386688925,
          6062.740236234233,
          169.73258408706144,
          3656.0307627810284,
          2797.8845836542787,
          3538.4814087260143,
          11915.703488411787,
          5991.092350530886,
          7360.086594421685,
          833.7717366566668,
          24116.672792688976,
          5069.7918606061285,
          13652.633976221732,
          6696.557149715373,
          7631.47736650458,
          1814.7565605641068,
          9589.320876991645,
          268.2999200308773,
          1055.822084787296,
          1233.3370181041623,
          212.25395482676313,
          285.540079596415,
          5666.451626557476,
          4607.9339559403925,
          2350.9139263097068,
          194.1658775546227,
          32919.4356273394,
          7624.2708935032015,
          8546.899413282932,
          1229.5682016385726,
          2188.9539587187965,
          1070.3108638545514,
          4699.764170802125,
          6662.523189115864,
          3843.9628113177846,
          11298.559051949715,
          8181.480962509836,
          10348.356321425214,
          6297.496817742022,
          5900.897536601331,
          3073.635118280038,
          11647.545806915594,
          4621.294918135742,
          9651.098628847134,
          1947.6420681492968,
          7228.981798726077,
          4174.309639151273,
          20828.75162009966,
          44636.47960768421,
          11552.792097563433,
          10310.806712917905,
          1610.6481022552748,
          24392.643743190914,
          4380.057906981649,
          1133.6107390391878,
          8128.171053638908,
          5224.836825422205,
          3845.2921049919237,
          3304.189705053642,
          1148.7231319763052,
          219.80681977560283,
          6690.318803405565,
          2118.192820600379,
          9032.777494934473,
          15132.885516877748,
          19831.45479681457,
          6568.161047667287,
          10165.532222645665,
          7774.982361805689,
          4079.608277451526,
          4681.0451298965745,
          3716.9161706508794,
          18123.80669955228,
          9030.932915802827,
          97.60684036733156,
          10691.187268385293,
          480.55996975571674,
          345.36305104805183,
          2493.9995714573192,
          130.84721595107274,
          10185.45028357644,
          246.41601937443556,
          2468.938403252402,
          836.5168860341297,
          7208.651501580392,
          8365.204672097603,
          1754.9219501111818,
          1254.1665245119461,
          5513.338971481932,
          922.6796211429572,
          916.8783189484658,
          3318.133504853451,
          3052.045026972467,
          2454.0236029704597,
          5741.021007797235,
          920.3314068681037,
          2871.016321724133,
          312.2893666206387,
          1070.3045582142802,
          25493.296055710427,
          6014.290739265545,
          4925.543126661651,
          1318.1790859244293,
          5354.901478058527,
          60443.831606137785,
          1937.5971360162428,
          16609.323465194633,
          447.3377505959275,
          3898.257067689398,
          1942.0869461220536,
          156.55789530745506,
          2566.882913579379,
          2427.8171080891734,
          9459.625759628001,
          7793.343053846438,
          2791.6911427621812,
          2502.5375829289164,
          3732.025497336401,
          9379.114397714566,
          18138.371623568557,
          637.7030607895952,
          6088.721051741452,
          5094.534324756985,
          2246.528774245806,
          1807.94092931742,
          12429.145118465125,
          47.16519441232825,
          583.0266572536772,
          3525.813041272732,
          3567.7441306894457,
          432.1594721401031,
          92.93667249030518,
          370.38526691237655,
          10518.120082053709,
          918.3244651215731,
          3988.8588016277436,
          354.15377370836376,
          723.729537235346,
          1485.6899601791001,
          4893.767952751132,
          10283.228114235892,
          2597.604124389748,
          2446.949078028194,
          8452.875367407754,
          885.3563236867491,
          3242.0801764034345,
          1271.1201634554084,
          4037.8651307664686,
          6490.605967447281,
          10361.115821640666,
          2092.2589399900053,
          1037.0296707656285,
          5067.300562297828,
          5811.949610756519,
          464.5307489276477,
          14430.258632053214,
          429.7915064889012,
          8679.331162527666,
          44.35314419927644,
          4796.8832095445205,
          10693.647462336925,
          4250.126044257743,
          27281.72265829028,
          12724.440008845551,
          14143.794580935246,
          10543.088097330665,
          5475.69358614044,
          1409.7055938416186,
          609.2385150447889,
          4787.731912109862,
          7976.519105681342,
          8104.801858216242,
          4550.421992695856,
          1545.6287375876523,
          2751.4934841271165,
          3865.252206661103,
          14147.058497123418,
          3368.6548365066405,
          18422.750454595745,
          5172.606495791634,
          4953.375444569436,
          32270.277474002145,
          29619.012074516515,
          4412.336475840556,
          4993.688899957544,
          13193.651710761676,
          818.1016207192638,
          2459.9712715449305,
          422.6408097193424,
          3263.7003032614434,
          12065.986144273713,
          3683.5396245886864,
          8920.75586008339,
          3060.5835740995085,
          424.4292031432855,
          1606.576577841424,
          21228.777068854102,
          148.38670778677147,
          225.88390140887074,
          15334.078464304768,
          6846.710182782668,
          6778.634352265387,
          8236.510731122737,
          1368.5267812434959,
          5490.614432695555,
          28012.711098462023,
          15271.693584394692,
          38850.53877654705,
          22944.145281819605,
          3849.824272812031,
          9167.005749681673,
          9281.343602589792,
          24838.34281898229,
          1019.9308755343386,
          2910.5722856716898,
          1130.6868666835767,
          563.1482483186347,
          11414.872204216075,
          3595.1827748266865,
          10793.655865156423,
          3615.888841329644,
          2267.3979277703966,
          66.5120678585126,
          8013.591327786345,
          904.2930645392221,
          124.78382782328421,
          479.98263208825773,
          3616.1604405315547,
          2624.2069734082474,
          275.9127612368351,
          9503.713710832935,
          3616.4342496854447,
          3800.8683081562394,
          4928.018392754016,
          16250.5642833375,
          1250.9709787559157,
          5742.975252780785,
          5216.103266569805,
          2554.180241687645,
          3972.8759600168455,
          325.44341428958217,
          6278.056807553775,
          197.5039291782845,
          295.0208592757608,
          4753.592392869871,
          9128.18781329941,
          6441.440295225163,
          14507.350054020502,
          21474.095923127185,
          2537.282167361716,
          46.151478453375724,
          9950.42115046841,
          2791.324448140152,
          5234.647499202618,
          1548.9258415205998,
          12536.950102921357,
          3046.3314112186868,
          10537.071440402675,
          13666.746806946343,
          7796.21312047668,
          5802.772227979403,
          845.6365354423552,
          1780.241329644886,
          1374.2585258137726,
          634.7586009551432,
          1298.434257103057,
          2736.9100528584127,
          1637.1566949394603,
          546.946123628105,
          807.558254490511,
          13773.944639478126,
          1560.3273086587976,
          685.9882771379906,
          1852.9213045793063,
          2998.1985164310618,
          112.4312314050441,
          3121.224450877507,
          7452.823447399804,
          188.2491071845502,
          13432.408489306523,
          2564.2383967455507,
          1818.844383116004,
          590.1644139212208,
          11076.685734421351,
          2687.7011335354796,
          788.2025397811296,
          2073.8045849539308,
          1338.947309224898,
          1124.454427506817,
          5158.364783433921,
          1980.018165498201,
          12719.04757965665,
          3589.9235496909264,
          22015.665154916598,
          12025.405563185685,
          1609.5373481525714,
          7176.375240942514,
          3319.100580640186,
          3108.940784658755,
          318.82303597158375,
          21832.919745845204,
          1210.6293432328482,
          477.9904470373338,
          16408.884746860058,
          10499.575075042996,
          18222.836699542415,
          906.2224414584629,
          1711.1507803089569,
          6703.788164945517,
          66.2364250448125,
          11874.22679929045,
          5594.85553665184,
          5378.660017924971,
          2208.3461626944213,
          975.3805012280742,
          630.9305152613193,
          13203.013167218873,
          6843.997690690104,
          5542.467804529035,
          130.9812975225037,
          7008.30897076415,
          6985.281076216756,
          5551.8660488446885,
          2687.849585402206,
          16498.295287803125,
          14150.061464119895,
          12739.052077556444,
          9880.010508658617,
          3927.596399227006,
          14282.312897601572,
          665.6783708300129,
          3696.1365489586096,
          4101.101929232551,
          3188.666888630793,
          558.0977794934491,
          1804.0350113649672,
          3351.252652866354,
          3398.420277643252,
          2911.6038923431047,
          148.22400677468298,
          970.9886976876596,
          2862.794563913591,
          4406.291357455461,
          380.920301583692,
          8303.834340960277,
          14726.995782325628,
          9243.653176364509,
          8181.334354000966,
          7506.454552566752,
          5023.747789893866,
          16536.210548877625,
          593.6425955509535,
          4346.971759925362,
          549.5469731488901,
          5008.5182519225855,
          11575.65497026901,
          679.4836650933723,
          8325.07777087147,
          15100.21744304659,
          22909.214067202724,
          2923.0191508379353,
          5539.249049603265,
          1101.1750385145824
         ]
        }
       ],
       "layout": {
        "coloraxis": {
         "colorbar": {
          "title": {
           "text": "Cluster_ID"
          }
         },
         "colorscale": [
          [
           0,
           "#0d0887"
          ],
          [
           0.1111111111111111,
           "#46039f"
          ],
          [
           0.2222222222222222,
           "#7201a8"
          ],
          [
           0.3333333333333333,
           "#9c179e"
          ],
          [
           0.4444444444444444,
           "#bd3786"
          ],
          [
           0.5555555555555556,
           "#d8576b"
          ],
          [
           0.6666666666666666,
           "#ed7953"
          ],
          [
           0.7777777777777778,
           "#fb9f3a"
          ],
          [
           0.8888888888888888,
           "#fdca26"
          ],
          [
           1,
           "#f0f921"
          ]
         ]
        },
        "height": 600,
        "legend": {
         "tracegroupgap": 0
        },
        "scene": {
         "aspectmode": "auto",
         "aspectratio": {
          "x": 0.8883907970825907,
          "y": 1.083543380303928,
          "z": 1.0388423494128534
         },
         "camera": {
          "center": {
           "x": 0,
           "y": 0,
           "z": 0
          },
          "eye": {
           "x": -0.6824344583774856,
           "y": 2.0430346531409755,
           "z": 0.21861522381609555
          },
          "projection": {
           "type": "perspective"
          },
          "up": {
           "x": 0,
           "y": 0,
           "z": 1
          }
         },
         "domain": {
          "x": [
           0,
           1
          ],
          "y": [
           0,
           1
          ]
         },
         "xaxis": {
          "title": {
           "text": "PCA_1"
          },
          "type": "linear"
         },
         "yaxis": {
          "title": {
           "text": "PCA_2"
          },
          "type": "linear"
         },
         "zaxis": {
          "title": {
           "text": "PCA_3"
          },
          "type": "linear"
         }
        },
        "template": {
         "data": {
          "bar": [
           {
            "error_x": {
             "color": "#2a3f5f"
            },
            "error_y": {
             "color": "#2a3f5f"
            },
            "marker": {
             "line": {
              "color": "#E5ECF6",
              "width": 0.5
             },
             "pattern": {
              "fillmode": "overlay",
              "size": 10,
              "solidity": 0.2
             }
            },
            "type": "bar"
           }
          ],
          "barpolar": [
           {
            "marker": {
             "line": {
              "color": "#E5ECF6",
              "width": 0.5
             },
             "pattern": {
              "fillmode": "overlay",
              "size": 10,
              "solidity": 0.2
             }
            },
            "type": "barpolar"
           }
          ],
          "carpet": [
           {
            "aaxis": {
             "endlinecolor": "#2a3f5f",
             "gridcolor": "white",
             "linecolor": "white",
             "minorgridcolor": "white",
             "startlinecolor": "#2a3f5f"
            },
            "baxis": {
             "endlinecolor": "#2a3f5f",
             "gridcolor": "white",
             "linecolor": "white",
             "minorgridcolor": "white",
             "startlinecolor": "#2a3f5f"
            },
            "type": "carpet"
           }
          ],
          "choropleth": [
           {
            "colorbar": {
             "outlinewidth": 0,
             "ticks": ""
            },
            "type": "choropleth"
           }
          ],
          "contour": [
           {
            "colorbar": {
             "outlinewidth": 0,
             "ticks": ""
            },
            "colorscale": [
             [
              0,
              "#0d0887"
             ],
             [
              0.1111111111111111,
              "#46039f"
             ],
             [
              0.2222222222222222,
              "#7201a8"
             ],
             [
              0.3333333333333333,
              "#9c179e"
             ],
             [
              0.4444444444444444,
              "#bd3786"
             ],
             [
              0.5555555555555556,
              "#d8576b"
             ],
             [
              0.6666666666666666,
              "#ed7953"
             ],
             [
              0.7777777777777778,
              "#fb9f3a"
             ],
             [
              0.8888888888888888,
              "#fdca26"
             ],
             [
              1,
              "#f0f921"
             ]
            ],
            "type": "contour"
           }
          ],
          "contourcarpet": [
           {
            "colorbar": {
             "outlinewidth": 0,
             "ticks": ""
            },
            "type": "contourcarpet"
           }
          ],
          "heatmap": [
           {
            "colorbar": {
             "outlinewidth": 0,
             "ticks": ""
            },
            "colorscale": [
             [
              0,
              "#0d0887"
             ],
             [
              0.1111111111111111,
              "#46039f"
             ],
             [
              0.2222222222222222,
              "#7201a8"
             ],
             [
              0.3333333333333333,
              "#9c179e"
             ],
             [
              0.4444444444444444,
              "#bd3786"
             ],
             [
              0.5555555555555556,
              "#d8576b"
             ],
             [
              0.6666666666666666,
              "#ed7953"
             ],
             [
              0.7777777777777778,
              "#fb9f3a"
             ],
             [
              0.8888888888888888,
              "#fdca26"
             ],
             [
              1,
              "#f0f921"
             ]
            ],
            "type": "heatmap"
           }
          ],
          "heatmapgl": [
           {
            "colorbar": {
             "outlinewidth": 0,
             "ticks": ""
            },
            "colorscale": [
             [
              0,
              "#0d0887"
             ],
             [
              0.1111111111111111,
              "#46039f"
             ],
             [
              0.2222222222222222,
              "#7201a8"
             ],
             [
              0.3333333333333333,
              "#9c179e"
             ],
             [
              0.4444444444444444,
              "#bd3786"
             ],
             [
              0.5555555555555556,
              "#d8576b"
             ],
             [
              0.6666666666666666,
              "#ed7953"
             ],
             [
              0.7777777777777778,
              "#fb9f3a"
             ],
             [
              0.8888888888888888,
              "#fdca26"
             ],
             [
              1,
              "#f0f921"
             ]
            ],
            "type": "heatmapgl"
           }
          ],
          "histogram": [
           {
            "marker": {
             "pattern": {
              "fillmode": "overlay",
              "size": 10,
              "solidity": 0.2
             }
            },
            "type": "histogram"
           }
          ],
          "histogram2d": [
           {
            "colorbar": {
             "outlinewidth": 0,
             "ticks": ""
            },
            "colorscale": [
             [
              0,
              "#0d0887"
             ],
             [
              0.1111111111111111,
              "#46039f"
             ],
             [
              0.2222222222222222,
              "#7201a8"
             ],
             [
              0.3333333333333333,
              "#9c179e"
             ],
             [
              0.4444444444444444,
              "#bd3786"
             ],
             [
              0.5555555555555556,
              "#d8576b"
             ],
             [
              0.6666666666666666,
              "#ed7953"
             ],
             [
              0.7777777777777778,
              "#fb9f3a"
             ],
             [
              0.8888888888888888,
              "#fdca26"
             ],
             [
              1,
              "#f0f921"
             ]
            ],
            "type": "histogram2d"
           }
          ],
          "histogram2dcontour": [
           {
            "colorbar": {
             "outlinewidth": 0,
             "ticks": ""
            },
            "colorscale": [
             [
              0,
              "#0d0887"
             ],
             [
              0.1111111111111111,
              "#46039f"
             ],
             [
              0.2222222222222222,
              "#7201a8"
             ],
             [
              0.3333333333333333,
              "#9c179e"
             ],
             [
              0.4444444444444444,
              "#bd3786"
             ],
             [
              0.5555555555555556,
              "#d8576b"
             ],
             [
              0.6666666666666666,
              "#ed7953"
             ],
             [
              0.7777777777777778,
              "#fb9f3a"
             ],
             [
              0.8888888888888888,
              "#fdca26"
             ],
             [
              1,
              "#f0f921"
             ]
            ],
            "type": "histogram2dcontour"
           }
          ],
          "mesh3d": [
           {
            "colorbar": {
             "outlinewidth": 0,
             "ticks": ""
            },
            "type": "mesh3d"
           }
          ],
          "parcoords": [
           {
            "line": {
             "colorbar": {
              "outlinewidth": 0,
              "ticks": ""
             }
            },
            "type": "parcoords"
           }
          ],
          "pie": [
           {
            "automargin": true,
            "type": "pie"
           }
          ],
          "scatter": [
           {
            "fillpattern": {
             "fillmode": "overlay",
             "size": 10,
             "solidity": 0.2
            },
            "type": "scatter"
           }
          ],
          "scatter3d": [
           {
            "line": {
             "colorbar": {
              "outlinewidth": 0,
              "ticks": ""
             }
            },
            "marker": {
             "colorbar": {
              "outlinewidth": 0,
              "ticks": ""
             }
            },
            "type": "scatter3d"
           }
          ],
          "scattercarpet": [
           {
            "marker": {
             "colorbar": {
              "outlinewidth": 0,
              "ticks": ""
             }
            },
            "type": "scattercarpet"
           }
          ],
          "scattergeo": [
           {
            "marker": {
             "colorbar": {
              "outlinewidth": 0,
              "ticks": ""
             }
            },
            "type": "scattergeo"
           }
          ],
          "scattergl": [
           {
            "marker": {
             "colorbar": {
              "outlinewidth": 0,
              "ticks": ""
             }
            },
            "type": "scattergl"
           }
          ],
          "scattermapbox": [
           {
            "marker": {
             "colorbar": {
              "outlinewidth": 0,
              "ticks": ""
             }
            },
            "type": "scattermapbox"
           }
          ],
          "scatterpolar": [
           {
            "marker": {
             "colorbar": {
              "outlinewidth": 0,
              "ticks": ""
             }
            },
            "type": "scatterpolar"
           }
          ],
          "scatterpolargl": [
           {
            "marker": {
             "colorbar": {
              "outlinewidth": 0,
              "ticks": ""
             }
            },
            "type": "scatterpolargl"
           }
          ],
          "scatterternary": [
           {
            "marker": {
             "colorbar": {
              "outlinewidth": 0,
              "ticks": ""
             }
            },
            "type": "scatterternary"
           }
          ],
          "surface": [
           {
            "colorbar": {
             "outlinewidth": 0,
             "ticks": ""
            },
            "colorscale": [
             [
              0,
              "#0d0887"
             ],
             [
              0.1111111111111111,
              "#46039f"
             ],
             [
              0.2222222222222222,
              "#7201a8"
             ],
             [
              0.3333333333333333,
              "#9c179e"
             ],
             [
              0.4444444444444444,
              "#bd3786"
             ],
             [
              0.5555555555555556,
              "#d8576b"
             ],
             [
              0.6666666666666666,
              "#ed7953"
             ],
             [
              0.7777777777777778,
              "#fb9f3a"
             ],
             [
              0.8888888888888888,
              "#fdca26"
             ],
             [
              1,
              "#f0f921"
             ]
            ],
            "type": "surface"
           }
          ],
          "table": [
           {
            "cells": {
             "fill": {
              "color": "#EBF0F8"
             },
             "line": {
              "color": "white"
             }
            },
            "header": {
             "fill": {
              "color": "#C8D4E3"
             },
             "line": {
              "color": "white"
             }
            },
            "type": "table"
           }
          ]
         },
         "layout": {
          "annotationdefaults": {
           "arrowcolor": "#2a3f5f",
           "arrowhead": 0,
           "arrowwidth": 1
          },
          "autotypenumbers": "strict",
          "coloraxis": {
           "colorbar": {
            "outlinewidth": 0,
            "ticks": ""
           }
          },
          "colorscale": {
           "diverging": [
            [
             0,
             "#8e0152"
            ],
            [
             0.1,
             "#c51b7d"
            ],
            [
             0.2,
             "#de77ae"
            ],
            [
             0.3,
             "#f1b6da"
            ],
            [
             0.4,
             "#fde0ef"
            ],
            [
             0.5,
             "#f7f7f7"
            ],
            [
             0.6,
             "#e6f5d0"
            ],
            [
             0.7,
             "#b8e186"
            ],
            [
             0.8,
             "#7fbc41"
            ],
            [
             0.9,
             "#4d9221"
            ],
            [
             1,
             "#276419"
            ]
           ],
           "sequential": [
            [
             0,
             "#0d0887"
            ],
            [
             0.1111111111111111,
             "#46039f"
            ],
            [
             0.2222222222222222,
             "#7201a8"
            ],
            [
             0.3333333333333333,
             "#9c179e"
            ],
            [
             0.4444444444444444,
             "#bd3786"
            ],
            [
             0.5555555555555556,
             "#d8576b"
            ],
            [
             0.6666666666666666,
             "#ed7953"
            ],
            [
             0.7777777777777778,
             "#fb9f3a"
            ],
            [
             0.8888888888888888,
             "#fdca26"
            ],
            [
             1,
             "#f0f921"
            ]
           ],
           "sequentialminus": [
            [
             0,
             "#0d0887"
            ],
            [
             0.1111111111111111,
             "#46039f"
            ],
            [
             0.2222222222222222,
             "#7201a8"
            ],
            [
             0.3333333333333333,
             "#9c179e"
            ],
            [
             0.4444444444444444,
             "#bd3786"
            ],
            [
             0.5555555555555556,
             "#d8576b"
            ],
            [
             0.6666666666666666,
             "#ed7953"
            ],
            [
             0.7777777777777778,
             "#fb9f3a"
            ],
            [
             0.8888888888888888,
             "#fdca26"
            ],
            [
             1,
             "#f0f921"
            ]
           ]
          },
          "colorway": [
           "#636efa",
           "#EF553B",
           "#00cc96",
           "#ab63fa",
           "#FFA15A",
           "#19d3f3",
           "#FF6692",
           "#B6E880",
           "#FF97FF",
           "#FECB52"
          ],
          "font": {
           "color": "#2a3f5f"
          },
          "geo": {
           "bgcolor": "white",
           "lakecolor": "white",
           "landcolor": "#E5ECF6",
           "showlakes": true,
           "showland": true,
           "subunitcolor": "white"
          },
          "hoverlabel": {
           "align": "left"
          },
          "hovermode": "closest",
          "mapbox": {
           "style": "light"
          },
          "paper_bgcolor": "white",
          "plot_bgcolor": "#E5ECF6",
          "polar": {
           "angularaxis": {
            "gridcolor": "white",
            "linecolor": "white",
            "ticks": ""
           },
           "bgcolor": "#E5ECF6",
           "radialaxis": {
            "gridcolor": "white",
            "linecolor": "white",
            "ticks": ""
           }
          },
          "scene": {
           "xaxis": {
            "backgroundcolor": "#E5ECF6",
            "gridcolor": "white",
            "gridwidth": 2,
            "linecolor": "white",
            "showbackground": true,
            "ticks": "",
            "zerolinecolor": "white"
           },
           "yaxis": {
            "backgroundcolor": "#E5ECF6",
            "gridcolor": "white",
            "gridwidth": 2,
            "linecolor": "white",
            "showbackground": true,
            "ticks": "",
            "zerolinecolor": "white"
           },
           "zaxis": {
            "backgroundcolor": "#E5ECF6",
            "gridcolor": "white",
            "gridwidth": 2,
            "linecolor": "white",
            "showbackground": true,
            "ticks": "",
            "zerolinecolor": "white"
           }
          },
          "shapedefaults": {
           "line": {
            "color": "#2a3f5f"
           }
          },
          "ternary": {
           "aaxis": {
            "gridcolor": "white",
            "linecolor": "white",
            "ticks": ""
           },
           "baxis": {
            "gridcolor": "white",
            "linecolor": "white",
            "ticks": ""
           },
           "bgcolor": "#E5ECF6",
           "caxis": {
            "gridcolor": "white",
            "linecolor": "white",
            "ticks": ""
           }
          },
          "title": {
           "x": 0.05
          },
          "xaxis": {
           "automargin": true,
           "gridcolor": "white",
           "linecolor": "white",
           "ticks": "",
           "title": {
            "standoff": 15
           },
           "zerolinecolor": "white",
           "zerolinewidth": 2
          },
          "yaxis": {
           "automargin": true,
           "gridcolor": "white",
           "linecolor": "white",
           "ticks": "",
           "title": {
            "standoff": 15
           },
           "zerolinecolor": "white",
           "zerolinewidth": 2
          }
         }
        },
        "title": {
         "text": "K-Means Cluster for Wholesale Customer"
        },
        "width": 800
       }
      },
      "text/html": [
       "<div>                            <div id=\"f93e5291-c1ea-4542-9267-b7e7ef43bb0e\" class=\"plotly-graph-div\" style=\"height:600px; width:800px;\"></div>            <script type=\"text/javascript\">                require([\"plotly\"], function(Plotly) {                    window.PLOTLYENV=window.PLOTLYENV || {};                                    if (document.getElementById(\"f93e5291-c1ea-4542-9267-b7e7ef43bb0e\")) {                    Plotly.newPlot(                        \"f93e5291-c1ea-4542-9267-b7e7ef43bb0e\",                        [{\"hovertemplate\":\"PCA_1=%{x}<br>PCA_2=%{y}<br>PCA_3=%{z}<br>Cluster_ID=%{marker.color}<extra></extra>\",\"legendgroup\":\"\",\"marker\":{\"color\":[0,0,0,0,0,0,0,0,0,0,0,0,1,0,1,0,0,0,0,0,0,0,1,1,1,0,0,0,0,1,0,0,0,1,0,0,1,0,0,1,1,0,0,0,0,0,0,1,0,0,0,0,1,0,1,0,0,0,0,0,0,1,0,0,0,0,0,0,0,0,0,0,0,0,0,0,0,0,0,0,0,0,0,0,0,1,1,1,0,1,0,0,0,0,0,0,0,0,0,0,0,0,0,1,0,0,0,0,0,0,0,0,0,0,0,0,0,0,0,0,0,0,0,0,1,1,0,0,0,1,0,0,0,0,0,0,0,0,0,0,0,1,1,0,0,0,0,0,0,1,0,0,0,0,0,0,0,0,0,0,0,0,0,0,0,0,0,0,0,0,0,0,0,0,0,0,1,0,0,0,0,1,0,1,0,0,0,0,0,0,0,0,0,0,0,0,1,0,0,0,0,0,1,0,0,0,0,0,0,0,0,0,0,0,0,0,0,0,0,0,0,0,0,0,0,0,0,0,0,0,0,0,1,0,0,0,0,0,0,1,1,1,0,0,0,0,0,0,0,0,0,0,0,1,0,1,0,0,1,1,0,0,0,0,0,0,0,0,0,0,0,0,0,1,0,0,1,0,0,0,0,0,1,1,1,1,0,0,0,1,0,0,0,0,0,0,0,0,0,0,0,0,0,0,0,0,0,0,0,0,0,1,0,0,0,0,0,0,0,0,0,0,0,0,1,1,0,0,0,0,0,0,0,0,0,1,0,0,0,0,0,0,0,0,0,0,0,1,0,0,0,0,0,0,0,0,0,0,0,0,0,0,0,0,0,0,0,0,0,0,1,0,0,0,0,0,0,1,0,0,1,0,1,0,0,0,0,0,0,0,0,0,0,1,0,0,0,0,0,0,0,1,1,1,0,0,1,0,0,0,0,0,0,0,0,0,0,0,0,0,0,0,1,0,0,0,0,1,0,0,0,0,0,0,0,1,1,0,0,0],\"coloraxis\":\"coloraxis\",\"symbol\":\"circle\"},\"mode\":\"markers\",\"name\":\"\",\"scene\":\"scene\",\"showlegend\":false,\"x\":[551.1131859871082,2707.0646130489295,1888.1403677584103,3744.006969546094,2947.3133862009204,442.59833059920516,3570.232919692814,5109.909528513773,2948.470615100847,9496.622726841204,8582.86860637766,2852.7817941834287,1754.0116051632479,8714.498251024503,3836.4839905054578,2169.7909345228077,5179.086463201924,921.5364974938061,4586.959771438416,6194.7109750047985,852.1443985257022,1734.7791756131376,3503.4281145788677,1254.8954861046145,5760.323655259821,3290.290395488019,2137.8541548621442,1551.9729084296657,10367.282250409255,553.2412520260352,6580.752141140537,636.2889460930317,783.6505501283345,3599.8939863978844,828.7263513422454,6277.5172119397075,1230.7292054161887,4365.646158623729,5079.0809629903915,398.6622696840942,2797.4954163027173,2878.5272125375323,7742.849259010109,13794.380818459815,4508.718518082438,6040.6115210838625,10667.33849512164,16427.84976367314,5224.010030220671,12399.745578244832,1674.949170629337,3456.929156727838,1085.0765627002768,3992.947635582657,221.08035383181908,2145.4056221329183,6484.568886197287,3050.8764823546894,151.26087779748374,3468.180210500169,4426.258390103625,27381.478915593543,2666.181593124158,6971.310567244461,2669.35061837975,26164.040062713182,5255.693094365364,6809.633554688294,695.0034813548749,612.3095757054028,3328.116005197457,16910.46182053332,1358.6989730279608,5333.636730183666,4559.488726276605,429.49560172777416,5163.462028347604,16160.929311581089,1093.0183997720706,1383.3803575620138,1807.7969701310815,6720.049289817263,3798.33689392511,277.0464196450437,1923.684651964549,50523.962555885955,13466.653924630096,3578.81270731517,4963.896585246649,2051.1063136006032,1318.923853810529,2107.4264174948344,11886.99670939711,7844.499392165522,2553.3426348093103,3640.6792543598485,5246.161445612649,527.2941554568991,763.070180636268,1319.1466678778243,6029.764689676576,7822.176218538052,3306.196095453007,7246.032570322481,1384.2207515757596,2236.2870623619574,5318.014323210088,6678.485773969978,1230.1230432088994,14811.286874959864,537.8242900429134,8054.192600252497,1821.6991556534,339.0054415856985,885.2800175112967,2173.503851039696,1274.1134931175843,2411.62599460947,1325.0610252566796,1074.4332873026578,1974.081239781004,96.10367644241985,40.43063920054665,1514.2027190213207,1125.2744491853355,4580.099973802549,1490.777916166409,4142.928242782262,1537.7530532082847,670.2378209506077,474.27690649387364,64.1094372222286,438.05725924779597,151.65926479654178,625.864475370881,1430.8054707021436,2065.53222734403,2485.4837171900103,1297.6586602905616,51.0493932994793,3457.6472262186157,4008.1528030351533,2048.4060408008318,1595.5220331199428,1105.8876994568495,22898.668817709724,632.2113540696108,327.78009012998774,836.9361412955748,590.3670674995661,23.74266102875076,44.1727057749985,1724.9891147855412,2924.077668872942,73.32048135915085,10132.769921233246,9183.566201150568,1325.714831732041,4441.19619419794,7937.338876773385,8608.327604856207,329.97318166907496,2006.0801917440285,13846.116968428894,3335.6980272232527,9827.566474045416,3928.4032569246688,938.0905291770371,344.80203524036204,1707.520553171622,6581.785789790339,2587.801037854604,2454.2309292562727,12233.538414711453,4202.294095165798,5414.937492991262,1422.2328643587307,320.2666991703105,82.34145590802467,374.36591323721933,3597.199251601108,1746.3912416646858,4113.559994510984,247.52416952678516,3344.5784163405183,2313.0967625966064,1110.8756329008008,5130.2652200888015,5767.960834647376,3276.2732678015645,681.3994723748043,592.3855029887839,950.3000013573807,14861.729152245904,1767.3760285156845,2672.020983243271,3287.103470369956,4856.088987446109,4739.321170089197,220.18927898421734,12596.48908186996,13115.246065941228,1761.9666628212685,1524.331239275786,4017.920440747883,13161.95502189982,294.36717702125424,3033.323364029192,3137.3500960721753,6865.54822608782,238.91364038612252,17888.739059679185,1133.4999016968195,2259.7934784877193,5886.802307935817,7142.526821657674,20806.632283898085,708.6668619061412,8692.12749381376,1302.8996640856249,432.92489068089156,4476.345237970722,3289.1775691925827,4151.079616672668,743.2889298791912,1276.9105969166822,3881.7369613141186,473.72091263449374,304.6951141363455,1830.6613773328393,2893.684733563538,2287.870522833222,1215.3736703269021,242.66332630605396,2025.541125317375,864.9320773848533,2218.955534650101,1249.3212396752715,171.84213955831464,918.5706295424089,5587.600022820083,514.9703772179305,2125.4497102654377,1922.1075576952449,4695.539765000942,7977.5950939303,201.12706192907925,124.2325160820227,1372.3916110326236,833.6682942738465,681.7042006877006,16401.425978049985,4402.577294138825,8413.933761465598,4967.38588175274,367.76605856075616,1251.2003724930698,1330.9753324882545,1568.7873795789208,1771.9548967882388,1143.74703114603,1579.3442300304905,127.09552103465528,5771.577888356114,7403.87096830214,856.5844431596704,13364.422884225947,1492.0905812000544,11611.773419917461,731.0343842096768,1346.482654061433,1198.0385569911984,1288.5756030998332,837.1486706708234,734.0517503142137,493.975620515354,3540.94669025492,3733.027416826818,1724.3348753240066,4162.404976056301,538.9338889243688,1045.7616475531051,669.4614863992879,1061.2344156267316,7013.413940914737,1106.6227140766446,100.8242622987786,2509.0196053048808,242.5090882814663,1274.7290719315606,1008.3348717488893,1213.2079015010377,2673.7547532342596,4308.5228582160225,3560.4299540865145,3023.158062244858,2172.808731523893,3983.0158330099725,5618.020760534179,1252.6407074359008,1359.7451305527857,9740.88581251968,5111.224833851597,9290.676286619699,16322.788955152704,537.8723475178914,10885.599541280086,584.0237389647882,1702.795734216848,422.8237151165164,3839.0577027727218,4942.841131329962,13809.594961498082,2098.1040079150694,5159.393566826166,1869.1286941724345,1390.3167656732146,3516.671913180976,1453.7084621560962,944.9576370152936,53.71190689916027,3445.204505698981,2511.6215405392686,8561.760111873535,445.58070999016604,15210.77577216655,951.0048269513048,951.7286750435347,2718.1265877416304,3932.286042102213,3632.065640778382,13754.779415994844,957.1054576301376,51697.845143207815,3752.510657639461,4327.027598459072,162.64743455437372,2942.3906944771547,9219.45513332062,5859.935994273096,5805.089414327909,6167.713525213476,1842.8303297087386,17971.007693350253,1211.5315993944969,5440.251718155646,9478.521126313999,5697.713313770307,561.1670316520995,9156.928422632998,1315.9718634374976,13166.077647627984,831.6719779381652,13964.256035761216,923.9461631083456,1300.2935737407443,119.31999223190428,17448.304002057597,7090.432518942654,1343.7984588194684,118.00176545874655,463.7650452554449,1188.8330842124146,2925.229197379697,925.9169201748276,3465.17332969463,48.78810017211669,157.51707293753446,849.3280403988969,368.256464491031,563.8136552036214,1648.876763647993,632.9816896604327,2415.25938213628,245.1654642373354,69.15666024724514,7679.92278155973,933.1069235102658,265.6518503484388,5571.091362628255,951.5394948095195,477.2124095229624,2077.483099258008,2952.2565111577155,1371.433551776506,936.6327259598444,818.1381339408169,166.9812042913638,481.5804774601924,659.3805491097819,1613.685957694573,522.288838402837,851.1292703458886,594.5026465119655,1945.9204825338993,610.7082239218748,1692.2791373516347,1404.157069217146,712.9644600788461,421.5760967553235,1182.9927144583994,2214.4091800150204,539.9103243007982,3138.819226746749,610.4474707380037,590.1757387613834,2683.471188059347,8754.418201858309,3191.24283084184,3218.8006708619273,2644.087980956393,1200.7861217463894,8187.821555600337,6837.409544752676,2813.0588729171704,3818.479876606825,3097.0088785320922,5945.343905298367,10644.76208236591,421.6936339824048,7778.453267186675,4306.765592727901,1726.0844696378945,1334.1143750878143,7891.6597081811615,3985.4267866987666,6873.874988664229,2160.0876794766846,1225.9924630153207,1626.0193064975172,11158.554695593002,4110.4626282623785,2406.0985210051226,206.45003462019494,3867.9774214219246,8491.008999134314,749.7066664651484,15868.747430578182,571.5268534125933,1038.202212828331],\"y\":[8147.105698592126,5086.938208887651,4450.006857941887,7026.99647660266,12871.111943523378,6069.560672905462,7255.513050339594,4967.32775697408,3890.802787356582,5235.691730261415,2684.061129137092,7408.931013097671,18997.382628137926,12716.960086212743,14930.500960410049,5877.87495891766,2009.5059645777778,3819.144081601353,11083.55202972851,4961.705601903668,10125.441670715942,2933.5290732665408,16658.144109380533,18285.92692862872,13737.053950988304,9604.75831982833,5373.539828802902,7990.487028583058,5412.202711396613,23715.634512357254,11127.271659662207,1791.8564966190647,12052.701619983189,16511.791052874698,1082.898396256754,1428.8488726272328,16868.831120939733,9732.328585015066,4816.927691310873,29841.85414738533,12914.839430674556,10890.511444643285,7429.938232411787,2646.741928549806,6440.866026751537,5806.108883489019,4041.9731710928095,31429.13332709784,7396.242963688076,6078.1017664579595,3291.430459671271,2563.059090172513,22831.902301132377,1770.1928073419872,14923.229220705614,3385.891394325326,6114.236989743758,4408.985748864366,7722.579785716376,4265.441596058146,5401.728819168808,26098.989107107045,4816.834641688298,6786.878053958462,2568.375610329094,4553.767395842403,565.1246579250849,12120.50369213886,1666.4809861026094,4797.521690072278,8541.014101318347,10878.261893690491,2223.9650535015858,11107.8914489909,5471.452285292597,10829.820301092912,427.0864575266436,9356.853674100379,5908.537706527571,1310.0746444951178,4031.7155734540374,1757.8936458204234,7016.872086306074,11414.181989741355,6933.615882076078,18141.107909855837,20462.736683838197,23942.288005890317,3727.181752852527,13916.330780784785,6073.733219004526,6576.987777690493,8951.450791615249,3496.545112152578,4748.956343793764,583.6669901855137,707.6913852747957,210.15894254449287,252.45616921918906,5069.841279281855,7416.872987062758,2516.548075532715,2375.771934809699,29828.700609254174,7955.032591707235,8741.48868782662,1954.4321274168524,6364.297871535754,1932.967500646852,3849.4751899013436,6483.121576047966,8772.137155211223,9989.90352467536,7885.188895728158,9823.94173582215,6079.017979377033,6370.607198692156,4314.353084036479,10763.12790612456,4486.493147832375,9449.337296571086,2341.9811828724,6514.901542377651,7325.569051296996,19549.50736168125,40833.95516741863,10015.259386992162,12871.866451069855,1030.5830624405282,23083.453109745133,3590.501635254433,1183.07345014689,8392.375379637146,5265.871261911083,4252.362389107674,3595.9015689893636,3260.3011654147313,2797.275597219674,8023.790024628683,3480.5894606364873,10205.00606073509,17947.65238138411,21021.06529795694,5136.301898506816,10678.512928883427,14808.496841758517,4446.7635638012225,5348.592409514455,2957.287591205403,17490.43181145839,9028.537469109331,1055.2461111153953,10311.711361044825,2732.1233130200867,345.3717247559128,3128.137380465361,3397.2674499165523,9656.867225777352,2605.7199583414654,1686.155334817041,1946.424392037872,6744.790116429768,8439.309134879148,5739.1904220176775,3776.929800254101,10377.71199406162,3654.7085163002102,2022.7728525438388,3154.756536697483,2931.8692819017315,1576.9167771529978,3399.7930626609523,1341.9251573775164,2032.9558814489674,353.58114040469985,2642.175451157356,25210.16113997799,7685.765501252371,6783.978659421072,1888.0827317038697,7739.099523409336,63235.498535866034,1684.5173324575387,21773.82232210605,532.5769280475237,4868.502393019986,1432.613709605085,2040.8620356112613,5483.353521922732,2089.2736667899812,9232.273822524316,7457.023204761132,3212.805216777881,1529.7383345014034,4067.6403363131826,9335.022812071678,15957.568491945287,2442.471457028303,6653.96454967178,5543.117044262496,3825.994972914804,4824.470780404839,14825.428824897079,467.7015169870819,1335.3577459340183,2919.070766819989,3519.725649869108,1889.9517472985688,1340.01819840958,5021.240889313422,10205.905941620496,10946.204876172316,4070.581161974726,2655.6768402489306,2439.0453741380675,3243.4112732255103,4948.448289381239,9861.576173391337,1440.0623936362226,2178.3684979144255,8047.554500173311,4200.421493501829,2359.5658715861846,1559.6776988277566,4042.162821515232,7375.30046300966,12224.011577023473,2281.740023395291,1018.5253810465271,4501.137931537906,6147.212345254051,2271.520431674673,14476.542103384678,1058.5512318138076,8590.321389352672,1596.875432763848,4757.713253739731,10140.321076608301,3991.5825990781996,25873.865123670836,11771.56731896985,13695.286904445577,9838.967978534998,6668.39640149485,4577.523420954793,3001.2714739743074,4997.6802852140545,7273.922744576472,9078.14551986686,4270.59160006086,1863.0251139599093,6707.680620187021,3381.369393121115,17744.137572560354,7030.622272304808,17081.649833008327,6740.43546537646,4457.886734273775,30519.69509806671,29595.838718440828,5519.292451766739,3847.459474397247,12807.572895819678,1292.995755097568,2317.2654289039383,5119.630883292723,2269.6508489613225,11299.767433812847,8266.33226347794,8166.419526148576,2238.1212481899174,1548.6356028163525,1341.0767560180152,19994.339923803287,675.2752654859921,442.88919220941426,15551.160006558057,3574.341948426703,6210.709547678331,10451.557971989097,2136.3424041628546,7543.534132542408,26811.14570996509,13569.791781960921,37956.88300848253,22122.964921000974,4017.769976288102,7985.911473882941,8917.351217518331,23254.641454559696,1771.5982423848068,3539.9869133257193,1730.4858484592496,3776.0356650124636,12080.004108549938,4573.839330145392,10467.624090837731,4971.069622323905,4583.484933586009,416.5180021038407,9797.544817018133,5061.448388206019,2573.3256160434744,2515.6927519074143,2150.3899920309627,1673.4596619841864,5738.082757202407,9714.146537738352,4038.8883480446543,2909.796975241553,3007.7914861644995,16583.209835220616,2522.3937716999567,5167.867261188212,6269.291366592736,2714.594309384819,3898.7459479908266,1185.0919394331893,6687.96062704321,8372.101561275977,1367.296518770385,5223.718514188978,8593.644461195792,7981.590081268058,14401.104004154528,14746.205803826359,2321.4770667896523,434.61082348061234,8934.507078127404,2740.512530806757,5482.49997008731,8868.641365494954,12329.919233600469,9135.6817180781,8405.521095293567,15862.420255885787,7764.611799334753,4654.759663156187,906.9356118711,1011.7384113142106,1092.5619617191935,2355.7351365543054,945.1332390418062,2962.105944963518,1667.949278088996,1337.7374466173019,2791.3103668225867,16021.335929197905,2072.149759607652,5542.416224172813,1974.7645640822711,2689.4210573441073,443.622507980464,1845.268060291097,7864.848321533932,264.1744514355167,12115.604663026183,1459.2242120299238,1533.1507898858981,1020.4873200180591,10897.121137729504,2578.0970653254785,1388.652729024983,2856.5291907419855,1493.9505722066358,3410.7995955568003,5394.470758360857,1874.9397542291197,12241.589071768425,3360.0525505191763,22138.058371890966,10521.815006285437,2456.07810649137,9054.20041541382,3613.225927364744,3322.7476482243087,2755.820692936588,21478.838697168536,2122.231205310003,3252.2735211038266,15273.127142219691,9300.688321050762,19689.821459083956,965.1568824436597,8254.4170986658,6291.386867344414,961.4236741748391,11486.23226905471,5329.066144615992,5065.827290221145,1525.933946183271,1733.1502242737615,789.9506514026293,12922.387980014599,6890.461036629904,5165.263010197794,3792.2680715912743,5916.5265322185205,5888.264997378599,5204.536723814405,2261.9151327413933,14017.775371217092,15150.444324370048,15140.595976478342,10066.542772002118,3729.664713415291,13529.13142096123,5960.7550088397775,5067.12363885843,5212.679140517425,3944.532770570022,1496.7564013576355,1092.9622058069178,1963.2547205569663,3130.5090918794585,5146.649342525919,3887.153454864287,3854.215193819317,2179.152835517471,5223.967911537359,3663.58014806992,10161.267059774993,14685.216485490293,10070.451932977043,10158.426343806217,5147.428233956875,8527.602848626027,17305.875997754192,2262.3479560403607,5049.467799413035,2985.271478670849,4245.174537151508,11871.534709736,1303.8576121114113,9869.312968523976,17016.50145633242,21155.82421529118,10997.426570891103,5818.3054572780475,1806.3699121136162],\"z\":[5131.161064099218,1804.4186976183564,1815.3479952033554,7730.36880291856,11944.338131433344,3761.008967039438,5851.6219377754915,2821.4362365813868,2295.1068131576385,65.1016111931457,220.63306666086962,7110.982198632076,15327.023250542847,10087.38851334343,11618.371459626114,5404.314861700181,1996.592216014813,2275.278570712917,8989.579700075306,3187.283727330858,9117.658884529952,3238.181006762898,18349.532479069727,8115.50977962501,10504.381704988326,7943.852846147889,5616.968451109106,7873.529483962366,3300.579248901446,24496.623617978425,9289.182320151824,760.8756744470573,12053.325609571348,16377.215910351519,380.81456520893636,1517.441362218375,16309.331301682452,6095.2421193480795,1445.9459520541545,33411.702734954815,13776.137832980441,10229.996869394756,3579.6276556032003,3773.504268317002,3497.2975072566596,2368.438685291631,2460.6660688634206,12632.400828460286,4657.698669076827,3194.882397374119,3665.9027506411217,614.0442441094185,22435.3375055164,2416.5964101260547,15665.976866472003,2080.7294308132628,4627.657050865388,554.1421524046517,7578.331243741498,1914.128511919505,3689.9003232058435,9099.787241275752,3350.2086730307965,2345.1055831495582,2620.4592839834236,7975.832367650022,1004.2223795530571,9221.376411621117,545.6298493144616,4368.404091529364,10159.874628422609,8699.084515011362,2461.4767649608825,10665.220072646633,2892.1530630897432,12116.330390341995,18.57033297660855,2213.7655386688925,6062.740236234233,169.73258408706144,3656.0307627810284,2797.8845836542787,3538.4814087260143,11915.703488411787,5991.092350530886,7360.086594421685,833.7717366566668,24116.672792688976,5069.7918606061285,13652.633976221732,6696.557149715373,7631.47736650458,1814.7565605641068,9589.320876991645,268.2999200308773,1055.822084787296,1233.3370181041623,212.25395482676313,285.540079596415,5666.451626557476,4607.9339559403925,2350.9139263097068,194.1658775546227,32919.4356273394,7624.2708935032015,8546.899413282932,1229.5682016385726,2188.9539587187965,1070.3108638545514,4699.764170802125,6662.523189115864,3843.9628113177846,11298.559051949715,8181.480962509836,10348.356321425214,6297.496817742022,5900.897536601331,3073.635118280038,11647.545806915594,4621.294918135742,9651.098628847134,1947.6420681492968,7228.981798726077,4174.309639151273,20828.75162009966,44636.47960768421,11552.792097563433,10310.806712917905,1610.6481022552748,24392.643743190914,4380.057906981649,1133.6107390391878,8128.171053638908,5224.836825422205,3845.2921049919237,3304.189705053642,1148.7231319763052,219.80681977560283,6690.318803405565,2118.192820600379,9032.777494934473,15132.885516877748,19831.45479681457,6568.161047667287,10165.532222645665,7774.982361805689,4079.608277451526,4681.0451298965745,3716.9161706508794,18123.80669955228,9030.932915802827,97.60684036733156,10691.187268385293,480.55996975571674,345.36305104805183,2493.9995714573192,130.84721595107274,10185.45028357644,246.41601937443556,2468.938403252402,836.5168860341297,7208.651501580392,8365.204672097603,1754.9219501111818,1254.1665245119461,5513.338971481932,922.6796211429572,916.8783189484658,3318.133504853451,3052.045026972467,2454.0236029704597,5741.021007797235,920.3314068681037,2871.016321724133,312.2893666206387,1070.3045582142802,25493.296055710427,6014.290739265545,4925.543126661651,1318.1790859244293,5354.901478058527,60443.831606137785,1937.5971360162428,16609.323465194633,447.3377505959275,3898.257067689398,1942.0869461220536,156.55789530745506,2566.882913579379,2427.8171080891734,9459.625759628001,7793.343053846438,2791.6911427621812,2502.5375829289164,3732.025497336401,9379.114397714566,18138.371623568557,637.7030607895952,6088.721051741452,5094.534324756985,2246.528774245806,1807.94092931742,12429.145118465125,47.16519441232825,583.0266572536772,3525.813041272732,3567.7441306894457,432.1594721401031,92.93667249030518,370.38526691237655,10518.120082053709,918.3244651215731,3988.8588016277436,354.15377370836376,723.729537235346,1485.6899601791001,4893.767952751132,10283.228114235892,2597.604124389748,2446.949078028194,8452.875367407754,885.3563236867491,3242.0801764034345,1271.1201634554084,4037.8651307664686,6490.605967447281,10361.115821640666,2092.2589399900053,1037.0296707656285,5067.300562297828,5811.949610756519,464.5307489276477,14430.258632053214,429.7915064889012,8679.331162527666,44.35314419927644,4796.8832095445205,10693.647462336925,4250.126044257743,27281.72265829028,12724.440008845551,14143.794580935246,10543.088097330665,5475.69358614044,1409.7055938416186,609.2385150447889,4787.731912109862,7976.519105681342,8104.801858216242,4550.421992695856,1545.6287375876523,2751.4934841271165,3865.252206661103,14147.058497123418,3368.6548365066405,18422.750454595745,5172.606495791634,4953.375444569436,32270.277474002145,29619.012074516515,4412.336475840556,4993.688899957544,13193.651710761676,818.1016207192638,2459.9712715449305,422.6408097193424,3263.7003032614434,12065.986144273713,3683.5396245886864,8920.75586008339,3060.5835740995085,424.4292031432855,1606.576577841424,21228.777068854102,148.38670778677147,225.88390140887074,15334.078464304768,6846.710182782668,6778.634352265387,8236.510731122737,1368.5267812434959,5490.614432695555,28012.711098462023,15271.693584394692,38850.53877654705,22944.145281819605,3849.824272812031,9167.005749681673,9281.343602589792,24838.34281898229,1019.9308755343386,2910.5722856716898,1130.6868666835767,563.1482483186347,11414.872204216075,3595.1827748266865,10793.655865156423,3615.888841329644,2267.3979277703966,66.5120678585126,8013.591327786345,904.2930645392221,124.78382782328421,479.98263208825773,3616.1604405315547,2624.2069734082474,275.9127612368351,9503.713710832935,3616.4342496854447,3800.8683081562394,4928.018392754016,16250.5642833375,1250.9709787559157,5742.975252780785,5216.103266569805,2554.180241687645,3972.8759600168455,325.44341428958217,6278.056807553775,197.5039291782845,295.0208592757608,4753.592392869871,9128.18781329941,6441.440295225163,14507.350054020502,21474.095923127185,2537.282167361716,46.151478453375724,9950.42115046841,2791.324448140152,5234.647499202618,1548.9258415205998,12536.950102921357,3046.3314112186868,10537.071440402675,13666.746806946343,7796.21312047668,5802.772227979403,845.6365354423552,1780.241329644886,1374.2585258137726,634.7586009551432,1298.434257103057,2736.9100528584127,1637.1566949394603,546.946123628105,807.558254490511,13773.944639478126,1560.3273086587976,685.9882771379906,1852.9213045793063,2998.1985164310618,112.4312314050441,3121.224450877507,7452.823447399804,188.2491071845502,13432.408489306523,2564.2383967455507,1818.844383116004,590.1644139212208,11076.685734421351,2687.7011335354796,788.2025397811296,2073.8045849539308,1338.947309224898,1124.454427506817,5158.364783433921,1980.018165498201,12719.04757965665,3589.9235496909264,22015.665154916598,12025.405563185685,1609.5373481525714,7176.375240942514,3319.100580640186,3108.940784658755,318.82303597158375,21832.919745845204,1210.6293432328482,477.9904470373338,16408.884746860058,10499.575075042996,18222.836699542415,906.2224414584629,1711.1507803089569,6703.788164945517,66.2364250448125,11874.22679929045,5594.85553665184,5378.660017924971,2208.3461626944213,975.3805012280742,630.9305152613193,13203.013167218873,6843.997690690104,5542.467804529035,130.9812975225037,7008.30897076415,6985.281076216756,5551.8660488446885,2687.849585402206,16498.295287803125,14150.061464119895,12739.052077556444,9880.010508658617,3927.596399227006,14282.312897601572,665.6783708300129,3696.1365489586096,4101.101929232551,3188.666888630793,558.0977794934491,1804.0350113649672,3351.252652866354,3398.420277643252,2911.6038923431047,148.22400677468298,970.9886976876596,2862.794563913591,4406.291357455461,380.920301583692,8303.834340960277,14726.995782325628,9243.653176364509,8181.334354000966,7506.454552566752,5023.747789893866,16536.210548877625,593.6425955509535,4346.971759925362,549.5469731488901,5008.5182519225855,11575.65497026901,679.4836650933723,8325.07777087147,15100.21744304659,22909.214067202724,2923.0191508379353,5539.249049603265,1101.1750385145824],\"type\":\"scatter3d\"}],                        {\"template\":{\"data\":{\"histogram2dcontour\":[{\"type\":\"histogram2dcontour\",\"colorbar\":{\"outlinewidth\":0,\"ticks\":\"\"},\"colorscale\":[[0.0,\"#0d0887\"],[0.1111111111111111,\"#46039f\"],[0.2222222222222222,\"#7201a8\"],[0.3333333333333333,\"#9c179e\"],[0.4444444444444444,\"#bd3786\"],[0.5555555555555556,\"#d8576b\"],[0.6666666666666666,\"#ed7953\"],[0.7777777777777778,\"#fb9f3a\"],[0.8888888888888888,\"#fdca26\"],[1.0,\"#f0f921\"]]}],\"choropleth\":[{\"type\":\"choropleth\",\"colorbar\":{\"outlinewidth\":0,\"ticks\":\"\"}}],\"histogram2d\":[{\"type\":\"histogram2d\",\"colorbar\":{\"outlinewidth\":0,\"ticks\":\"\"},\"colorscale\":[[0.0,\"#0d0887\"],[0.1111111111111111,\"#46039f\"],[0.2222222222222222,\"#7201a8\"],[0.3333333333333333,\"#9c179e\"],[0.4444444444444444,\"#bd3786\"],[0.5555555555555556,\"#d8576b\"],[0.6666666666666666,\"#ed7953\"],[0.7777777777777778,\"#fb9f3a\"],[0.8888888888888888,\"#fdca26\"],[1.0,\"#f0f921\"]]}],\"heatmap\":[{\"type\":\"heatmap\",\"colorbar\":{\"outlinewidth\":0,\"ticks\":\"\"},\"colorscale\":[[0.0,\"#0d0887\"],[0.1111111111111111,\"#46039f\"],[0.2222222222222222,\"#7201a8\"],[0.3333333333333333,\"#9c179e\"],[0.4444444444444444,\"#bd3786\"],[0.5555555555555556,\"#d8576b\"],[0.6666666666666666,\"#ed7953\"],[0.7777777777777778,\"#fb9f3a\"],[0.8888888888888888,\"#fdca26\"],[1.0,\"#f0f921\"]]}],\"heatmapgl\":[{\"type\":\"heatmapgl\",\"colorbar\":{\"outlinewidth\":0,\"ticks\":\"\"},\"colorscale\":[[0.0,\"#0d0887\"],[0.1111111111111111,\"#46039f\"],[0.2222222222222222,\"#7201a8\"],[0.3333333333333333,\"#9c179e\"],[0.4444444444444444,\"#bd3786\"],[0.5555555555555556,\"#d8576b\"],[0.6666666666666666,\"#ed7953\"],[0.7777777777777778,\"#fb9f3a\"],[0.8888888888888888,\"#fdca26\"],[1.0,\"#f0f921\"]]}],\"contourcarpet\":[{\"type\":\"contourcarpet\",\"colorbar\":{\"outlinewidth\":0,\"ticks\":\"\"}}],\"contour\":[{\"type\":\"contour\",\"colorbar\":{\"outlinewidth\":0,\"ticks\":\"\"},\"colorscale\":[[0.0,\"#0d0887\"],[0.1111111111111111,\"#46039f\"],[0.2222222222222222,\"#7201a8\"],[0.3333333333333333,\"#9c179e\"],[0.4444444444444444,\"#bd3786\"],[0.5555555555555556,\"#d8576b\"],[0.6666666666666666,\"#ed7953\"],[0.7777777777777778,\"#fb9f3a\"],[0.8888888888888888,\"#fdca26\"],[1.0,\"#f0f921\"]]}],\"surface\":[{\"type\":\"surface\",\"colorbar\":{\"outlinewidth\":0,\"ticks\":\"\"},\"colorscale\":[[0.0,\"#0d0887\"],[0.1111111111111111,\"#46039f\"],[0.2222222222222222,\"#7201a8\"],[0.3333333333333333,\"#9c179e\"],[0.4444444444444444,\"#bd3786\"],[0.5555555555555556,\"#d8576b\"],[0.6666666666666666,\"#ed7953\"],[0.7777777777777778,\"#fb9f3a\"],[0.8888888888888888,\"#fdca26\"],[1.0,\"#f0f921\"]]}],\"mesh3d\":[{\"type\":\"mesh3d\",\"colorbar\":{\"outlinewidth\":0,\"ticks\":\"\"}}],\"scatter\":[{\"fillpattern\":{\"fillmode\":\"overlay\",\"size\":10,\"solidity\":0.2},\"type\":\"scatter\"}],\"parcoords\":[{\"type\":\"parcoords\",\"line\":{\"colorbar\":{\"outlinewidth\":0,\"ticks\":\"\"}}}],\"scatterpolargl\":[{\"type\":\"scatterpolargl\",\"marker\":{\"colorbar\":{\"outlinewidth\":0,\"ticks\":\"\"}}}],\"bar\":[{\"error_x\":{\"color\":\"#2a3f5f\"},\"error_y\":{\"color\":\"#2a3f5f\"},\"marker\":{\"line\":{\"color\":\"#E5ECF6\",\"width\":0.5},\"pattern\":{\"fillmode\":\"overlay\",\"size\":10,\"solidity\":0.2}},\"type\":\"bar\"}],\"scattergeo\":[{\"type\":\"scattergeo\",\"marker\":{\"colorbar\":{\"outlinewidth\":0,\"ticks\":\"\"}}}],\"scatterpolar\":[{\"type\":\"scatterpolar\",\"marker\":{\"colorbar\":{\"outlinewidth\":0,\"ticks\":\"\"}}}],\"histogram\":[{\"marker\":{\"pattern\":{\"fillmode\":\"overlay\",\"size\":10,\"solidity\":0.2}},\"type\":\"histogram\"}],\"scattergl\":[{\"type\":\"scattergl\",\"marker\":{\"colorbar\":{\"outlinewidth\":0,\"ticks\":\"\"}}}],\"scatter3d\":[{\"type\":\"scatter3d\",\"line\":{\"colorbar\":{\"outlinewidth\":0,\"ticks\":\"\"}},\"marker\":{\"colorbar\":{\"outlinewidth\":0,\"ticks\":\"\"}}}],\"scattermapbox\":[{\"type\":\"scattermapbox\",\"marker\":{\"colorbar\":{\"outlinewidth\":0,\"ticks\":\"\"}}}],\"scatterternary\":[{\"type\":\"scatterternary\",\"marker\":{\"colorbar\":{\"outlinewidth\":0,\"ticks\":\"\"}}}],\"scattercarpet\":[{\"type\":\"scattercarpet\",\"marker\":{\"colorbar\":{\"outlinewidth\":0,\"ticks\":\"\"}}}],\"carpet\":[{\"aaxis\":{\"endlinecolor\":\"#2a3f5f\",\"gridcolor\":\"white\",\"linecolor\":\"white\",\"minorgridcolor\":\"white\",\"startlinecolor\":\"#2a3f5f\"},\"baxis\":{\"endlinecolor\":\"#2a3f5f\",\"gridcolor\":\"white\",\"linecolor\":\"white\",\"minorgridcolor\":\"white\",\"startlinecolor\":\"#2a3f5f\"},\"type\":\"carpet\"}],\"table\":[{\"cells\":{\"fill\":{\"color\":\"#EBF0F8\"},\"line\":{\"color\":\"white\"}},\"header\":{\"fill\":{\"color\":\"#C8D4E3\"},\"line\":{\"color\":\"white\"}},\"type\":\"table\"}],\"barpolar\":[{\"marker\":{\"line\":{\"color\":\"#E5ECF6\",\"width\":0.5},\"pattern\":{\"fillmode\":\"overlay\",\"size\":10,\"solidity\":0.2}},\"type\":\"barpolar\"}],\"pie\":[{\"automargin\":true,\"type\":\"pie\"}]},\"layout\":{\"autotypenumbers\":\"strict\",\"colorway\":[\"#636efa\",\"#EF553B\",\"#00cc96\",\"#ab63fa\",\"#FFA15A\",\"#19d3f3\",\"#FF6692\",\"#B6E880\",\"#FF97FF\",\"#FECB52\"],\"font\":{\"color\":\"#2a3f5f\"},\"hovermode\":\"closest\",\"hoverlabel\":{\"align\":\"left\"},\"paper_bgcolor\":\"white\",\"plot_bgcolor\":\"#E5ECF6\",\"polar\":{\"bgcolor\":\"#E5ECF6\",\"angularaxis\":{\"gridcolor\":\"white\",\"linecolor\":\"white\",\"ticks\":\"\"},\"radialaxis\":{\"gridcolor\":\"white\",\"linecolor\":\"white\",\"ticks\":\"\"}},\"ternary\":{\"bgcolor\":\"#E5ECF6\",\"aaxis\":{\"gridcolor\":\"white\",\"linecolor\":\"white\",\"ticks\":\"\"},\"baxis\":{\"gridcolor\":\"white\",\"linecolor\":\"white\",\"ticks\":\"\"},\"caxis\":{\"gridcolor\":\"white\",\"linecolor\":\"white\",\"ticks\":\"\"}},\"coloraxis\":{\"colorbar\":{\"outlinewidth\":0,\"ticks\":\"\"}},\"colorscale\":{\"sequential\":[[0.0,\"#0d0887\"],[0.1111111111111111,\"#46039f\"],[0.2222222222222222,\"#7201a8\"],[0.3333333333333333,\"#9c179e\"],[0.4444444444444444,\"#bd3786\"],[0.5555555555555556,\"#d8576b\"],[0.6666666666666666,\"#ed7953\"],[0.7777777777777778,\"#fb9f3a\"],[0.8888888888888888,\"#fdca26\"],[1.0,\"#f0f921\"]],\"sequentialminus\":[[0.0,\"#0d0887\"],[0.1111111111111111,\"#46039f\"],[0.2222222222222222,\"#7201a8\"],[0.3333333333333333,\"#9c179e\"],[0.4444444444444444,\"#bd3786\"],[0.5555555555555556,\"#d8576b\"],[0.6666666666666666,\"#ed7953\"],[0.7777777777777778,\"#fb9f3a\"],[0.8888888888888888,\"#fdca26\"],[1.0,\"#f0f921\"]],\"diverging\":[[0,\"#8e0152\"],[0.1,\"#c51b7d\"],[0.2,\"#de77ae\"],[0.3,\"#f1b6da\"],[0.4,\"#fde0ef\"],[0.5,\"#f7f7f7\"],[0.6,\"#e6f5d0\"],[0.7,\"#b8e186\"],[0.8,\"#7fbc41\"],[0.9,\"#4d9221\"],[1,\"#276419\"]]},\"xaxis\":{\"gridcolor\":\"white\",\"linecolor\":\"white\",\"ticks\":\"\",\"title\":{\"standoff\":15},\"zerolinecolor\":\"white\",\"automargin\":true,\"zerolinewidth\":2},\"yaxis\":{\"gridcolor\":\"white\",\"linecolor\":\"white\",\"ticks\":\"\",\"title\":{\"standoff\":15},\"zerolinecolor\":\"white\",\"automargin\":true,\"zerolinewidth\":2},\"scene\":{\"xaxis\":{\"backgroundcolor\":\"#E5ECF6\",\"gridcolor\":\"white\",\"linecolor\":\"white\",\"showbackground\":true,\"ticks\":\"\",\"zerolinecolor\":\"white\",\"gridwidth\":2},\"yaxis\":{\"backgroundcolor\":\"#E5ECF6\",\"gridcolor\":\"white\",\"linecolor\":\"white\",\"showbackground\":true,\"ticks\":\"\",\"zerolinecolor\":\"white\",\"gridwidth\":2},\"zaxis\":{\"backgroundcolor\":\"#E5ECF6\",\"gridcolor\":\"white\",\"linecolor\":\"white\",\"showbackground\":true,\"ticks\":\"\",\"zerolinecolor\":\"white\",\"gridwidth\":2}},\"shapedefaults\":{\"line\":{\"color\":\"#2a3f5f\"}},\"annotationdefaults\":{\"arrowcolor\":\"#2a3f5f\",\"arrowhead\":0,\"arrowwidth\":1},\"geo\":{\"bgcolor\":\"white\",\"landcolor\":\"#E5ECF6\",\"subunitcolor\":\"white\",\"showland\":true,\"showlakes\":true,\"lakecolor\":\"white\"},\"title\":{\"x\":0.05},\"mapbox\":{\"style\":\"light\"}}},\"scene\":{\"domain\":{\"x\":[0.0,1.0],\"y\":[0.0,1.0]},\"xaxis\":{\"title\":{\"text\":\"PCA_1\"}},\"yaxis\":{\"title\":{\"text\":\"PCA_2\"}},\"zaxis\":{\"title\":{\"text\":\"PCA_3\"}}},\"coloraxis\":{\"colorbar\":{\"title\":{\"text\":\"Cluster_ID\"}},\"colorscale\":[[0.0,\"#0d0887\"],[0.1111111111111111,\"#46039f\"],[0.2222222222222222,\"#7201a8\"],[0.3333333333333333,\"#9c179e\"],[0.4444444444444444,\"#bd3786\"],[0.5555555555555556,\"#d8576b\"],[0.6666666666666666,\"#ed7953\"],[0.7777777777777778,\"#fb9f3a\"],[0.8888888888888888,\"#fdca26\"],[1.0,\"#f0f921\"]]},\"legend\":{\"tracegroupgap\":0},\"title\":{\"text\":\"K-Means Cluster for Wholesale Customer\"},\"height\":600,\"width\":800},                        {\"responsive\": true}                    ).then(function(){\n",
       "                            \n",
       "var gd = document.getElementById('f93e5291-c1ea-4542-9267-b7e7ef43bb0e');\n",
       "var x = new MutationObserver(function (mutations, observer) {{\n",
       "        var display = window.getComputedStyle(gd).display;\n",
       "        if (!display || display === 'none') {{\n",
       "            console.log([gd, 'removed!']);\n",
       "            Plotly.purge(gd);\n",
       "            observer.disconnect();\n",
       "        }}\n",
       "}});\n",
       "\n",
       "// Listen for the removal of the full notebook cells\n",
       "var notebookContainer = gd.closest('#notebook-container');\n",
       "if (notebookContainer) {{\n",
       "    x.observe(notebookContainer, {childList: true});\n",
       "}}\n",
       "\n",
       "// Listen for the clearing of the current output cell\n",
       "var outputEl = gd.closest('.output');\n",
       "if (outputEl) {{\n",
       "    x.observe(outputEl, {childList: true});\n",
       "}}\n",
       "\n",
       "                        })                };                });            </script>        </div>"
      ]
     },
     "metadata": {},
     "output_type": "display_data"
    }
   ],
   "source": [
    "px.scatter_3d(New_Dataframe_Wholesale_Customer, x = 'PCA_1', y = 'PCA_2', z = 'PCA_3', color = New_Dataframe_Wholesale_Customer['K_Cluster_ID'], \n",
    "                         title = 'K-Means Cluster for Wholesale Customer', labels = {'K_Cluster_ID' : 'Cluster_ID'},width = 800, height = 600)"
   ]
  },
  {
   "cell_type": "markdown",
   "id": "be748f17-ef06-43fb-afb2-3dd1f23ac217",
   "metadata": {},
   "source": [
    "#### **2. DBSCAN**"
   ]
  },
  {
   "cell_type": "code",
   "execution_count": 1482,
   "id": "bc2d6c20-b252-4906-9d54-2a8779366ddc",
   "metadata": {},
   "outputs": [],
   "source": [
    "from sklearn.cluster import DBSCAN"
   ]
  },
  {
   "cell_type": "code",
   "execution_count": 1484,
   "id": "7fc161f1-25a9-4117-b16a-ef9881827729",
   "metadata": {},
   "outputs": [],
   "source": [
    "scaler_2 = Normalizer()"
   ]
  },
  {
   "cell_type": "code",
   "execution_count": 1486,
   "id": "8369e7f8-2bcc-4c3d-833c-78774116f62f",
   "metadata": {},
   "outputs": [
    {
     "data": {
      "text/plain": [
       "array([[0.04383859, 0.64806588, 0.40816095, 0.64147753],\n",
       "       [0.24195278, 0.4546618 , 0.16127584, 0.84186199],\n",
       "       [0.18305988, 0.43143918, 0.17600248, 0.86566301],\n",
       "       ...,\n",
       "       [0.62950591, 0.43626285, 0.11595482, 0.6324172 ],\n",
       "       [0.06667816, 0.67880259, 0.64624599, 0.34226772],\n",
       "       [0.35885091, 0.62436534, 0.38061724, 0.58010729]])"
      ]
     },
     "execution_count": 1486,
     "metadata": {},
     "output_type": "execute_result"
    }
   ],
   "source": [
    "scaled_X_2 = scaler_2.fit_transform(X)\n",
    "scaled_X_2"
   ]
  },
  {
   "cell_type": "code",
   "execution_count": 1488,
   "id": "1efa25e8-83fe-4871-91e4-48bc9d16e68a",
   "metadata": {},
   "outputs": [
    {
     "data": {
      "text/html": [
       "<div>\n",
       "<style scoped>\n",
       "    .dataframe tbody tr th:only-of-type {\n",
       "        vertical-align: middle;\n",
       "    }\n",
       "\n",
       "    .dataframe tbody tr th {\n",
       "        vertical-align: top;\n",
       "    }\n",
       "\n",
       "    .dataframe thead th {\n",
       "        text-align: right;\n",
       "    }\n",
       "</style>\n",
       "<table border=\"1\" class=\"dataframe\">\n",
       "  <thead>\n",
       "    <tr style=\"text-align: right;\">\n",
       "      <th></th>\n",
       "      <th>PCA_1</th>\n",
       "      <th>PCA_2</th>\n",
       "      <th>PCA_3</th>\n",
       "      <th>PCA_4</th>\n",
       "    </tr>\n",
       "  </thead>\n",
       "  <tbody>\n",
       "    <tr>\n",
       "      <th>0</th>\n",
       "      <td>0.04</td>\n",
       "      <td>0.65</td>\n",
       "      <td>0.41</td>\n",
       "      <td>0.64</td>\n",
       "    </tr>\n",
       "    <tr>\n",
       "      <th>1</th>\n",
       "      <td>0.24</td>\n",
       "      <td>0.45</td>\n",
       "      <td>0.16</td>\n",
       "      <td>0.84</td>\n",
       "    </tr>\n",
       "    <tr>\n",
       "      <th>2</th>\n",
       "      <td>0.18</td>\n",
       "      <td>0.43</td>\n",
       "      <td>0.18</td>\n",
       "      <td>0.87</td>\n",
       "    </tr>\n",
       "    <tr>\n",
       "      <th>3</th>\n",
       "      <td>0.28</td>\n",
       "      <td>0.53</td>\n",
       "      <td>0.59</td>\n",
       "      <td>0.54</td>\n",
       "    </tr>\n",
       "    <tr>\n",
       "      <th>4</th>\n",
       "      <td>0.15</td>\n",
       "      <td>0.65</td>\n",
       "      <td>0.60</td>\n",
       "      <td>0.44</td>\n",
       "    </tr>\n",
       "  </tbody>\n",
       "</table>\n",
       "</div>"
      ],
      "text/plain": [
       "   PCA_1  PCA_2  PCA_3  PCA_4\n",
       "0   0.04   0.65   0.41   0.64\n",
       "1   0.24   0.45   0.16   0.84\n",
       "2   0.18   0.43   0.18   0.87\n",
       "3   0.28   0.53   0.59   0.54\n",
       "4   0.15   0.65   0.60   0.44"
      ]
     },
     "execution_count": 1488,
     "metadata": {},
     "output_type": "execute_result"
    }
   ],
   "source": [
    "scaled_X_2_df = pd.DataFrame(scaled_X_2, columns = ['PCA_1', 'PCA_2', 'PCA_3','PCA_4'])\n",
    "scaled_X_2_df.head()"
   ]
  },
  {
   "cell_type": "markdown",
   "id": "f15dc885-1aed-4552-8ee6-37702bdf2d84",
   "metadata": {},
   "source": [
    "**Silhouette Scores for Epsilon and Min_Samples**"
   ]
  },
  {
   "cell_type": "code",
   "execution_count": 1491,
   "id": "9371d9d4-2d6f-4920-a03b-620253f8c8ae",
   "metadata": {},
   "outputs": [],
   "source": [
    "result = []"
   ]
  },
  {
   "cell_type": "code",
   "execution_count": 1493,
   "id": "0253421b-a97a-4302-8a6f-0d674ecbb26b",
   "metadata": {},
   "outputs": [],
   "source": [
    "eps_range = np.arange(0.01,0.95,0.01)\n",
    "sample = range(2,20)"
   ]
  },
  {
   "cell_type": "code",
   "execution_count": 1495,
   "id": "f70228db-159b-420c-a479-94e7f258f6ad",
   "metadata": {},
   "outputs": [],
   "source": [
    "for eps in eps_range:\n",
    "    for min_sample in sample:\n",
    "        db_labels = DBSCAN(eps=eps,min_samples=min_sample).fit(scaled_X_2_df).labels_\n",
    "        if len(set(db_labels)) > 1 and len(set(db_labels)) != len(db_labels):\n",
    "            scores = silhouette_score(scaled_X_2_df,db_labels)\n",
    "            result.append({'minimum_sample': min_sample, 'Epsilon': eps, 'Silhouette_Scores': scores})"
   ]
  },
  {
   "cell_type": "code",
   "execution_count": 1496,
   "id": "ff030d42-9f3d-4080-aada-bd0d536aa0c2",
   "metadata": {},
   "outputs": [
    {
     "data": {
      "text/html": [
       "<div>\n",
       "<style scoped>\n",
       "    .dataframe tbody tr th:only-of-type {\n",
       "        vertical-align: middle;\n",
       "    }\n",
       "\n",
       "    .dataframe tbody tr th {\n",
       "        vertical-align: top;\n",
       "    }\n",
       "\n",
       "    .dataframe thead th {\n",
       "        text-align: right;\n",
       "    }\n",
       "</style>\n",
       "<table border=\"1\" class=\"dataframe\">\n",
       "  <thead>\n",
       "    <tr style=\"text-align: right;\">\n",
       "      <th></th>\n",
       "      <th>minimum_sample</th>\n",
       "      <th>Epsilon</th>\n",
       "      <th>Silhouette_Scores</th>\n",
       "    </tr>\n",
       "  </thead>\n",
       "  <tbody>\n",
       "    <tr>\n",
       "      <th>167</th>\n",
       "      <td>19</td>\n",
       "      <td>0.11</td>\n",
       "      <td>0.48</td>\n",
       "    </tr>\n",
       "    <tr>\n",
       "      <th>148</th>\n",
       "      <td>18</td>\n",
       "      <td>0.10</td>\n",
       "      <td>0.48</td>\n",
       "    </tr>\n",
       "    <tr>\n",
       "      <th>147</th>\n",
       "      <td>17</td>\n",
       "      <td>0.10</td>\n",
       "      <td>0.48</td>\n",
       "    </tr>\n",
       "    <tr>\n",
       "      <th>149</th>\n",
       "      <td>19</td>\n",
       "      <td>0.10</td>\n",
       "      <td>0.44</td>\n",
       "    </tr>\n",
       "    <tr>\n",
       "      <th>129</th>\n",
       "      <td>17</td>\n",
       "      <td>0.09</td>\n",
       "      <td>0.43</td>\n",
       "    </tr>\n",
       "    <tr>\n",
       "      <th>130</th>\n",
       "      <td>18</td>\n",
       "      <td>0.09</td>\n",
       "      <td>0.42</td>\n",
       "    </tr>\n",
       "    <tr>\n",
       "      <th>131</th>\n",
       "      <td>19</td>\n",
       "      <td>0.09</td>\n",
       "      <td>0.42</td>\n",
       "    </tr>\n",
       "    <tr>\n",
       "      <th>108</th>\n",
       "      <td>14</td>\n",
       "      <td>0.08</td>\n",
       "      <td>0.41</td>\n",
       "    </tr>\n",
       "    <tr>\n",
       "      <th>109</th>\n",
       "      <td>15</td>\n",
       "      <td>0.08</td>\n",
       "      <td>0.40</td>\n",
       "    </tr>\n",
       "    <tr>\n",
       "      <th>249</th>\n",
       "      <td>19</td>\n",
       "      <td>0.16</td>\n",
       "      <td>0.40</td>\n",
       "    </tr>\n",
       "  </tbody>\n",
       "</table>\n",
       "</div>"
      ],
      "text/plain": [
       "     minimum_sample  Epsilon  Silhouette_Scores\n",
       "167              19     0.11               0.48\n",
       "148              18     0.10               0.48\n",
       "147              17     0.10               0.48\n",
       "149              19     0.10               0.44\n",
       "129              17     0.09               0.43\n",
       "130              18     0.09               0.42\n",
       "131              19     0.09               0.42\n",
       "108              14     0.08               0.41\n",
       "109              15     0.08               0.40\n",
       "249              19     0.16               0.40"
      ]
     },
     "execution_count": 1496,
     "metadata": {},
     "output_type": "execute_result"
    }
   ],
   "source": [
    "silhouette_table_DB = pd.DataFrame(result)\n",
    "silhouette_table_DB_sort = silhouette_table_DB.sort_values(by='Silhouette_Scores', ascending = False)\n",
    "silhouette_table_DB_sort.head(10)"
   ]
  },
  {
   "cell_type": "code",
   "execution_count": 1497,
   "id": "0586f2ac-3e26-48a0-8495-074d1924d9cd",
   "metadata": {},
   "outputs": [
    {
     "data": {
      "text/plain": [
       "0.11"
      ]
     },
     "execution_count": 1497,
     "metadata": {},
     "output_type": "execute_result"
    }
   ],
   "source": [
    "eps = silhouette_table_DB_sort.iloc[0,1]\n",
    "eps"
   ]
  },
  {
   "cell_type": "code",
   "execution_count": 1498,
   "id": "0583f77a-a15a-404c-b269-c30f300e7951",
   "metadata": {},
   "outputs": [
    {
     "data": {
      "text/plain": [
       "19"
      ]
     },
     "execution_count": 1498,
     "metadata": {},
     "output_type": "execute_result"
    }
   ],
   "source": [
    "min_sample = silhouette_table_DB_sort.iloc[0,0]\n",
    "min_sample"
   ]
  },
  {
   "cell_type": "code",
   "execution_count": 1499,
   "id": "f5909436-f982-4174-84ad-da9f566672ca",
   "metadata": {},
   "outputs": [],
   "source": [
    "dbscan = DBSCAN(eps = eps, min_samples=min_sample)\n",
    "New_Dataframe_Wholesale_Customer['DBSCAN_Cluster_ID'] = dbscan.fit_predict(scaled_X_df)"
   ]
  },
  {
   "cell_type": "code",
   "execution_count": 1500,
   "id": "05ddc536-7391-4c8b-afcb-a58d01f55edd",
   "metadata": {},
   "outputs": [
    {
     "data": {
      "text/html": [
       "<div>\n",
       "<style scoped>\n",
       "    .dataframe tbody tr th:only-of-type {\n",
       "        vertical-align: middle;\n",
       "    }\n",
       "\n",
       "    .dataframe tbody tr th {\n",
       "        vertical-align: top;\n",
       "    }\n",
       "\n",
       "    .dataframe thead th {\n",
       "        text-align: right;\n",
       "    }\n",
       "</style>\n",
       "<table border=\"1\" class=\"dataframe\">\n",
       "  <thead>\n",
       "    <tr style=\"text-align: right;\">\n",
       "      <th></th>\n",
       "      <th>PCA_1</th>\n",
       "      <th>PCA_2</th>\n",
       "      <th>PCA_3</th>\n",
       "      <th>PCA_4</th>\n",
       "      <th>KEY</th>\n",
       "      <th>PCA_Combined</th>\n",
       "      <th>Channel</th>\n",
       "      <th>Region</th>\n",
       "      <th>K_Cluster_ID</th>\n",
       "      <th>DBSCAN_Cluster_ID</th>\n",
       "    </tr>\n",
       "  </thead>\n",
       "  <tbody>\n",
       "    <tr>\n",
       "      <th>0</th>\n",
       "      <td>551.11</td>\n",
       "      <td>8147.11</td>\n",
       "      <td>5131.16</td>\n",
       "      <td>8064.28</td>\n",
       "      <td>0</td>\n",
       "      <td>21893.66</td>\n",
       "      <td>2</td>\n",
       "      <td>3</td>\n",
       "      <td>0</td>\n",
       "      <td>0</td>\n",
       "    </tr>\n",
       "    <tr>\n",
       "      <th>1</th>\n",
       "      <td>2707.06</td>\n",
       "      <td>5086.94</td>\n",
       "      <td>1804.42</td>\n",
       "      <td>9419.09</td>\n",
       "      <td>1</td>\n",
       "      <td>19017.51</td>\n",
       "      <td>2</td>\n",
       "      <td>3</td>\n",
       "      <td>0</td>\n",
       "      <td>0</td>\n",
       "    </tr>\n",
       "    <tr>\n",
       "      <th>2</th>\n",
       "      <td>1888.14</td>\n",
       "      <td>4450.01</td>\n",
       "      <td>1815.35</td>\n",
       "      <td>8928.74</td>\n",
       "      <td>2</td>\n",
       "      <td>17082.23</td>\n",
       "      <td>2</td>\n",
       "      <td>3</td>\n",
       "      <td>0</td>\n",
       "      <td>0</td>\n",
       "    </tr>\n",
       "    <tr>\n",
       "      <th>3</th>\n",
       "      <td>3744.01</td>\n",
       "      <td>7027.00</td>\n",
       "      <td>7730.37</td>\n",
       "      <td>7085.72</td>\n",
       "      <td>3</td>\n",
       "      <td>25587.09</td>\n",
       "      <td>1</td>\n",
       "      <td>3</td>\n",
       "      <td>0</td>\n",
       "      <td>0</td>\n",
       "    </tr>\n",
       "    <tr>\n",
       "      <th>4</th>\n",
       "      <td>2947.31</td>\n",
       "      <td>12871.11</td>\n",
       "      <td>11944.34</td>\n",
       "      <td>8758.06</td>\n",
       "      <td>4</td>\n",
       "      <td>36520.82</td>\n",
       "      <td>2</td>\n",
       "      <td>3</td>\n",
       "      <td>0</td>\n",
       "      <td>0</td>\n",
       "    </tr>\n",
       "  </tbody>\n",
       "</table>\n",
       "</div>"
      ],
      "text/plain": [
       "    PCA_1    PCA_2    PCA_3   PCA_4  KEY  PCA_Combined  Channel  Region  \\\n",
       "0  551.11  8147.11  5131.16 8064.28    0      21893.66        2       3   \n",
       "1 2707.06  5086.94  1804.42 9419.09    1      19017.51        2       3   \n",
       "2 1888.14  4450.01  1815.35 8928.74    2      17082.23        2       3   \n",
       "3 3744.01  7027.00  7730.37 7085.72    3      25587.09        1       3   \n",
       "4 2947.31 12871.11 11944.34 8758.06    4      36520.82        2       3   \n",
       "\n",
       "   K_Cluster_ID  DBSCAN_Cluster_ID  \n",
       "0             0                  0  \n",
       "1             0                  0  \n",
       "2             0                  0  \n",
       "3             0                  0  \n",
       "4             0                  0  "
      ]
     },
     "execution_count": 1500,
     "metadata": {},
     "output_type": "execute_result"
    }
   ],
   "source": [
    "New_Dataframe_Wholesale_Customer.head()"
   ]
  },
  {
   "cell_type": "code",
   "execution_count": 1501,
   "id": "4beaeb02-b16c-4cd7-aa88-8f7ca9bb82d5",
   "metadata": {},
   "outputs": [
    {
     "data": {
      "application/vnd.plotly.v1+json": {
       "config": {
        "plotlyServerURL": "https://plot.ly"
       },
       "data": [
        {
         "hovertemplate": "PCA_1=%{x}<br>PCA_2=%{y}<br>PCA_3=%{z}<br>Cluster_ID=%{marker.color}<extra></extra>",
         "legendgroup": "",
         "marker": {
          "color": [
           0,
           0,
           0,
           0,
           0,
           0,
           0,
           0,
           0,
           0,
           0,
           0,
           0,
           0,
           0,
           0,
           0,
           0,
           0,
           0,
           0,
           0,
           0,
           -1,
           0,
           0,
           0,
           0,
           0,
           -1,
           0,
           0,
           0,
           0,
           0,
           0,
           0,
           0,
           0,
           -1,
           0,
           0,
           0,
           0,
           0,
           0,
           0,
           -1,
           0,
           0,
           0,
           0,
           -1,
           0,
           0,
           0,
           -1,
           0,
           0,
           0,
           0,
           -1,
           0,
           0,
           0,
           -1,
           0,
           0,
           0,
           0,
           0,
           -1,
           0,
           0,
           0,
           0,
           0,
           0,
           0,
           0,
           0,
           0,
           0,
           0,
           0,
           -1,
           -1,
           -1,
           0,
           0,
           0,
           0,
           -1,
           -1,
           0,
           0,
           0,
           0,
           0,
           0,
           0,
           0,
           0,
           -1,
           0,
           0,
           0,
           0,
           0,
           0,
           0,
           0,
           0,
           0,
           0,
           0,
           0,
           0,
           0,
           0,
           0,
           0,
           0,
           0,
           0,
           -1,
           0,
           0,
           0,
           -1,
           0,
           0,
           0,
           0,
           0,
           0,
           0,
           0,
           0,
           0,
           0,
           0,
           0,
           0,
           0,
           -1,
           0,
           0,
           0,
           0,
           0,
           0,
           0,
           0,
           0,
           0,
           0,
           0,
           0,
           0,
           0,
           0,
           0,
           0,
           0,
           0,
           0,
           0,
           0,
           0,
           0,
           0,
           0,
           0,
           0,
           0,
           -1,
           0,
           0,
           0,
           0,
           -1,
           0,
           -1,
           0,
           0,
           0,
           0,
           0,
           0,
           0,
           0,
           0,
           0,
           0,
           0,
           -1,
           0,
           0,
           0,
           0,
           0,
           0,
           0,
           0,
           0,
           0,
           0,
           0,
           0,
           0,
           -1,
           0,
           0,
           0,
           0,
           -1,
           0,
           0,
           0,
           0,
           0,
           0,
           0,
           0,
           0,
           0,
           0,
           0,
           0,
           0,
           0,
           0,
           0,
           0,
           0,
           0,
           0,
           0,
           -1,
           0,
           0,
           0,
           0,
           0,
           0,
           0,
           0,
           0,
           0,
           0,
           -1,
           0,
           0,
           0,
           0,
           0,
           0,
           -1,
           -1,
           0,
           0,
           0,
           0,
           0,
           -1,
           0,
           0,
           0,
           0,
           0,
           0,
           0,
           0,
           0,
           0,
           0,
           0,
           0,
           0,
           0,
           0,
           -1,
           0,
           -1,
           -1,
           0,
           0,
           0,
           -1,
           0,
           0,
           0,
           0,
           0,
           0,
           0,
           0,
           0,
           0,
           0,
           0,
           0,
           0,
           0,
           0,
           0,
           0,
           0,
           0,
           0,
           0,
           0,
           0,
           0,
           0,
           0,
           0,
           0,
           -1,
           0,
           0,
           0,
           0,
           0,
           -1,
           0,
           0,
           0,
           0,
           0,
           0,
           0,
           -1,
           0,
           0,
           0,
           0,
           0,
           0,
           0,
           0,
           0,
           0,
           0,
           0,
           0,
           0,
           0,
           0,
           0,
           0,
           0,
           0,
           0,
           0,
           0,
           0,
           0,
           0,
           0,
           0,
           0,
           0,
           0,
           0,
           0,
           0,
           0,
           0,
           0,
           0,
           0,
           0,
           0,
           0,
           0,
           0,
           0,
           0,
           0,
           0,
           0,
           0,
           0,
           0,
           0,
           0,
           0,
           0,
           0,
           0,
           0,
           0,
           0,
           0,
           0,
           0,
           0,
           0,
           0,
           0,
           0,
           0,
           0,
           0,
           0,
           0,
           0,
           0,
           0,
           0,
           0,
           0,
           0,
           0,
           0,
           0,
           0,
           0,
           0,
           0,
           0,
           0,
           0,
           0,
           0,
           -1,
           0,
           0,
           0,
           0,
           0,
           0,
           0,
           -1,
           0,
           -1,
           0,
           0
          ],
          "coloraxis": "coloraxis",
          "symbol": "circle"
         },
         "mode": "markers",
         "name": "",
         "scene": "scene",
         "showlegend": false,
         "type": "scatter3d",
         "x": [
          551.1131859871082,
          2707.0646130489295,
          1888.1403677584103,
          3744.006969546094,
          2947.3133862009204,
          442.59833059920516,
          3570.232919692814,
          5109.909528513773,
          2948.470615100847,
          9496.622726841204,
          8582.86860637766,
          2852.7817941834287,
          1754.0116051632479,
          8714.498251024503,
          3836.4839905054578,
          2169.7909345228077,
          5179.086463201924,
          921.5364974938061,
          4586.959771438416,
          6194.7109750047985,
          852.1443985257022,
          1734.7791756131376,
          3503.4281145788677,
          1254.8954861046145,
          5760.323655259821,
          3290.290395488019,
          2137.8541548621442,
          1551.9729084296657,
          10367.282250409255,
          553.2412520260352,
          6580.752141140537,
          636.2889460930317,
          783.6505501283345,
          3599.8939863978844,
          828.7263513422454,
          6277.5172119397075,
          1230.7292054161887,
          4365.646158623729,
          5079.0809629903915,
          398.6622696840942,
          2797.4954163027173,
          2878.5272125375323,
          7742.849259010109,
          13794.380818459815,
          4508.718518082438,
          6040.6115210838625,
          10667.33849512164,
          16427.84976367314,
          5224.010030220671,
          12399.745578244832,
          1674.949170629337,
          3456.929156727838,
          1085.0765627002768,
          3992.947635582657,
          221.08035383181908,
          2145.4056221329183,
          6484.568886197287,
          3050.8764823546894,
          151.26087779748374,
          3468.180210500169,
          4426.258390103625,
          27381.478915593543,
          2666.181593124158,
          6971.310567244461,
          2669.35061837975,
          26164.040062713182,
          5255.693094365364,
          6809.633554688294,
          695.0034813548749,
          612.3095757054028,
          3328.116005197457,
          16910.46182053332,
          1358.6989730279608,
          5333.636730183666,
          4559.488726276605,
          429.49560172777416,
          5163.462028347604,
          16160.929311581089,
          1093.0183997720706,
          1383.3803575620138,
          1807.7969701310815,
          6720.049289817263,
          3798.33689392511,
          277.0464196450437,
          1923.684651964549,
          50523.962555885955,
          13466.653924630096,
          3578.81270731517,
          4963.896585246649,
          2051.1063136006032,
          1318.923853810529,
          2107.4264174948344,
          11886.99670939711,
          7844.499392165522,
          2553.3426348093103,
          3640.6792543598485,
          5246.161445612649,
          527.2941554568991,
          763.070180636268,
          1319.1466678778243,
          6029.764689676576,
          7822.176218538052,
          3306.196095453007,
          7246.032570322481,
          1384.2207515757596,
          2236.2870623619574,
          5318.014323210088,
          6678.485773969978,
          1230.1230432088994,
          14811.286874959864,
          537.8242900429134,
          8054.192600252497,
          1821.6991556534,
          339.0054415856985,
          885.2800175112967,
          2173.503851039696,
          1274.1134931175843,
          2411.62599460947,
          1325.0610252566796,
          1074.4332873026578,
          1974.081239781004,
          96.10367644241985,
          40.43063920054665,
          1514.2027190213207,
          1125.2744491853355,
          4580.099973802549,
          1490.777916166409,
          4142.928242782262,
          1537.7530532082847,
          670.2378209506077,
          474.27690649387364,
          64.1094372222286,
          438.05725924779597,
          151.65926479654178,
          625.864475370881,
          1430.8054707021436,
          2065.53222734403,
          2485.4837171900103,
          1297.6586602905616,
          51.0493932994793,
          3457.6472262186157,
          4008.1528030351533,
          2048.4060408008318,
          1595.5220331199428,
          1105.8876994568495,
          22898.668817709724,
          632.2113540696108,
          327.78009012998774,
          836.9361412955748,
          590.3670674995661,
          23.74266102875076,
          44.1727057749985,
          1724.9891147855412,
          2924.077668872942,
          73.32048135915085,
          10132.769921233246,
          9183.566201150568,
          1325.714831732041,
          4441.19619419794,
          7937.338876773385,
          8608.327604856207,
          329.97318166907496,
          2006.0801917440285,
          13846.116968428894,
          3335.6980272232527,
          9827.566474045416,
          3928.4032569246688,
          938.0905291770371,
          344.80203524036204,
          1707.520553171622,
          6581.785789790339,
          2587.801037854604,
          2454.2309292562727,
          12233.538414711453,
          4202.294095165798,
          5414.937492991262,
          1422.2328643587307,
          320.2666991703105,
          82.34145590802467,
          374.36591323721933,
          3597.199251601108,
          1746.3912416646858,
          4113.559994510984,
          247.52416952678516,
          3344.5784163405183,
          2313.0967625966064,
          1110.8756329008008,
          5130.2652200888015,
          5767.960834647376,
          3276.2732678015645,
          681.3994723748043,
          592.3855029887839,
          950.3000013573807,
          14861.729152245904,
          1767.3760285156845,
          2672.020983243271,
          3287.103470369956,
          4856.088987446109,
          4739.321170089197,
          220.18927898421734,
          12596.48908186996,
          13115.246065941228,
          1761.9666628212685,
          1524.331239275786,
          4017.920440747883,
          13161.95502189982,
          294.36717702125424,
          3033.323364029192,
          3137.3500960721753,
          6865.54822608782,
          238.91364038612252,
          17888.739059679185,
          1133.4999016968195,
          2259.7934784877193,
          5886.802307935817,
          7142.526821657674,
          20806.632283898085,
          708.6668619061412,
          8692.12749381376,
          1302.8996640856249,
          432.92489068089156,
          4476.345237970722,
          3289.1775691925827,
          4151.079616672668,
          743.2889298791912,
          1276.9105969166822,
          3881.7369613141186,
          473.72091263449374,
          304.6951141363455,
          1830.6613773328393,
          2893.684733563538,
          2287.870522833222,
          1215.3736703269021,
          242.66332630605396,
          2025.541125317375,
          864.9320773848533,
          2218.955534650101,
          1249.3212396752715,
          171.84213955831464,
          918.5706295424089,
          5587.600022820083,
          514.9703772179305,
          2125.4497102654377,
          1922.1075576952449,
          4695.539765000942,
          7977.5950939303,
          201.12706192907925,
          124.2325160820227,
          1372.3916110326236,
          833.6682942738465,
          681.7042006877006,
          16401.425978049985,
          4402.577294138825,
          8413.933761465598,
          4967.38588175274,
          367.76605856075616,
          1251.2003724930698,
          1330.9753324882545,
          1568.7873795789208,
          1771.9548967882388,
          1143.74703114603,
          1579.3442300304905,
          127.09552103465528,
          5771.577888356114,
          7403.87096830214,
          856.5844431596704,
          13364.422884225947,
          1492.0905812000544,
          11611.773419917461,
          731.0343842096768,
          1346.482654061433,
          1198.0385569911984,
          1288.5756030998332,
          837.1486706708234,
          734.0517503142137,
          493.975620515354,
          3540.94669025492,
          3733.027416826818,
          1724.3348753240066,
          4162.404976056301,
          538.9338889243688,
          1045.7616475531051,
          669.4614863992879,
          1061.2344156267316,
          7013.413940914737,
          1106.6227140766446,
          100.8242622987786,
          2509.0196053048808,
          242.5090882814663,
          1274.7290719315606,
          1008.3348717488893,
          1213.2079015010377,
          2673.7547532342596,
          4308.5228582160225,
          3560.4299540865145,
          3023.158062244858,
          2172.808731523893,
          3983.0158330099725,
          5618.020760534179,
          1252.6407074359008,
          1359.7451305527857,
          9740.88581251968,
          5111.224833851597,
          9290.676286619699,
          16322.788955152704,
          537.8723475178914,
          10885.599541280086,
          584.0237389647882,
          1702.795734216848,
          422.8237151165164,
          3839.0577027727218,
          4942.841131329962,
          13809.594961498082,
          2098.1040079150694,
          5159.393566826166,
          1869.1286941724345,
          1390.3167656732146,
          3516.671913180976,
          1453.7084621560962,
          944.9576370152936,
          53.71190689916027,
          3445.204505698981,
          2511.6215405392686,
          8561.760111873535,
          445.58070999016604,
          15210.77577216655,
          951.0048269513048,
          951.7286750435347,
          2718.1265877416304,
          3932.286042102213,
          3632.065640778382,
          13754.779415994844,
          957.1054576301376,
          51697.845143207815,
          3752.510657639461,
          4327.027598459072,
          162.64743455437372,
          2942.3906944771547,
          9219.45513332062,
          5859.935994273096,
          5805.089414327909,
          6167.713525213476,
          1842.8303297087386,
          17971.007693350253,
          1211.5315993944969,
          5440.251718155646,
          9478.521126313999,
          5697.713313770307,
          561.1670316520995,
          9156.928422632998,
          1315.9718634374976,
          13166.077647627984,
          831.6719779381652,
          13964.256035761216,
          923.9461631083456,
          1300.2935737407443,
          119.31999223190428,
          17448.304002057597,
          7090.432518942654,
          1343.7984588194684,
          118.00176545874655,
          463.7650452554449,
          1188.8330842124146,
          2925.229197379697,
          925.9169201748276,
          3465.17332969463,
          48.78810017211669,
          157.51707293753446,
          849.3280403988969,
          368.256464491031,
          563.8136552036214,
          1648.876763647993,
          632.9816896604327,
          2415.25938213628,
          245.1654642373354,
          69.15666024724514,
          7679.92278155973,
          933.1069235102658,
          265.6518503484388,
          5571.091362628255,
          951.5394948095195,
          477.2124095229624,
          2077.483099258008,
          2952.2565111577155,
          1371.433551776506,
          936.6327259598444,
          818.1381339408169,
          166.9812042913638,
          481.5804774601924,
          659.3805491097819,
          1613.685957694573,
          522.288838402837,
          851.1292703458886,
          594.5026465119655,
          1945.9204825338993,
          610.7082239218748,
          1692.2791373516347,
          1404.157069217146,
          712.9644600788461,
          421.5760967553235,
          1182.9927144583994,
          2214.4091800150204,
          539.9103243007982,
          3138.819226746749,
          610.4474707380037,
          590.1757387613834,
          2683.471188059347,
          8754.418201858309,
          3191.24283084184,
          3218.8006708619273,
          2644.087980956393,
          1200.7861217463894,
          8187.821555600337,
          6837.409544752676,
          2813.0588729171704,
          3818.479876606825,
          3097.0088785320922,
          5945.343905298367,
          10644.76208236591,
          421.6936339824048,
          7778.453267186675,
          4306.765592727901,
          1726.0844696378945,
          1334.1143750878143,
          7891.6597081811615,
          3985.4267866987666,
          6873.874988664229,
          2160.0876794766846,
          1225.9924630153207,
          1626.0193064975172,
          11158.554695593002,
          4110.4626282623785,
          2406.0985210051226,
          206.45003462019494,
          3867.9774214219246,
          8491.008999134314,
          749.7066664651484,
          15868.747430578182,
          571.5268534125933,
          1038.202212828331
         ],
         "y": [
          8147.105698592126,
          5086.938208887651,
          4450.006857941887,
          7026.99647660266,
          12871.111943523378,
          6069.560672905462,
          7255.513050339594,
          4967.32775697408,
          3890.802787356582,
          5235.691730261415,
          2684.061129137092,
          7408.931013097671,
          18997.382628137926,
          12716.960086212743,
          14930.500960410049,
          5877.87495891766,
          2009.5059645777778,
          3819.144081601353,
          11083.55202972851,
          4961.705601903668,
          10125.441670715942,
          2933.5290732665408,
          16658.144109380533,
          18285.92692862872,
          13737.053950988304,
          9604.75831982833,
          5373.539828802902,
          7990.487028583058,
          5412.202711396613,
          23715.634512357254,
          11127.271659662207,
          1791.8564966190647,
          12052.701619983189,
          16511.791052874698,
          1082.898396256754,
          1428.8488726272328,
          16868.831120939733,
          9732.328585015066,
          4816.927691310873,
          29841.85414738533,
          12914.839430674556,
          10890.511444643285,
          7429.938232411787,
          2646.741928549806,
          6440.866026751537,
          5806.108883489019,
          4041.9731710928095,
          31429.13332709784,
          7396.242963688076,
          6078.1017664579595,
          3291.430459671271,
          2563.059090172513,
          22831.902301132377,
          1770.1928073419872,
          14923.229220705614,
          3385.891394325326,
          6114.236989743758,
          4408.985748864366,
          7722.579785716376,
          4265.441596058146,
          5401.728819168808,
          26098.989107107045,
          4816.834641688298,
          6786.878053958462,
          2568.375610329094,
          4553.767395842403,
          565.1246579250849,
          12120.50369213886,
          1666.4809861026094,
          4797.521690072278,
          8541.014101318347,
          10878.261893690491,
          2223.9650535015858,
          11107.8914489909,
          5471.452285292597,
          10829.820301092912,
          427.0864575266436,
          9356.853674100379,
          5908.537706527571,
          1310.0746444951178,
          4031.7155734540374,
          1757.8936458204234,
          7016.872086306074,
          11414.181989741355,
          6933.615882076078,
          18141.107909855837,
          20462.736683838197,
          23942.288005890317,
          3727.181752852527,
          13916.330780784785,
          6073.733219004526,
          6576.987777690493,
          8951.450791615249,
          3496.545112152578,
          4748.956343793764,
          583.6669901855137,
          707.6913852747957,
          210.15894254449287,
          252.45616921918906,
          5069.841279281855,
          7416.872987062758,
          2516.548075532715,
          2375.771934809699,
          29828.700609254174,
          7955.032591707235,
          8741.48868782662,
          1954.4321274168524,
          6364.297871535754,
          1932.967500646852,
          3849.4751899013436,
          6483.121576047966,
          8772.137155211223,
          9989.90352467536,
          7885.188895728158,
          9823.94173582215,
          6079.017979377033,
          6370.607198692156,
          4314.353084036479,
          10763.12790612456,
          4486.493147832375,
          9449.337296571086,
          2341.9811828724,
          6514.901542377651,
          7325.569051296996,
          19549.50736168125,
          40833.95516741863,
          10015.259386992162,
          12871.866451069855,
          1030.5830624405282,
          23083.453109745133,
          3590.501635254433,
          1183.07345014689,
          8392.375379637146,
          5265.871261911083,
          4252.362389107674,
          3595.9015689893636,
          3260.3011654147313,
          2797.275597219674,
          8023.790024628683,
          3480.5894606364873,
          10205.00606073509,
          17947.65238138411,
          21021.06529795694,
          5136.301898506816,
          10678.512928883427,
          14808.496841758517,
          4446.7635638012225,
          5348.592409514455,
          2957.287591205403,
          17490.43181145839,
          9028.537469109331,
          1055.2461111153953,
          10311.711361044825,
          2732.1233130200867,
          345.3717247559128,
          3128.137380465361,
          3397.2674499165523,
          9656.867225777352,
          2605.7199583414654,
          1686.155334817041,
          1946.424392037872,
          6744.790116429768,
          8439.309134879148,
          5739.1904220176775,
          3776.929800254101,
          10377.71199406162,
          3654.7085163002102,
          2022.7728525438388,
          3154.756536697483,
          2931.8692819017315,
          1576.9167771529978,
          3399.7930626609523,
          1341.9251573775164,
          2032.9558814489674,
          353.58114040469985,
          2642.175451157356,
          25210.16113997799,
          7685.765501252371,
          6783.978659421072,
          1888.0827317038697,
          7739.099523409336,
          63235.498535866034,
          1684.5173324575387,
          21773.82232210605,
          532.5769280475237,
          4868.502393019986,
          1432.613709605085,
          2040.8620356112613,
          5483.353521922732,
          2089.2736667899812,
          9232.273822524316,
          7457.023204761132,
          3212.805216777881,
          1529.7383345014034,
          4067.6403363131826,
          9335.022812071678,
          15957.568491945287,
          2442.471457028303,
          6653.96454967178,
          5543.117044262496,
          3825.994972914804,
          4824.470780404839,
          14825.428824897079,
          467.7015169870819,
          1335.3577459340183,
          2919.070766819989,
          3519.725649869108,
          1889.9517472985688,
          1340.01819840958,
          5021.240889313422,
          10205.905941620496,
          10946.204876172316,
          4070.581161974726,
          2655.6768402489306,
          2439.0453741380675,
          3243.4112732255103,
          4948.448289381239,
          9861.576173391337,
          1440.0623936362226,
          2178.3684979144255,
          8047.554500173311,
          4200.421493501829,
          2359.5658715861846,
          1559.6776988277566,
          4042.162821515232,
          7375.30046300966,
          12224.011577023473,
          2281.740023395291,
          1018.5253810465271,
          4501.137931537906,
          6147.212345254051,
          2271.520431674673,
          14476.542103384678,
          1058.5512318138076,
          8590.321389352672,
          1596.875432763848,
          4757.713253739731,
          10140.321076608301,
          3991.5825990781996,
          25873.865123670836,
          11771.56731896985,
          13695.286904445577,
          9838.967978534998,
          6668.39640149485,
          4577.523420954793,
          3001.2714739743074,
          4997.6802852140545,
          7273.922744576472,
          9078.14551986686,
          4270.59160006086,
          1863.0251139599093,
          6707.680620187021,
          3381.369393121115,
          17744.137572560354,
          7030.622272304808,
          17081.649833008327,
          6740.43546537646,
          4457.886734273775,
          30519.69509806671,
          29595.838718440828,
          5519.292451766739,
          3847.459474397247,
          12807.572895819678,
          1292.995755097568,
          2317.2654289039383,
          5119.630883292723,
          2269.6508489613225,
          11299.767433812847,
          8266.33226347794,
          8166.419526148576,
          2238.1212481899174,
          1548.6356028163525,
          1341.0767560180152,
          19994.339923803287,
          675.2752654859921,
          442.88919220941426,
          15551.160006558057,
          3574.341948426703,
          6210.709547678331,
          10451.557971989097,
          2136.3424041628546,
          7543.534132542408,
          26811.14570996509,
          13569.791781960921,
          37956.88300848253,
          22122.964921000974,
          4017.769976288102,
          7985.911473882941,
          8917.351217518331,
          23254.641454559696,
          1771.5982423848068,
          3539.9869133257193,
          1730.4858484592496,
          3776.0356650124636,
          12080.004108549938,
          4573.839330145392,
          10467.624090837731,
          4971.069622323905,
          4583.484933586009,
          416.5180021038407,
          9797.544817018133,
          5061.448388206019,
          2573.3256160434744,
          2515.6927519074143,
          2150.3899920309627,
          1673.4596619841864,
          5738.082757202407,
          9714.146537738352,
          4038.8883480446543,
          2909.796975241553,
          3007.7914861644995,
          16583.209835220616,
          2522.3937716999567,
          5167.867261188212,
          6269.291366592736,
          2714.594309384819,
          3898.7459479908266,
          1185.0919394331893,
          6687.96062704321,
          8372.101561275977,
          1367.296518770385,
          5223.718514188978,
          8593.644461195792,
          7981.590081268058,
          14401.104004154528,
          14746.205803826359,
          2321.4770667896523,
          434.61082348061234,
          8934.507078127404,
          2740.512530806757,
          5482.49997008731,
          8868.641365494954,
          12329.919233600469,
          9135.6817180781,
          8405.521095293567,
          15862.420255885787,
          7764.611799334753,
          4654.759663156187,
          906.9356118711,
          1011.7384113142106,
          1092.5619617191935,
          2355.7351365543054,
          945.1332390418062,
          2962.105944963518,
          1667.949278088996,
          1337.7374466173019,
          2791.3103668225867,
          16021.335929197905,
          2072.149759607652,
          5542.416224172813,
          1974.7645640822711,
          2689.4210573441073,
          443.622507980464,
          1845.268060291097,
          7864.848321533932,
          264.1744514355167,
          12115.604663026183,
          1459.2242120299238,
          1533.1507898858981,
          1020.4873200180591,
          10897.121137729504,
          2578.0970653254785,
          1388.652729024983,
          2856.5291907419855,
          1493.9505722066358,
          3410.7995955568003,
          5394.470758360857,
          1874.9397542291197,
          12241.589071768425,
          3360.0525505191763,
          22138.058371890966,
          10521.815006285437,
          2456.07810649137,
          9054.20041541382,
          3613.225927364744,
          3322.7476482243087,
          2755.820692936588,
          21478.838697168536,
          2122.231205310003,
          3252.2735211038266,
          15273.127142219691,
          9300.688321050762,
          19689.821459083956,
          965.1568824436597,
          8254.4170986658,
          6291.386867344414,
          961.4236741748391,
          11486.23226905471,
          5329.066144615992,
          5065.827290221145,
          1525.933946183271,
          1733.1502242737615,
          789.9506514026293,
          12922.387980014599,
          6890.461036629904,
          5165.263010197794,
          3792.2680715912743,
          5916.5265322185205,
          5888.264997378599,
          5204.536723814405,
          2261.9151327413933,
          14017.775371217092,
          15150.444324370048,
          15140.595976478342,
          10066.542772002118,
          3729.664713415291,
          13529.13142096123,
          5960.7550088397775,
          5067.12363885843,
          5212.679140517425,
          3944.532770570022,
          1496.7564013576355,
          1092.9622058069178,
          1963.2547205569663,
          3130.5090918794585,
          5146.649342525919,
          3887.153454864287,
          3854.215193819317,
          2179.152835517471,
          5223.967911537359,
          3663.58014806992,
          10161.267059774993,
          14685.216485490293,
          10070.451932977043,
          10158.426343806217,
          5147.428233956875,
          8527.602848626027,
          17305.875997754192,
          2262.3479560403607,
          5049.467799413035,
          2985.271478670849,
          4245.174537151508,
          11871.534709736,
          1303.8576121114113,
          9869.312968523976,
          17016.50145633242,
          21155.82421529118,
          10997.426570891103,
          5818.3054572780475,
          1806.3699121136162
         ],
         "z": [
          5131.161064099218,
          1804.4186976183564,
          1815.3479952033554,
          7730.36880291856,
          11944.338131433344,
          3761.008967039438,
          5851.6219377754915,
          2821.4362365813868,
          2295.1068131576385,
          65.1016111931457,
          220.63306666086962,
          7110.982198632076,
          15327.023250542847,
          10087.38851334343,
          11618.371459626114,
          5404.314861700181,
          1996.592216014813,
          2275.278570712917,
          8989.579700075306,
          3187.283727330858,
          9117.658884529952,
          3238.181006762898,
          18349.532479069727,
          8115.50977962501,
          10504.381704988326,
          7943.852846147889,
          5616.968451109106,
          7873.529483962366,
          3300.579248901446,
          24496.623617978425,
          9289.182320151824,
          760.8756744470573,
          12053.325609571348,
          16377.215910351519,
          380.81456520893636,
          1517.441362218375,
          16309.331301682452,
          6095.2421193480795,
          1445.9459520541545,
          33411.702734954815,
          13776.137832980441,
          10229.996869394756,
          3579.6276556032003,
          3773.504268317002,
          3497.2975072566596,
          2368.438685291631,
          2460.6660688634206,
          12632.400828460286,
          4657.698669076827,
          3194.882397374119,
          3665.9027506411217,
          614.0442441094185,
          22435.3375055164,
          2416.5964101260547,
          15665.976866472003,
          2080.7294308132628,
          4627.657050865388,
          554.1421524046517,
          7578.331243741498,
          1914.128511919505,
          3689.9003232058435,
          9099.787241275752,
          3350.2086730307965,
          2345.1055831495582,
          2620.4592839834236,
          7975.832367650022,
          1004.2223795530571,
          9221.376411621117,
          545.6298493144616,
          4368.404091529364,
          10159.874628422609,
          8699.084515011362,
          2461.4767649608825,
          10665.220072646633,
          2892.1530630897432,
          12116.330390341995,
          18.57033297660855,
          2213.7655386688925,
          6062.740236234233,
          169.73258408706144,
          3656.0307627810284,
          2797.8845836542787,
          3538.4814087260143,
          11915.703488411787,
          5991.092350530886,
          7360.086594421685,
          833.7717366566668,
          24116.672792688976,
          5069.7918606061285,
          13652.633976221732,
          6696.557149715373,
          7631.47736650458,
          1814.7565605641068,
          9589.320876991645,
          268.2999200308773,
          1055.822084787296,
          1233.3370181041623,
          212.25395482676313,
          285.540079596415,
          5666.451626557476,
          4607.9339559403925,
          2350.9139263097068,
          194.1658775546227,
          32919.4356273394,
          7624.2708935032015,
          8546.899413282932,
          1229.5682016385726,
          2188.9539587187965,
          1070.3108638545514,
          4699.764170802125,
          6662.523189115864,
          3843.9628113177846,
          11298.559051949715,
          8181.480962509836,
          10348.356321425214,
          6297.496817742022,
          5900.897536601331,
          3073.635118280038,
          11647.545806915594,
          4621.294918135742,
          9651.098628847134,
          1947.6420681492968,
          7228.981798726077,
          4174.309639151273,
          20828.75162009966,
          44636.47960768421,
          11552.792097563433,
          10310.806712917905,
          1610.6481022552748,
          24392.643743190914,
          4380.057906981649,
          1133.6107390391878,
          8128.171053638908,
          5224.836825422205,
          3845.2921049919237,
          3304.189705053642,
          1148.7231319763052,
          219.80681977560283,
          6690.318803405565,
          2118.192820600379,
          9032.777494934473,
          15132.885516877748,
          19831.45479681457,
          6568.161047667287,
          10165.532222645665,
          7774.982361805689,
          4079.608277451526,
          4681.0451298965745,
          3716.9161706508794,
          18123.80669955228,
          9030.932915802827,
          97.60684036733156,
          10691.187268385293,
          480.55996975571674,
          345.36305104805183,
          2493.9995714573192,
          130.84721595107274,
          10185.45028357644,
          246.41601937443556,
          2468.938403252402,
          836.5168860341297,
          7208.651501580392,
          8365.204672097603,
          1754.9219501111818,
          1254.1665245119461,
          5513.338971481932,
          922.6796211429572,
          916.8783189484658,
          3318.133504853451,
          3052.045026972467,
          2454.0236029704597,
          5741.021007797235,
          920.3314068681037,
          2871.016321724133,
          312.2893666206387,
          1070.3045582142802,
          25493.296055710427,
          6014.290739265545,
          4925.543126661651,
          1318.1790859244293,
          5354.901478058527,
          60443.831606137785,
          1937.5971360162428,
          16609.323465194633,
          447.3377505959275,
          3898.257067689398,
          1942.0869461220536,
          156.55789530745506,
          2566.882913579379,
          2427.8171080891734,
          9459.625759628001,
          7793.343053846438,
          2791.6911427621812,
          2502.5375829289164,
          3732.025497336401,
          9379.114397714566,
          18138.371623568557,
          637.7030607895952,
          6088.721051741452,
          5094.534324756985,
          2246.528774245806,
          1807.94092931742,
          12429.145118465125,
          47.16519441232825,
          583.0266572536772,
          3525.813041272732,
          3567.7441306894457,
          432.1594721401031,
          92.93667249030518,
          370.38526691237655,
          10518.120082053709,
          918.3244651215731,
          3988.8588016277436,
          354.15377370836376,
          723.729537235346,
          1485.6899601791001,
          4893.767952751132,
          10283.228114235892,
          2597.604124389748,
          2446.949078028194,
          8452.875367407754,
          885.3563236867491,
          3242.0801764034345,
          1271.1201634554084,
          4037.8651307664686,
          6490.605967447281,
          10361.115821640666,
          2092.2589399900053,
          1037.0296707656285,
          5067.300562297828,
          5811.949610756519,
          464.5307489276477,
          14430.258632053214,
          429.7915064889012,
          8679.331162527666,
          44.35314419927644,
          4796.8832095445205,
          10693.647462336925,
          4250.126044257743,
          27281.72265829028,
          12724.440008845551,
          14143.794580935246,
          10543.088097330665,
          5475.69358614044,
          1409.7055938416186,
          609.2385150447889,
          4787.731912109862,
          7976.519105681342,
          8104.801858216242,
          4550.421992695856,
          1545.6287375876523,
          2751.4934841271165,
          3865.252206661103,
          14147.058497123418,
          3368.6548365066405,
          18422.750454595745,
          5172.606495791634,
          4953.375444569436,
          32270.277474002145,
          29619.012074516515,
          4412.336475840556,
          4993.688899957544,
          13193.651710761676,
          818.1016207192638,
          2459.9712715449305,
          422.6408097193424,
          3263.7003032614434,
          12065.986144273713,
          3683.5396245886864,
          8920.75586008339,
          3060.5835740995085,
          424.4292031432855,
          1606.576577841424,
          21228.777068854102,
          148.38670778677147,
          225.88390140887074,
          15334.078464304768,
          6846.710182782668,
          6778.634352265387,
          8236.510731122737,
          1368.5267812434959,
          5490.614432695555,
          28012.711098462023,
          15271.693584394692,
          38850.53877654705,
          22944.145281819605,
          3849.824272812031,
          9167.005749681673,
          9281.343602589792,
          24838.34281898229,
          1019.9308755343386,
          2910.5722856716898,
          1130.6868666835767,
          563.1482483186347,
          11414.872204216075,
          3595.1827748266865,
          10793.655865156423,
          3615.888841329644,
          2267.3979277703966,
          66.5120678585126,
          8013.591327786345,
          904.2930645392221,
          124.78382782328421,
          479.98263208825773,
          3616.1604405315547,
          2624.2069734082474,
          275.9127612368351,
          9503.713710832935,
          3616.4342496854447,
          3800.8683081562394,
          4928.018392754016,
          16250.5642833375,
          1250.9709787559157,
          5742.975252780785,
          5216.103266569805,
          2554.180241687645,
          3972.8759600168455,
          325.44341428958217,
          6278.056807553775,
          197.5039291782845,
          295.0208592757608,
          4753.592392869871,
          9128.18781329941,
          6441.440295225163,
          14507.350054020502,
          21474.095923127185,
          2537.282167361716,
          46.151478453375724,
          9950.42115046841,
          2791.324448140152,
          5234.647499202618,
          1548.9258415205998,
          12536.950102921357,
          3046.3314112186868,
          10537.071440402675,
          13666.746806946343,
          7796.21312047668,
          5802.772227979403,
          845.6365354423552,
          1780.241329644886,
          1374.2585258137726,
          634.7586009551432,
          1298.434257103057,
          2736.9100528584127,
          1637.1566949394603,
          546.946123628105,
          807.558254490511,
          13773.944639478126,
          1560.3273086587976,
          685.9882771379906,
          1852.9213045793063,
          2998.1985164310618,
          112.4312314050441,
          3121.224450877507,
          7452.823447399804,
          188.2491071845502,
          13432.408489306523,
          2564.2383967455507,
          1818.844383116004,
          590.1644139212208,
          11076.685734421351,
          2687.7011335354796,
          788.2025397811296,
          2073.8045849539308,
          1338.947309224898,
          1124.454427506817,
          5158.364783433921,
          1980.018165498201,
          12719.04757965665,
          3589.9235496909264,
          22015.665154916598,
          12025.405563185685,
          1609.5373481525714,
          7176.375240942514,
          3319.100580640186,
          3108.940784658755,
          318.82303597158375,
          21832.919745845204,
          1210.6293432328482,
          477.9904470373338,
          16408.884746860058,
          10499.575075042996,
          18222.836699542415,
          906.2224414584629,
          1711.1507803089569,
          6703.788164945517,
          66.2364250448125,
          11874.22679929045,
          5594.85553665184,
          5378.660017924971,
          2208.3461626944213,
          975.3805012280742,
          630.9305152613193,
          13203.013167218873,
          6843.997690690104,
          5542.467804529035,
          130.9812975225037,
          7008.30897076415,
          6985.281076216756,
          5551.8660488446885,
          2687.849585402206,
          16498.295287803125,
          14150.061464119895,
          12739.052077556444,
          9880.010508658617,
          3927.596399227006,
          14282.312897601572,
          665.6783708300129,
          3696.1365489586096,
          4101.101929232551,
          3188.666888630793,
          558.0977794934491,
          1804.0350113649672,
          3351.252652866354,
          3398.420277643252,
          2911.6038923431047,
          148.22400677468298,
          970.9886976876596,
          2862.794563913591,
          4406.291357455461,
          380.920301583692,
          8303.834340960277,
          14726.995782325628,
          9243.653176364509,
          8181.334354000966,
          7506.454552566752,
          5023.747789893866,
          16536.210548877625,
          593.6425955509535,
          4346.971759925362,
          549.5469731488901,
          5008.5182519225855,
          11575.65497026901,
          679.4836650933723,
          8325.07777087147,
          15100.21744304659,
          22909.214067202724,
          2923.0191508379353,
          5539.249049603265,
          1101.1750385145824
         ]
        }
       ],
       "layout": {
        "coloraxis": {
         "colorbar": {
          "title": {
           "text": "Cluster_ID"
          }
         },
         "colorscale": [
          [
           0,
           "#0d0887"
          ],
          [
           0.1111111111111111,
           "#46039f"
          ],
          [
           0.2222222222222222,
           "#7201a8"
          ],
          [
           0.3333333333333333,
           "#9c179e"
          ],
          [
           0.4444444444444444,
           "#bd3786"
          ],
          [
           0.5555555555555556,
           "#d8576b"
          ],
          [
           0.6666666666666666,
           "#ed7953"
          ],
          [
           0.7777777777777778,
           "#fb9f3a"
          ],
          [
           0.8888888888888888,
           "#fdca26"
          ],
          [
           1,
           "#f0f921"
          ]
         ]
        },
        "height": 600,
        "legend": {
         "tracegroupgap": 0
        },
        "scene": {
         "aspectmode": "auto",
         "aspectratio": {
          "x": 0.8883907970825907,
          "y": 1.083543380303928,
          "z": 1.0388423494128534
         },
         "camera": {
          "center": {
           "x": 0,
           "y": 0,
           "z": 0
          },
          "eye": {
           "x": -0.0779922434643804,
           "y": 2.1625202004387933,
           "z": 0.07016831659340354
          },
          "projection": {
           "type": "perspective"
          },
          "up": {
           "x": 0,
           "y": 0,
           "z": 1
          }
         },
         "domain": {
          "x": [
           0,
           1
          ],
          "y": [
           0,
           1
          ]
         },
         "xaxis": {
          "title": {
           "text": "PCA_1"
          },
          "type": "linear"
         },
         "yaxis": {
          "title": {
           "text": "PCA_2"
          },
          "type": "linear"
         },
         "zaxis": {
          "title": {
           "text": "PCA_3"
          },
          "type": "linear"
         }
        },
        "template": {
         "data": {
          "bar": [
           {
            "error_x": {
             "color": "#2a3f5f"
            },
            "error_y": {
             "color": "#2a3f5f"
            },
            "marker": {
             "line": {
              "color": "#E5ECF6",
              "width": 0.5
             },
             "pattern": {
              "fillmode": "overlay",
              "size": 10,
              "solidity": 0.2
             }
            },
            "type": "bar"
           }
          ],
          "barpolar": [
           {
            "marker": {
             "line": {
              "color": "#E5ECF6",
              "width": 0.5
             },
             "pattern": {
              "fillmode": "overlay",
              "size": 10,
              "solidity": 0.2
             }
            },
            "type": "barpolar"
           }
          ],
          "carpet": [
           {
            "aaxis": {
             "endlinecolor": "#2a3f5f",
             "gridcolor": "white",
             "linecolor": "white",
             "minorgridcolor": "white",
             "startlinecolor": "#2a3f5f"
            },
            "baxis": {
             "endlinecolor": "#2a3f5f",
             "gridcolor": "white",
             "linecolor": "white",
             "minorgridcolor": "white",
             "startlinecolor": "#2a3f5f"
            },
            "type": "carpet"
           }
          ],
          "choropleth": [
           {
            "colorbar": {
             "outlinewidth": 0,
             "ticks": ""
            },
            "type": "choropleth"
           }
          ],
          "contour": [
           {
            "colorbar": {
             "outlinewidth": 0,
             "ticks": ""
            },
            "colorscale": [
             [
              0,
              "#0d0887"
             ],
             [
              0.1111111111111111,
              "#46039f"
             ],
             [
              0.2222222222222222,
              "#7201a8"
             ],
             [
              0.3333333333333333,
              "#9c179e"
             ],
             [
              0.4444444444444444,
              "#bd3786"
             ],
             [
              0.5555555555555556,
              "#d8576b"
             ],
             [
              0.6666666666666666,
              "#ed7953"
             ],
             [
              0.7777777777777778,
              "#fb9f3a"
             ],
             [
              0.8888888888888888,
              "#fdca26"
             ],
             [
              1,
              "#f0f921"
             ]
            ],
            "type": "contour"
           }
          ],
          "contourcarpet": [
           {
            "colorbar": {
             "outlinewidth": 0,
             "ticks": ""
            },
            "type": "contourcarpet"
           }
          ],
          "heatmap": [
           {
            "colorbar": {
             "outlinewidth": 0,
             "ticks": ""
            },
            "colorscale": [
             [
              0,
              "#0d0887"
             ],
             [
              0.1111111111111111,
              "#46039f"
             ],
             [
              0.2222222222222222,
              "#7201a8"
             ],
             [
              0.3333333333333333,
              "#9c179e"
             ],
             [
              0.4444444444444444,
              "#bd3786"
             ],
             [
              0.5555555555555556,
              "#d8576b"
             ],
             [
              0.6666666666666666,
              "#ed7953"
             ],
             [
              0.7777777777777778,
              "#fb9f3a"
             ],
             [
              0.8888888888888888,
              "#fdca26"
             ],
             [
              1,
              "#f0f921"
             ]
            ],
            "type": "heatmap"
           }
          ],
          "heatmapgl": [
           {
            "colorbar": {
             "outlinewidth": 0,
             "ticks": ""
            },
            "colorscale": [
             [
              0,
              "#0d0887"
             ],
             [
              0.1111111111111111,
              "#46039f"
             ],
             [
              0.2222222222222222,
              "#7201a8"
             ],
             [
              0.3333333333333333,
              "#9c179e"
             ],
             [
              0.4444444444444444,
              "#bd3786"
             ],
             [
              0.5555555555555556,
              "#d8576b"
             ],
             [
              0.6666666666666666,
              "#ed7953"
             ],
             [
              0.7777777777777778,
              "#fb9f3a"
             ],
             [
              0.8888888888888888,
              "#fdca26"
             ],
             [
              1,
              "#f0f921"
             ]
            ],
            "type": "heatmapgl"
           }
          ],
          "histogram": [
           {
            "marker": {
             "pattern": {
              "fillmode": "overlay",
              "size": 10,
              "solidity": 0.2
             }
            },
            "type": "histogram"
           }
          ],
          "histogram2d": [
           {
            "colorbar": {
             "outlinewidth": 0,
             "ticks": ""
            },
            "colorscale": [
             [
              0,
              "#0d0887"
             ],
             [
              0.1111111111111111,
              "#46039f"
             ],
             [
              0.2222222222222222,
              "#7201a8"
             ],
             [
              0.3333333333333333,
              "#9c179e"
             ],
             [
              0.4444444444444444,
              "#bd3786"
             ],
             [
              0.5555555555555556,
              "#d8576b"
             ],
             [
              0.6666666666666666,
              "#ed7953"
             ],
             [
              0.7777777777777778,
              "#fb9f3a"
             ],
             [
              0.8888888888888888,
              "#fdca26"
             ],
             [
              1,
              "#f0f921"
             ]
            ],
            "type": "histogram2d"
           }
          ],
          "histogram2dcontour": [
           {
            "colorbar": {
             "outlinewidth": 0,
             "ticks": ""
            },
            "colorscale": [
             [
              0,
              "#0d0887"
             ],
             [
              0.1111111111111111,
              "#46039f"
             ],
             [
              0.2222222222222222,
              "#7201a8"
             ],
             [
              0.3333333333333333,
              "#9c179e"
             ],
             [
              0.4444444444444444,
              "#bd3786"
             ],
             [
              0.5555555555555556,
              "#d8576b"
             ],
             [
              0.6666666666666666,
              "#ed7953"
             ],
             [
              0.7777777777777778,
              "#fb9f3a"
             ],
             [
              0.8888888888888888,
              "#fdca26"
             ],
             [
              1,
              "#f0f921"
             ]
            ],
            "type": "histogram2dcontour"
           }
          ],
          "mesh3d": [
           {
            "colorbar": {
             "outlinewidth": 0,
             "ticks": ""
            },
            "type": "mesh3d"
           }
          ],
          "parcoords": [
           {
            "line": {
             "colorbar": {
              "outlinewidth": 0,
              "ticks": ""
             }
            },
            "type": "parcoords"
           }
          ],
          "pie": [
           {
            "automargin": true,
            "type": "pie"
           }
          ],
          "scatter": [
           {
            "fillpattern": {
             "fillmode": "overlay",
             "size": 10,
             "solidity": 0.2
            },
            "type": "scatter"
           }
          ],
          "scatter3d": [
           {
            "line": {
             "colorbar": {
              "outlinewidth": 0,
              "ticks": ""
             }
            },
            "marker": {
             "colorbar": {
              "outlinewidth": 0,
              "ticks": ""
             }
            },
            "type": "scatter3d"
           }
          ],
          "scattercarpet": [
           {
            "marker": {
             "colorbar": {
              "outlinewidth": 0,
              "ticks": ""
             }
            },
            "type": "scattercarpet"
           }
          ],
          "scattergeo": [
           {
            "marker": {
             "colorbar": {
              "outlinewidth": 0,
              "ticks": ""
             }
            },
            "type": "scattergeo"
           }
          ],
          "scattergl": [
           {
            "marker": {
             "colorbar": {
              "outlinewidth": 0,
              "ticks": ""
             }
            },
            "type": "scattergl"
           }
          ],
          "scattermapbox": [
           {
            "marker": {
             "colorbar": {
              "outlinewidth": 0,
              "ticks": ""
             }
            },
            "type": "scattermapbox"
           }
          ],
          "scatterpolar": [
           {
            "marker": {
             "colorbar": {
              "outlinewidth": 0,
              "ticks": ""
             }
            },
            "type": "scatterpolar"
           }
          ],
          "scatterpolargl": [
           {
            "marker": {
             "colorbar": {
              "outlinewidth": 0,
              "ticks": ""
             }
            },
            "type": "scatterpolargl"
           }
          ],
          "scatterternary": [
           {
            "marker": {
             "colorbar": {
              "outlinewidth": 0,
              "ticks": ""
             }
            },
            "type": "scatterternary"
           }
          ],
          "surface": [
           {
            "colorbar": {
             "outlinewidth": 0,
             "ticks": ""
            },
            "colorscale": [
             [
              0,
              "#0d0887"
             ],
             [
              0.1111111111111111,
              "#46039f"
             ],
             [
              0.2222222222222222,
              "#7201a8"
             ],
             [
              0.3333333333333333,
              "#9c179e"
             ],
             [
              0.4444444444444444,
              "#bd3786"
             ],
             [
              0.5555555555555556,
              "#d8576b"
             ],
             [
              0.6666666666666666,
              "#ed7953"
             ],
             [
              0.7777777777777778,
              "#fb9f3a"
             ],
             [
              0.8888888888888888,
              "#fdca26"
             ],
             [
              1,
              "#f0f921"
             ]
            ],
            "type": "surface"
           }
          ],
          "table": [
           {
            "cells": {
             "fill": {
              "color": "#EBF0F8"
             },
             "line": {
              "color": "white"
             }
            },
            "header": {
             "fill": {
              "color": "#C8D4E3"
             },
             "line": {
              "color": "white"
             }
            },
            "type": "table"
           }
          ]
         },
         "layout": {
          "annotationdefaults": {
           "arrowcolor": "#2a3f5f",
           "arrowhead": 0,
           "arrowwidth": 1
          },
          "autotypenumbers": "strict",
          "coloraxis": {
           "colorbar": {
            "outlinewidth": 0,
            "ticks": ""
           }
          },
          "colorscale": {
           "diverging": [
            [
             0,
             "#8e0152"
            ],
            [
             0.1,
             "#c51b7d"
            ],
            [
             0.2,
             "#de77ae"
            ],
            [
             0.3,
             "#f1b6da"
            ],
            [
             0.4,
             "#fde0ef"
            ],
            [
             0.5,
             "#f7f7f7"
            ],
            [
             0.6,
             "#e6f5d0"
            ],
            [
             0.7,
             "#b8e186"
            ],
            [
             0.8,
             "#7fbc41"
            ],
            [
             0.9,
             "#4d9221"
            ],
            [
             1,
             "#276419"
            ]
           ],
           "sequential": [
            [
             0,
             "#0d0887"
            ],
            [
             0.1111111111111111,
             "#46039f"
            ],
            [
             0.2222222222222222,
             "#7201a8"
            ],
            [
             0.3333333333333333,
             "#9c179e"
            ],
            [
             0.4444444444444444,
             "#bd3786"
            ],
            [
             0.5555555555555556,
             "#d8576b"
            ],
            [
             0.6666666666666666,
             "#ed7953"
            ],
            [
             0.7777777777777778,
             "#fb9f3a"
            ],
            [
             0.8888888888888888,
             "#fdca26"
            ],
            [
             1,
             "#f0f921"
            ]
           ],
           "sequentialminus": [
            [
             0,
             "#0d0887"
            ],
            [
             0.1111111111111111,
             "#46039f"
            ],
            [
             0.2222222222222222,
             "#7201a8"
            ],
            [
             0.3333333333333333,
             "#9c179e"
            ],
            [
             0.4444444444444444,
             "#bd3786"
            ],
            [
             0.5555555555555556,
             "#d8576b"
            ],
            [
             0.6666666666666666,
             "#ed7953"
            ],
            [
             0.7777777777777778,
             "#fb9f3a"
            ],
            [
             0.8888888888888888,
             "#fdca26"
            ],
            [
             1,
             "#f0f921"
            ]
           ]
          },
          "colorway": [
           "#636efa",
           "#EF553B",
           "#00cc96",
           "#ab63fa",
           "#FFA15A",
           "#19d3f3",
           "#FF6692",
           "#B6E880",
           "#FF97FF",
           "#FECB52"
          ],
          "font": {
           "color": "#2a3f5f"
          },
          "geo": {
           "bgcolor": "white",
           "lakecolor": "white",
           "landcolor": "#E5ECF6",
           "showlakes": true,
           "showland": true,
           "subunitcolor": "white"
          },
          "hoverlabel": {
           "align": "left"
          },
          "hovermode": "closest",
          "mapbox": {
           "style": "light"
          },
          "paper_bgcolor": "white",
          "plot_bgcolor": "#E5ECF6",
          "polar": {
           "angularaxis": {
            "gridcolor": "white",
            "linecolor": "white",
            "ticks": ""
           },
           "bgcolor": "#E5ECF6",
           "radialaxis": {
            "gridcolor": "white",
            "linecolor": "white",
            "ticks": ""
           }
          },
          "scene": {
           "xaxis": {
            "backgroundcolor": "#E5ECF6",
            "gridcolor": "white",
            "gridwidth": 2,
            "linecolor": "white",
            "showbackground": true,
            "ticks": "",
            "zerolinecolor": "white"
           },
           "yaxis": {
            "backgroundcolor": "#E5ECF6",
            "gridcolor": "white",
            "gridwidth": 2,
            "linecolor": "white",
            "showbackground": true,
            "ticks": "",
            "zerolinecolor": "white"
           },
           "zaxis": {
            "backgroundcolor": "#E5ECF6",
            "gridcolor": "white",
            "gridwidth": 2,
            "linecolor": "white",
            "showbackground": true,
            "ticks": "",
            "zerolinecolor": "white"
           }
          },
          "shapedefaults": {
           "line": {
            "color": "#2a3f5f"
           }
          },
          "ternary": {
           "aaxis": {
            "gridcolor": "white",
            "linecolor": "white",
            "ticks": ""
           },
           "baxis": {
            "gridcolor": "white",
            "linecolor": "white",
            "ticks": ""
           },
           "bgcolor": "#E5ECF6",
           "caxis": {
            "gridcolor": "white",
            "linecolor": "white",
            "ticks": ""
           }
          },
          "title": {
           "x": 0.05
          },
          "xaxis": {
           "automargin": true,
           "gridcolor": "white",
           "linecolor": "white",
           "ticks": "",
           "title": {
            "standoff": 15
           },
           "zerolinecolor": "white",
           "zerolinewidth": 2
          },
          "yaxis": {
           "automargin": true,
           "gridcolor": "white",
           "linecolor": "white",
           "ticks": "",
           "title": {
            "standoff": 15
           },
           "zerolinecolor": "white",
           "zerolinewidth": 2
          }
         }
        },
        "title": {
         "text": "DBSCAN Cluster for Wholesale Customer"
        },
        "width": 800
       }
      },
      "text/html": [
       "<div>                            <div id=\"b1cbd951-ce6d-4add-8f87-12b3ed7dd717\" class=\"plotly-graph-div\" style=\"height:600px; width:800px;\"></div>            <script type=\"text/javascript\">                require([\"plotly\"], function(Plotly) {                    window.PLOTLYENV=window.PLOTLYENV || {};                                    if (document.getElementById(\"b1cbd951-ce6d-4add-8f87-12b3ed7dd717\")) {                    Plotly.newPlot(                        \"b1cbd951-ce6d-4add-8f87-12b3ed7dd717\",                        [{\"hovertemplate\":\"PCA_1=%{x}<br>PCA_2=%{y}<br>PCA_3=%{z}<br>Cluster_ID=%{marker.color}<extra></extra>\",\"legendgroup\":\"\",\"marker\":{\"color\":[0,0,0,0,0,0,0,0,0,0,0,0,0,0,0,0,0,0,0,0,0,0,0,-1,0,0,0,0,0,-1,0,0,0,0,0,0,0,0,0,-1,0,0,0,0,0,0,0,-1,0,0,0,0,-1,0,0,0,-1,0,0,0,0,-1,0,0,0,-1,0,0,0,0,0,-1,0,0,0,0,0,0,0,0,0,0,0,0,0,-1,-1,-1,0,0,0,0,-1,-1,0,0,0,0,0,0,0,0,0,-1,0,0,0,0,0,0,0,0,0,0,0,0,0,0,0,0,0,0,0,0,0,-1,0,0,0,-1,0,0,0,0,0,0,0,0,0,0,0,0,0,0,0,-1,0,0,0,0,0,0,0,0,0,0,0,0,0,0,0,0,0,0,0,0,0,0,0,0,0,0,0,0,0,0,-1,0,0,0,0,-1,0,-1,0,0,0,0,0,0,0,0,0,0,0,0,-1,0,0,0,0,0,0,0,0,0,0,0,0,0,0,-1,0,0,0,0,-1,0,0,0,0,0,0,0,0,0,0,0,0,0,0,0,0,0,0,0,0,0,0,-1,0,0,0,0,0,0,0,0,0,0,0,-1,0,0,0,0,0,0,-1,-1,0,0,0,0,0,-1,0,0,0,0,0,0,0,0,0,0,0,0,0,0,0,0,-1,0,-1,-1,0,0,0,-1,0,0,0,0,0,0,0,0,0,0,0,0,0,0,0,0,0,0,0,0,0,0,0,0,0,0,0,0,0,-1,0,0,0,0,0,-1,0,0,0,0,0,0,0,-1,0,0,0,0,0,0,0,0,0,0,0,0,0,0,0,0,0,0,0,0,0,0,0,0,0,0,0,0,0,0,0,0,0,0,0,0,0,0,0,0,0,0,0,0,0,0,0,0,0,0,0,0,0,0,0,0,0,0,0,0,0,0,0,0,0,0,0,0,0,0,0,0,0,0,0,0,0,0,0,0,0,0,0,0,0,0,0,0,0,0,0,0,0,-1,0,0,0,0,0,0,0,-1,0,-1,0,0],\"coloraxis\":\"coloraxis\",\"symbol\":\"circle\"},\"mode\":\"markers\",\"name\":\"\",\"scene\":\"scene\",\"showlegend\":false,\"x\":[551.1131859871082,2707.0646130489295,1888.1403677584103,3744.006969546094,2947.3133862009204,442.59833059920516,3570.232919692814,5109.909528513773,2948.470615100847,9496.622726841204,8582.86860637766,2852.7817941834287,1754.0116051632479,8714.498251024503,3836.4839905054578,2169.7909345228077,5179.086463201924,921.5364974938061,4586.959771438416,6194.7109750047985,852.1443985257022,1734.7791756131376,3503.4281145788677,1254.8954861046145,5760.323655259821,3290.290395488019,2137.8541548621442,1551.9729084296657,10367.282250409255,553.2412520260352,6580.752141140537,636.2889460930317,783.6505501283345,3599.8939863978844,828.7263513422454,6277.5172119397075,1230.7292054161887,4365.646158623729,5079.0809629903915,398.6622696840942,2797.4954163027173,2878.5272125375323,7742.849259010109,13794.380818459815,4508.718518082438,6040.6115210838625,10667.33849512164,16427.84976367314,5224.010030220671,12399.745578244832,1674.949170629337,3456.929156727838,1085.0765627002768,3992.947635582657,221.08035383181908,2145.4056221329183,6484.568886197287,3050.8764823546894,151.26087779748374,3468.180210500169,4426.258390103625,27381.478915593543,2666.181593124158,6971.310567244461,2669.35061837975,26164.040062713182,5255.693094365364,6809.633554688294,695.0034813548749,612.3095757054028,3328.116005197457,16910.46182053332,1358.6989730279608,5333.636730183666,4559.488726276605,429.49560172777416,5163.462028347604,16160.929311581089,1093.0183997720706,1383.3803575620138,1807.7969701310815,6720.049289817263,3798.33689392511,277.0464196450437,1923.684651964549,50523.962555885955,13466.653924630096,3578.81270731517,4963.896585246649,2051.1063136006032,1318.923853810529,2107.4264174948344,11886.99670939711,7844.499392165522,2553.3426348093103,3640.6792543598485,5246.161445612649,527.2941554568991,763.070180636268,1319.1466678778243,6029.764689676576,7822.176218538052,3306.196095453007,7246.032570322481,1384.2207515757596,2236.2870623619574,5318.014323210088,6678.485773969978,1230.1230432088994,14811.286874959864,537.8242900429134,8054.192600252497,1821.6991556534,339.0054415856985,885.2800175112967,2173.503851039696,1274.1134931175843,2411.62599460947,1325.0610252566796,1074.4332873026578,1974.081239781004,96.10367644241985,40.43063920054665,1514.2027190213207,1125.2744491853355,4580.099973802549,1490.777916166409,4142.928242782262,1537.7530532082847,670.2378209506077,474.27690649387364,64.1094372222286,438.05725924779597,151.65926479654178,625.864475370881,1430.8054707021436,2065.53222734403,2485.4837171900103,1297.6586602905616,51.0493932994793,3457.6472262186157,4008.1528030351533,2048.4060408008318,1595.5220331199428,1105.8876994568495,22898.668817709724,632.2113540696108,327.78009012998774,836.9361412955748,590.3670674995661,23.74266102875076,44.1727057749985,1724.9891147855412,2924.077668872942,73.32048135915085,10132.769921233246,9183.566201150568,1325.714831732041,4441.19619419794,7937.338876773385,8608.327604856207,329.97318166907496,2006.0801917440285,13846.116968428894,3335.6980272232527,9827.566474045416,3928.4032569246688,938.0905291770371,344.80203524036204,1707.520553171622,6581.785789790339,2587.801037854604,2454.2309292562727,12233.538414711453,4202.294095165798,5414.937492991262,1422.2328643587307,320.2666991703105,82.34145590802467,374.36591323721933,3597.199251601108,1746.3912416646858,4113.559994510984,247.52416952678516,3344.5784163405183,2313.0967625966064,1110.8756329008008,5130.2652200888015,5767.960834647376,3276.2732678015645,681.3994723748043,592.3855029887839,950.3000013573807,14861.729152245904,1767.3760285156845,2672.020983243271,3287.103470369956,4856.088987446109,4739.321170089197,220.18927898421734,12596.48908186996,13115.246065941228,1761.9666628212685,1524.331239275786,4017.920440747883,13161.95502189982,294.36717702125424,3033.323364029192,3137.3500960721753,6865.54822608782,238.91364038612252,17888.739059679185,1133.4999016968195,2259.7934784877193,5886.802307935817,7142.526821657674,20806.632283898085,708.6668619061412,8692.12749381376,1302.8996640856249,432.92489068089156,4476.345237970722,3289.1775691925827,4151.079616672668,743.2889298791912,1276.9105969166822,3881.7369613141186,473.72091263449374,304.6951141363455,1830.6613773328393,2893.684733563538,2287.870522833222,1215.3736703269021,242.66332630605396,2025.541125317375,864.9320773848533,2218.955534650101,1249.3212396752715,171.84213955831464,918.5706295424089,5587.600022820083,514.9703772179305,2125.4497102654377,1922.1075576952449,4695.539765000942,7977.5950939303,201.12706192907925,124.2325160820227,1372.3916110326236,833.6682942738465,681.7042006877006,16401.425978049985,4402.577294138825,8413.933761465598,4967.38588175274,367.76605856075616,1251.2003724930698,1330.9753324882545,1568.7873795789208,1771.9548967882388,1143.74703114603,1579.3442300304905,127.09552103465528,5771.577888356114,7403.87096830214,856.5844431596704,13364.422884225947,1492.0905812000544,11611.773419917461,731.0343842096768,1346.482654061433,1198.0385569911984,1288.5756030998332,837.1486706708234,734.0517503142137,493.975620515354,3540.94669025492,3733.027416826818,1724.3348753240066,4162.404976056301,538.9338889243688,1045.7616475531051,669.4614863992879,1061.2344156267316,7013.413940914737,1106.6227140766446,100.8242622987786,2509.0196053048808,242.5090882814663,1274.7290719315606,1008.3348717488893,1213.2079015010377,2673.7547532342596,4308.5228582160225,3560.4299540865145,3023.158062244858,2172.808731523893,3983.0158330099725,5618.020760534179,1252.6407074359008,1359.7451305527857,9740.88581251968,5111.224833851597,9290.676286619699,16322.788955152704,537.8723475178914,10885.599541280086,584.0237389647882,1702.795734216848,422.8237151165164,3839.0577027727218,4942.841131329962,13809.594961498082,2098.1040079150694,5159.393566826166,1869.1286941724345,1390.3167656732146,3516.671913180976,1453.7084621560962,944.9576370152936,53.71190689916027,3445.204505698981,2511.6215405392686,8561.760111873535,445.58070999016604,15210.77577216655,951.0048269513048,951.7286750435347,2718.1265877416304,3932.286042102213,3632.065640778382,13754.779415994844,957.1054576301376,51697.845143207815,3752.510657639461,4327.027598459072,162.64743455437372,2942.3906944771547,9219.45513332062,5859.935994273096,5805.089414327909,6167.713525213476,1842.8303297087386,17971.007693350253,1211.5315993944969,5440.251718155646,9478.521126313999,5697.713313770307,561.1670316520995,9156.928422632998,1315.9718634374976,13166.077647627984,831.6719779381652,13964.256035761216,923.9461631083456,1300.2935737407443,119.31999223190428,17448.304002057597,7090.432518942654,1343.7984588194684,118.00176545874655,463.7650452554449,1188.8330842124146,2925.229197379697,925.9169201748276,3465.17332969463,48.78810017211669,157.51707293753446,849.3280403988969,368.256464491031,563.8136552036214,1648.876763647993,632.9816896604327,2415.25938213628,245.1654642373354,69.15666024724514,7679.92278155973,933.1069235102658,265.6518503484388,5571.091362628255,951.5394948095195,477.2124095229624,2077.483099258008,2952.2565111577155,1371.433551776506,936.6327259598444,818.1381339408169,166.9812042913638,481.5804774601924,659.3805491097819,1613.685957694573,522.288838402837,851.1292703458886,594.5026465119655,1945.9204825338993,610.7082239218748,1692.2791373516347,1404.157069217146,712.9644600788461,421.5760967553235,1182.9927144583994,2214.4091800150204,539.9103243007982,3138.819226746749,610.4474707380037,590.1757387613834,2683.471188059347,8754.418201858309,3191.24283084184,3218.8006708619273,2644.087980956393,1200.7861217463894,8187.821555600337,6837.409544752676,2813.0588729171704,3818.479876606825,3097.0088785320922,5945.343905298367,10644.76208236591,421.6936339824048,7778.453267186675,4306.765592727901,1726.0844696378945,1334.1143750878143,7891.6597081811615,3985.4267866987666,6873.874988664229,2160.0876794766846,1225.9924630153207,1626.0193064975172,11158.554695593002,4110.4626282623785,2406.0985210051226,206.45003462019494,3867.9774214219246,8491.008999134314,749.7066664651484,15868.747430578182,571.5268534125933,1038.202212828331],\"y\":[8147.105698592126,5086.938208887651,4450.006857941887,7026.99647660266,12871.111943523378,6069.560672905462,7255.513050339594,4967.32775697408,3890.802787356582,5235.691730261415,2684.061129137092,7408.931013097671,18997.382628137926,12716.960086212743,14930.500960410049,5877.87495891766,2009.5059645777778,3819.144081601353,11083.55202972851,4961.705601903668,10125.441670715942,2933.5290732665408,16658.144109380533,18285.92692862872,13737.053950988304,9604.75831982833,5373.539828802902,7990.487028583058,5412.202711396613,23715.634512357254,11127.271659662207,1791.8564966190647,12052.701619983189,16511.791052874698,1082.898396256754,1428.8488726272328,16868.831120939733,9732.328585015066,4816.927691310873,29841.85414738533,12914.839430674556,10890.511444643285,7429.938232411787,2646.741928549806,6440.866026751537,5806.108883489019,4041.9731710928095,31429.13332709784,7396.242963688076,6078.1017664579595,3291.430459671271,2563.059090172513,22831.902301132377,1770.1928073419872,14923.229220705614,3385.891394325326,6114.236989743758,4408.985748864366,7722.579785716376,4265.441596058146,5401.728819168808,26098.989107107045,4816.834641688298,6786.878053958462,2568.375610329094,4553.767395842403,565.1246579250849,12120.50369213886,1666.4809861026094,4797.521690072278,8541.014101318347,10878.261893690491,2223.9650535015858,11107.8914489909,5471.452285292597,10829.820301092912,427.0864575266436,9356.853674100379,5908.537706527571,1310.0746444951178,4031.7155734540374,1757.8936458204234,7016.872086306074,11414.181989741355,6933.615882076078,18141.107909855837,20462.736683838197,23942.288005890317,3727.181752852527,13916.330780784785,6073.733219004526,6576.987777690493,8951.450791615249,3496.545112152578,4748.956343793764,583.6669901855137,707.6913852747957,210.15894254449287,252.45616921918906,5069.841279281855,7416.872987062758,2516.548075532715,2375.771934809699,29828.700609254174,7955.032591707235,8741.48868782662,1954.4321274168524,6364.297871535754,1932.967500646852,3849.4751899013436,6483.121576047966,8772.137155211223,9989.90352467536,7885.188895728158,9823.94173582215,6079.017979377033,6370.607198692156,4314.353084036479,10763.12790612456,4486.493147832375,9449.337296571086,2341.9811828724,6514.901542377651,7325.569051296996,19549.50736168125,40833.95516741863,10015.259386992162,12871.866451069855,1030.5830624405282,23083.453109745133,3590.501635254433,1183.07345014689,8392.375379637146,5265.871261911083,4252.362389107674,3595.9015689893636,3260.3011654147313,2797.275597219674,8023.790024628683,3480.5894606364873,10205.00606073509,17947.65238138411,21021.06529795694,5136.301898506816,10678.512928883427,14808.496841758517,4446.7635638012225,5348.592409514455,2957.287591205403,17490.43181145839,9028.537469109331,1055.2461111153953,10311.711361044825,2732.1233130200867,345.3717247559128,3128.137380465361,3397.2674499165523,9656.867225777352,2605.7199583414654,1686.155334817041,1946.424392037872,6744.790116429768,8439.309134879148,5739.1904220176775,3776.929800254101,10377.71199406162,3654.7085163002102,2022.7728525438388,3154.756536697483,2931.8692819017315,1576.9167771529978,3399.7930626609523,1341.9251573775164,2032.9558814489674,353.58114040469985,2642.175451157356,25210.16113997799,7685.765501252371,6783.978659421072,1888.0827317038697,7739.099523409336,63235.498535866034,1684.5173324575387,21773.82232210605,532.5769280475237,4868.502393019986,1432.613709605085,2040.8620356112613,5483.353521922732,2089.2736667899812,9232.273822524316,7457.023204761132,3212.805216777881,1529.7383345014034,4067.6403363131826,9335.022812071678,15957.568491945287,2442.471457028303,6653.96454967178,5543.117044262496,3825.994972914804,4824.470780404839,14825.428824897079,467.7015169870819,1335.3577459340183,2919.070766819989,3519.725649869108,1889.9517472985688,1340.01819840958,5021.240889313422,10205.905941620496,10946.204876172316,4070.581161974726,2655.6768402489306,2439.0453741380675,3243.4112732255103,4948.448289381239,9861.576173391337,1440.0623936362226,2178.3684979144255,8047.554500173311,4200.421493501829,2359.5658715861846,1559.6776988277566,4042.162821515232,7375.30046300966,12224.011577023473,2281.740023395291,1018.5253810465271,4501.137931537906,6147.212345254051,2271.520431674673,14476.542103384678,1058.5512318138076,8590.321389352672,1596.875432763848,4757.713253739731,10140.321076608301,3991.5825990781996,25873.865123670836,11771.56731896985,13695.286904445577,9838.967978534998,6668.39640149485,4577.523420954793,3001.2714739743074,4997.6802852140545,7273.922744576472,9078.14551986686,4270.59160006086,1863.0251139599093,6707.680620187021,3381.369393121115,17744.137572560354,7030.622272304808,17081.649833008327,6740.43546537646,4457.886734273775,30519.69509806671,29595.838718440828,5519.292451766739,3847.459474397247,12807.572895819678,1292.995755097568,2317.2654289039383,5119.630883292723,2269.6508489613225,11299.767433812847,8266.33226347794,8166.419526148576,2238.1212481899174,1548.6356028163525,1341.0767560180152,19994.339923803287,675.2752654859921,442.88919220941426,15551.160006558057,3574.341948426703,6210.709547678331,10451.557971989097,2136.3424041628546,7543.534132542408,26811.14570996509,13569.791781960921,37956.88300848253,22122.964921000974,4017.769976288102,7985.911473882941,8917.351217518331,23254.641454559696,1771.5982423848068,3539.9869133257193,1730.4858484592496,3776.0356650124636,12080.004108549938,4573.839330145392,10467.624090837731,4971.069622323905,4583.484933586009,416.5180021038407,9797.544817018133,5061.448388206019,2573.3256160434744,2515.6927519074143,2150.3899920309627,1673.4596619841864,5738.082757202407,9714.146537738352,4038.8883480446543,2909.796975241553,3007.7914861644995,16583.209835220616,2522.3937716999567,5167.867261188212,6269.291366592736,2714.594309384819,3898.7459479908266,1185.0919394331893,6687.96062704321,8372.101561275977,1367.296518770385,5223.718514188978,8593.644461195792,7981.590081268058,14401.104004154528,14746.205803826359,2321.4770667896523,434.61082348061234,8934.507078127404,2740.512530806757,5482.49997008731,8868.641365494954,12329.919233600469,9135.6817180781,8405.521095293567,15862.420255885787,7764.611799334753,4654.759663156187,906.9356118711,1011.7384113142106,1092.5619617191935,2355.7351365543054,945.1332390418062,2962.105944963518,1667.949278088996,1337.7374466173019,2791.3103668225867,16021.335929197905,2072.149759607652,5542.416224172813,1974.7645640822711,2689.4210573441073,443.622507980464,1845.268060291097,7864.848321533932,264.1744514355167,12115.604663026183,1459.2242120299238,1533.1507898858981,1020.4873200180591,10897.121137729504,2578.0970653254785,1388.652729024983,2856.5291907419855,1493.9505722066358,3410.7995955568003,5394.470758360857,1874.9397542291197,12241.589071768425,3360.0525505191763,22138.058371890966,10521.815006285437,2456.07810649137,9054.20041541382,3613.225927364744,3322.7476482243087,2755.820692936588,21478.838697168536,2122.231205310003,3252.2735211038266,15273.127142219691,9300.688321050762,19689.821459083956,965.1568824436597,8254.4170986658,6291.386867344414,961.4236741748391,11486.23226905471,5329.066144615992,5065.827290221145,1525.933946183271,1733.1502242737615,789.9506514026293,12922.387980014599,6890.461036629904,5165.263010197794,3792.2680715912743,5916.5265322185205,5888.264997378599,5204.536723814405,2261.9151327413933,14017.775371217092,15150.444324370048,15140.595976478342,10066.542772002118,3729.664713415291,13529.13142096123,5960.7550088397775,5067.12363885843,5212.679140517425,3944.532770570022,1496.7564013576355,1092.9622058069178,1963.2547205569663,3130.5090918794585,5146.649342525919,3887.153454864287,3854.215193819317,2179.152835517471,5223.967911537359,3663.58014806992,10161.267059774993,14685.216485490293,10070.451932977043,10158.426343806217,5147.428233956875,8527.602848626027,17305.875997754192,2262.3479560403607,5049.467799413035,2985.271478670849,4245.174537151508,11871.534709736,1303.8576121114113,9869.312968523976,17016.50145633242,21155.82421529118,10997.426570891103,5818.3054572780475,1806.3699121136162],\"z\":[5131.161064099218,1804.4186976183564,1815.3479952033554,7730.36880291856,11944.338131433344,3761.008967039438,5851.6219377754915,2821.4362365813868,2295.1068131576385,65.1016111931457,220.63306666086962,7110.982198632076,15327.023250542847,10087.38851334343,11618.371459626114,5404.314861700181,1996.592216014813,2275.278570712917,8989.579700075306,3187.283727330858,9117.658884529952,3238.181006762898,18349.532479069727,8115.50977962501,10504.381704988326,7943.852846147889,5616.968451109106,7873.529483962366,3300.579248901446,24496.623617978425,9289.182320151824,760.8756744470573,12053.325609571348,16377.215910351519,380.81456520893636,1517.441362218375,16309.331301682452,6095.2421193480795,1445.9459520541545,33411.702734954815,13776.137832980441,10229.996869394756,3579.6276556032003,3773.504268317002,3497.2975072566596,2368.438685291631,2460.6660688634206,12632.400828460286,4657.698669076827,3194.882397374119,3665.9027506411217,614.0442441094185,22435.3375055164,2416.5964101260547,15665.976866472003,2080.7294308132628,4627.657050865388,554.1421524046517,7578.331243741498,1914.128511919505,3689.9003232058435,9099.787241275752,3350.2086730307965,2345.1055831495582,2620.4592839834236,7975.832367650022,1004.2223795530571,9221.376411621117,545.6298493144616,4368.404091529364,10159.874628422609,8699.084515011362,2461.4767649608825,10665.220072646633,2892.1530630897432,12116.330390341995,18.57033297660855,2213.7655386688925,6062.740236234233,169.73258408706144,3656.0307627810284,2797.8845836542787,3538.4814087260143,11915.703488411787,5991.092350530886,7360.086594421685,833.7717366566668,24116.672792688976,5069.7918606061285,13652.633976221732,6696.557149715373,7631.47736650458,1814.7565605641068,9589.320876991645,268.2999200308773,1055.822084787296,1233.3370181041623,212.25395482676313,285.540079596415,5666.451626557476,4607.9339559403925,2350.9139263097068,194.1658775546227,32919.4356273394,7624.2708935032015,8546.899413282932,1229.5682016385726,2188.9539587187965,1070.3108638545514,4699.764170802125,6662.523189115864,3843.9628113177846,11298.559051949715,8181.480962509836,10348.356321425214,6297.496817742022,5900.897536601331,3073.635118280038,11647.545806915594,4621.294918135742,9651.098628847134,1947.6420681492968,7228.981798726077,4174.309639151273,20828.75162009966,44636.47960768421,11552.792097563433,10310.806712917905,1610.6481022552748,24392.643743190914,4380.057906981649,1133.6107390391878,8128.171053638908,5224.836825422205,3845.2921049919237,3304.189705053642,1148.7231319763052,219.80681977560283,6690.318803405565,2118.192820600379,9032.777494934473,15132.885516877748,19831.45479681457,6568.161047667287,10165.532222645665,7774.982361805689,4079.608277451526,4681.0451298965745,3716.9161706508794,18123.80669955228,9030.932915802827,97.60684036733156,10691.187268385293,480.55996975571674,345.36305104805183,2493.9995714573192,130.84721595107274,10185.45028357644,246.41601937443556,2468.938403252402,836.5168860341297,7208.651501580392,8365.204672097603,1754.9219501111818,1254.1665245119461,5513.338971481932,922.6796211429572,916.8783189484658,3318.133504853451,3052.045026972467,2454.0236029704597,5741.021007797235,920.3314068681037,2871.016321724133,312.2893666206387,1070.3045582142802,25493.296055710427,6014.290739265545,4925.543126661651,1318.1790859244293,5354.901478058527,60443.831606137785,1937.5971360162428,16609.323465194633,447.3377505959275,3898.257067689398,1942.0869461220536,156.55789530745506,2566.882913579379,2427.8171080891734,9459.625759628001,7793.343053846438,2791.6911427621812,2502.5375829289164,3732.025497336401,9379.114397714566,18138.371623568557,637.7030607895952,6088.721051741452,5094.534324756985,2246.528774245806,1807.94092931742,12429.145118465125,47.16519441232825,583.0266572536772,3525.813041272732,3567.7441306894457,432.1594721401031,92.93667249030518,370.38526691237655,10518.120082053709,918.3244651215731,3988.8588016277436,354.15377370836376,723.729537235346,1485.6899601791001,4893.767952751132,10283.228114235892,2597.604124389748,2446.949078028194,8452.875367407754,885.3563236867491,3242.0801764034345,1271.1201634554084,4037.8651307664686,6490.605967447281,10361.115821640666,2092.2589399900053,1037.0296707656285,5067.300562297828,5811.949610756519,464.5307489276477,14430.258632053214,429.7915064889012,8679.331162527666,44.35314419927644,4796.8832095445205,10693.647462336925,4250.126044257743,27281.72265829028,12724.440008845551,14143.794580935246,10543.088097330665,5475.69358614044,1409.7055938416186,609.2385150447889,4787.731912109862,7976.519105681342,8104.801858216242,4550.421992695856,1545.6287375876523,2751.4934841271165,3865.252206661103,14147.058497123418,3368.6548365066405,18422.750454595745,5172.606495791634,4953.375444569436,32270.277474002145,29619.012074516515,4412.336475840556,4993.688899957544,13193.651710761676,818.1016207192638,2459.9712715449305,422.6408097193424,3263.7003032614434,12065.986144273713,3683.5396245886864,8920.75586008339,3060.5835740995085,424.4292031432855,1606.576577841424,21228.777068854102,148.38670778677147,225.88390140887074,15334.078464304768,6846.710182782668,6778.634352265387,8236.510731122737,1368.5267812434959,5490.614432695555,28012.711098462023,15271.693584394692,38850.53877654705,22944.145281819605,3849.824272812031,9167.005749681673,9281.343602589792,24838.34281898229,1019.9308755343386,2910.5722856716898,1130.6868666835767,563.1482483186347,11414.872204216075,3595.1827748266865,10793.655865156423,3615.888841329644,2267.3979277703966,66.5120678585126,8013.591327786345,904.2930645392221,124.78382782328421,479.98263208825773,3616.1604405315547,2624.2069734082474,275.9127612368351,9503.713710832935,3616.4342496854447,3800.8683081562394,4928.018392754016,16250.5642833375,1250.9709787559157,5742.975252780785,5216.103266569805,2554.180241687645,3972.8759600168455,325.44341428958217,6278.056807553775,197.5039291782845,295.0208592757608,4753.592392869871,9128.18781329941,6441.440295225163,14507.350054020502,21474.095923127185,2537.282167361716,46.151478453375724,9950.42115046841,2791.324448140152,5234.647499202618,1548.9258415205998,12536.950102921357,3046.3314112186868,10537.071440402675,13666.746806946343,7796.21312047668,5802.772227979403,845.6365354423552,1780.241329644886,1374.2585258137726,634.7586009551432,1298.434257103057,2736.9100528584127,1637.1566949394603,546.946123628105,807.558254490511,13773.944639478126,1560.3273086587976,685.9882771379906,1852.9213045793063,2998.1985164310618,112.4312314050441,3121.224450877507,7452.823447399804,188.2491071845502,13432.408489306523,2564.2383967455507,1818.844383116004,590.1644139212208,11076.685734421351,2687.7011335354796,788.2025397811296,2073.8045849539308,1338.947309224898,1124.454427506817,5158.364783433921,1980.018165498201,12719.04757965665,3589.9235496909264,22015.665154916598,12025.405563185685,1609.5373481525714,7176.375240942514,3319.100580640186,3108.940784658755,318.82303597158375,21832.919745845204,1210.6293432328482,477.9904470373338,16408.884746860058,10499.575075042996,18222.836699542415,906.2224414584629,1711.1507803089569,6703.788164945517,66.2364250448125,11874.22679929045,5594.85553665184,5378.660017924971,2208.3461626944213,975.3805012280742,630.9305152613193,13203.013167218873,6843.997690690104,5542.467804529035,130.9812975225037,7008.30897076415,6985.281076216756,5551.8660488446885,2687.849585402206,16498.295287803125,14150.061464119895,12739.052077556444,9880.010508658617,3927.596399227006,14282.312897601572,665.6783708300129,3696.1365489586096,4101.101929232551,3188.666888630793,558.0977794934491,1804.0350113649672,3351.252652866354,3398.420277643252,2911.6038923431047,148.22400677468298,970.9886976876596,2862.794563913591,4406.291357455461,380.920301583692,8303.834340960277,14726.995782325628,9243.653176364509,8181.334354000966,7506.454552566752,5023.747789893866,16536.210548877625,593.6425955509535,4346.971759925362,549.5469731488901,5008.5182519225855,11575.65497026901,679.4836650933723,8325.07777087147,15100.21744304659,22909.214067202724,2923.0191508379353,5539.249049603265,1101.1750385145824],\"type\":\"scatter3d\"}],                        {\"template\":{\"data\":{\"histogram2dcontour\":[{\"type\":\"histogram2dcontour\",\"colorbar\":{\"outlinewidth\":0,\"ticks\":\"\"},\"colorscale\":[[0.0,\"#0d0887\"],[0.1111111111111111,\"#46039f\"],[0.2222222222222222,\"#7201a8\"],[0.3333333333333333,\"#9c179e\"],[0.4444444444444444,\"#bd3786\"],[0.5555555555555556,\"#d8576b\"],[0.6666666666666666,\"#ed7953\"],[0.7777777777777778,\"#fb9f3a\"],[0.8888888888888888,\"#fdca26\"],[1.0,\"#f0f921\"]]}],\"choropleth\":[{\"type\":\"choropleth\",\"colorbar\":{\"outlinewidth\":0,\"ticks\":\"\"}}],\"histogram2d\":[{\"type\":\"histogram2d\",\"colorbar\":{\"outlinewidth\":0,\"ticks\":\"\"},\"colorscale\":[[0.0,\"#0d0887\"],[0.1111111111111111,\"#46039f\"],[0.2222222222222222,\"#7201a8\"],[0.3333333333333333,\"#9c179e\"],[0.4444444444444444,\"#bd3786\"],[0.5555555555555556,\"#d8576b\"],[0.6666666666666666,\"#ed7953\"],[0.7777777777777778,\"#fb9f3a\"],[0.8888888888888888,\"#fdca26\"],[1.0,\"#f0f921\"]]}],\"heatmap\":[{\"type\":\"heatmap\",\"colorbar\":{\"outlinewidth\":0,\"ticks\":\"\"},\"colorscale\":[[0.0,\"#0d0887\"],[0.1111111111111111,\"#46039f\"],[0.2222222222222222,\"#7201a8\"],[0.3333333333333333,\"#9c179e\"],[0.4444444444444444,\"#bd3786\"],[0.5555555555555556,\"#d8576b\"],[0.6666666666666666,\"#ed7953\"],[0.7777777777777778,\"#fb9f3a\"],[0.8888888888888888,\"#fdca26\"],[1.0,\"#f0f921\"]]}],\"heatmapgl\":[{\"type\":\"heatmapgl\",\"colorbar\":{\"outlinewidth\":0,\"ticks\":\"\"},\"colorscale\":[[0.0,\"#0d0887\"],[0.1111111111111111,\"#46039f\"],[0.2222222222222222,\"#7201a8\"],[0.3333333333333333,\"#9c179e\"],[0.4444444444444444,\"#bd3786\"],[0.5555555555555556,\"#d8576b\"],[0.6666666666666666,\"#ed7953\"],[0.7777777777777778,\"#fb9f3a\"],[0.8888888888888888,\"#fdca26\"],[1.0,\"#f0f921\"]]}],\"contourcarpet\":[{\"type\":\"contourcarpet\",\"colorbar\":{\"outlinewidth\":0,\"ticks\":\"\"}}],\"contour\":[{\"type\":\"contour\",\"colorbar\":{\"outlinewidth\":0,\"ticks\":\"\"},\"colorscale\":[[0.0,\"#0d0887\"],[0.1111111111111111,\"#46039f\"],[0.2222222222222222,\"#7201a8\"],[0.3333333333333333,\"#9c179e\"],[0.4444444444444444,\"#bd3786\"],[0.5555555555555556,\"#d8576b\"],[0.6666666666666666,\"#ed7953\"],[0.7777777777777778,\"#fb9f3a\"],[0.8888888888888888,\"#fdca26\"],[1.0,\"#f0f921\"]]}],\"surface\":[{\"type\":\"surface\",\"colorbar\":{\"outlinewidth\":0,\"ticks\":\"\"},\"colorscale\":[[0.0,\"#0d0887\"],[0.1111111111111111,\"#46039f\"],[0.2222222222222222,\"#7201a8\"],[0.3333333333333333,\"#9c179e\"],[0.4444444444444444,\"#bd3786\"],[0.5555555555555556,\"#d8576b\"],[0.6666666666666666,\"#ed7953\"],[0.7777777777777778,\"#fb9f3a\"],[0.8888888888888888,\"#fdca26\"],[1.0,\"#f0f921\"]]}],\"mesh3d\":[{\"type\":\"mesh3d\",\"colorbar\":{\"outlinewidth\":0,\"ticks\":\"\"}}],\"scatter\":[{\"fillpattern\":{\"fillmode\":\"overlay\",\"size\":10,\"solidity\":0.2},\"type\":\"scatter\"}],\"parcoords\":[{\"type\":\"parcoords\",\"line\":{\"colorbar\":{\"outlinewidth\":0,\"ticks\":\"\"}}}],\"scatterpolargl\":[{\"type\":\"scatterpolargl\",\"marker\":{\"colorbar\":{\"outlinewidth\":0,\"ticks\":\"\"}}}],\"bar\":[{\"error_x\":{\"color\":\"#2a3f5f\"},\"error_y\":{\"color\":\"#2a3f5f\"},\"marker\":{\"line\":{\"color\":\"#E5ECF6\",\"width\":0.5},\"pattern\":{\"fillmode\":\"overlay\",\"size\":10,\"solidity\":0.2}},\"type\":\"bar\"}],\"scattergeo\":[{\"type\":\"scattergeo\",\"marker\":{\"colorbar\":{\"outlinewidth\":0,\"ticks\":\"\"}}}],\"scatterpolar\":[{\"type\":\"scatterpolar\",\"marker\":{\"colorbar\":{\"outlinewidth\":0,\"ticks\":\"\"}}}],\"histogram\":[{\"marker\":{\"pattern\":{\"fillmode\":\"overlay\",\"size\":10,\"solidity\":0.2}},\"type\":\"histogram\"}],\"scattergl\":[{\"type\":\"scattergl\",\"marker\":{\"colorbar\":{\"outlinewidth\":0,\"ticks\":\"\"}}}],\"scatter3d\":[{\"type\":\"scatter3d\",\"line\":{\"colorbar\":{\"outlinewidth\":0,\"ticks\":\"\"}},\"marker\":{\"colorbar\":{\"outlinewidth\":0,\"ticks\":\"\"}}}],\"scattermapbox\":[{\"type\":\"scattermapbox\",\"marker\":{\"colorbar\":{\"outlinewidth\":0,\"ticks\":\"\"}}}],\"scatterternary\":[{\"type\":\"scatterternary\",\"marker\":{\"colorbar\":{\"outlinewidth\":0,\"ticks\":\"\"}}}],\"scattercarpet\":[{\"type\":\"scattercarpet\",\"marker\":{\"colorbar\":{\"outlinewidth\":0,\"ticks\":\"\"}}}],\"carpet\":[{\"aaxis\":{\"endlinecolor\":\"#2a3f5f\",\"gridcolor\":\"white\",\"linecolor\":\"white\",\"minorgridcolor\":\"white\",\"startlinecolor\":\"#2a3f5f\"},\"baxis\":{\"endlinecolor\":\"#2a3f5f\",\"gridcolor\":\"white\",\"linecolor\":\"white\",\"minorgridcolor\":\"white\",\"startlinecolor\":\"#2a3f5f\"},\"type\":\"carpet\"}],\"table\":[{\"cells\":{\"fill\":{\"color\":\"#EBF0F8\"},\"line\":{\"color\":\"white\"}},\"header\":{\"fill\":{\"color\":\"#C8D4E3\"},\"line\":{\"color\":\"white\"}},\"type\":\"table\"}],\"barpolar\":[{\"marker\":{\"line\":{\"color\":\"#E5ECF6\",\"width\":0.5},\"pattern\":{\"fillmode\":\"overlay\",\"size\":10,\"solidity\":0.2}},\"type\":\"barpolar\"}],\"pie\":[{\"automargin\":true,\"type\":\"pie\"}]},\"layout\":{\"autotypenumbers\":\"strict\",\"colorway\":[\"#636efa\",\"#EF553B\",\"#00cc96\",\"#ab63fa\",\"#FFA15A\",\"#19d3f3\",\"#FF6692\",\"#B6E880\",\"#FF97FF\",\"#FECB52\"],\"font\":{\"color\":\"#2a3f5f\"},\"hovermode\":\"closest\",\"hoverlabel\":{\"align\":\"left\"},\"paper_bgcolor\":\"white\",\"plot_bgcolor\":\"#E5ECF6\",\"polar\":{\"bgcolor\":\"#E5ECF6\",\"angularaxis\":{\"gridcolor\":\"white\",\"linecolor\":\"white\",\"ticks\":\"\"},\"radialaxis\":{\"gridcolor\":\"white\",\"linecolor\":\"white\",\"ticks\":\"\"}},\"ternary\":{\"bgcolor\":\"#E5ECF6\",\"aaxis\":{\"gridcolor\":\"white\",\"linecolor\":\"white\",\"ticks\":\"\"},\"baxis\":{\"gridcolor\":\"white\",\"linecolor\":\"white\",\"ticks\":\"\"},\"caxis\":{\"gridcolor\":\"white\",\"linecolor\":\"white\",\"ticks\":\"\"}},\"coloraxis\":{\"colorbar\":{\"outlinewidth\":0,\"ticks\":\"\"}},\"colorscale\":{\"sequential\":[[0.0,\"#0d0887\"],[0.1111111111111111,\"#46039f\"],[0.2222222222222222,\"#7201a8\"],[0.3333333333333333,\"#9c179e\"],[0.4444444444444444,\"#bd3786\"],[0.5555555555555556,\"#d8576b\"],[0.6666666666666666,\"#ed7953\"],[0.7777777777777778,\"#fb9f3a\"],[0.8888888888888888,\"#fdca26\"],[1.0,\"#f0f921\"]],\"sequentialminus\":[[0.0,\"#0d0887\"],[0.1111111111111111,\"#46039f\"],[0.2222222222222222,\"#7201a8\"],[0.3333333333333333,\"#9c179e\"],[0.4444444444444444,\"#bd3786\"],[0.5555555555555556,\"#d8576b\"],[0.6666666666666666,\"#ed7953\"],[0.7777777777777778,\"#fb9f3a\"],[0.8888888888888888,\"#fdca26\"],[1.0,\"#f0f921\"]],\"diverging\":[[0,\"#8e0152\"],[0.1,\"#c51b7d\"],[0.2,\"#de77ae\"],[0.3,\"#f1b6da\"],[0.4,\"#fde0ef\"],[0.5,\"#f7f7f7\"],[0.6,\"#e6f5d0\"],[0.7,\"#b8e186\"],[0.8,\"#7fbc41\"],[0.9,\"#4d9221\"],[1,\"#276419\"]]},\"xaxis\":{\"gridcolor\":\"white\",\"linecolor\":\"white\",\"ticks\":\"\",\"title\":{\"standoff\":15},\"zerolinecolor\":\"white\",\"automargin\":true,\"zerolinewidth\":2},\"yaxis\":{\"gridcolor\":\"white\",\"linecolor\":\"white\",\"ticks\":\"\",\"title\":{\"standoff\":15},\"zerolinecolor\":\"white\",\"automargin\":true,\"zerolinewidth\":2},\"scene\":{\"xaxis\":{\"backgroundcolor\":\"#E5ECF6\",\"gridcolor\":\"white\",\"linecolor\":\"white\",\"showbackground\":true,\"ticks\":\"\",\"zerolinecolor\":\"white\",\"gridwidth\":2},\"yaxis\":{\"backgroundcolor\":\"#E5ECF6\",\"gridcolor\":\"white\",\"linecolor\":\"white\",\"showbackground\":true,\"ticks\":\"\",\"zerolinecolor\":\"white\",\"gridwidth\":2},\"zaxis\":{\"backgroundcolor\":\"#E5ECF6\",\"gridcolor\":\"white\",\"linecolor\":\"white\",\"showbackground\":true,\"ticks\":\"\",\"zerolinecolor\":\"white\",\"gridwidth\":2}},\"shapedefaults\":{\"line\":{\"color\":\"#2a3f5f\"}},\"annotationdefaults\":{\"arrowcolor\":\"#2a3f5f\",\"arrowhead\":0,\"arrowwidth\":1},\"geo\":{\"bgcolor\":\"white\",\"landcolor\":\"#E5ECF6\",\"subunitcolor\":\"white\",\"showland\":true,\"showlakes\":true,\"lakecolor\":\"white\"},\"title\":{\"x\":0.05},\"mapbox\":{\"style\":\"light\"}}},\"scene\":{\"domain\":{\"x\":[0.0,1.0],\"y\":[0.0,1.0]},\"xaxis\":{\"title\":{\"text\":\"PCA_1\"}},\"yaxis\":{\"title\":{\"text\":\"PCA_2\"}},\"zaxis\":{\"title\":{\"text\":\"PCA_3\"}}},\"coloraxis\":{\"colorbar\":{\"title\":{\"text\":\"Cluster_ID\"}},\"colorscale\":[[0.0,\"#0d0887\"],[0.1111111111111111,\"#46039f\"],[0.2222222222222222,\"#7201a8\"],[0.3333333333333333,\"#9c179e\"],[0.4444444444444444,\"#bd3786\"],[0.5555555555555556,\"#d8576b\"],[0.6666666666666666,\"#ed7953\"],[0.7777777777777778,\"#fb9f3a\"],[0.8888888888888888,\"#fdca26\"],[1.0,\"#f0f921\"]]},\"legend\":{\"tracegroupgap\":0},\"title\":{\"text\":\"DBSCAN Cluster for Wholesale Customer\"},\"height\":600,\"width\":800},                        {\"responsive\": true}                    ).then(function(){\n",
       "                            \n",
       "var gd = document.getElementById('b1cbd951-ce6d-4add-8f87-12b3ed7dd717');\n",
       "var x = new MutationObserver(function (mutations, observer) {{\n",
       "        var display = window.getComputedStyle(gd).display;\n",
       "        if (!display || display === 'none') {{\n",
       "            console.log([gd, 'removed!']);\n",
       "            Plotly.purge(gd);\n",
       "            observer.disconnect();\n",
       "        }}\n",
       "}});\n",
       "\n",
       "// Listen for the removal of the full notebook cells\n",
       "var notebookContainer = gd.closest('#notebook-container');\n",
       "if (notebookContainer) {{\n",
       "    x.observe(notebookContainer, {childList: true});\n",
       "}}\n",
       "\n",
       "// Listen for the clearing of the current output cell\n",
       "var outputEl = gd.closest('.output');\n",
       "if (outputEl) {{\n",
       "    x.observe(outputEl, {childList: true});\n",
       "}}\n",
       "\n",
       "                        })                };                });            </script>        </div>"
      ]
     },
     "metadata": {},
     "output_type": "display_data"
    }
   ],
   "source": [
    "px.scatter_3d(New_Dataframe_Wholesale_Customer, x = 'PCA_1', y = 'PCA_2', z = 'PCA_3', color = New_Dataframe_Wholesale_Customer['DBSCAN_Cluster_ID'], \n",
    "                         title = 'DBSCAN Cluster for Wholesale Customer', labels = {'DBSCAN_Cluster_ID' : 'Cluster_ID'},width = 800, height = 600)"
   ]
  },
  {
   "cell_type": "markdown",
   "id": "3de95a32-1d18-4b9b-804b-d363a62a09d2",
   "metadata": {},
   "source": [
    "**3. Hierarchical**"
   ]
  },
  {
   "cell_type": "code",
   "execution_count": 1503,
   "id": "01291ddb-e713-464a-8b4c-33d5c011fe64",
   "metadata": {},
   "outputs": [],
   "source": [
    "scaler_3 = StandardScaler()"
   ]
  },
  {
   "cell_type": "code",
   "execution_count": 1504,
   "id": "d69333f8-f319-41e4-a5fc-0e430b8b72ad",
   "metadata": {},
   "outputs": [
    {
     "data": {
      "text/plain": [
       "array([[-0.63660046,  0.13166661, -0.1703052 ,  0.01722357],\n",
       "       [-0.23133539, -0.31255979, -0.6423567 ,  0.20076374],\n",
       "       [-0.38527271, -0.40501934, -0.64080588,  0.13433399],\n",
       "       ...,\n",
       "       [ 2.24273254,  0.54543081, -0.48363175,  1.08446168],\n",
       "       [-0.6327632 , -0.20639153, -0.11239913, -0.67782956],\n",
       "       [-0.54503987, -0.78878046, -0.74214418, -0.84790211]])"
      ]
     },
     "execution_count": 1504,
     "metadata": {},
     "output_type": "execute_result"
    }
   ],
   "source": [
    "scaled_X_3 = scaler_3.fit_transform(X)\n",
    "scaled_X_3"
   ]
  },
  {
   "cell_type": "code",
   "execution_count": 1505,
   "id": "674c8edd-9907-457e-8150-8380f379a95c",
   "metadata": {},
   "outputs": [
    {
     "data": {
      "text/html": [
       "<div>\n",
       "<style scoped>\n",
       "    .dataframe tbody tr th:only-of-type {\n",
       "        vertical-align: middle;\n",
       "    }\n",
       "\n",
       "    .dataframe tbody tr th {\n",
       "        vertical-align: top;\n",
       "    }\n",
       "\n",
       "    .dataframe thead th {\n",
       "        text-align: right;\n",
       "    }\n",
       "</style>\n",
       "<table border=\"1\" class=\"dataframe\">\n",
       "  <thead>\n",
       "    <tr style=\"text-align: right;\">\n",
       "      <th></th>\n",
       "      <th>PCA_1</th>\n",
       "      <th>PCA_2</th>\n",
       "      <th>PCA_3</th>\n",
       "      <th>PCA_4</th>\n",
       "    </tr>\n",
       "  </thead>\n",
       "  <tbody>\n",
       "    <tr>\n",
       "      <th>0</th>\n",
       "      <td>-0.64</td>\n",
       "      <td>0.13</td>\n",
       "      <td>-0.17</td>\n",
       "      <td>0.02</td>\n",
       "    </tr>\n",
       "    <tr>\n",
       "      <th>1</th>\n",
       "      <td>-0.23</td>\n",
       "      <td>-0.31</td>\n",
       "      <td>-0.64</td>\n",
       "      <td>0.20</td>\n",
       "    </tr>\n",
       "    <tr>\n",
       "      <th>2</th>\n",
       "      <td>-0.39</td>\n",
       "      <td>-0.41</td>\n",
       "      <td>-0.64</td>\n",
       "      <td>0.13</td>\n",
       "    </tr>\n",
       "    <tr>\n",
       "      <th>3</th>\n",
       "      <td>-0.04</td>\n",
       "      <td>-0.03</td>\n",
       "      <td>0.20</td>\n",
       "      <td>-0.12</td>\n",
       "    </tr>\n",
       "    <tr>\n",
       "      <th>4</th>\n",
       "      <td>-0.19</td>\n",
       "      <td>0.82</td>\n",
       "      <td>0.80</td>\n",
       "      <td>0.11</td>\n",
       "    </tr>\n",
       "  </tbody>\n",
       "</table>\n",
       "</div>"
      ],
      "text/plain": [
       "   PCA_1  PCA_2  PCA_3  PCA_4\n",
       "0  -0.64   0.13  -0.17   0.02\n",
       "1  -0.23  -0.31  -0.64   0.20\n",
       "2  -0.39  -0.41  -0.64   0.13\n",
       "3  -0.04  -0.03   0.20  -0.12\n",
       "4  -0.19   0.82   0.80   0.11"
      ]
     },
     "execution_count": 1505,
     "metadata": {},
     "output_type": "execute_result"
    }
   ],
   "source": [
    "scaled_X_3_df = pd.DataFrame(scaled_X_3, columns = ['PCA_1', 'PCA_2', 'PCA_3','PCA_4'])\n",
    "scaled_X_3_df.head()"
   ]
  },
  {
   "cell_type": "code",
   "execution_count": 1506,
   "id": "75429f30-78ed-44e6-b0ba-97a63867e4d5",
   "metadata": {},
   "outputs": [],
   "source": [
    "from sklearn.cluster import AgglomerativeClustering"
   ]
  },
  {
   "cell_type": "code",
   "execution_count": 1507,
   "id": "1e505bbc-6c89-4b87-af27-07935785477b",
   "metadata": {},
   "outputs": [],
   "source": [
    "Range = range(2,20)\n",
    "scores_1 = []"
   ]
  },
  {
   "cell_type": "code",
   "execution_count": 1508,
   "id": "370f8bc6-1c39-4949-bd1e-24ee4e34f2c4",
   "metadata": {},
   "outputs": [],
   "source": [
    "for r in Range:\n",
    "    h = AgglomerativeClustering(n_clusters=r, affinity='euclidean', linkage = 'ward')\n",
    "    label = h.fit_predict(scaled_X_3_df)\n",
    "    silhouette_avg = silhouette_score(scaled_X_3_df,label)\n",
    "    scores_1.append(silhouette_avg)"
   ]
  },
  {
   "cell_type": "code",
   "execution_count": 1509,
   "id": "170fc5e4-a8f2-4025-a534-68a2f0c65730",
   "metadata": {},
   "outputs": [
    {
     "data": {
      "text/html": [
       "<div>\n",
       "<style scoped>\n",
       "    .dataframe tbody tr th:only-of-type {\n",
       "        vertical-align: middle;\n",
       "    }\n",
       "\n",
       "    .dataframe tbody tr th {\n",
       "        vertical-align: top;\n",
       "    }\n",
       "\n",
       "    .dataframe thead th {\n",
       "        text-align: right;\n",
       "    }\n",
       "</style>\n",
       "<table border=\"1\" class=\"dataframe\">\n",
       "  <thead>\n",
       "    <tr style=\"text-align: right;\">\n",
       "      <th></th>\n",
       "      <th>K</th>\n",
       "      <th>Silhouette_scores</th>\n",
       "    </tr>\n",
       "  </thead>\n",
       "  <tbody>\n",
       "    <tr>\n",
       "      <th>0</th>\n",
       "      <td>2</td>\n",
       "      <td>0.658778</td>\n",
       "    </tr>\n",
       "    <tr>\n",
       "      <th>1</th>\n",
       "      <td>3</td>\n",
       "      <td>0.620855</td>\n",
       "    </tr>\n",
       "    <tr>\n",
       "      <th>2</th>\n",
       "      <td>4</td>\n",
       "      <td>0.378334</td>\n",
       "    </tr>\n",
       "    <tr>\n",
       "      <th>4</th>\n",
       "      <td>6</td>\n",
       "      <td>0.314353</td>\n",
       "    </tr>\n",
       "    <tr>\n",
       "      <th>3</th>\n",
       "      <td>5</td>\n",
       "      <td>0.310898</td>\n",
       "    </tr>\n",
       "    <tr>\n",
       "      <th>6</th>\n",
       "      <td>8</td>\n",
       "      <td>0.307724</td>\n",
       "    </tr>\n",
       "    <tr>\n",
       "      <th>7</th>\n",
       "      <td>9</td>\n",
       "      <td>0.306913</td>\n",
       "    </tr>\n",
       "    <tr>\n",
       "      <th>5</th>\n",
       "      <td>7</td>\n",
       "      <td>0.302576</td>\n",
       "    </tr>\n",
       "    <tr>\n",
       "      <th>15</th>\n",
       "      <td>17</td>\n",
       "      <td>0.279633</td>\n",
       "    </tr>\n",
       "    <tr>\n",
       "      <th>16</th>\n",
       "      <td>18</td>\n",
       "      <td>0.278468</td>\n",
       "    </tr>\n",
       "  </tbody>\n",
       "</table>\n",
       "</div>"
      ],
      "text/plain": [
       "     K  Silhouette_scores\n",
       "0    2           0.658778\n",
       "1    3           0.620855\n",
       "2    4           0.378334\n",
       "4    6           0.314353\n",
       "3    5           0.310898\n",
       "6    8           0.307724\n",
       "7    9           0.306913\n",
       "5    7           0.302576\n",
       "15  17           0.279633\n",
       "16  18           0.278468"
      ]
     },
     "execution_count": 1509,
     "metadata": {},
     "output_type": "execute_result"
    }
   ],
   "source": [
    "silhouette_coefficient = {'K':list(Range),'Silhouette_scores':scores_1}\n",
    "Silhouette_H = pd.DataFrame(silhouette_coefficient)\n",
    "pd.set_option('display.float_format', lambda x: '{:.6f}'.format(x))\n",
    "Silhouette_H_sort = Silhouette_H.sort_values(by = 'Silhouette_scores', ascending = False)\n",
    "Silhouette_H_sort.head(10)"
   ]
  },
  {
   "cell_type": "code",
   "execution_count": 1510,
   "id": "e3a6b310-6070-4a9a-a5bc-4cd5c2ccb1c1",
   "metadata": {},
   "outputs": [
    {
     "name": "stdout",
     "output_type": "stream",
     "text": [
      "\u001b[1m\u001b[46mOptimal Clusters : 2 \u001b[0m as per \u001b[1m\u001b[4mSilhouette Cofficient Scores\u001b[0m\n"
     ]
    }
   ],
   "source": [
    "clusters = Silhouette_H_sort.iloc[0,0]\n",
    "clusters\n",
    "print(f'\\033[1m\\033[46mOptimal Clusters : {clusters} \\033[0m as per \\033[1m\\033[4mSilhouette Cofficient Scores\\033[0m')"
   ]
  },
  {
   "cell_type": "code",
   "execution_count": 1511,
   "id": "f5d76146-6f91-4b92-9b27-56d001531c88",
   "metadata": {},
   "outputs": [],
   "source": [
    "h_cluster = AgglomerativeClustering(n_clusters=clusters, affinity='euclidean',linkage = 'ward')\n",
    "New_Dataframe_Wholesale_Customer['h_cluster_ID'] = h_cluster.fit_predict(scaled_X_df)"
   ]
  },
  {
   "cell_type": "code",
   "execution_count": 1512,
   "id": "44f9530e-21b2-4946-ad28-8989d4f229df",
   "metadata": {},
   "outputs": [
    {
     "data": {
      "text/html": [
       "<div>\n",
       "<style scoped>\n",
       "    .dataframe tbody tr th:only-of-type {\n",
       "        vertical-align: middle;\n",
       "    }\n",
       "\n",
       "    .dataframe tbody tr th {\n",
       "        vertical-align: top;\n",
       "    }\n",
       "\n",
       "    .dataframe thead th {\n",
       "        text-align: right;\n",
       "    }\n",
       "</style>\n",
       "<table border=\"1\" class=\"dataframe\">\n",
       "  <thead>\n",
       "    <tr style=\"text-align: right;\">\n",
       "      <th></th>\n",
       "      <th>PCA_1</th>\n",
       "      <th>PCA_2</th>\n",
       "      <th>PCA_3</th>\n",
       "      <th>PCA_4</th>\n",
       "      <th>KEY</th>\n",
       "      <th>PCA_Combined</th>\n",
       "      <th>Channel</th>\n",
       "      <th>Region</th>\n",
       "      <th>K_Cluster_ID</th>\n",
       "      <th>DBSCAN_Cluster_ID</th>\n",
       "      <th>h_cluster_ID</th>\n",
       "    </tr>\n",
       "  </thead>\n",
       "  <tbody>\n",
       "    <tr>\n",
       "      <th>0</th>\n",
       "      <td>551.113186</td>\n",
       "      <td>8147.105699</td>\n",
       "      <td>5131.161064</td>\n",
       "      <td>8064.280821</td>\n",
       "      <td>0</td>\n",
       "      <td>21893.660769</td>\n",
       "      <td>2</td>\n",
       "      <td>3</td>\n",
       "      <td>0</td>\n",
       "      <td>0</td>\n",
       "      <td>1</td>\n",
       "    </tr>\n",
       "    <tr>\n",
       "      <th>1</th>\n",
       "      <td>2707.064613</td>\n",
       "      <td>5086.938209</td>\n",
       "      <td>1804.418698</td>\n",
       "      <td>9419.088968</td>\n",
       "      <td>1</td>\n",
       "      <td>19017.510487</td>\n",
       "      <td>2</td>\n",
       "      <td>3</td>\n",
       "      <td>0</td>\n",
       "      <td>0</td>\n",
       "      <td>1</td>\n",
       "    </tr>\n",
       "    <tr>\n",
       "      <th>2</th>\n",
       "      <td>1888.140368</td>\n",
       "      <td>4450.006858</td>\n",
       "      <td>1815.347995</td>\n",
       "      <td>8928.735463</td>\n",
       "      <td>2</td>\n",
       "      <td>17082.230684</td>\n",
       "      <td>2</td>\n",
       "      <td>3</td>\n",
       "      <td>0</td>\n",
       "      <td>0</td>\n",
       "      <td>1</td>\n",
       "    </tr>\n",
       "    <tr>\n",
       "      <th>3</th>\n",
       "      <td>3744.006970</td>\n",
       "      <td>7026.996477</td>\n",
       "      <td>7730.368803</td>\n",
       "      <td>7085.716362</td>\n",
       "      <td>3</td>\n",
       "      <td>25587.088611</td>\n",
       "      <td>1</td>\n",
       "      <td>3</td>\n",
       "      <td>0</td>\n",
       "      <td>0</td>\n",
       "      <td>1</td>\n",
       "    </tr>\n",
       "    <tr>\n",
       "      <th>4</th>\n",
       "      <td>2947.313386</td>\n",
       "      <td>12871.111944</td>\n",
       "      <td>11944.338131</td>\n",
       "      <td>8758.058039</td>\n",
       "      <td>4</td>\n",
       "      <td>36520.821500</td>\n",
       "      <td>2</td>\n",
       "      <td>3</td>\n",
       "      <td>0</td>\n",
       "      <td>0</td>\n",
       "      <td>0</td>\n",
       "    </tr>\n",
       "  </tbody>\n",
       "</table>\n",
       "</div>"
      ],
      "text/plain": [
       "        PCA_1        PCA_2        PCA_3       PCA_4  KEY  PCA_Combined  \\\n",
       "0  551.113186  8147.105699  5131.161064 8064.280821    0  21893.660769   \n",
       "1 2707.064613  5086.938209  1804.418698 9419.088968    1  19017.510487   \n",
       "2 1888.140368  4450.006858  1815.347995 8928.735463    2  17082.230684   \n",
       "3 3744.006970  7026.996477  7730.368803 7085.716362    3  25587.088611   \n",
       "4 2947.313386 12871.111944 11944.338131 8758.058039    4  36520.821500   \n",
       "\n",
       "   Channel  Region  K_Cluster_ID  DBSCAN_Cluster_ID  h_cluster_ID  \n",
       "0        2       3             0                  0             1  \n",
       "1        2       3             0                  0             1  \n",
       "2        2       3             0                  0             1  \n",
       "3        1       3             0                  0             1  \n",
       "4        2       3             0                  0             0  "
      ]
     },
     "execution_count": 1512,
     "metadata": {},
     "output_type": "execute_result"
    }
   ],
   "source": [
    "New_Dataframe_Wholesale_Customer.head()"
   ]
  },
  {
   "cell_type": "code",
   "execution_count": 1513,
   "id": "a033487a-1190-4f12-966c-c0748fcd0631",
   "metadata": {},
   "outputs": [
    {
     "data": {
      "application/vnd.plotly.v1+json": {
       "config": {
        "plotlyServerURL": "https://plot.ly"
       },
       "data": [
        {
         "hovertemplate": "PCA_1=%{x}<br>PCA_2=%{y}<br>PCA_3=%{z}<br>Cluster_ID=%{marker.color}<extra></extra>",
         "legendgroup": "",
         "marker": {
          "color": [
           1,
           1,
           1,
           1,
           0,
           1,
           1,
           1,
           1,
           1,
           1,
           1,
           0,
           0,
           0,
           1,
           1,
           1,
           0,
           1,
           0,
           1,
           0,
           1,
           0,
           0,
           1,
           1,
           1,
           0,
           0,
           1,
           0,
           0,
           1,
           1,
           0,
           1,
           1,
           0,
           0,
           0,
           1,
           1,
           1,
           1,
           1,
           0,
           1,
           1,
           1,
           1,
           0,
           1,
           0,
           1,
           1,
           1,
           1,
           1,
           1,
           0,
           1,
           1,
           1,
           1,
           1,
           0,
           1,
           1,
           0,
           1,
           1,
           0,
           1,
           0,
           1,
           1,
           1,
           1,
           1,
           1,
           1,
           0,
           1,
           0,
           0,
           0,
           1,
           0,
           1,
           1,
           1,
           1,
           1,
           1,
           1,
           1,
           1,
           1,
           1,
           1,
           1,
           0,
           1,
           1,
           1,
           1,
           1,
           1,
           1,
           1,
           0,
           1,
           0,
           1,
           1,
           1,
           0,
           1,
           0,
           1,
           1,
           1,
           0,
           0,
           0,
           0,
           1,
           0,
           1,
           1,
           1,
           1,
           1,
           1,
           1,
           1,
           1,
           1,
           0,
           0,
           0,
           1,
           0,
           1,
           1,
           1,
           1,
           0,
           1,
           1,
           0,
           1,
           1,
           1,
           1,
           0,
           1,
           1,
           1,
           1,
           0,
           1,
           1,
           1,
           1,
           1,
           1,
           1,
           1,
           1,
           1,
           1,
           1,
           1,
           0,
           1,
           1,
           1,
           1,
           0,
           1,
           0,
           1,
           1,
           1,
           1,
           1,
           1,
           0,
           1,
           1,
           1,
           1,
           0,
           1,
           1,
           1,
           1,
           1,
           1,
           0,
           1,
           1,
           1,
           1,
           1,
           1,
           1,
           0,
           1,
           1,
           1,
           1,
           1,
           1,
           0,
           1,
           1,
           1,
           1,
           1,
           1,
           1,
           1,
           0,
           1,
           1,
           1,
           1,
           1,
           0,
           1,
           0,
           1,
           1,
           0,
           1,
           0,
           0,
           0,
           0,
           1,
           1,
           1,
           1,
           1,
           0,
           1,
           1,
           1,
           1,
           0,
           1,
           0,
           1,
           1,
           0,
           0,
           1,
           1,
           0,
           1,
           1,
           1,
           1,
           0,
           1,
           1,
           1,
           1,
           1,
           0,
           1,
           1,
           0,
           1,
           1,
           0,
           1,
           1,
           0,
           0,
           0,
           0,
           1,
           0,
           1,
           0,
           1,
           1,
           1,
           1,
           0,
           1,
           0,
           1,
           1,
           1,
           0,
           1,
           1,
           1,
           1,
           1,
           1,
           0,
           1,
           1,
           1,
           0,
           1,
           1,
           1,
           1,
           1,
           1,
           1,
           1,
           1,
           1,
           0,
           0,
           0,
           0,
           1,
           1,
           0,
           1,
           1,
           1,
           0,
           0,
           0,
           0,
           1,
           1,
           1,
           1,
           1,
           1,
           1,
           1,
           1,
           1,
           1,
           0,
           1,
           1,
           1,
           1,
           1,
           1,
           1,
           1,
           0,
           1,
           1,
           1,
           0,
           1,
           1,
           1,
           1,
           1,
           1,
           1,
           0,
           1,
           0,
           0,
           1,
           0,
           1,
           1,
           1,
           0,
           1,
           1,
           0,
           0,
           0,
           1,
           1,
           1,
           1,
           0,
           1,
           1,
           1,
           1,
           1,
           0,
           1,
           1,
           1,
           1,
           1,
           1,
           1,
           0,
           0,
           0,
           0,
           1,
           0,
           1,
           1,
           1,
           1,
           1,
           1,
           1,
           1,
           1,
           1,
           1,
           1,
           1,
           1,
           0,
           0,
           0,
           0,
           1,
           1,
           1,
           1,
           1,
           1,
           1,
           0,
           1,
           0,
           1,
           0,
           1,
           1,
           1
          ],
          "coloraxis": "coloraxis",
          "symbol": "circle"
         },
         "mode": "markers",
         "name": "",
         "scene": "scene",
         "showlegend": false,
         "type": "scatter3d",
         "x": [
          551.1131859871082,
          2707.0646130489295,
          1888.1403677584103,
          3744.006969546094,
          2947.3133862009204,
          442.59833059920516,
          3570.232919692814,
          5109.909528513773,
          2948.470615100847,
          9496.622726841204,
          8582.86860637766,
          2852.7817941834287,
          1754.0116051632479,
          8714.498251024503,
          3836.4839905054578,
          2169.7909345228077,
          5179.086463201924,
          921.5364974938061,
          4586.959771438416,
          6194.7109750047985,
          852.1443985257022,
          1734.7791756131376,
          3503.4281145788677,
          1254.8954861046145,
          5760.323655259821,
          3290.290395488019,
          2137.8541548621442,
          1551.9729084296657,
          10367.282250409255,
          553.2412520260352,
          6580.752141140537,
          636.2889460930317,
          783.6505501283345,
          3599.8939863978844,
          828.7263513422454,
          6277.5172119397075,
          1230.7292054161887,
          4365.646158623729,
          5079.0809629903915,
          398.6622696840942,
          2797.4954163027173,
          2878.5272125375323,
          7742.849259010109,
          13794.380818459815,
          4508.718518082438,
          6040.6115210838625,
          10667.33849512164,
          16427.84976367314,
          5224.010030220671,
          12399.745578244832,
          1674.949170629337,
          3456.929156727838,
          1085.0765627002768,
          3992.947635582657,
          221.08035383181908,
          2145.4056221329183,
          6484.568886197287,
          3050.8764823546894,
          151.26087779748374,
          3468.180210500169,
          4426.258390103625,
          27381.478915593543,
          2666.181593124158,
          6971.310567244461,
          2669.35061837975,
          26164.040062713182,
          5255.693094365364,
          6809.633554688294,
          695.0034813548749,
          612.3095757054028,
          3328.116005197457,
          16910.46182053332,
          1358.6989730279608,
          5333.636730183666,
          4559.488726276605,
          429.49560172777416,
          5163.462028347604,
          16160.929311581089,
          1093.0183997720706,
          1383.3803575620138,
          1807.7969701310815,
          6720.049289817263,
          3798.33689392511,
          277.0464196450437,
          1923.684651964549,
          50523.962555885955,
          13466.653924630096,
          3578.81270731517,
          4963.896585246649,
          2051.1063136006032,
          1318.923853810529,
          2107.4264174948344,
          11886.99670939711,
          7844.499392165522,
          2553.3426348093103,
          3640.6792543598485,
          5246.161445612649,
          527.2941554568991,
          763.070180636268,
          1319.1466678778243,
          6029.764689676576,
          7822.176218538052,
          3306.196095453007,
          7246.032570322481,
          1384.2207515757596,
          2236.2870623619574,
          5318.014323210088,
          6678.485773969978,
          1230.1230432088994,
          14811.286874959864,
          537.8242900429134,
          8054.192600252497,
          1821.6991556534,
          339.0054415856985,
          885.2800175112967,
          2173.503851039696,
          1274.1134931175843,
          2411.62599460947,
          1325.0610252566796,
          1074.4332873026578,
          1974.081239781004,
          96.10367644241985,
          40.43063920054665,
          1514.2027190213207,
          1125.2744491853355,
          4580.099973802549,
          1490.777916166409,
          4142.928242782262,
          1537.7530532082847,
          670.2378209506077,
          474.27690649387364,
          64.1094372222286,
          438.05725924779597,
          151.65926479654178,
          625.864475370881,
          1430.8054707021436,
          2065.53222734403,
          2485.4837171900103,
          1297.6586602905616,
          51.0493932994793,
          3457.6472262186157,
          4008.1528030351533,
          2048.4060408008318,
          1595.5220331199428,
          1105.8876994568495,
          22898.668817709724,
          632.2113540696108,
          327.78009012998774,
          836.9361412955748,
          590.3670674995661,
          23.74266102875076,
          44.1727057749985,
          1724.9891147855412,
          2924.077668872942,
          73.32048135915085,
          10132.769921233246,
          9183.566201150568,
          1325.714831732041,
          4441.19619419794,
          7937.338876773385,
          8608.327604856207,
          329.97318166907496,
          2006.0801917440285,
          13846.116968428894,
          3335.6980272232527,
          9827.566474045416,
          3928.4032569246688,
          938.0905291770371,
          344.80203524036204,
          1707.520553171622,
          6581.785789790339,
          2587.801037854604,
          2454.2309292562727,
          12233.538414711453,
          4202.294095165798,
          5414.937492991262,
          1422.2328643587307,
          320.2666991703105,
          82.34145590802467,
          374.36591323721933,
          3597.199251601108,
          1746.3912416646858,
          4113.559994510984,
          247.52416952678516,
          3344.5784163405183,
          2313.0967625966064,
          1110.8756329008008,
          5130.2652200888015,
          5767.960834647376,
          3276.2732678015645,
          681.3994723748043,
          592.3855029887839,
          950.3000013573807,
          14861.729152245904,
          1767.3760285156845,
          2672.020983243271,
          3287.103470369956,
          4856.088987446109,
          4739.321170089197,
          220.18927898421734,
          12596.48908186996,
          13115.246065941228,
          1761.9666628212685,
          1524.331239275786,
          4017.920440747883,
          13161.95502189982,
          294.36717702125424,
          3033.323364029192,
          3137.3500960721753,
          6865.54822608782,
          238.91364038612252,
          17888.739059679185,
          1133.4999016968195,
          2259.7934784877193,
          5886.802307935817,
          7142.526821657674,
          20806.632283898085,
          708.6668619061412,
          8692.12749381376,
          1302.8996640856249,
          432.92489068089156,
          4476.345237970722,
          3289.1775691925827,
          4151.079616672668,
          743.2889298791912,
          1276.9105969166822,
          3881.7369613141186,
          473.72091263449374,
          304.6951141363455,
          1830.6613773328393,
          2893.684733563538,
          2287.870522833222,
          1215.3736703269021,
          242.66332630605396,
          2025.541125317375,
          864.9320773848533,
          2218.955534650101,
          1249.3212396752715,
          171.84213955831464,
          918.5706295424089,
          5587.600022820083,
          514.9703772179305,
          2125.4497102654377,
          1922.1075576952449,
          4695.539765000942,
          7977.5950939303,
          201.12706192907925,
          124.2325160820227,
          1372.3916110326236,
          833.6682942738465,
          681.7042006877006,
          16401.425978049985,
          4402.577294138825,
          8413.933761465598,
          4967.38588175274,
          367.76605856075616,
          1251.2003724930698,
          1330.9753324882545,
          1568.7873795789208,
          1771.9548967882388,
          1143.74703114603,
          1579.3442300304905,
          127.09552103465528,
          5771.577888356114,
          7403.87096830214,
          856.5844431596704,
          13364.422884225947,
          1492.0905812000544,
          11611.773419917461,
          731.0343842096768,
          1346.482654061433,
          1198.0385569911984,
          1288.5756030998332,
          837.1486706708234,
          734.0517503142137,
          493.975620515354,
          3540.94669025492,
          3733.027416826818,
          1724.3348753240066,
          4162.404976056301,
          538.9338889243688,
          1045.7616475531051,
          669.4614863992879,
          1061.2344156267316,
          7013.413940914737,
          1106.6227140766446,
          100.8242622987786,
          2509.0196053048808,
          242.5090882814663,
          1274.7290719315606,
          1008.3348717488893,
          1213.2079015010377,
          2673.7547532342596,
          4308.5228582160225,
          3560.4299540865145,
          3023.158062244858,
          2172.808731523893,
          3983.0158330099725,
          5618.020760534179,
          1252.6407074359008,
          1359.7451305527857,
          9740.88581251968,
          5111.224833851597,
          9290.676286619699,
          16322.788955152704,
          537.8723475178914,
          10885.599541280086,
          584.0237389647882,
          1702.795734216848,
          422.8237151165164,
          3839.0577027727218,
          4942.841131329962,
          13809.594961498082,
          2098.1040079150694,
          5159.393566826166,
          1869.1286941724345,
          1390.3167656732146,
          3516.671913180976,
          1453.7084621560962,
          944.9576370152936,
          53.71190689916027,
          3445.204505698981,
          2511.6215405392686,
          8561.760111873535,
          445.58070999016604,
          15210.77577216655,
          951.0048269513048,
          951.7286750435347,
          2718.1265877416304,
          3932.286042102213,
          3632.065640778382,
          13754.779415994844,
          957.1054576301376,
          51697.845143207815,
          3752.510657639461,
          4327.027598459072,
          162.64743455437372,
          2942.3906944771547,
          9219.45513332062,
          5859.935994273096,
          5805.089414327909,
          6167.713525213476,
          1842.8303297087386,
          17971.007693350253,
          1211.5315993944969,
          5440.251718155646,
          9478.521126313999,
          5697.713313770307,
          561.1670316520995,
          9156.928422632998,
          1315.9718634374976,
          13166.077647627984,
          831.6719779381652,
          13964.256035761216,
          923.9461631083456,
          1300.2935737407443,
          119.31999223190428,
          17448.304002057597,
          7090.432518942654,
          1343.7984588194684,
          118.00176545874655,
          463.7650452554449,
          1188.8330842124146,
          2925.229197379697,
          925.9169201748276,
          3465.17332969463,
          48.78810017211669,
          157.51707293753446,
          849.3280403988969,
          368.256464491031,
          563.8136552036214,
          1648.876763647993,
          632.9816896604327,
          2415.25938213628,
          245.1654642373354,
          69.15666024724514,
          7679.92278155973,
          933.1069235102658,
          265.6518503484388,
          5571.091362628255,
          951.5394948095195,
          477.2124095229624,
          2077.483099258008,
          2952.2565111577155,
          1371.433551776506,
          936.6327259598444,
          818.1381339408169,
          166.9812042913638,
          481.5804774601924,
          659.3805491097819,
          1613.685957694573,
          522.288838402837,
          851.1292703458886,
          594.5026465119655,
          1945.9204825338993,
          610.7082239218748,
          1692.2791373516347,
          1404.157069217146,
          712.9644600788461,
          421.5760967553235,
          1182.9927144583994,
          2214.4091800150204,
          539.9103243007982,
          3138.819226746749,
          610.4474707380037,
          590.1757387613834,
          2683.471188059347,
          8754.418201858309,
          3191.24283084184,
          3218.8006708619273,
          2644.087980956393,
          1200.7861217463894,
          8187.821555600337,
          6837.409544752676,
          2813.0588729171704,
          3818.479876606825,
          3097.0088785320922,
          5945.343905298367,
          10644.76208236591,
          421.6936339824048,
          7778.453267186675,
          4306.765592727901,
          1726.0844696378945,
          1334.1143750878143,
          7891.6597081811615,
          3985.4267866987666,
          6873.874988664229,
          2160.0876794766846,
          1225.9924630153207,
          1626.0193064975172,
          11158.554695593002,
          4110.4626282623785,
          2406.0985210051226,
          206.45003462019494,
          3867.9774214219246,
          8491.008999134314,
          749.7066664651484,
          15868.747430578182,
          571.5268534125933,
          1038.202212828331
         ],
         "y": [
          8147.105698592126,
          5086.938208887651,
          4450.006857941887,
          7026.99647660266,
          12871.111943523378,
          6069.560672905462,
          7255.513050339594,
          4967.32775697408,
          3890.802787356582,
          5235.691730261415,
          2684.061129137092,
          7408.931013097671,
          18997.382628137926,
          12716.960086212743,
          14930.500960410049,
          5877.87495891766,
          2009.5059645777778,
          3819.144081601353,
          11083.55202972851,
          4961.705601903668,
          10125.441670715942,
          2933.5290732665408,
          16658.144109380533,
          18285.92692862872,
          13737.053950988304,
          9604.75831982833,
          5373.539828802902,
          7990.487028583058,
          5412.202711396613,
          23715.634512357254,
          11127.271659662207,
          1791.8564966190647,
          12052.701619983189,
          16511.791052874698,
          1082.898396256754,
          1428.8488726272328,
          16868.831120939733,
          9732.328585015066,
          4816.927691310873,
          29841.85414738533,
          12914.839430674556,
          10890.511444643285,
          7429.938232411787,
          2646.741928549806,
          6440.866026751537,
          5806.108883489019,
          4041.9731710928095,
          31429.13332709784,
          7396.242963688076,
          6078.1017664579595,
          3291.430459671271,
          2563.059090172513,
          22831.902301132377,
          1770.1928073419872,
          14923.229220705614,
          3385.891394325326,
          6114.236989743758,
          4408.985748864366,
          7722.579785716376,
          4265.441596058146,
          5401.728819168808,
          26098.989107107045,
          4816.834641688298,
          6786.878053958462,
          2568.375610329094,
          4553.767395842403,
          565.1246579250849,
          12120.50369213886,
          1666.4809861026094,
          4797.521690072278,
          8541.014101318347,
          10878.261893690491,
          2223.9650535015858,
          11107.8914489909,
          5471.452285292597,
          10829.820301092912,
          427.0864575266436,
          9356.853674100379,
          5908.537706527571,
          1310.0746444951178,
          4031.7155734540374,
          1757.8936458204234,
          7016.872086306074,
          11414.181989741355,
          6933.615882076078,
          18141.107909855837,
          20462.736683838197,
          23942.288005890317,
          3727.181752852527,
          13916.330780784785,
          6073.733219004526,
          6576.987777690493,
          8951.450791615249,
          3496.545112152578,
          4748.956343793764,
          583.6669901855137,
          707.6913852747957,
          210.15894254449287,
          252.45616921918906,
          5069.841279281855,
          7416.872987062758,
          2516.548075532715,
          2375.771934809699,
          29828.700609254174,
          7955.032591707235,
          8741.48868782662,
          1954.4321274168524,
          6364.297871535754,
          1932.967500646852,
          3849.4751899013436,
          6483.121576047966,
          8772.137155211223,
          9989.90352467536,
          7885.188895728158,
          9823.94173582215,
          6079.017979377033,
          6370.607198692156,
          4314.353084036479,
          10763.12790612456,
          4486.493147832375,
          9449.337296571086,
          2341.9811828724,
          6514.901542377651,
          7325.569051296996,
          19549.50736168125,
          40833.95516741863,
          10015.259386992162,
          12871.866451069855,
          1030.5830624405282,
          23083.453109745133,
          3590.501635254433,
          1183.07345014689,
          8392.375379637146,
          5265.871261911083,
          4252.362389107674,
          3595.9015689893636,
          3260.3011654147313,
          2797.275597219674,
          8023.790024628683,
          3480.5894606364873,
          10205.00606073509,
          17947.65238138411,
          21021.06529795694,
          5136.301898506816,
          10678.512928883427,
          14808.496841758517,
          4446.7635638012225,
          5348.592409514455,
          2957.287591205403,
          17490.43181145839,
          9028.537469109331,
          1055.2461111153953,
          10311.711361044825,
          2732.1233130200867,
          345.3717247559128,
          3128.137380465361,
          3397.2674499165523,
          9656.867225777352,
          2605.7199583414654,
          1686.155334817041,
          1946.424392037872,
          6744.790116429768,
          8439.309134879148,
          5739.1904220176775,
          3776.929800254101,
          10377.71199406162,
          3654.7085163002102,
          2022.7728525438388,
          3154.756536697483,
          2931.8692819017315,
          1576.9167771529978,
          3399.7930626609523,
          1341.9251573775164,
          2032.9558814489674,
          353.58114040469985,
          2642.175451157356,
          25210.16113997799,
          7685.765501252371,
          6783.978659421072,
          1888.0827317038697,
          7739.099523409336,
          63235.498535866034,
          1684.5173324575387,
          21773.82232210605,
          532.5769280475237,
          4868.502393019986,
          1432.613709605085,
          2040.8620356112613,
          5483.353521922732,
          2089.2736667899812,
          9232.273822524316,
          7457.023204761132,
          3212.805216777881,
          1529.7383345014034,
          4067.6403363131826,
          9335.022812071678,
          15957.568491945287,
          2442.471457028303,
          6653.96454967178,
          5543.117044262496,
          3825.994972914804,
          4824.470780404839,
          14825.428824897079,
          467.7015169870819,
          1335.3577459340183,
          2919.070766819989,
          3519.725649869108,
          1889.9517472985688,
          1340.01819840958,
          5021.240889313422,
          10205.905941620496,
          10946.204876172316,
          4070.581161974726,
          2655.6768402489306,
          2439.0453741380675,
          3243.4112732255103,
          4948.448289381239,
          9861.576173391337,
          1440.0623936362226,
          2178.3684979144255,
          8047.554500173311,
          4200.421493501829,
          2359.5658715861846,
          1559.6776988277566,
          4042.162821515232,
          7375.30046300966,
          12224.011577023473,
          2281.740023395291,
          1018.5253810465271,
          4501.137931537906,
          6147.212345254051,
          2271.520431674673,
          14476.542103384678,
          1058.5512318138076,
          8590.321389352672,
          1596.875432763848,
          4757.713253739731,
          10140.321076608301,
          3991.5825990781996,
          25873.865123670836,
          11771.56731896985,
          13695.286904445577,
          9838.967978534998,
          6668.39640149485,
          4577.523420954793,
          3001.2714739743074,
          4997.6802852140545,
          7273.922744576472,
          9078.14551986686,
          4270.59160006086,
          1863.0251139599093,
          6707.680620187021,
          3381.369393121115,
          17744.137572560354,
          7030.622272304808,
          17081.649833008327,
          6740.43546537646,
          4457.886734273775,
          30519.69509806671,
          29595.838718440828,
          5519.292451766739,
          3847.459474397247,
          12807.572895819678,
          1292.995755097568,
          2317.2654289039383,
          5119.630883292723,
          2269.6508489613225,
          11299.767433812847,
          8266.33226347794,
          8166.419526148576,
          2238.1212481899174,
          1548.6356028163525,
          1341.0767560180152,
          19994.339923803287,
          675.2752654859921,
          442.88919220941426,
          15551.160006558057,
          3574.341948426703,
          6210.709547678331,
          10451.557971989097,
          2136.3424041628546,
          7543.534132542408,
          26811.14570996509,
          13569.791781960921,
          37956.88300848253,
          22122.964921000974,
          4017.769976288102,
          7985.911473882941,
          8917.351217518331,
          23254.641454559696,
          1771.5982423848068,
          3539.9869133257193,
          1730.4858484592496,
          3776.0356650124636,
          12080.004108549938,
          4573.839330145392,
          10467.624090837731,
          4971.069622323905,
          4583.484933586009,
          416.5180021038407,
          9797.544817018133,
          5061.448388206019,
          2573.3256160434744,
          2515.6927519074143,
          2150.3899920309627,
          1673.4596619841864,
          5738.082757202407,
          9714.146537738352,
          4038.8883480446543,
          2909.796975241553,
          3007.7914861644995,
          16583.209835220616,
          2522.3937716999567,
          5167.867261188212,
          6269.291366592736,
          2714.594309384819,
          3898.7459479908266,
          1185.0919394331893,
          6687.96062704321,
          8372.101561275977,
          1367.296518770385,
          5223.718514188978,
          8593.644461195792,
          7981.590081268058,
          14401.104004154528,
          14746.205803826359,
          2321.4770667896523,
          434.61082348061234,
          8934.507078127404,
          2740.512530806757,
          5482.49997008731,
          8868.641365494954,
          12329.919233600469,
          9135.6817180781,
          8405.521095293567,
          15862.420255885787,
          7764.611799334753,
          4654.759663156187,
          906.9356118711,
          1011.7384113142106,
          1092.5619617191935,
          2355.7351365543054,
          945.1332390418062,
          2962.105944963518,
          1667.949278088996,
          1337.7374466173019,
          2791.3103668225867,
          16021.335929197905,
          2072.149759607652,
          5542.416224172813,
          1974.7645640822711,
          2689.4210573441073,
          443.622507980464,
          1845.268060291097,
          7864.848321533932,
          264.1744514355167,
          12115.604663026183,
          1459.2242120299238,
          1533.1507898858981,
          1020.4873200180591,
          10897.121137729504,
          2578.0970653254785,
          1388.652729024983,
          2856.5291907419855,
          1493.9505722066358,
          3410.7995955568003,
          5394.470758360857,
          1874.9397542291197,
          12241.589071768425,
          3360.0525505191763,
          22138.058371890966,
          10521.815006285437,
          2456.07810649137,
          9054.20041541382,
          3613.225927364744,
          3322.7476482243087,
          2755.820692936588,
          21478.838697168536,
          2122.231205310003,
          3252.2735211038266,
          15273.127142219691,
          9300.688321050762,
          19689.821459083956,
          965.1568824436597,
          8254.4170986658,
          6291.386867344414,
          961.4236741748391,
          11486.23226905471,
          5329.066144615992,
          5065.827290221145,
          1525.933946183271,
          1733.1502242737615,
          789.9506514026293,
          12922.387980014599,
          6890.461036629904,
          5165.263010197794,
          3792.2680715912743,
          5916.5265322185205,
          5888.264997378599,
          5204.536723814405,
          2261.9151327413933,
          14017.775371217092,
          15150.444324370048,
          15140.595976478342,
          10066.542772002118,
          3729.664713415291,
          13529.13142096123,
          5960.7550088397775,
          5067.12363885843,
          5212.679140517425,
          3944.532770570022,
          1496.7564013576355,
          1092.9622058069178,
          1963.2547205569663,
          3130.5090918794585,
          5146.649342525919,
          3887.153454864287,
          3854.215193819317,
          2179.152835517471,
          5223.967911537359,
          3663.58014806992,
          10161.267059774993,
          14685.216485490293,
          10070.451932977043,
          10158.426343806217,
          5147.428233956875,
          8527.602848626027,
          17305.875997754192,
          2262.3479560403607,
          5049.467799413035,
          2985.271478670849,
          4245.174537151508,
          11871.534709736,
          1303.8576121114113,
          9869.312968523976,
          17016.50145633242,
          21155.82421529118,
          10997.426570891103,
          5818.3054572780475,
          1806.3699121136162
         ],
         "z": [
          5131.161064099218,
          1804.4186976183564,
          1815.3479952033554,
          7730.36880291856,
          11944.338131433344,
          3761.008967039438,
          5851.6219377754915,
          2821.4362365813868,
          2295.1068131576385,
          65.1016111931457,
          220.63306666086962,
          7110.982198632076,
          15327.023250542847,
          10087.38851334343,
          11618.371459626114,
          5404.314861700181,
          1996.592216014813,
          2275.278570712917,
          8989.579700075306,
          3187.283727330858,
          9117.658884529952,
          3238.181006762898,
          18349.532479069727,
          8115.50977962501,
          10504.381704988326,
          7943.852846147889,
          5616.968451109106,
          7873.529483962366,
          3300.579248901446,
          24496.623617978425,
          9289.182320151824,
          760.8756744470573,
          12053.325609571348,
          16377.215910351519,
          380.81456520893636,
          1517.441362218375,
          16309.331301682452,
          6095.2421193480795,
          1445.9459520541545,
          33411.702734954815,
          13776.137832980441,
          10229.996869394756,
          3579.6276556032003,
          3773.504268317002,
          3497.2975072566596,
          2368.438685291631,
          2460.6660688634206,
          12632.400828460286,
          4657.698669076827,
          3194.882397374119,
          3665.9027506411217,
          614.0442441094185,
          22435.3375055164,
          2416.5964101260547,
          15665.976866472003,
          2080.7294308132628,
          4627.657050865388,
          554.1421524046517,
          7578.331243741498,
          1914.128511919505,
          3689.9003232058435,
          9099.787241275752,
          3350.2086730307965,
          2345.1055831495582,
          2620.4592839834236,
          7975.832367650022,
          1004.2223795530571,
          9221.376411621117,
          545.6298493144616,
          4368.404091529364,
          10159.874628422609,
          8699.084515011362,
          2461.4767649608825,
          10665.220072646633,
          2892.1530630897432,
          12116.330390341995,
          18.57033297660855,
          2213.7655386688925,
          6062.740236234233,
          169.73258408706144,
          3656.0307627810284,
          2797.8845836542787,
          3538.4814087260143,
          11915.703488411787,
          5991.092350530886,
          7360.086594421685,
          833.7717366566668,
          24116.672792688976,
          5069.7918606061285,
          13652.633976221732,
          6696.557149715373,
          7631.47736650458,
          1814.7565605641068,
          9589.320876991645,
          268.2999200308773,
          1055.822084787296,
          1233.3370181041623,
          212.25395482676313,
          285.540079596415,
          5666.451626557476,
          4607.9339559403925,
          2350.9139263097068,
          194.1658775546227,
          32919.4356273394,
          7624.2708935032015,
          8546.899413282932,
          1229.5682016385726,
          2188.9539587187965,
          1070.3108638545514,
          4699.764170802125,
          6662.523189115864,
          3843.9628113177846,
          11298.559051949715,
          8181.480962509836,
          10348.356321425214,
          6297.496817742022,
          5900.897536601331,
          3073.635118280038,
          11647.545806915594,
          4621.294918135742,
          9651.098628847134,
          1947.6420681492968,
          7228.981798726077,
          4174.309639151273,
          20828.75162009966,
          44636.47960768421,
          11552.792097563433,
          10310.806712917905,
          1610.6481022552748,
          24392.643743190914,
          4380.057906981649,
          1133.6107390391878,
          8128.171053638908,
          5224.836825422205,
          3845.2921049919237,
          3304.189705053642,
          1148.7231319763052,
          219.80681977560283,
          6690.318803405565,
          2118.192820600379,
          9032.777494934473,
          15132.885516877748,
          19831.45479681457,
          6568.161047667287,
          10165.532222645665,
          7774.982361805689,
          4079.608277451526,
          4681.0451298965745,
          3716.9161706508794,
          18123.80669955228,
          9030.932915802827,
          97.60684036733156,
          10691.187268385293,
          480.55996975571674,
          345.36305104805183,
          2493.9995714573192,
          130.84721595107274,
          10185.45028357644,
          246.41601937443556,
          2468.938403252402,
          836.5168860341297,
          7208.651501580392,
          8365.204672097603,
          1754.9219501111818,
          1254.1665245119461,
          5513.338971481932,
          922.6796211429572,
          916.8783189484658,
          3318.133504853451,
          3052.045026972467,
          2454.0236029704597,
          5741.021007797235,
          920.3314068681037,
          2871.016321724133,
          312.2893666206387,
          1070.3045582142802,
          25493.296055710427,
          6014.290739265545,
          4925.543126661651,
          1318.1790859244293,
          5354.901478058527,
          60443.831606137785,
          1937.5971360162428,
          16609.323465194633,
          447.3377505959275,
          3898.257067689398,
          1942.0869461220536,
          156.55789530745506,
          2566.882913579379,
          2427.8171080891734,
          9459.625759628001,
          7793.343053846438,
          2791.6911427621812,
          2502.5375829289164,
          3732.025497336401,
          9379.114397714566,
          18138.371623568557,
          637.7030607895952,
          6088.721051741452,
          5094.534324756985,
          2246.528774245806,
          1807.94092931742,
          12429.145118465125,
          47.16519441232825,
          583.0266572536772,
          3525.813041272732,
          3567.7441306894457,
          432.1594721401031,
          92.93667249030518,
          370.38526691237655,
          10518.120082053709,
          918.3244651215731,
          3988.8588016277436,
          354.15377370836376,
          723.729537235346,
          1485.6899601791001,
          4893.767952751132,
          10283.228114235892,
          2597.604124389748,
          2446.949078028194,
          8452.875367407754,
          885.3563236867491,
          3242.0801764034345,
          1271.1201634554084,
          4037.8651307664686,
          6490.605967447281,
          10361.115821640666,
          2092.2589399900053,
          1037.0296707656285,
          5067.300562297828,
          5811.949610756519,
          464.5307489276477,
          14430.258632053214,
          429.7915064889012,
          8679.331162527666,
          44.35314419927644,
          4796.8832095445205,
          10693.647462336925,
          4250.126044257743,
          27281.72265829028,
          12724.440008845551,
          14143.794580935246,
          10543.088097330665,
          5475.69358614044,
          1409.7055938416186,
          609.2385150447889,
          4787.731912109862,
          7976.519105681342,
          8104.801858216242,
          4550.421992695856,
          1545.6287375876523,
          2751.4934841271165,
          3865.252206661103,
          14147.058497123418,
          3368.6548365066405,
          18422.750454595745,
          5172.606495791634,
          4953.375444569436,
          32270.277474002145,
          29619.012074516515,
          4412.336475840556,
          4993.688899957544,
          13193.651710761676,
          818.1016207192638,
          2459.9712715449305,
          422.6408097193424,
          3263.7003032614434,
          12065.986144273713,
          3683.5396245886864,
          8920.75586008339,
          3060.5835740995085,
          424.4292031432855,
          1606.576577841424,
          21228.777068854102,
          148.38670778677147,
          225.88390140887074,
          15334.078464304768,
          6846.710182782668,
          6778.634352265387,
          8236.510731122737,
          1368.5267812434959,
          5490.614432695555,
          28012.711098462023,
          15271.693584394692,
          38850.53877654705,
          22944.145281819605,
          3849.824272812031,
          9167.005749681673,
          9281.343602589792,
          24838.34281898229,
          1019.9308755343386,
          2910.5722856716898,
          1130.6868666835767,
          563.1482483186347,
          11414.872204216075,
          3595.1827748266865,
          10793.655865156423,
          3615.888841329644,
          2267.3979277703966,
          66.5120678585126,
          8013.591327786345,
          904.2930645392221,
          124.78382782328421,
          479.98263208825773,
          3616.1604405315547,
          2624.2069734082474,
          275.9127612368351,
          9503.713710832935,
          3616.4342496854447,
          3800.8683081562394,
          4928.018392754016,
          16250.5642833375,
          1250.9709787559157,
          5742.975252780785,
          5216.103266569805,
          2554.180241687645,
          3972.8759600168455,
          325.44341428958217,
          6278.056807553775,
          197.5039291782845,
          295.0208592757608,
          4753.592392869871,
          9128.18781329941,
          6441.440295225163,
          14507.350054020502,
          21474.095923127185,
          2537.282167361716,
          46.151478453375724,
          9950.42115046841,
          2791.324448140152,
          5234.647499202618,
          1548.9258415205998,
          12536.950102921357,
          3046.3314112186868,
          10537.071440402675,
          13666.746806946343,
          7796.21312047668,
          5802.772227979403,
          845.6365354423552,
          1780.241329644886,
          1374.2585258137726,
          634.7586009551432,
          1298.434257103057,
          2736.9100528584127,
          1637.1566949394603,
          546.946123628105,
          807.558254490511,
          13773.944639478126,
          1560.3273086587976,
          685.9882771379906,
          1852.9213045793063,
          2998.1985164310618,
          112.4312314050441,
          3121.224450877507,
          7452.823447399804,
          188.2491071845502,
          13432.408489306523,
          2564.2383967455507,
          1818.844383116004,
          590.1644139212208,
          11076.685734421351,
          2687.7011335354796,
          788.2025397811296,
          2073.8045849539308,
          1338.947309224898,
          1124.454427506817,
          5158.364783433921,
          1980.018165498201,
          12719.04757965665,
          3589.9235496909264,
          22015.665154916598,
          12025.405563185685,
          1609.5373481525714,
          7176.375240942514,
          3319.100580640186,
          3108.940784658755,
          318.82303597158375,
          21832.919745845204,
          1210.6293432328482,
          477.9904470373338,
          16408.884746860058,
          10499.575075042996,
          18222.836699542415,
          906.2224414584629,
          1711.1507803089569,
          6703.788164945517,
          66.2364250448125,
          11874.22679929045,
          5594.85553665184,
          5378.660017924971,
          2208.3461626944213,
          975.3805012280742,
          630.9305152613193,
          13203.013167218873,
          6843.997690690104,
          5542.467804529035,
          130.9812975225037,
          7008.30897076415,
          6985.281076216756,
          5551.8660488446885,
          2687.849585402206,
          16498.295287803125,
          14150.061464119895,
          12739.052077556444,
          9880.010508658617,
          3927.596399227006,
          14282.312897601572,
          665.6783708300129,
          3696.1365489586096,
          4101.101929232551,
          3188.666888630793,
          558.0977794934491,
          1804.0350113649672,
          3351.252652866354,
          3398.420277643252,
          2911.6038923431047,
          148.22400677468298,
          970.9886976876596,
          2862.794563913591,
          4406.291357455461,
          380.920301583692,
          8303.834340960277,
          14726.995782325628,
          9243.653176364509,
          8181.334354000966,
          7506.454552566752,
          5023.747789893866,
          16536.210548877625,
          593.6425955509535,
          4346.971759925362,
          549.5469731488901,
          5008.5182519225855,
          11575.65497026901,
          679.4836650933723,
          8325.07777087147,
          15100.21744304659,
          22909.214067202724,
          2923.0191508379353,
          5539.249049603265,
          1101.1750385145824
         ]
        }
       ],
       "layout": {
        "coloraxis": {
         "colorbar": {
          "title": {
           "text": "Cluster_ID"
          }
         },
         "colorscale": [
          [
           0,
           "#0d0887"
          ],
          [
           0.1111111111111111,
           "#46039f"
          ],
          [
           0.2222222222222222,
           "#7201a8"
          ],
          [
           0.3333333333333333,
           "#9c179e"
          ],
          [
           0.4444444444444444,
           "#bd3786"
          ],
          [
           0.5555555555555556,
           "#d8576b"
          ],
          [
           0.6666666666666666,
           "#ed7953"
          ],
          [
           0.7777777777777778,
           "#fb9f3a"
          ],
          [
           0.8888888888888888,
           "#fdca26"
          ],
          [
           1,
           "#f0f921"
          ]
         ]
        },
        "height": 600,
        "legend": {
         "tracegroupgap": 0
        },
        "scene": {
         "aspectmode": "auto",
         "aspectratio": {
          "x": 0.8883907970825907,
          "y": 1.083543380303928,
          "z": 1.0388423494128534
         },
         "camera": {
          "center": {
           "x": 0,
           "y": 0,
           "z": 0
          },
          "eye": {
           "x": 0.854196617477076,
           "y": -1.98739105544419,
           "z": -0.09013840153426066
          },
          "projection": {
           "type": "perspective"
          },
          "up": {
           "x": 0,
           "y": 0,
           "z": 1
          }
         },
         "domain": {
          "x": [
           0,
           1
          ],
          "y": [
           0,
           1
          ]
         },
         "xaxis": {
          "title": {
           "text": "PCA_1"
          },
          "type": "linear"
         },
         "yaxis": {
          "title": {
           "text": "PCA_2"
          },
          "type": "linear"
         },
         "zaxis": {
          "title": {
           "text": "PCA_3"
          },
          "type": "linear"
         }
        },
        "template": {
         "data": {
          "bar": [
           {
            "error_x": {
             "color": "#2a3f5f"
            },
            "error_y": {
             "color": "#2a3f5f"
            },
            "marker": {
             "line": {
              "color": "#E5ECF6",
              "width": 0.5
             },
             "pattern": {
              "fillmode": "overlay",
              "size": 10,
              "solidity": 0.2
             }
            },
            "type": "bar"
           }
          ],
          "barpolar": [
           {
            "marker": {
             "line": {
              "color": "#E5ECF6",
              "width": 0.5
             },
             "pattern": {
              "fillmode": "overlay",
              "size": 10,
              "solidity": 0.2
             }
            },
            "type": "barpolar"
           }
          ],
          "carpet": [
           {
            "aaxis": {
             "endlinecolor": "#2a3f5f",
             "gridcolor": "white",
             "linecolor": "white",
             "minorgridcolor": "white",
             "startlinecolor": "#2a3f5f"
            },
            "baxis": {
             "endlinecolor": "#2a3f5f",
             "gridcolor": "white",
             "linecolor": "white",
             "minorgridcolor": "white",
             "startlinecolor": "#2a3f5f"
            },
            "type": "carpet"
           }
          ],
          "choropleth": [
           {
            "colorbar": {
             "outlinewidth": 0,
             "ticks": ""
            },
            "type": "choropleth"
           }
          ],
          "contour": [
           {
            "colorbar": {
             "outlinewidth": 0,
             "ticks": ""
            },
            "colorscale": [
             [
              0,
              "#0d0887"
             ],
             [
              0.1111111111111111,
              "#46039f"
             ],
             [
              0.2222222222222222,
              "#7201a8"
             ],
             [
              0.3333333333333333,
              "#9c179e"
             ],
             [
              0.4444444444444444,
              "#bd3786"
             ],
             [
              0.5555555555555556,
              "#d8576b"
             ],
             [
              0.6666666666666666,
              "#ed7953"
             ],
             [
              0.7777777777777778,
              "#fb9f3a"
             ],
             [
              0.8888888888888888,
              "#fdca26"
             ],
             [
              1,
              "#f0f921"
             ]
            ],
            "type": "contour"
           }
          ],
          "contourcarpet": [
           {
            "colorbar": {
             "outlinewidth": 0,
             "ticks": ""
            },
            "type": "contourcarpet"
           }
          ],
          "heatmap": [
           {
            "colorbar": {
             "outlinewidth": 0,
             "ticks": ""
            },
            "colorscale": [
             [
              0,
              "#0d0887"
             ],
             [
              0.1111111111111111,
              "#46039f"
             ],
             [
              0.2222222222222222,
              "#7201a8"
             ],
             [
              0.3333333333333333,
              "#9c179e"
             ],
             [
              0.4444444444444444,
              "#bd3786"
             ],
             [
              0.5555555555555556,
              "#d8576b"
             ],
             [
              0.6666666666666666,
              "#ed7953"
             ],
             [
              0.7777777777777778,
              "#fb9f3a"
             ],
             [
              0.8888888888888888,
              "#fdca26"
             ],
             [
              1,
              "#f0f921"
             ]
            ],
            "type": "heatmap"
           }
          ],
          "heatmapgl": [
           {
            "colorbar": {
             "outlinewidth": 0,
             "ticks": ""
            },
            "colorscale": [
             [
              0,
              "#0d0887"
             ],
             [
              0.1111111111111111,
              "#46039f"
             ],
             [
              0.2222222222222222,
              "#7201a8"
             ],
             [
              0.3333333333333333,
              "#9c179e"
             ],
             [
              0.4444444444444444,
              "#bd3786"
             ],
             [
              0.5555555555555556,
              "#d8576b"
             ],
             [
              0.6666666666666666,
              "#ed7953"
             ],
             [
              0.7777777777777778,
              "#fb9f3a"
             ],
             [
              0.8888888888888888,
              "#fdca26"
             ],
             [
              1,
              "#f0f921"
             ]
            ],
            "type": "heatmapgl"
           }
          ],
          "histogram": [
           {
            "marker": {
             "pattern": {
              "fillmode": "overlay",
              "size": 10,
              "solidity": 0.2
             }
            },
            "type": "histogram"
           }
          ],
          "histogram2d": [
           {
            "colorbar": {
             "outlinewidth": 0,
             "ticks": ""
            },
            "colorscale": [
             [
              0,
              "#0d0887"
             ],
             [
              0.1111111111111111,
              "#46039f"
             ],
             [
              0.2222222222222222,
              "#7201a8"
             ],
             [
              0.3333333333333333,
              "#9c179e"
             ],
             [
              0.4444444444444444,
              "#bd3786"
             ],
             [
              0.5555555555555556,
              "#d8576b"
             ],
             [
              0.6666666666666666,
              "#ed7953"
             ],
             [
              0.7777777777777778,
              "#fb9f3a"
             ],
             [
              0.8888888888888888,
              "#fdca26"
             ],
             [
              1,
              "#f0f921"
             ]
            ],
            "type": "histogram2d"
           }
          ],
          "histogram2dcontour": [
           {
            "colorbar": {
             "outlinewidth": 0,
             "ticks": ""
            },
            "colorscale": [
             [
              0,
              "#0d0887"
             ],
             [
              0.1111111111111111,
              "#46039f"
             ],
             [
              0.2222222222222222,
              "#7201a8"
             ],
             [
              0.3333333333333333,
              "#9c179e"
             ],
             [
              0.4444444444444444,
              "#bd3786"
             ],
             [
              0.5555555555555556,
              "#d8576b"
             ],
             [
              0.6666666666666666,
              "#ed7953"
             ],
             [
              0.7777777777777778,
              "#fb9f3a"
             ],
             [
              0.8888888888888888,
              "#fdca26"
             ],
             [
              1,
              "#f0f921"
             ]
            ],
            "type": "histogram2dcontour"
           }
          ],
          "mesh3d": [
           {
            "colorbar": {
             "outlinewidth": 0,
             "ticks": ""
            },
            "type": "mesh3d"
           }
          ],
          "parcoords": [
           {
            "line": {
             "colorbar": {
              "outlinewidth": 0,
              "ticks": ""
             }
            },
            "type": "parcoords"
           }
          ],
          "pie": [
           {
            "automargin": true,
            "type": "pie"
           }
          ],
          "scatter": [
           {
            "fillpattern": {
             "fillmode": "overlay",
             "size": 10,
             "solidity": 0.2
            },
            "type": "scatter"
           }
          ],
          "scatter3d": [
           {
            "line": {
             "colorbar": {
              "outlinewidth": 0,
              "ticks": ""
             }
            },
            "marker": {
             "colorbar": {
              "outlinewidth": 0,
              "ticks": ""
             }
            },
            "type": "scatter3d"
           }
          ],
          "scattercarpet": [
           {
            "marker": {
             "colorbar": {
              "outlinewidth": 0,
              "ticks": ""
             }
            },
            "type": "scattercarpet"
           }
          ],
          "scattergeo": [
           {
            "marker": {
             "colorbar": {
              "outlinewidth": 0,
              "ticks": ""
             }
            },
            "type": "scattergeo"
           }
          ],
          "scattergl": [
           {
            "marker": {
             "colorbar": {
              "outlinewidth": 0,
              "ticks": ""
             }
            },
            "type": "scattergl"
           }
          ],
          "scattermapbox": [
           {
            "marker": {
             "colorbar": {
              "outlinewidth": 0,
              "ticks": ""
             }
            },
            "type": "scattermapbox"
           }
          ],
          "scatterpolar": [
           {
            "marker": {
             "colorbar": {
              "outlinewidth": 0,
              "ticks": ""
             }
            },
            "type": "scatterpolar"
           }
          ],
          "scatterpolargl": [
           {
            "marker": {
             "colorbar": {
              "outlinewidth": 0,
              "ticks": ""
             }
            },
            "type": "scatterpolargl"
           }
          ],
          "scatterternary": [
           {
            "marker": {
             "colorbar": {
              "outlinewidth": 0,
              "ticks": ""
             }
            },
            "type": "scatterternary"
           }
          ],
          "surface": [
           {
            "colorbar": {
             "outlinewidth": 0,
             "ticks": ""
            },
            "colorscale": [
             [
              0,
              "#0d0887"
             ],
             [
              0.1111111111111111,
              "#46039f"
             ],
             [
              0.2222222222222222,
              "#7201a8"
             ],
             [
              0.3333333333333333,
              "#9c179e"
             ],
             [
              0.4444444444444444,
              "#bd3786"
             ],
             [
              0.5555555555555556,
              "#d8576b"
             ],
             [
              0.6666666666666666,
              "#ed7953"
             ],
             [
              0.7777777777777778,
              "#fb9f3a"
             ],
             [
              0.8888888888888888,
              "#fdca26"
             ],
             [
              1,
              "#f0f921"
             ]
            ],
            "type": "surface"
           }
          ],
          "table": [
           {
            "cells": {
             "fill": {
              "color": "#EBF0F8"
             },
             "line": {
              "color": "white"
             }
            },
            "header": {
             "fill": {
              "color": "#C8D4E3"
             },
             "line": {
              "color": "white"
             }
            },
            "type": "table"
           }
          ]
         },
         "layout": {
          "annotationdefaults": {
           "arrowcolor": "#2a3f5f",
           "arrowhead": 0,
           "arrowwidth": 1
          },
          "autotypenumbers": "strict",
          "coloraxis": {
           "colorbar": {
            "outlinewidth": 0,
            "ticks": ""
           }
          },
          "colorscale": {
           "diverging": [
            [
             0,
             "#8e0152"
            ],
            [
             0.1,
             "#c51b7d"
            ],
            [
             0.2,
             "#de77ae"
            ],
            [
             0.3,
             "#f1b6da"
            ],
            [
             0.4,
             "#fde0ef"
            ],
            [
             0.5,
             "#f7f7f7"
            ],
            [
             0.6,
             "#e6f5d0"
            ],
            [
             0.7,
             "#b8e186"
            ],
            [
             0.8,
             "#7fbc41"
            ],
            [
             0.9,
             "#4d9221"
            ],
            [
             1,
             "#276419"
            ]
           ],
           "sequential": [
            [
             0,
             "#0d0887"
            ],
            [
             0.1111111111111111,
             "#46039f"
            ],
            [
             0.2222222222222222,
             "#7201a8"
            ],
            [
             0.3333333333333333,
             "#9c179e"
            ],
            [
             0.4444444444444444,
             "#bd3786"
            ],
            [
             0.5555555555555556,
             "#d8576b"
            ],
            [
             0.6666666666666666,
             "#ed7953"
            ],
            [
             0.7777777777777778,
             "#fb9f3a"
            ],
            [
             0.8888888888888888,
             "#fdca26"
            ],
            [
             1,
             "#f0f921"
            ]
           ],
           "sequentialminus": [
            [
             0,
             "#0d0887"
            ],
            [
             0.1111111111111111,
             "#46039f"
            ],
            [
             0.2222222222222222,
             "#7201a8"
            ],
            [
             0.3333333333333333,
             "#9c179e"
            ],
            [
             0.4444444444444444,
             "#bd3786"
            ],
            [
             0.5555555555555556,
             "#d8576b"
            ],
            [
             0.6666666666666666,
             "#ed7953"
            ],
            [
             0.7777777777777778,
             "#fb9f3a"
            ],
            [
             0.8888888888888888,
             "#fdca26"
            ],
            [
             1,
             "#f0f921"
            ]
           ]
          },
          "colorway": [
           "#636efa",
           "#EF553B",
           "#00cc96",
           "#ab63fa",
           "#FFA15A",
           "#19d3f3",
           "#FF6692",
           "#B6E880",
           "#FF97FF",
           "#FECB52"
          ],
          "font": {
           "color": "#2a3f5f"
          },
          "geo": {
           "bgcolor": "white",
           "lakecolor": "white",
           "landcolor": "#E5ECF6",
           "showlakes": true,
           "showland": true,
           "subunitcolor": "white"
          },
          "hoverlabel": {
           "align": "left"
          },
          "hovermode": "closest",
          "mapbox": {
           "style": "light"
          },
          "paper_bgcolor": "white",
          "plot_bgcolor": "#E5ECF6",
          "polar": {
           "angularaxis": {
            "gridcolor": "white",
            "linecolor": "white",
            "ticks": ""
           },
           "bgcolor": "#E5ECF6",
           "radialaxis": {
            "gridcolor": "white",
            "linecolor": "white",
            "ticks": ""
           }
          },
          "scene": {
           "xaxis": {
            "backgroundcolor": "#E5ECF6",
            "gridcolor": "white",
            "gridwidth": 2,
            "linecolor": "white",
            "showbackground": true,
            "ticks": "",
            "zerolinecolor": "white"
           },
           "yaxis": {
            "backgroundcolor": "#E5ECF6",
            "gridcolor": "white",
            "gridwidth": 2,
            "linecolor": "white",
            "showbackground": true,
            "ticks": "",
            "zerolinecolor": "white"
           },
           "zaxis": {
            "backgroundcolor": "#E5ECF6",
            "gridcolor": "white",
            "gridwidth": 2,
            "linecolor": "white",
            "showbackground": true,
            "ticks": "",
            "zerolinecolor": "white"
           }
          },
          "shapedefaults": {
           "line": {
            "color": "#2a3f5f"
           }
          },
          "ternary": {
           "aaxis": {
            "gridcolor": "white",
            "linecolor": "white",
            "ticks": ""
           },
           "baxis": {
            "gridcolor": "white",
            "linecolor": "white",
            "ticks": ""
           },
           "bgcolor": "#E5ECF6",
           "caxis": {
            "gridcolor": "white",
            "linecolor": "white",
            "ticks": ""
           }
          },
          "title": {
           "x": 0.05
          },
          "xaxis": {
           "automargin": true,
           "gridcolor": "white",
           "linecolor": "white",
           "ticks": "",
           "title": {
            "standoff": 15
           },
           "zerolinecolor": "white",
           "zerolinewidth": 2
          },
          "yaxis": {
           "automargin": true,
           "gridcolor": "white",
           "linecolor": "white",
           "ticks": "",
           "title": {
            "standoff": 15
           },
           "zerolinecolor": "white",
           "zerolinewidth": 2
          }
         }
        },
        "title": {
         "text": "Hierarchical Cluster for Wholesale Customer"
        },
        "width": 800
       }
      },
      "text/html": [
       "<div>                            <div id=\"689be5e6-9cd2-48fc-926b-8b264c58da3a\" class=\"plotly-graph-div\" style=\"height:600px; width:800px;\"></div>            <script type=\"text/javascript\">                require([\"plotly\"], function(Plotly) {                    window.PLOTLYENV=window.PLOTLYENV || {};                                    if (document.getElementById(\"689be5e6-9cd2-48fc-926b-8b264c58da3a\")) {                    Plotly.newPlot(                        \"689be5e6-9cd2-48fc-926b-8b264c58da3a\",                        [{\"hovertemplate\":\"PCA_1=%{x}<br>PCA_2=%{y}<br>PCA_3=%{z}<br>Cluster_ID=%{marker.color}<extra></extra>\",\"legendgroup\":\"\",\"marker\":{\"color\":[1,1,1,1,0,1,1,1,1,1,1,1,0,0,0,1,1,1,0,1,0,1,0,1,0,0,1,1,1,0,0,1,0,0,1,1,0,1,1,0,0,0,1,1,1,1,1,0,1,1,1,1,0,1,0,1,1,1,1,1,1,0,1,1,1,1,1,0,1,1,0,1,1,0,1,0,1,1,1,1,1,1,1,0,1,0,0,0,1,0,1,1,1,1,1,1,1,1,1,1,1,1,1,0,1,1,1,1,1,1,1,1,0,1,0,1,1,1,0,1,0,1,1,1,0,0,0,0,1,0,1,1,1,1,1,1,1,1,1,1,0,0,0,1,0,1,1,1,1,0,1,1,0,1,1,1,1,0,1,1,1,1,0,1,1,1,1,1,1,1,1,1,1,1,1,1,0,1,1,1,1,0,1,0,1,1,1,1,1,1,0,1,1,1,1,0,1,1,1,1,1,1,0,1,1,1,1,1,1,1,0,1,1,1,1,1,1,0,1,1,1,1,1,1,1,1,0,1,1,1,1,1,0,1,0,1,1,0,1,0,0,0,0,1,1,1,1,1,0,1,1,1,1,0,1,0,1,1,0,0,1,1,0,1,1,1,1,0,1,1,1,1,1,0,1,1,0,1,1,0,1,1,0,0,0,0,1,0,1,0,1,1,1,1,0,1,0,1,1,1,0,1,1,1,1,1,1,0,1,1,1,0,1,1,1,1,1,1,1,1,1,1,0,0,0,0,1,1,0,1,1,1,0,0,0,0,1,1,1,1,1,1,1,1,1,1,1,0,1,1,1,1,1,1,1,1,0,1,1,1,0,1,1,1,1,1,1,1,0,1,0,0,1,0,1,1,1,0,1,1,0,0,0,1,1,1,1,0,1,1,1,1,1,0,1,1,1,1,1,1,1,0,0,0,0,1,0,1,1,1,1,1,1,1,1,1,1,1,1,1,1,0,0,0,0,1,1,1,1,1,1,1,0,1,0,1,0,1,1,1],\"coloraxis\":\"coloraxis\",\"symbol\":\"circle\"},\"mode\":\"markers\",\"name\":\"\",\"scene\":\"scene\",\"showlegend\":false,\"x\":[551.1131859871082,2707.0646130489295,1888.1403677584103,3744.006969546094,2947.3133862009204,442.59833059920516,3570.232919692814,5109.909528513773,2948.470615100847,9496.622726841204,8582.86860637766,2852.7817941834287,1754.0116051632479,8714.498251024503,3836.4839905054578,2169.7909345228077,5179.086463201924,921.5364974938061,4586.959771438416,6194.7109750047985,852.1443985257022,1734.7791756131376,3503.4281145788677,1254.8954861046145,5760.323655259821,3290.290395488019,2137.8541548621442,1551.9729084296657,10367.282250409255,553.2412520260352,6580.752141140537,636.2889460930317,783.6505501283345,3599.8939863978844,828.7263513422454,6277.5172119397075,1230.7292054161887,4365.646158623729,5079.0809629903915,398.6622696840942,2797.4954163027173,2878.5272125375323,7742.849259010109,13794.380818459815,4508.718518082438,6040.6115210838625,10667.33849512164,16427.84976367314,5224.010030220671,12399.745578244832,1674.949170629337,3456.929156727838,1085.0765627002768,3992.947635582657,221.08035383181908,2145.4056221329183,6484.568886197287,3050.8764823546894,151.26087779748374,3468.180210500169,4426.258390103625,27381.478915593543,2666.181593124158,6971.310567244461,2669.35061837975,26164.040062713182,5255.693094365364,6809.633554688294,695.0034813548749,612.3095757054028,3328.116005197457,16910.46182053332,1358.6989730279608,5333.636730183666,4559.488726276605,429.49560172777416,5163.462028347604,16160.929311581089,1093.0183997720706,1383.3803575620138,1807.7969701310815,6720.049289817263,3798.33689392511,277.0464196450437,1923.684651964549,50523.962555885955,13466.653924630096,3578.81270731517,4963.896585246649,2051.1063136006032,1318.923853810529,2107.4264174948344,11886.99670939711,7844.499392165522,2553.3426348093103,3640.6792543598485,5246.161445612649,527.2941554568991,763.070180636268,1319.1466678778243,6029.764689676576,7822.176218538052,3306.196095453007,7246.032570322481,1384.2207515757596,2236.2870623619574,5318.014323210088,6678.485773969978,1230.1230432088994,14811.286874959864,537.8242900429134,8054.192600252497,1821.6991556534,339.0054415856985,885.2800175112967,2173.503851039696,1274.1134931175843,2411.62599460947,1325.0610252566796,1074.4332873026578,1974.081239781004,96.10367644241985,40.43063920054665,1514.2027190213207,1125.2744491853355,4580.099973802549,1490.777916166409,4142.928242782262,1537.7530532082847,670.2378209506077,474.27690649387364,64.1094372222286,438.05725924779597,151.65926479654178,625.864475370881,1430.8054707021436,2065.53222734403,2485.4837171900103,1297.6586602905616,51.0493932994793,3457.6472262186157,4008.1528030351533,2048.4060408008318,1595.5220331199428,1105.8876994568495,22898.668817709724,632.2113540696108,327.78009012998774,836.9361412955748,590.3670674995661,23.74266102875076,44.1727057749985,1724.9891147855412,2924.077668872942,73.32048135915085,10132.769921233246,9183.566201150568,1325.714831732041,4441.19619419794,7937.338876773385,8608.327604856207,329.97318166907496,2006.0801917440285,13846.116968428894,3335.6980272232527,9827.566474045416,3928.4032569246688,938.0905291770371,344.80203524036204,1707.520553171622,6581.785789790339,2587.801037854604,2454.2309292562727,12233.538414711453,4202.294095165798,5414.937492991262,1422.2328643587307,320.2666991703105,82.34145590802467,374.36591323721933,3597.199251601108,1746.3912416646858,4113.559994510984,247.52416952678516,3344.5784163405183,2313.0967625966064,1110.8756329008008,5130.2652200888015,5767.960834647376,3276.2732678015645,681.3994723748043,592.3855029887839,950.3000013573807,14861.729152245904,1767.3760285156845,2672.020983243271,3287.103470369956,4856.088987446109,4739.321170089197,220.18927898421734,12596.48908186996,13115.246065941228,1761.9666628212685,1524.331239275786,4017.920440747883,13161.95502189982,294.36717702125424,3033.323364029192,3137.3500960721753,6865.54822608782,238.91364038612252,17888.739059679185,1133.4999016968195,2259.7934784877193,5886.802307935817,7142.526821657674,20806.632283898085,708.6668619061412,8692.12749381376,1302.8996640856249,432.92489068089156,4476.345237970722,3289.1775691925827,4151.079616672668,743.2889298791912,1276.9105969166822,3881.7369613141186,473.72091263449374,304.6951141363455,1830.6613773328393,2893.684733563538,2287.870522833222,1215.3736703269021,242.66332630605396,2025.541125317375,864.9320773848533,2218.955534650101,1249.3212396752715,171.84213955831464,918.5706295424089,5587.600022820083,514.9703772179305,2125.4497102654377,1922.1075576952449,4695.539765000942,7977.5950939303,201.12706192907925,124.2325160820227,1372.3916110326236,833.6682942738465,681.7042006877006,16401.425978049985,4402.577294138825,8413.933761465598,4967.38588175274,367.76605856075616,1251.2003724930698,1330.9753324882545,1568.7873795789208,1771.9548967882388,1143.74703114603,1579.3442300304905,127.09552103465528,5771.577888356114,7403.87096830214,856.5844431596704,13364.422884225947,1492.0905812000544,11611.773419917461,731.0343842096768,1346.482654061433,1198.0385569911984,1288.5756030998332,837.1486706708234,734.0517503142137,493.975620515354,3540.94669025492,3733.027416826818,1724.3348753240066,4162.404976056301,538.9338889243688,1045.7616475531051,669.4614863992879,1061.2344156267316,7013.413940914737,1106.6227140766446,100.8242622987786,2509.0196053048808,242.5090882814663,1274.7290719315606,1008.3348717488893,1213.2079015010377,2673.7547532342596,4308.5228582160225,3560.4299540865145,3023.158062244858,2172.808731523893,3983.0158330099725,5618.020760534179,1252.6407074359008,1359.7451305527857,9740.88581251968,5111.224833851597,9290.676286619699,16322.788955152704,537.8723475178914,10885.599541280086,584.0237389647882,1702.795734216848,422.8237151165164,3839.0577027727218,4942.841131329962,13809.594961498082,2098.1040079150694,5159.393566826166,1869.1286941724345,1390.3167656732146,3516.671913180976,1453.7084621560962,944.9576370152936,53.71190689916027,3445.204505698981,2511.6215405392686,8561.760111873535,445.58070999016604,15210.77577216655,951.0048269513048,951.7286750435347,2718.1265877416304,3932.286042102213,3632.065640778382,13754.779415994844,957.1054576301376,51697.845143207815,3752.510657639461,4327.027598459072,162.64743455437372,2942.3906944771547,9219.45513332062,5859.935994273096,5805.089414327909,6167.713525213476,1842.8303297087386,17971.007693350253,1211.5315993944969,5440.251718155646,9478.521126313999,5697.713313770307,561.1670316520995,9156.928422632998,1315.9718634374976,13166.077647627984,831.6719779381652,13964.256035761216,923.9461631083456,1300.2935737407443,119.31999223190428,17448.304002057597,7090.432518942654,1343.7984588194684,118.00176545874655,463.7650452554449,1188.8330842124146,2925.229197379697,925.9169201748276,3465.17332969463,48.78810017211669,157.51707293753446,849.3280403988969,368.256464491031,563.8136552036214,1648.876763647993,632.9816896604327,2415.25938213628,245.1654642373354,69.15666024724514,7679.92278155973,933.1069235102658,265.6518503484388,5571.091362628255,951.5394948095195,477.2124095229624,2077.483099258008,2952.2565111577155,1371.433551776506,936.6327259598444,818.1381339408169,166.9812042913638,481.5804774601924,659.3805491097819,1613.685957694573,522.288838402837,851.1292703458886,594.5026465119655,1945.9204825338993,610.7082239218748,1692.2791373516347,1404.157069217146,712.9644600788461,421.5760967553235,1182.9927144583994,2214.4091800150204,539.9103243007982,3138.819226746749,610.4474707380037,590.1757387613834,2683.471188059347,8754.418201858309,3191.24283084184,3218.8006708619273,2644.087980956393,1200.7861217463894,8187.821555600337,6837.409544752676,2813.0588729171704,3818.479876606825,3097.0088785320922,5945.343905298367,10644.76208236591,421.6936339824048,7778.453267186675,4306.765592727901,1726.0844696378945,1334.1143750878143,7891.6597081811615,3985.4267866987666,6873.874988664229,2160.0876794766846,1225.9924630153207,1626.0193064975172,11158.554695593002,4110.4626282623785,2406.0985210051226,206.45003462019494,3867.9774214219246,8491.008999134314,749.7066664651484,15868.747430578182,571.5268534125933,1038.202212828331],\"y\":[8147.105698592126,5086.938208887651,4450.006857941887,7026.99647660266,12871.111943523378,6069.560672905462,7255.513050339594,4967.32775697408,3890.802787356582,5235.691730261415,2684.061129137092,7408.931013097671,18997.382628137926,12716.960086212743,14930.500960410049,5877.87495891766,2009.5059645777778,3819.144081601353,11083.55202972851,4961.705601903668,10125.441670715942,2933.5290732665408,16658.144109380533,18285.92692862872,13737.053950988304,9604.75831982833,5373.539828802902,7990.487028583058,5412.202711396613,23715.634512357254,11127.271659662207,1791.8564966190647,12052.701619983189,16511.791052874698,1082.898396256754,1428.8488726272328,16868.831120939733,9732.328585015066,4816.927691310873,29841.85414738533,12914.839430674556,10890.511444643285,7429.938232411787,2646.741928549806,6440.866026751537,5806.108883489019,4041.9731710928095,31429.13332709784,7396.242963688076,6078.1017664579595,3291.430459671271,2563.059090172513,22831.902301132377,1770.1928073419872,14923.229220705614,3385.891394325326,6114.236989743758,4408.985748864366,7722.579785716376,4265.441596058146,5401.728819168808,26098.989107107045,4816.834641688298,6786.878053958462,2568.375610329094,4553.767395842403,565.1246579250849,12120.50369213886,1666.4809861026094,4797.521690072278,8541.014101318347,10878.261893690491,2223.9650535015858,11107.8914489909,5471.452285292597,10829.820301092912,427.0864575266436,9356.853674100379,5908.537706527571,1310.0746444951178,4031.7155734540374,1757.8936458204234,7016.872086306074,11414.181989741355,6933.615882076078,18141.107909855837,20462.736683838197,23942.288005890317,3727.181752852527,13916.330780784785,6073.733219004526,6576.987777690493,8951.450791615249,3496.545112152578,4748.956343793764,583.6669901855137,707.6913852747957,210.15894254449287,252.45616921918906,5069.841279281855,7416.872987062758,2516.548075532715,2375.771934809699,29828.700609254174,7955.032591707235,8741.48868782662,1954.4321274168524,6364.297871535754,1932.967500646852,3849.4751899013436,6483.121576047966,8772.137155211223,9989.90352467536,7885.188895728158,9823.94173582215,6079.017979377033,6370.607198692156,4314.353084036479,10763.12790612456,4486.493147832375,9449.337296571086,2341.9811828724,6514.901542377651,7325.569051296996,19549.50736168125,40833.95516741863,10015.259386992162,12871.866451069855,1030.5830624405282,23083.453109745133,3590.501635254433,1183.07345014689,8392.375379637146,5265.871261911083,4252.362389107674,3595.9015689893636,3260.3011654147313,2797.275597219674,8023.790024628683,3480.5894606364873,10205.00606073509,17947.65238138411,21021.06529795694,5136.301898506816,10678.512928883427,14808.496841758517,4446.7635638012225,5348.592409514455,2957.287591205403,17490.43181145839,9028.537469109331,1055.2461111153953,10311.711361044825,2732.1233130200867,345.3717247559128,3128.137380465361,3397.2674499165523,9656.867225777352,2605.7199583414654,1686.155334817041,1946.424392037872,6744.790116429768,8439.309134879148,5739.1904220176775,3776.929800254101,10377.71199406162,3654.7085163002102,2022.7728525438388,3154.756536697483,2931.8692819017315,1576.9167771529978,3399.7930626609523,1341.9251573775164,2032.9558814489674,353.58114040469985,2642.175451157356,25210.16113997799,7685.765501252371,6783.978659421072,1888.0827317038697,7739.099523409336,63235.498535866034,1684.5173324575387,21773.82232210605,532.5769280475237,4868.502393019986,1432.613709605085,2040.8620356112613,5483.353521922732,2089.2736667899812,9232.273822524316,7457.023204761132,3212.805216777881,1529.7383345014034,4067.6403363131826,9335.022812071678,15957.568491945287,2442.471457028303,6653.96454967178,5543.117044262496,3825.994972914804,4824.470780404839,14825.428824897079,467.7015169870819,1335.3577459340183,2919.070766819989,3519.725649869108,1889.9517472985688,1340.01819840958,5021.240889313422,10205.905941620496,10946.204876172316,4070.581161974726,2655.6768402489306,2439.0453741380675,3243.4112732255103,4948.448289381239,9861.576173391337,1440.0623936362226,2178.3684979144255,8047.554500173311,4200.421493501829,2359.5658715861846,1559.6776988277566,4042.162821515232,7375.30046300966,12224.011577023473,2281.740023395291,1018.5253810465271,4501.137931537906,6147.212345254051,2271.520431674673,14476.542103384678,1058.5512318138076,8590.321389352672,1596.875432763848,4757.713253739731,10140.321076608301,3991.5825990781996,25873.865123670836,11771.56731896985,13695.286904445577,9838.967978534998,6668.39640149485,4577.523420954793,3001.2714739743074,4997.6802852140545,7273.922744576472,9078.14551986686,4270.59160006086,1863.0251139599093,6707.680620187021,3381.369393121115,17744.137572560354,7030.622272304808,17081.649833008327,6740.43546537646,4457.886734273775,30519.69509806671,29595.838718440828,5519.292451766739,3847.459474397247,12807.572895819678,1292.995755097568,2317.2654289039383,5119.630883292723,2269.6508489613225,11299.767433812847,8266.33226347794,8166.419526148576,2238.1212481899174,1548.6356028163525,1341.0767560180152,19994.339923803287,675.2752654859921,442.88919220941426,15551.160006558057,3574.341948426703,6210.709547678331,10451.557971989097,2136.3424041628546,7543.534132542408,26811.14570996509,13569.791781960921,37956.88300848253,22122.964921000974,4017.769976288102,7985.911473882941,8917.351217518331,23254.641454559696,1771.5982423848068,3539.9869133257193,1730.4858484592496,3776.0356650124636,12080.004108549938,4573.839330145392,10467.624090837731,4971.069622323905,4583.484933586009,416.5180021038407,9797.544817018133,5061.448388206019,2573.3256160434744,2515.6927519074143,2150.3899920309627,1673.4596619841864,5738.082757202407,9714.146537738352,4038.8883480446543,2909.796975241553,3007.7914861644995,16583.209835220616,2522.3937716999567,5167.867261188212,6269.291366592736,2714.594309384819,3898.7459479908266,1185.0919394331893,6687.96062704321,8372.101561275977,1367.296518770385,5223.718514188978,8593.644461195792,7981.590081268058,14401.104004154528,14746.205803826359,2321.4770667896523,434.61082348061234,8934.507078127404,2740.512530806757,5482.49997008731,8868.641365494954,12329.919233600469,9135.6817180781,8405.521095293567,15862.420255885787,7764.611799334753,4654.759663156187,906.9356118711,1011.7384113142106,1092.5619617191935,2355.7351365543054,945.1332390418062,2962.105944963518,1667.949278088996,1337.7374466173019,2791.3103668225867,16021.335929197905,2072.149759607652,5542.416224172813,1974.7645640822711,2689.4210573441073,443.622507980464,1845.268060291097,7864.848321533932,264.1744514355167,12115.604663026183,1459.2242120299238,1533.1507898858981,1020.4873200180591,10897.121137729504,2578.0970653254785,1388.652729024983,2856.5291907419855,1493.9505722066358,3410.7995955568003,5394.470758360857,1874.9397542291197,12241.589071768425,3360.0525505191763,22138.058371890966,10521.815006285437,2456.07810649137,9054.20041541382,3613.225927364744,3322.7476482243087,2755.820692936588,21478.838697168536,2122.231205310003,3252.2735211038266,15273.127142219691,9300.688321050762,19689.821459083956,965.1568824436597,8254.4170986658,6291.386867344414,961.4236741748391,11486.23226905471,5329.066144615992,5065.827290221145,1525.933946183271,1733.1502242737615,789.9506514026293,12922.387980014599,6890.461036629904,5165.263010197794,3792.2680715912743,5916.5265322185205,5888.264997378599,5204.536723814405,2261.9151327413933,14017.775371217092,15150.444324370048,15140.595976478342,10066.542772002118,3729.664713415291,13529.13142096123,5960.7550088397775,5067.12363885843,5212.679140517425,3944.532770570022,1496.7564013576355,1092.9622058069178,1963.2547205569663,3130.5090918794585,5146.649342525919,3887.153454864287,3854.215193819317,2179.152835517471,5223.967911537359,3663.58014806992,10161.267059774993,14685.216485490293,10070.451932977043,10158.426343806217,5147.428233956875,8527.602848626027,17305.875997754192,2262.3479560403607,5049.467799413035,2985.271478670849,4245.174537151508,11871.534709736,1303.8576121114113,9869.312968523976,17016.50145633242,21155.82421529118,10997.426570891103,5818.3054572780475,1806.3699121136162],\"z\":[5131.161064099218,1804.4186976183564,1815.3479952033554,7730.36880291856,11944.338131433344,3761.008967039438,5851.6219377754915,2821.4362365813868,2295.1068131576385,65.1016111931457,220.63306666086962,7110.982198632076,15327.023250542847,10087.38851334343,11618.371459626114,5404.314861700181,1996.592216014813,2275.278570712917,8989.579700075306,3187.283727330858,9117.658884529952,3238.181006762898,18349.532479069727,8115.50977962501,10504.381704988326,7943.852846147889,5616.968451109106,7873.529483962366,3300.579248901446,24496.623617978425,9289.182320151824,760.8756744470573,12053.325609571348,16377.215910351519,380.81456520893636,1517.441362218375,16309.331301682452,6095.2421193480795,1445.9459520541545,33411.702734954815,13776.137832980441,10229.996869394756,3579.6276556032003,3773.504268317002,3497.2975072566596,2368.438685291631,2460.6660688634206,12632.400828460286,4657.698669076827,3194.882397374119,3665.9027506411217,614.0442441094185,22435.3375055164,2416.5964101260547,15665.976866472003,2080.7294308132628,4627.657050865388,554.1421524046517,7578.331243741498,1914.128511919505,3689.9003232058435,9099.787241275752,3350.2086730307965,2345.1055831495582,2620.4592839834236,7975.832367650022,1004.2223795530571,9221.376411621117,545.6298493144616,4368.404091529364,10159.874628422609,8699.084515011362,2461.4767649608825,10665.220072646633,2892.1530630897432,12116.330390341995,18.57033297660855,2213.7655386688925,6062.740236234233,169.73258408706144,3656.0307627810284,2797.8845836542787,3538.4814087260143,11915.703488411787,5991.092350530886,7360.086594421685,833.7717366566668,24116.672792688976,5069.7918606061285,13652.633976221732,6696.557149715373,7631.47736650458,1814.7565605641068,9589.320876991645,268.2999200308773,1055.822084787296,1233.3370181041623,212.25395482676313,285.540079596415,5666.451626557476,4607.9339559403925,2350.9139263097068,194.1658775546227,32919.4356273394,7624.2708935032015,8546.899413282932,1229.5682016385726,2188.9539587187965,1070.3108638545514,4699.764170802125,6662.523189115864,3843.9628113177846,11298.559051949715,8181.480962509836,10348.356321425214,6297.496817742022,5900.897536601331,3073.635118280038,11647.545806915594,4621.294918135742,9651.098628847134,1947.6420681492968,7228.981798726077,4174.309639151273,20828.75162009966,44636.47960768421,11552.792097563433,10310.806712917905,1610.6481022552748,24392.643743190914,4380.057906981649,1133.6107390391878,8128.171053638908,5224.836825422205,3845.2921049919237,3304.189705053642,1148.7231319763052,219.80681977560283,6690.318803405565,2118.192820600379,9032.777494934473,15132.885516877748,19831.45479681457,6568.161047667287,10165.532222645665,7774.982361805689,4079.608277451526,4681.0451298965745,3716.9161706508794,18123.80669955228,9030.932915802827,97.60684036733156,10691.187268385293,480.55996975571674,345.36305104805183,2493.9995714573192,130.84721595107274,10185.45028357644,246.41601937443556,2468.938403252402,836.5168860341297,7208.651501580392,8365.204672097603,1754.9219501111818,1254.1665245119461,5513.338971481932,922.6796211429572,916.8783189484658,3318.133504853451,3052.045026972467,2454.0236029704597,5741.021007797235,920.3314068681037,2871.016321724133,312.2893666206387,1070.3045582142802,25493.296055710427,6014.290739265545,4925.543126661651,1318.1790859244293,5354.901478058527,60443.831606137785,1937.5971360162428,16609.323465194633,447.3377505959275,3898.257067689398,1942.0869461220536,156.55789530745506,2566.882913579379,2427.8171080891734,9459.625759628001,7793.343053846438,2791.6911427621812,2502.5375829289164,3732.025497336401,9379.114397714566,18138.371623568557,637.7030607895952,6088.721051741452,5094.534324756985,2246.528774245806,1807.94092931742,12429.145118465125,47.16519441232825,583.0266572536772,3525.813041272732,3567.7441306894457,432.1594721401031,92.93667249030518,370.38526691237655,10518.120082053709,918.3244651215731,3988.8588016277436,354.15377370836376,723.729537235346,1485.6899601791001,4893.767952751132,10283.228114235892,2597.604124389748,2446.949078028194,8452.875367407754,885.3563236867491,3242.0801764034345,1271.1201634554084,4037.8651307664686,6490.605967447281,10361.115821640666,2092.2589399900053,1037.0296707656285,5067.300562297828,5811.949610756519,464.5307489276477,14430.258632053214,429.7915064889012,8679.331162527666,44.35314419927644,4796.8832095445205,10693.647462336925,4250.126044257743,27281.72265829028,12724.440008845551,14143.794580935246,10543.088097330665,5475.69358614044,1409.7055938416186,609.2385150447889,4787.731912109862,7976.519105681342,8104.801858216242,4550.421992695856,1545.6287375876523,2751.4934841271165,3865.252206661103,14147.058497123418,3368.6548365066405,18422.750454595745,5172.606495791634,4953.375444569436,32270.277474002145,29619.012074516515,4412.336475840556,4993.688899957544,13193.651710761676,818.1016207192638,2459.9712715449305,422.6408097193424,3263.7003032614434,12065.986144273713,3683.5396245886864,8920.75586008339,3060.5835740995085,424.4292031432855,1606.576577841424,21228.777068854102,148.38670778677147,225.88390140887074,15334.078464304768,6846.710182782668,6778.634352265387,8236.510731122737,1368.5267812434959,5490.614432695555,28012.711098462023,15271.693584394692,38850.53877654705,22944.145281819605,3849.824272812031,9167.005749681673,9281.343602589792,24838.34281898229,1019.9308755343386,2910.5722856716898,1130.6868666835767,563.1482483186347,11414.872204216075,3595.1827748266865,10793.655865156423,3615.888841329644,2267.3979277703966,66.5120678585126,8013.591327786345,904.2930645392221,124.78382782328421,479.98263208825773,3616.1604405315547,2624.2069734082474,275.9127612368351,9503.713710832935,3616.4342496854447,3800.8683081562394,4928.018392754016,16250.5642833375,1250.9709787559157,5742.975252780785,5216.103266569805,2554.180241687645,3972.8759600168455,325.44341428958217,6278.056807553775,197.5039291782845,295.0208592757608,4753.592392869871,9128.18781329941,6441.440295225163,14507.350054020502,21474.095923127185,2537.282167361716,46.151478453375724,9950.42115046841,2791.324448140152,5234.647499202618,1548.9258415205998,12536.950102921357,3046.3314112186868,10537.071440402675,13666.746806946343,7796.21312047668,5802.772227979403,845.6365354423552,1780.241329644886,1374.2585258137726,634.7586009551432,1298.434257103057,2736.9100528584127,1637.1566949394603,546.946123628105,807.558254490511,13773.944639478126,1560.3273086587976,685.9882771379906,1852.9213045793063,2998.1985164310618,112.4312314050441,3121.224450877507,7452.823447399804,188.2491071845502,13432.408489306523,2564.2383967455507,1818.844383116004,590.1644139212208,11076.685734421351,2687.7011335354796,788.2025397811296,2073.8045849539308,1338.947309224898,1124.454427506817,5158.364783433921,1980.018165498201,12719.04757965665,3589.9235496909264,22015.665154916598,12025.405563185685,1609.5373481525714,7176.375240942514,3319.100580640186,3108.940784658755,318.82303597158375,21832.919745845204,1210.6293432328482,477.9904470373338,16408.884746860058,10499.575075042996,18222.836699542415,906.2224414584629,1711.1507803089569,6703.788164945517,66.2364250448125,11874.22679929045,5594.85553665184,5378.660017924971,2208.3461626944213,975.3805012280742,630.9305152613193,13203.013167218873,6843.997690690104,5542.467804529035,130.9812975225037,7008.30897076415,6985.281076216756,5551.8660488446885,2687.849585402206,16498.295287803125,14150.061464119895,12739.052077556444,9880.010508658617,3927.596399227006,14282.312897601572,665.6783708300129,3696.1365489586096,4101.101929232551,3188.666888630793,558.0977794934491,1804.0350113649672,3351.252652866354,3398.420277643252,2911.6038923431047,148.22400677468298,970.9886976876596,2862.794563913591,4406.291357455461,380.920301583692,8303.834340960277,14726.995782325628,9243.653176364509,8181.334354000966,7506.454552566752,5023.747789893866,16536.210548877625,593.6425955509535,4346.971759925362,549.5469731488901,5008.5182519225855,11575.65497026901,679.4836650933723,8325.07777087147,15100.21744304659,22909.214067202724,2923.0191508379353,5539.249049603265,1101.1750385145824],\"type\":\"scatter3d\"}],                        {\"template\":{\"data\":{\"histogram2dcontour\":[{\"type\":\"histogram2dcontour\",\"colorbar\":{\"outlinewidth\":0,\"ticks\":\"\"},\"colorscale\":[[0.0,\"#0d0887\"],[0.1111111111111111,\"#46039f\"],[0.2222222222222222,\"#7201a8\"],[0.3333333333333333,\"#9c179e\"],[0.4444444444444444,\"#bd3786\"],[0.5555555555555556,\"#d8576b\"],[0.6666666666666666,\"#ed7953\"],[0.7777777777777778,\"#fb9f3a\"],[0.8888888888888888,\"#fdca26\"],[1.0,\"#f0f921\"]]}],\"choropleth\":[{\"type\":\"choropleth\",\"colorbar\":{\"outlinewidth\":0,\"ticks\":\"\"}}],\"histogram2d\":[{\"type\":\"histogram2d\",\"colorbar\":{\"outlinewidth\":0,\"ticks\":\"\"},\"colorscale\":[[0.0,\"#0d0887\"],[0.1111111111111111,\"#46039f\"],[0.2222222222222222,\"#7201a8\"],[0.3333333333333333,\"#9c179e\"],[0.4444444444444444,\"#bd3786\"],[0.5555555555555556,\"#d8576b\"],[0.6666666666666666,\"#ed7953\"],[0.7777777777777778,\"#fb9f3a\"],[0.8888888888888888,\"#fdca26\"],[1.0,\"#f0f921\"]]}],\"heatmap\":[{\"type\":\"heatmap\",\"colorbar\":{\"outlinewidth\":0,\"ticks\":\"\"},\"colorscale\":[[0.0,\"#0d0887\"],[0.1111111111111111,\"#46039f\"],[0.2222222222222222,\"#7201a8\"],[0.3333333333333333,\"#9c179e\"],[0.4444444444444444,\"#bd3786\"],[0.5555555555555556,\"#d8576b\"],[0.6666666666666666,\"#ed7953\"],[0.7777777777777778,\"#fb9f3a\"],[0.8888888888888888,\"#fdca26\"],[1.0,\"#f0f921\"]]}],\"heatmapgl\":[{\"type\":\"heatmapgl\",\"colorbar\":{\"outlinewidth\":0,\"ticks\":\"\"},\"colorscale\":[[0.0,\"#0d0887\"],[0.1111111111111111,\"#46039f\"],[0.2222222222222222,\"#7201a8\"],[0.3333333333333333,\"#9c179e\"],[0.4444444444444444,\"#bd3786\"],[0.5555555555555556,\"#d8576b\"],[0.6666666666666666,\"#ed7953\"],[0.7777777777777778,\"#fb9f3a\"],[0.8888888888888888,\"#fdca26\"],[1.0,\"#f0f921\"]]}],\"contourcarpet\":[{\"type\":\"contourcarpet\",\"colorbar\":{\"outlinewidth\":0,\"ticks\":\"\"}}],\"contour\":[{\"type\":\"contour\",\"colorbar\":{\"outlinewidth\":0,\"ticks\":\"\"},\"colorscale\":[[0.0,\"#0d0887\"],[0.1111111111111111,\"#46039f\"],[0.2222222222222222,\"#7201a8\"],[0.3333333333333333,\"#9c179e\"],[0.4444444444444444,\"#bd3786\"],[0.5555555555555556,\"#d8576b\"],[0.6666666666666666,\"#ed7953\"],[0.7777777777777778,\"#fb9f3a\"],[0.8888888888888888,\"#fdca26\"],[1.0,\"#f0f921\"]]}],\"surface\":[{\"type\":\"surface\",\"colorbar\":{\"outlinewidth\":0,\"ticks\":\"\"},\"colorscale\":[[0.0,\"#0d0887\"],[0.1111111111111111,\"#46039f\"],[0.2222222222222222,\"#7201a8\"],[0.3333333333333333,\"#9c179e\"],[0.4444444444444444,\"#bd3786\"],[0.5555555555555556,\"#d8576b\"],[0.6666666666666666,\"#ed7953\"],[0.7777777777777778,\"#fb9f3a\"],[0.8888888888888888,\"#fdca26\"],[1.0,\"#f0f921\"]]}],\"mesh3d\":[{\"type\":\"mesh3d\",\"colorbar\":{\"outlinewidth\":0,\"ticks\":\"\"}}],\"scatter\":[{\"fillpattern\":{\"fillmode\":\"overlay\",\"size\":10,\"solidity\":0.2},\"type\":\"scatter\"}],\"parcoords\":[{\"type\":\"parcoords\",\"line\":{\"colorbar\":{\"outlinewidth\":0,\"ticks\":\"\"}}}],\"scatterpolargl\":[{\"type\":\"scatterpolargl\",\"marker\":{\"colorbar\":{\"outlinewidth\":0,\"ticks\":\"\"}}}],\"bar\":[{\"error_x\":{\"color\":\"#2a3f5f\"},\"error_y\":{\"color\":\"#2a3f5f\"},\"marker\":{\"line\":{\"color\":\"#E5ECF6\",\"width\":0.5},\"pattern\":{\"fillmode\":\"overlay\",\"size\":10,\"solidity\":0.2}},\"type\":\"bar\"}],\"scattergeo\":[{\"type\":\"scattergeo\",\"marker\":{\"colorbar\":{\"outlinewidth\":0,\"ticks\":\"\"}}}],\"scatterpolar\":[{\"type\":\"scatterpolar\",\"marker\":{\"colorbar\":{\"outlinewidth\":0,\"ticks\":\"\"}}}],\"histogram\":[{\"marker\":{\"pattern\":{\"fillmode\":\"overlay\",\"size\":10,\"solidity\":0.2}},\"type\":\"histogram\"}],\"scattergl\":[{\"type\":\"scattergl\",\"marker\":{\"colorbar\":{\"outlinewidth\":0,\"ticks\":\"\"}}}],\"scatter3d\":[{\"type\":\"scatter3d\",\"line\":{\"colorbar\":{\"outlinewidth\":0,\"ticks\":\"\"}},\"marker\":{\"colorbar\":{\"outlinewidth\":0,\"ticks\":\"\"}}}],\"scattermapbox\":[{\"type\":\"scattermapbox\",\"marker\":{\"colorbar\":{\"outlinewidth\":0,\"ticks\":\"\"}}}],\"scatterternary\":[{\"type\":\"scatterternary\",\"marker\":{\"colorbar\":{\"outlinewidth\":0,\"ticks\":\"\"}}}],\"scattercarpet\":[{\"type\":\"scattercarpet\",\"marker\":{\"colorbar\":{\"outlinewidth\":0,\"ticks\":\"\"}}}],\"carpet\":[{\"aaxis\":{\"endlinecolor\":\"#2a3f5f\",\"gridcolor\":\"white\",\"linecolor\":\"white\",\"minorgridcolor\":\"white\",\"startlinecolor\":\"#2a3f5f\"},\"baxis\":{\"endlinecolor\":\"#2a3f5f\",\"gridcolor\":\"white\",\"linecolor\":\"white\",\"minorgridcolor\":\"white\",\"startlinecolor\":\"#2a3f5f\"},\"type\":\"carpet\"}],\"table\":[{\"cells\":{\"fill\":{\"color\":\"#EBF0F8\"},\"line\":{\"color\":\"white\"}},\"header\":{\"fill\":{\"color\":\"#C8D4E3\"},\"line\":{\"color\":\"white\"}},\"type\":\"table\"}],\"barpolar\":[{\"marker\":{\"line\":{\"color\":\"#E5ECF6\",\"width\":0.5},\"pattern\":{\"fillmode\":\"overlay\",\"size\":10,\"solidity\":0.2}},\"type\":\"barpolar\"}],\"pie\":[{\"automargin\":true,\"type\":\"pie\"}]},\"layout\":{\"autotypenumbers\":\"strict\",\"colorway\":[\"#636efa\",\"#EF553B\",\"#00cc96\",\"#ab63fa\",\"#FFA15A\",\"#19d3f3\",\"#FF6692\",\"#B6E880\",\"#FF97FF\",\"#FECB52\"],\"font\":{\"color\":\"#2a3f5f\"},\"hovermode\":\"closest\",\"hoverlabel\":{\"align\":\"left\"},\"paper_bgcolor\":\"white\",\"plot_bgcolor\":\"#E5ECF6\",\"polar\":{\"bgcolor\":\"#E5ECF6\",\"angularaxis\":{\"gridcolor\":\"white\",\"linecolor\":\"white\",\"ticks\":\"\"},\"radialaxis\":{\"gridcolor\":\"white\",\"linecolor\":\"white\",\"ticks\":\"\"}},\"ternary\":{\"bgcolor\":\"#E5ECF6\",\"aaxis\":{\"gridcolor\":\"white\",\"linecolor\":\"white\",\"ticks\":\"\"},\"baxis\":{\"gridcolor\":\"white\",\"linecolor\":\"white\",\"ticks\":\"\"},\"caxis\":{\"gridcolor\":\"white\",\"linecolor\":\"white\",\"ticks\":\"\"}},\"coloraxis\":{\"colorbar\":{\"outlinewidth\":0,\"ticks\":\"\"}},\"colorscale\":{\"sequential\":[[0.0,\"#0d0887\"],[0.1111111111111111,\"#46039f\"],[0.2222222222222222,\"#7201a8\"],[0.3333333333333333,\"#9c179e\"],[0.4444444444444444,\"#bd3786\"],[0.5555555555555556,\"#d8576b\"],[0.6666666666666666,\"#ed7953\"],[0.7777777777777778,\"#fb9f3a\"],[0.8888888888888888,\"#fdca26\"],[1.0,\"#f0f921\"]],\"sequentialminus\":[[0.0,\"#0d0887\"],[0.1111111111111111,\"#46039f\"],[0.2222222222222222,\"#7201a8\"],[0.3333333333333333,\"#9c179e\"],[0.4444444444444444,\"#bd3786\"],[0.5555555555555556,\"#d8576b\"],[0.6666666666666666,\"#ed7953\"],[0.7777777777777778,\"#fb9f3a\"],[0.8888888888888888,\"#fdca26\"],[1.0,\"#f0f921\"]],\"diverging\":[[0,\"#8e0152\"],[0.1,\"#c51b7d\"],[0.2,\"#de77ae\"],[0.3,\"#f1b6da\"],[0.4,\"#fde0ef\"],[0.5,\"#f7f7f7\"],[0.6,\"#e6f5d0\"],[0.7,\"#b8e186\"],[0.8,\"#7fbc41\"],[0.9,\"#4d9221\"],[1,\"#276419\"]]},\"xaxis\":{\"gridcolor\":\"white\",\"linecolor\":\"white\",\"ticks\":\"\",\"title\":{\"standoff\":15},\"zerolinecolor\":\"white\",\"automargin\":true,\"zerolinewidth\":2},\"yaxis\":{\"gridcolor\":\"white\",\"linecolor\":\"white\",\"ticks\":\"\",\"title\":{\"standoff\":15},\"zerolinecolor\":\"white\",\"automargin\":true,\"zerolinewidth\":2},\"scene\":{\"xaxis\":{\"backgroundcolor\":\"#E5ECF6\",\"gridcolor\":\"white\",\"linecolor\":\"white\",\"showbackground\":true,\"ticks\":\"\",\"zerolinecolor\":\"white\",\"gridwidth\":2},\"yaxis\":{\"backgroundcolor\":\"#E5ECF6\",\"gridcolor\":\"white\",\"linecolor\":\"white\",\"showbackground\":true,\"ticks\":\"\",\"zerolinecolor\":\"white\",\"gridwidth\":2},\"zaxis\":{\"backgroundcolor\":\"#E5ECF6\",\"gridcolor\":\"white\",\"linecolor\":\"white\",\"showbackground\":true,\"ticks\":\"\",\"zerolinecolor\":\"white\",\"gridwidth\":2}},\"shapedefaults\":{\"line\":{\"color\":\"#2a3f5f\"}},\"annotationdefaults\":{\"arrowcolor\":\"#2a3f5f\",\"arrowhead\":0,\"arrowwidth\":1},\"geo\":{\"bgcolor\":\"white\",\"landcolor\":\"#E5ECF6\",\"subunitcolor\":\"white\",\"showland\":true,\"showlakes\":true,\"lakecolor\":\"white\"},\"title\":{\"x\":0.05},\"mapbox\":{\"style\":\"light\"}}},\"scene\":{\"domain\":{\"x\":[0.0,1.0],\"y\":[0.0,1.0]},\"xaxis\":{\"title\":{\"text\":\"PCA_1\"}},\"yaxis\":{\"title\":{\"text\":\"PCA_2\"}},\"zaxis\":{\"title\":{\"text\":\"PCA_3\"}}},\"coloraxis\":{\"colorbar\":{\"title\":{\"text\":\"Cluster_ID\"}},\"colorscale\":[[0.0,\"#0d0887\"],[0.1111111111111111,\"#46039f\"],[0.2222222222222222,\"#7201a8\"],[0.3333333333333333,\"#9c179e\"],[0.4444444444444444,\"#bd3786\"],[0.5555555555555556,\"#d8576b\"],[0.6666666666666666,\"#ed7953\"],[0.7777777777777778,\"#fb9f3a\"],[0.8888888888888888,\"#fdca26\"],[1.0,\"#f0f921\"]]},\"legend\":{\"tracegroupgap\":0},\"title\":{\"text\":\"Hierarchical Cluster for Wholesale Customer\"},\"height\":600,\"width\":800},                        {\"responsive\": true}                    ).then(function(){\n",
       "                            \n",
       "var gd = document.getElementById('689be5e6-9cd2-48fc-926b-8b264c58da3a');\n",
       "var x = new MutationObserver(function (mutations, observer) {{\n",
       "        var display = window.getComputedStyle(gd).display;\n",
       "        if (!display || display === 'none') {{\n",
       "            console.log([gd, 'removed!']);\n",
       "            Plotly.purge(gd);\n",
       "            observer.disconnect();\n",
       "        }}\n",
       "}});\n",
       "\n",
       "// Listen for the removal of the full notebook cells\n",
       "var notebookContainer = gd.closest('#notebook-container');\n",
       "if (notebookContainer) {{\n",
       "    x.observe(notebookContainer, {childList: true});\n",
       "}}\n",
       "\n",
       "// Listen for the clearing of the current output cell\n",
       "var outputEl = gd.closest('.output');\n",
       "if (outputEl) {{\n",
       "    x.observe(outputEl, {childList: true});\n",
       "}}\n",
       "\n",
       "                        })                };                });            </script>        </div>"
      ]
     },
     "metadata": {},
     "output_type": "display_data"
    }
   ],
   "source": [
    "px.scatter_3d(New_Dataframe_Wholesale_Customer, x = 'PCA_1', y = 'PCA_2', z = 'PCA_3', color = New_Dataframe_Wholesale_Customer['h_cluster_ID'], \n",
    "                         title = 'Hierarchical Cluster for Wholesale Customer', labels = {'h_cluster_ID' : 'Cluster_ID'},width = 800, height = 600)"
   ]
  },
  {
   "cell_type": "code",
   "execution_count": 1514,
   "id": "d997e3e2-aaf1-4dfc-b69a-4dd60ced4600",
   "metadata": {},
   "outputs": [],
   "source": [
    "import scipy.cluster.hierarchy as sch"
   ]
  },
  {
   "cell_type": "code",
   "execution_count": 1515,
   "id": "788a68fe-0428-4657-82c0-3f6911d360e6",
   "metadata": {},
   "outputs": [
    {
     "data": {
      "text/plain": [
       "Text(0, 0.5, 'Euclidean Distance')"
      ]
     },
     "execution_count": 1515,
     "metadata": {},
     "output_type": "execute_result"
    },
    {
     "data": {
      "image/png": "[encoded data removed]",
      "text/plain": [
       "<Figure size 600x300 with 1 Axes>"
      ]
     },
     "metadata": {},
     "output_type": "display_data"
    }
   ],
   "source": [
    "plt.figure(figsize=(6,3))\n",
    "dendogram = sch.dendrogram(sch.linkage(scaled_X,method = 'ward'))\n",
    "plt.title('Dendrogram')\n",
    "plt.xlabel('PCAs')\n",
    "plt.ylabel('Euclidean Distance')"
   ]
  },
  {
   "cell_type": "code",
   "execution_count": 1517,
   "id": "8f296009-ad35-4020-b110-593f45aa82c1",
   "metadata": {},
   "outputs": [],
   "source": [
    "Final_data = pd.merge(New_Dataframe_Wholesale_Customer, df, on='KEY', how='inner')"
   ]
  },
  {
   "cell_type": "code",
   "execution_count": 1518,
   "id": "83033b0e-ca1e-4bcb-866d-749be4b9e46d",
   "metadata": {},
   "outputs": [
    {
     "data": {
      "text/html": [
       "<div>\n",
       "<style scoped>\n",
       "    .dataframe tbody tr th:only-of-type {\n",
       "        vertical-align: middle;\n",
       "    }\n",
       "\n",
       "    .dataframe tbody tr th {\n",
       "        vertical-align: top;\n",
       "    }\n",
       "\n",
       "    .dataframe thead th {\n",
       "        text-align: right;\n",
       "    }\n",
       "</style>\n",
       "<table border=\"1\" class=\"dataframe\">\n",
       "  <thead>\n",
       "    <tr style=\"text-align: right;\">\n",
       "      <th></th>\n",
       "      <th>PCA_1</th>\n",
       "      <th>PCA_2</th>\n",
       "      <th>PCA_3</th>\n",
       "      <th>PCA_4</th>\n",
       "      <th>KEY</th>\n",
       "      <th>PCA_Combined</th>\n",
       "      <th>Channel_x</th>\n",
       "      <th>Region_x</th>\n",
       "      <th>K_Cluster_ID</th>\n",
       "      <th>DBSCAN_Cluster_ID</th>\n",
       "      <th>h_cluster_ID</th>\n",
       "      <th>Channel_y</th>\n",
       "      <th>Region_y</th>\n",
       "      <th>Fresh</th>\n",
       "      <th>Milk</th>\n",
       "      <th>Grocery</th>\n",
       "      <th>Frozen</th>\n",
       "      <th>Detergents_Paper</th>\n",
       "      <th>Delicassen</th>\n",
       "    </tr>\n",
       "  </thead>\n",
       "  <tbody>\n",
       "    <tr>\n",
       "      <th>0</th>\n",
       "      <td>551.113186</td>\n",
       "      <td>8147.105699</td>\n",
       "      <td>5131.161064</td>\n",
       "      <td>8064.280821</td>\n",
       "      <td>0</td>\n",
       "      <td>21893.660769</td>\n",
       "      <td>2</td>\n",
       "      <td>3</td>\n",
       "      <td>0</td>\n",
       "      <td>0</td>\n",
       "      <td>1</td>\n",
       "      <td>2</td>\n",
       "      <td>3</td>\n",
       "      <td>12669</td>\n",
       "      <td>9656</td>\n",
       "      <td>7561</td>\n",
       "      <td>214</td>\n",
       "      <td>2674</td>\n",
       "      <td>1338</td>\n",
       "    </tr>\n",
       "    <tr>\n",
       "      <th>1</th>\n",
       "      <td>2707.064613</td>\n",
       "      <td>5086.938209</td>\n",
       "      <td>1804.418698</td>\n",
       "      <td>9419.088968</td>\n",
       "      <td>1</td>\n",
       "      <td>19017.510487</td>\n",
       "      <td>2</td>\n",
       "      <td>3</td>\n",
       "      <td>0</td>\n",
       "      <td>0</td>\n",
       "      <td>1</td>\n",
       "      <td>2</td>\n",
       "      <td>3</td>\n",
       "      <td>7057</td>\n",
       "      <td>9810</td>\n",
       "      <td>9568</td>\n",
       "      <td>1762</td>\n",
       "      <td>3293</td>\n",
       "      <td>1776</td>\n",
       "    </tr>\n",
       "    <tr>\n",
       "      <th>2</th>\n",
       "      <td>1888.140368</td>\n",
       "      <td>4450.006858</td>\n",
       "      <td>1815.347995</td>\n",
       "      <td>8928.735463</td>\n",
       "      <td>2</td>\n",
       "      <td>17082.230684</td>\n",
       "      <td>2</td>\n",
       "      <td>3</td>\n",
       "      <td>0</td>\n",
       "      <td>0</td>\n",
       "      <td>1</td>\n",
       "      <td>2</td>\n",
       "      <td>3</td>\n",
       "      <td>6353</td>\n",
       "      <td>8808</td>\n",
       "      <td>7684</td>\n",
       "      <td>2405</td>\n",
       "      <td>3516</td>\n",
       "      <td>7844</td>\n",
       "    </tr>\n",
       "    <tr>\n",
       "      <th>3</th>\n",
       "      <td>3744.006970</td>\n",
       "      <td>7026.996477</td>\n",
       "      <td>7730.368803</td>\n",
       "      <td>7085.716362</td>\n",
       "      <td>3</td>\n",
       "      <td>25587.088611</td>\n",
       "      <td>1</td>\n",
       "      <td>3</td>\n",
       "      <td>0</td>\n",
       "      <td>0</td>\n",
       "      <td>1</td>\n",
       "      <td>1</td>\n",
       "      <td>3</td>\n",
       "      <td>13265</td>\n",
       "      <td>1196</td>\n",
       "      <td>4221</td>\n",
       "      <td>6404</td>\n",
       "      <td>507</td>\n",
       "      <td>1788</td>\n",
       "    </tr>\n",
       "    <tr>\n",
       "      <th>4</th>\n",
       "      <td>2947.313386</td>\n",
       "      <td>12871.111944</td>\n",
       "      <td>11944.338131</td>\n",
       "      <td>8758.058039</td>\n",
       "      <td>4</td>\n",
       "      <td>36520.821500</td>\n",
       "      <td>2</td>\n",
       "      <td>3</td>\n",
       "      <td>0</td>\n",
       "      <td>0</td>\n",
       "      <td>0</td>\n",
       "      <td>2</td>\n",
       "      <td>3</td>\n",
       "      <td>22615</td>\n",
       "      <td>5410</td>\n",
       "      <td>7198</td>\n",
       "      <td>3915</td>\n",
       "      <td>1777</td>\n",
       "      <td>5185</td>\n",
       "    </tr>\n",
       "    <tr>\n",
       "      <th>...</th>\n",
       "      <td>...</td>\n",
       "      <td>...</td>\n",
       "      <td>...</td>\n",
       "      <td>...</td>\n",
       "      <td>...</td>\n",
       "      <td>...</td>\n",
       "      <td>...</td>\n",
       "      <td>...</td>\n",
       "      <td>...</td>\n",
       "      <td>...</td>\n",
       "      <td>...</td>\n",
       "      <td>...</td>\n",
       "      <td>...</td>\n",
       "      <td>...</td>\n",
       "      <td>...</td>\n",
       "      <td>...</td>\n",
       "      <td>...</td>\n",
       "      <td>...</td>\n",
       "      <td>...</td>\n",
       "    </tr>\n",
       "    <tr>\n",
       "      <th>435</th>\n",
       "      <td>8491.008999</td>\n",
       "      <td>17016.501456</td>\n",
       "      <td>15100.217443</td>\n",
       "      <td>21842.602945</td>\n",
       "      <td>435</td>\n",
       "      <td>62450.330843</td>\n",
       "      <td>1</td>\n",
       "      <td>3</td>\n",
       "      <td>1</td>\n",
       "      <td>-1</td>\n",
       "      <td>1</td>\n",
       "      <td>1</td>\n",
       "      <td>3</td>\n",
       "      <td>29703</td>\n",
       "      <td>12051</td>\n",
       "      <td>16027</td>\n",
       "      <td>13135</td>\n",
       "      <td>182</td>\n",
       "      <td>2204</td>\n",
       "    </tr>\n",
       "    <tr>\n",
       "      <th>436</th>\n",
       "      <td>749.706666</td>\n",
       "      <td>21155.824215</td>\n",
       "      <td>22909.214067</td>\n",
       "      <td>6485.810077</td>\n",
       "      <td>436</td>\n",
       "      <td>51300.555026</td>\n",
       "      <td>1</td>\n",
       "      <td>3</td>\n",
       "      <td>1</td>\n",
       "      <td>0</td>\n",
       "      <td>0</td>\n",
       "      <td>1</td>\n",
       "      <td>3</td>\n",
       "      <td>39228</td>\n",
       "      <td>1431</td>\n",
       "      <td>764</td>\n",
       "      <td>4510</td>\n",
       "      <td>93</td>\n",
       "      <td>2346</td>\n",
       "    </tr>\n",
       "    <tr>\n",
       "      <th>437</th>\n",
       "      <td>15868.747431</td>\n",
       "      <td>10997.426571</td>\n",
       "      <td>2923.019151</td>\n",
       "      <td>15942.135926</td>\n",
       "      <td>437</td>\n",
       "      <td>45731.329078</td>\n",
       "      <td>2</td>\n",
       "      <td>3</td>\n",
       "      <td>0</td>\n",
       "      <td>-1</td>\n",
       "      <td>1</td>\n",
       "      <td>2</td>\n",
       "      <td>3</td>\n",
       "      <td>14531</td>\n",
       "      <td>15488</td>\n",
       "      <td>30243</td>\n",
       "      <td>437</td>\n",
       "      <td>14841</td>\n",
       "      <td>1867</td>\n",
       "    </tr>\n",
       "    <tr>\n",
       "      <th>438</th>\n",
       "      <td>571.526853</td>\n",
       "      <td>5818.305457</td>\n",
       "      <td>5539.249050</td>\n",
       "      <td>2933.722055</td>\n",
       "      <td>438</td>\n",
       "      <td>14862.803415</td>\n",
       "      <td>1</td>\n",
       "      <td>3</td>\n",
       "      <td>0</td>\n",
       "      <td>0</td>\n",
       "      <td>1</td>\n",
       "      <td>1</td>\n",
       "      <td>3</td>\n",
       "      <td>10290</td>\n",
       "      <td>1981</td>\n",
       "      <td>2232</td>\n",
       "      <td>1038</td>\n",
       "      <td>168</td>\n",
       "      <td>2125</td>\n",
       "    </tr>\n",
       "    <tr>\n",
       "      <th>439</th>\n",
       "      <td>1038.202213</td>\n",
       "      <td>1806.369912</td>\n",
       "      <td>1101.175039</td>\n",
       "      <td>1678.325621</td>\n",
       "      <td>439</td>\n",
       "      <td>5624.072784</td>\n",
       "      <td>1</td>\n",
       "      <td>3</td>\n",
       "      <td>0</td>\n",
       "      <td>0</td>\n",
       "      <td>1</td>\n",
       "      <td>1</td>\n",
       "      <td>3</td>\n",
       "      <td>2787</td>\n",
       "      <td>1698</td>\n",
       "      <td>2510</td>\n",
       "      <td>65</td>\n",
       "      <td>477</td>\n",
       "      <td>52</td>\n",
       "    </tr>\n",
       "  </tbody>\n",
       "</table>\n",
       "<p>440 rows × 19 columns</p>\n",
       "</div>"
      ],
      "text/plain": [
       "           PCA_1        PCA_2        PCA_3        PCA_4  KEY  PCA_Combined  \\\n",
       "0     551.113186  8147.105699  5131.161064  8064.280821    0  21893.660769   \n",
       "1    2707.064613  5086.938209  1804.418698  9419.088968    1  19017.510487   \n",
       "2    1888.140368  4450.006858  1815.347995  8928.735463    2  17082.230684   \n",
       "3    3744.006970  7026.996477  7730.368803  7085.716362    3  25587.088611   \n",
       "4    2947.313386 12871.111944 11944.338131  8758.058039    4  36520.821500   \n",
       "..           ...          ...          ...          ...  ...           ...   \n",
       "435  8491.008999 17016.501456 15100.217443 21842.602945  435  62450.330843   \n",
       "436   749.706666 21155.824215 22909.214067  6485.810077  436  51300.555026   \n",
       "437 15868.747431 10997.426571  2923.019151 15942.135926  437  45731.329078   \n",
       "438   571.526853  5818.305457  5539.249050  2933.722055  438  14862.803415   \n",
       "439  1038.202213  1806.369912  1101.175039  1678.325621  439   5624.072784   \n",
       "\n",
       "     Channel_x  Region_x  K_Cluster_ID  DBSCAN_Cluster_ID  h_cluster_ID  \\\n",
       "0            2         3             0                  0             1   \n",
       "1            2         3             0                  0             1   \n",
       "2            2         3             0                  0             1   \n",
       "3            1         3             0                  0             1   \n",
       "4            2         3             0                  0             0   \n",
       "..         ...       ...           ...                ...           ...   \n",
       "435          1         3             1                 -1             1   \n",
       "436          1         3             1                  0             0   \n",
       "437          2         3             0                 -1             1   \n",
       "438          1         3             0                  0             1   \n",
       "439          1         3             0                  0             1   \n",
       "\n",
       "     Channel_y  Region_y  Fresh   Milk  Grocery  Frozen  Detergents_Paper  \\\n",
       "0            2         3  12669   9656     7561     214              2674   \n",
       "1            2         3   7057   9810     9568    1762              3293   \n",
       "2            2         3   6353   8808     7684    2405              3516   \n",
       "3            1         3  13265   1196     4221    6404               507   \n",
       "4            2         3  22615   5410     7198    3915              1777   \n",
       "..         ...       ...    ...    ...      ...     ...               ...   \n",
       "435          1         3  29703  12051    16027   13135               182   \n",
       "436          1         3  39228   1431      764    4510                93   \n",
       "437          2         3  14531  15488    30243     437             14841   \n",
       "438          1         3  10290   1981     2232    1038               168   \n",
       "439          1         3   2787   1698     2510      65               477   \n",
       "\n",
       "     Delicassen  \n",
       "0          1338  \n",
       "1          1776  \n",
       "2          7844  \n",
       "3          1788  \n",
       "4          5185  \n",
       "..          ...  \n",
       "435        2204  \n",
       "436        2346  \n",
       "437        1867  \n",
       "438        2125  \n",
       "439          52  \n",
       "\n",
       "[440 rows x 19 columns]"
      ]
     },
     "execution_count": 1518,
     "metadata": {},
     "output_type": "execute_result"
    }
   ],
   "source": [
    "Final_data"
   ]
  },
  {
   "cell_type": "code",
   "execution_count": 1525,
   "id": "8a3f644b-2896-4da3-b360-740cd4f3ee6d",
   "metadata": {},
   "outputs": [],
   "source": [
    "Final_data = Final_data.drop(['Channel_x', 'Region_x'], axis = 1)"
   ]
  },
  {
   "cell_type": "code",
   "execution_count": 1526,
   "id": "13079bbd-36d2-4056-86e6-d702dd75f797",
   "metadata": {},
   "outputs": [],
   "source": [
    "Final_data = Final_data.rename(columns = {'Channel_y': 'Channel', 'Region_y': 'Region'})"
   ]
  },
  {
   "cell_type": "code",
   "execution_count": 1538,
   "id": "b50ee4c0-ec4a-430f-9376-4dadef695bd4",
   "metadata": {},
   "outputs": [
    {
     "data": {
      "text/html": [
       "<div>\n",
       "<style scoped>\n",
       "    .dataframe tbody tr th:only-of-type {\n",
       "        vertical-align: middle;\n",
       "    }\n",
       "\n",
       "    .dataframe tbody tr th {\n",
       "        vertical-align: top;\n",
       "    }\n",
       "\n",
       "    .dataframe thead th {\n",
       "        text-align: right;\n",
       "    }\n",
       "</style>\n",
       "<table border=\"1\" class=\"dataframe\">\n",
       "  <thead>\n",
       "    <tr style=\"text-align: right;\">\n",
       "      <th></th>\n",
       "      <th>PCA_1</th>\n",
       "      <th>PCA_2</th>\n",
       "      <th>PCA_3</th>\n",
       "      <th>PCA_4</th>\n",
       "      <th>KEY</th>\n",
       "      <th>PCA_Combined</th>\n",
       "      <th>K_Cluster_ID</th>\n",
       "      <th>DBSCAN_Cluster_ID</th>\n",
       "      <th>h_cluster_ID</th>\n",
       "      <th>Channel</th>\n",
       "      <th>Region</th>\n",
       "      <th>Fresh</th>\n",
       "      <th>Milk</th>\n",
       "      <th>Grocery</th>\n",
       "      <th>Frozen</th>\n",
       "      <th>Detergents_Paper</th>\n",
       "      <th>Delicassen</th>\n",
       "    </tr>\n",
       "  </thead>\n",
       "  <tbody>\n",
       "    <tr>\n",
       "      <th>0</th>\n",
       "      <td>551.113186</td>\n",
       "      <td>8147.105699</td>\n",
       "      <td>5131.161064</td>\n",
       "      <td>8064.280821</td>\n",
       "      <td>0</td>\n",
       "      <td>21893.660769</td>\n",
       "      <td>0</td>\n",
       "      <td>0</td>\n",
       "      <td>1</td>\n",
       "      <td>2</td>\n",
       "      <td>3</td>\n",
       "      <td>12669</td>\n",
       "      <td>9656</td>\n",
       "      <td>7561</td>\n",
       "      <td>214</td>\n",
       "      <td>2674</td>\n",
       "      <td>1338</td>\n",
       "    </tr>\n",
       "    <tr>\n",
       "      <th>1</th>\n",
       "      <td>2707.064613</td>\n",
       "      <td>5086.938209</td>\n",
       "      <td>1804.418698</td>\n",
       "      <td>9419.088968</td>\n",
       "      <td>1</td>\n",
       "      <td>19017.510487</td>\n",
       "      <td>0</td>\n",
       "      <td>0</td>\n",
       "      <td>1</td>\n",
       "      <td>2</td>\n",
       "      <td>3</td>\n",
       "      <td>7057</td>\n",
       "      <td>9810</td>\n",
       "      <td>9568</td>\n",
       "      <td>1762</td>\n",
       "      <td>3293</td>\n",
       "      <td>1776</td>\n",
       "    </tr>\n",
       "    <tr>\n",
       "      <th>2</th>\n",
       "      <td>1888.140368</td>\n",
       "      <td>4450.006858</td>\n",
       "      <td>1815.347995</td>\n",
       "      <td>8928.735463</td>\n",
       "      <td>2</td>\n",
       "      <td>17082.230684</td>\n",
       "      <td>0</td>\n",
       "      <td>0</td>\n",
       "      <td>1</td>\n",
       "      <td>2</td>\n",
       "      <td>3</td>\n",
       "      <td>6353</td>\n",
       "      <td>8808</td>\n",
       "      <td>7684</td>\n",
       "      <td>2405</td>\n",
       "      <td>3516</td>\n",
       "      <td>7844</td>\n",
       "    </tr>\n",
       "    <tr>\n",
       "      <th>3</th>\n",
       "      <td>3744.006970</td>\n",
       "      <td>7026.996477</td>\n",
       "      <td>7730.368803</td>\n",
       "      <td>7085.716362</td>\n",
       "      <td>3</td>\n",
       "      <td>25587.088611</td>\n",
       "      <td>0</td>\n",
       "      <td>0</td>\n",
       "      <td>1</td>\n",
       "      <td>1</td>\n",
       "      <td>3</td>\n",
       "      <td>13265</td>\n",
       "      <td>1196</td>\n",
       "      <td>4221</td>\n",
       "      <td>6404</td>\n",
       "      <td>507</td>\n",
       "      <td>1788</td>\n",
       "    </tr>\n",
       "    <tr>\n",
       "      <th>4</th>\n",
       "      <td>2947.313386</td>\n",
       "      <td>12871.111944</td>\n",
       "      <td>11944.338131</td>\n",
       "      <td>8758.058039</td>\n",
       "      <td>4</td>\n",
       "      <td>36520.821500</td>\n",
       "      <td>0</td>\n",
       "      <td>0</td>\n",
       "      <td>0</td>\n",
       "      <td>2</td>\n",
       "      <td>3</td>\n",
       "      <td>22615</td>\n",
       "      <td>5410</td>\n",
       "      <td>7198</td>\n",
       "      <td>3915</td>\n",
       "      <td>1777</td>\n",
       "      <td>5185</td>\n",
       "    </tr>\n",
       "    <tr>\n",
       "      <th>...</th>\n",
       "      <td>...</td>\n",
       "      <td>...</td>\n",
       "      <td>...</td>\n",
       "      <td>...</td>\n",
       "      <td>...</td>\n",
       "      <td>...</td>\n",
       "      <td>...</td>\n",
       "      <td>...</td>\n",
       "      <td>...</td>\n",
       "      <td>...</td>\n",
       "      <td>...</td>\n",
       "      <td>...</td>\n",
       "      <td>...</td>\n",
       "      <td>...</td>\n",
       "      <td>...</td>\n",
       "      <td>...</td>\n",
       "      <td>...</td>\n",
       "    </tr>\n",
       "    <tr>\n",
       "      <th>435</th>\n",
       "      <td>8491.008999</td>\n",
       "      <td>17016.501456</td>\n",
       "      <td>15100.217443</td>\n",
       "      <td>21842.602945</td>\n",
       "      <td>435</td>\n",
       "      <td>62450.330843</td>\n",
       "      <td>1</td>\n",
       "      <td>-1</td>\n",
       "      <td>1</td>\n",
       "      <td>1</td>\n",
       "      <td>3</td>\n",
       "      <td>29703</td>\n",
       "      <td>12051</td>\n",
       "      <td>16027</td>\n",
       "      <td>13135</td>\n",
       "      <td>182</td>\n",
       "      <td>2204</td>\n",
       "    </tr>\n",
       "    <tr>\n",
       "      <th>436</th>\n",
       "      <td>749.706666</td>\n",
       "      <td>21155.824215</td>\n",
       "      <td>22909.214067</td>\n",
       "      <td>6485.810077</td>\n",
       "      <td>436</td>\n",
       "      <td>51300.555026</td>\n",
       "      <td>1</td>\n",
       "      <td>0</td>\n",
       "      <td>0</td>\n",
       "      <td>1</td>\n",
       "      <td>3</td>\n",
       "      <td>39228</td>\n",
       "      <td>1431</td>\n",
       "      <td>764</td>\n",
       "      <td>4510</td>\n",
       "      <td>93</td>\n",
       "      <td>2346</td>\n",
       "    </tr>\n",
       "    <tr>\n",
       "      <th>437</th>\n",
       "      <td>15868.747431</td>\n",
       "      <td>10997.426571</td>\n",
       "      <td>2923.019151</td>\n",
       "      <td>15942.135926</td>\n",
       "      <td>437</td>\n",
       "      <td>45731.329078</td>\n",
       "      <td>0</td>\n",
       "      <td>-1</td>\n",
       "      <td>1</td>\n",
       "      <td>2</td>\n",
       "      <td>3</td>\n",
       "      <td>14531</td>\n",
       "      <td>15488</td>\n",
       "      <td>30243</td>\n",
       "      <td>437</td>\n",
       "      <td>14841</td>\n",
       "      <td>1867</td>\n",
       "    </tr>\n",
       "    <tr>\n",
       "      <th>438</th>\n",
       "      <td>571.526853</td>\n",
       "      <td>5818.305457</td>\n",
       "      <td>5539.249050</td>\n",
       "      <td>2933.722055</td>\n",
       "      <td>438</td>\n",
       "      <td>14862.803415</td>\n",
       "      <td>0</td>\n",
       "      <td>0</td>\n",
       "      <td>1</td>\n",
       "      <td>1</td>\n",
       "      <td>3</td>\n",
       "      <td>10290</td>\n",
       "      <td>1981</td>\n",
       "      <td>2232</td>\n",
       "      <td>1038</td>\n",
       "      <td>168</td>\n",
       "      <td>2125</td>\n",
       "    </tr>\n",
       "    <tr>\n",
       "      <th>439</th>\n",
       "      <td>1038.202213</td>\n",
       "      <td>1806.369912</td>\n",
       "      <td>1101.175039</td>\n",
       "      <td>1678.325621</td>\n",
       "      <td>439</td>\n",
       "      <td>5624.072784</td>\n",
       "      <td>0</td>\n",
       "      <td>0</td>\n",
       "      <td>1</td>\n",
       "      <td>1</td>\n",
       "      <td>3</td>\n",
       "      <td>2787</td>\n",
       "      <td>1698</td>\n",
       "      <td>2510</td>\n",
       "      <td>65</td>\n",
       "      <td>477</td>\n",
       "      <td>52</td>\n",
       "    </tr>\n",
       "  </tbody>\n",
       "</table>\n",
       "<p>440 rows × 17 columns</p>\n",
       "</div>"
      ],
      "text/plain": [
       "           PCA_1        PCA_2        PCA_3        PCA_4  KEY  PCA_Combined  \\\n",
       "0     551.113186  8147.105699  5131.161064  8064.280821    0  21893.660769   \n",
       "1    2707.064613  5086.938209  1804.418698  9419.088968    1  19017.510487   \n",
       "2    1888.140368  4450.006858  1815.347995  8928.735463    2  17082.230684   \n",
       "3    3744.006970  7026.996477  7730.368803  7085.716362    3  25587.088611   \n",
       "4    2947.313386 12871.111944 11944.338131  8758.058039    4  36520.821500   \n",
       "..           ...          ...          ...          ...  ...           ...   \n",
       "435  8491.008999 17016.501456 15100.217443 21842.602945  435  62450.330843   \n",
       "436   749.706666 21155.824215 22909.214067  6485.810077  436  51300.555026   \n",
       "437 15868.747431 10997.426571  2923.019151 15942.135926  437  45731.329078   \n",
       "438   571.526853  5818.305457  5539.249050  2933.722055  438  14862.803415   \n",
       "439  1038.202213  1806.369912  1101.175039  1678.325621  439   5624.072784   \n",
       "\n",
       "     K_Cluster_ID  DBSCAN_Cluster_ID  h_cluster_ID  Channel  Region  Fresh  \\\n",
       "0               0                  0             1        2       3  12669   \n",
       "1               0                  0             1        2       3   7057   \n",
       "2               0                  0             1        2       3   6353   \n",
       "3               0                  0             1        1       3  13265   \n",
       "4               0                  0             0        2       3  22615   \n",
       "..            ...                ...           ...      ...     ...    ...   \n",
       "435             1                 -1             1        1       3  29703   \n",
       "436             1                  0             0        1       3  39228   \n",
       "437             0                 -1             1        2       3  14531   \n",
       "438             0                  0             1        1       3  10290   \n",
       "439             0                  0             1        1       3   2787   \n",
       "\n",
       "      Milk  Grocery  Frozen  Detergents_Paper  Delicassen  \n",
       "0     9656     7561     214              2674        1338  \n",
       "1     9810     9568    1762              3293        1776  \n",
       "2     8808     7684    2405              3516        7844  \n",
       "3     1196     4221    6404               507        1788  \n",
       "4     5410     7198    3915              1777        5185  \n",
       "..     ...      ...     ...               ...         ...  \n",
       "435  12051    16027   13135               182        2204  \n",
       "436   1431      764    4510                93        2346  \n",
       "437  15488    30243     437             14841        1867  \n",
       "438   1981     2232    1038               168        2125  \n",
       "439   1698     2510      65               477          52  \n",
       "\n",
       "[440 rows x 17 columns]"
      ]
     },
     "execution_count": 1538,
     "metadata": {},
     "output_type": "execute_result"
    }
   ],
   "source": [
    "Final_data"
   ]
  },
  {
   "cell_type": "code",
   "execution_count": 1541,
   "id": "cdc8669d-defc-4ed5-bb18-cfeb385a435b",
   "metadata": {},
   "outputs": [],
   "source": [
    "Final_data = Final_data.rename(columns = {'KEY': 'Customer_ID'})\n",
    "pd.set_option('display.float_format', '{:.2f}'.format)"
   ]
  },
  {
   "cell_type": "code",
   "execution_count": 1542,
   "id": "a2742162-ae91-465d-9690-0fa6c658f07e",
   "metadata": {},
   "outputs": [
    {
     "data": {
      "text/html": [
       "<div>\n",
       "<style scoped>\n",
       "    .dataframe tbody tr th:only-of-type {\n",
       "        vertical-align: middle;\n",
       "    }\n",
       "\n",
       "    .dataframe tbody tr th {\n",
       "        vertical-align: top;\n",
       "    }\n",
       "\n",
       "    .dataframe thead th {\n",
       "        text-align: right;\n",
       "    }\n",
       "</style>\n",
       "<table border=\"1\" class=\"dataframe\">\n",
       "  <thead>\n",
       "    <tr style=\"text-align: right;\">\n",
       "      <th></th>\n",
       "      <th>PCA_1</th>\n",
       "      <th>PCA_2</th>\n",
       "      <th>PCA_3</th>\n",
       "      <th>PCA_4</th>\n",
       "      <th>Customer_ID</th>\n",
       "      <th>PCA_Combined</th>\n",
       "      <th>K_Cluster_ID</th>\n",
       "      <th>DBSCAN_Cluster_ID</th>\n",
       "      <th>h_cluster_ID</th>\n",
       "      <th>Channel</th>\n",
       "      <th>Region</th>\n",
       "      <th>Fresh</th>\n",
       "      <th>Milk</th>\n",
       "      <th>Grocery</th>\n",
       "      <th>Frozen</th>\n",
       "      <th>Detergents_Paper</th>\n",
       "      <th>Delicassen</th>\n",
       "    </tr>\n",
       "  </thead>\n",
       "  <tbody>\n",
       "    <tr>\n",
       "      <th>0</th>\n",
       "      <td>551.11</td>\n",
       "      <td>8147.11</td>\n",
       "      <td>5131.16</td>\n",
       "      <td>8064.28</td>\n",
       "      <td>0</td>\n",
       "      <td>21893.66</td>\n",
       "      <td>0</td>\n",
       "      <td>0</td>\n",
       "      <td>1</td>\n",
       "      <td>2</td>\n",
       "      <td>3</td>\n",
       "      <td>12669</td>\n",
       "      <td>9656</td>\n",
       "      <td>7561</td>\n",
       "      <td>214</td>\n",
       "      <td>2674</td>\n",
       "      <td>1338</td>\n",
       "    </tr>\n",
       "    <tr>\n",
       "      <th>1</th>\n",
       "      <td>2707.06</td>\n",
       "      <td>5086.94</td>\n",
       "      <td>1804.42</td>\n",
       "      <td>9419.09</td>\n",
       "      <td>1</td>\n",
       "      <td>19017.51</td>\n",
       "      <td>0</td>\n",
       "      <td>0</td>\n",
       "      <td>1</td>\n",
       "      <td>2</td>\n",
       "      <td>3</td>\n",
       "      <td>7057</td>\n",
       "      <td>9810</td>\n",
       "      <td>9568</td>\n",
       "      <td>1762</td>\n",
       "      <td>3293</td>\n",
       "      <td>1776</td>\n",
       "    </tr>\n",
       "    <tr>\n",
       "      <th>2</th>\n",
       "      <td>1888.14</td>\n",
       "      <td>4450.01</td>\n",
       "      <td>1815.35</td>\n",
       "      <td>8928.74</td>\n",
       "      <td>2</td>\n",
       "      <td>17082.23</td>\n",
       "      <td>0</td>\n",
       "      <td>0</td>\n",
       "      <td>1</td>\n",
       "      <td>2</td>\n",
       "      <td>3</td>\n",
       "      <td>6353</td>\n",
       "      <td>8808</td>\n",
       "      <td>7684</td>\n",
       "      <td>2405</td>\n",
       "      <td>3516</td>\n",
       "      <td>7844</td>\n",
       "    </tr>\n",
       "    <tr>\n",
       "      <th>3</th>\n",
       "      <td>3744.01</td>\n",
       "      <td>7027.00</td>\n",
       "      <td>7730.37</td>\n",
       "      <td>7085.72</td>\n",
       "      <td>3</td>\n",
       "      <td>25587.09</td>\n",
       "      <td>0</td>\n",
       "      <td>0</td>\n",
       "      <td>1</td>\n",
       "      <td>1</td>\n",
       "      <td>3</td>\n",
       "      <td>13265</td>\n",
       "      <td>1196</td>\n",
       "      <td>4221</td>\n",
       "      <td>6404</td>\n",
       "      <td>507</td>\n",
       "      <td>1788</td>\n",
       "    </tr>\n",
       "    <tr>\n",
       "      <th>4</th>\n",
       "      <td>2947.31</td>\n",
       "      <td>12871.11</td>\n",
       "      <td>11944.34</td>\n",
       "      <td>8758.06</td>\n",
       "      <td>4</td>\n",
       "      <td>36520.82</td>\n",
       "      <td>0</td>\n",
       "      <td>0</td>\n",
       "      <td>0</td>\n",
       "      <td>2</td>\n",
       "      <td>3</td>\n",
       "      <td>22615</td>\n",
       "      <td>5410</td>\n",
       "      <td>7198</td>\n",
       "      <td>3915</td>\n",
       "      <td>1777</td>\n",
       "      <td>5185</td>\n",
       "    </tr>\n",
       "  </tbody>\n",
       "</table>\n",
       "</div>"
      ],
      "text/plain": [
       "    PCA_1    PCA_2    PCA_3   PCA_4  Customer_ID  PCA_Combined  K_Cluster_ID  \\\n",
       "0  551.11  8147.11  5131.16 8064.28            0      21893.66             0   \n",
       "1 2707.06  5086.94  1804.42 9419.09            1      19017.51             0   \n",
       "2 1888.14  4450.01  1815.35 8928.74            2      17082.23             0   \n",
       "3 3744.01  7027.00  7730.37 7085.72            3      25587.09             0   \n",
       "4 2947.31 12871.11 11944.34 8758.06            4      36520.82             0   \n",
       "\n",
       "   DBSCAN_Cluster_ID  h_cluster_ID  Channel  Region  Fresh  Milk  Grocery  \\\n",
       "0                  0             1        2       3  12669  9656     7561   \n",
       "1                  0             1        2       3   7057  9810     9568   \n",
       "2                  0             1        2       3   6353  8808     7684   \n",
       "3                  0             1        1       3  13265  1196     4221   \n",
       "4                  0             0        2       3  22615  5410     7198   \n",
       "\n",
       "   Frozen  Detergents_Paper  Delicassen  \n",
       "0     214              2674        1338  \n",
       "1    1762              3293        1776  \n",
       "2    2405              3516        7844  \n",
       "3    6404               507        1788  \n",
       "4    3915              1777        5185  "
      ]
     },
     "execution_count": 1542,
     "metadata": {},
     "output_type": "execute_result"
    }
   ],
   "source": [
    "Final_data.head()"
   ]
  }
 ],
 "metadata": {
  "kernelspec": {
   "display_name": "Python 3 (ipykernel)",
   "language": "python",
   "name": "python3"
  },
  "language_info": {
   "codemirror_mode": {
    "name": "ipython",
    "version": 3
   },
   "file_extension": ".py",
   "mimetype": "text/x-python",
   "name": "python",
   "nbconvert_exporter": "python",
   "pygments_lexer": "ipython3",
   "version": "3.11.5"
  }
 },
 "nbformat": 4,
 "nbformat_minor": 5
}
